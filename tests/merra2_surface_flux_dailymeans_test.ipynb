{
 "cells": [
  {
   "cell_type": "markdown",
   "metadata": {},
   "source": [
    "# MERRA2 Daily Means Granularity Test\n",
    "- Download\n",
    "- Trim\n",
    "- Create Cutout\n",
    "- Generate Temperature Output"
   ]
  },
  {
   "cell_type": "markdown",
   "metadata": {},
   "source": [
    "## 1. Imports and Create Dataset"
   ]
  },
  {
   "cell_type": "code",
   "execution_count": 1,
   "metadata": {},
   "outputs": [
    {
     "name": "stderr",
     "output_type": "stream",
     "text": [
      "INFO:geodata.dataset:Directory /Users/williamhonaker/Desktop/davidson/data_for_geodata/merra2 found, checking for completeness.\n",
      "INFO:geodata.dataset:Directory complete.\n"
     ]
    }
   ],
   "source": [
    "import calendar\n",
    "import geodata\n",
    "import xarray as xr\n",
    "import logging\n",
    "import pandas as pd\n",
    "logging.basicConfig(level=logging.INFO)\n",
    "DS_daily = geodata.Dataset(module=\"merra2\",\n",
    "\t\t\t\t\t years=slice(1998, 1998),\n",
    "\t\t\t\t\t months=slice(1,1),\n",
    "                     weather_data_config = \"surface_flux_dailymeans\")  \n"
   ]
  },
  {
   "cell_type": "code",
   "execution_count": 2,
   "metadata": {},
   "outputs": [],
   "source": [
    "if DS_daily.prepared == False:\n",
    "\tDS_daily.get_data()"
   ]
  },
  {
   "cell_type": "markdown",
   "metadata": {},
   "source": [
    "## 2. Trim"
   ]
  },
  {
   "cell_type": "code",
   "execution_count": 8,
   "metadata": {},
   "outputs": [
    {
     "data": {
      "text/plain": [
       "['HOURNORAIN', 'T2MMAX', 'T2MMEAN', 'T2MMIN', 'TPRECMAX']"
      ]
     },
     "execution_count": 8,
     "metadata": {},
     "output_type": "execute_result"
    }
   ],
   "source": [
    "## Variables before trimming\n",
    "ds = xr.open_dataset(DS_daily.downloadedFiles[0][1])\n",
    "list(ds.data_vars)"
   ]
  },
  {
   "cell_type": "code",
   "execution_count": 9,
   "metadata": {},
   "outputs": [],
   "source": [
    "# Trim Variables\n",
    "DS_daily.trim_variables()"
   ]
  },
  {
   "cell_type": "code",
   "execution_count": 10,
   "metadata": {},
   "outputs": [
    {
     "data": {
      "text/plain": [
       "['t2mmean', 'tprecmax']"
      ]
     },
     "execution_count": 10,
     "metadata": {},
     "output_type": "execute_result"
    }
   ],
   "source": [
    "## Variables after trimming\n",
    "ds = xr.open_dataset(DS_daily.downloadedFiles[0][1])\n",
    "list(ds.data_vars)"
   ]
  },
  {
   "cell_type": "code",
   "execution_count": 4,
   "metadata": {
    "collapsed": true,
    "jupyter": {
     "outputs_hidden": true
    }
   },
   "outputs": [
    {
     "data": {
      "text/plain": [
       "{'module': 'merra2',\n",
       " 'config': 'surface_flux_dailymeans',\n",
       " 'dataset_module': <module 'geodata.datasets.merra2' from '/usr/local/lib/python3.7/site-packages/geodata-0.0.2-py3.7.egg/geodata/datasets/merra2.py'>,\n",
       " 'weatherconfig': {'file_granularity': 'dailymeans',\n",
       "  'tasks_func': <function geodata.datasets.merra2.tasks_daily_merra2(xs, ys, yearmonths, prepare_func, **meta_attrs)>,\n",
       "  'meta_prepare_func': <function geodata.datasets.merra2.prepare_meta_merra2(xs, ys, year, month, template, module, **params)>,\n",
       "  'prepare_func': <function geodata.datasets.merra2.prepare_dailymeans_surface_flux(fn, year, month, xs, ys)>,\n",
       "  'template': '/Users/williamhonaker/Desktop/davidson/data_for_geodata/merra2/{year}/{month:0>2}/MERRA2_*.statD_2d_slv_Nx.*.nc4',\n",
       "  'url': 'https://goldsmr4.gesdisc.eosdis.nasa.gov/data/MERRA2/M2SDNXSLV.5.12.4/{year}/{month:0>2}/MERRA2_{spinup}.statD_2d_slv_Nx.{year}{month:0>2}{day:0>2}.nc4',\n",
       "  'fn': '/Users/williamhonaker/Desktop/davidson/data_for_geodata/merra2/{year}/{month:0>2}/MERRA2_{spinup}.statD_2d_slv_Nx.{year}{month:0>2}{day:0>2}.nc4',\n",
       "  'variables': ['t2mmean', 'tprecmax']},\n",
       " 'datadir': '/Users/williamhonaker/Desktop/davidson/data_for_geodata/merra2',\n",
       " 'years': slice(1998, 1998, None),\n",
       " 'months': slice(1, 1, None),\n",
       " 'prepared': True,\n",
       " 'toDownload': [],\n",
       " 'downloadedFiles': [('surface_flux_dailymeans',\n",
       "   '/Users/williamhonaker/Desktop/davidson/data_for_geodata/merra2/1998/01/MERRA2_200.statD_2d_slv_Nx.19980101.nc4'),\n",
       "  ('surface_flux_dailymeans',\n",
       "   '/Users/williamhonaker/Desktop/davidson/data_for_geodata/merra2/1998/01/MERRA2_200.statD_2d_slv_Nx.19980102.nc4'),\n",
       "  ('surface_flux_dailymeans',\n",
       "   '/Users/williamhonaker/Desktop/davidson/data_for_geodata/merra2/1998/01/MERRA2_200.statD_2d_slv_Nx.19980103.nc4'),\n",
       "  ('surface_flux_dailymeans',\n",
       "   '/Users/williamhonaker/Desktop/davidson/data_for_geodata/merra2/1998/01/MERRA2_200.statD_2d_slv_Nx.19980104.nc4'),\n",
       "  ('surface_flux_dailymeans',\n",
       "   '/Users/williamhonaker/Desktop/davidson/data_for_geodata/merra2/1998/01/MERRA2_200.statD_2d_slv_Nx.19980105.nc4'),\n",
       "  ('surface_flux_dailymeans',\n",
       "   '/Users/williamhonaker/Desktop/davidson/data_for_geodata/merra2/1998/01/MERRA2_200.statD_2d_slv_Nx.19980106.nc4'),\n",
       "  ('surface_flux_dailymeans',\n",
       "   '/Users/williamhonaker/Desktop/davidson/data_for_geodata/merra2/1998/01/MERRA2_200.statD_2d_slv_Nx.19980107.nc4'),\n",
       "  ('surface_flux_dailymeans',\n",
       "   '/Users/williamhonaker/Desktop/davidson/data_for_geodata/merra2/1998/01/MERRA2_200.statD_2d_slv_Nx.19980108.nc4'),\n",
       "  ('surface_flux_dailymeans',\n",
       "   '/Users/williamhonaker/Desktop/davidson/data_for_geodata/merra2/1998/01/MERRA2_200.statD_2d_slv_Nx.19980109.nc4'),\n",
       "  ('surface_flux_dailymeans',\n",
       "   '/Users/williamhonaker/Desktop/davidson/data_for_geodata/merra2/1998/01/MERRA2_200.statD_2d_slv_Nx.19980110.nc4'),\n",
       "  ('surface_flux_dailymeans',\n",
       "   '/Users/williamhonaker/Desktop/davidson/data_for_geodata/merra2/1998/01/MERRA2_200.statD_2d_slv_Nx.19980111.nc4'),\n",
       "  ('surface_flux_dailymeans',\n",
       "   '/Users/williamhonaker/Desktop/davidson/data_for_geodata/merra2/1998/01/MERRA2_200.statD_2d_slv_Nx.19980112.nc4'),\n",
       "  ('surface_flux_dailymeans',\n",
       "   '/Users/williamhonaker/Desktop/davidson/data_for_geodata/merra2/1998/01/MERRA2_200.statD_2d_slv_Nx.19980113.nc4'),\n",
       "  ('surface_flux_dailymeans',\n",
       "   '/Users/williamhonaker/Desktop/davidson/data_for_geodata/merra2/1998/01/MERRA2_200.statD_2d_slv_Nx.19980114.nc4'),\n",
       "  ('surface_flux_dailymeans',\n",
       "   '/Users/williamhonaker/Desktop/davidson/data_for_geodata/merra2/1998/01/MERRA2_200.statD_2d_slv_Nx.19980115.nc4'),\n",
       "  ('surface_flux_dailymeans',\n",
       "   '/Users/williamhonaker/Desktop/davidson/data_for_geodata/merra2/1998/01/MERRA2_200.statD_2d_slv_Nx.19980116.nc4'),\n",
       "  ('surface_flux_dailymeans',\n",
       "   '/Users/williamhonaker/Desktop/davidson/data_for_geodata/merra2/1998/01/MERRA2_200.statD_2d_slv_Nx.19980117.nc4'),\n",
       "  ('surface_flux_dailymeans',\n",
       "   '/Users/williamhonaker/Desktop/davidson/data_for_geodata/merra2/1998/01/MERRA2_200.statD_2d_slv_Nx.19980118.nc4'),\n",
       "  ('surface_flux_dailymeans',\n",
       "   '/Users/williamhonaker/Desktop/davidson/data_for_geodata/merra2/1998/01/MERRA2_200.statD_2d_slv_Nx.19980119.nc4'),\n",
       "  ('surface_flux_dailymeans',\n",
       "   '/Users/williamhonaker/Desktop/davidson/data_for_geodata/merra2/1998/01/MERRA2_200.statD_2d_slv_Nx.19980120.nc4'),\n",
       "  ('surface_flux_dailymeans',\n",
       "   '/Users/williamhonaker/Desktop/davidson/data_for_geodata/merra2/1998/01/MERRA2_200.statD_2d_slv_Nx.19980121.nc4'),\n",
       "  ('surface_flux_dailymeans',\n",
       "   '/Users/williamhonaker/Desktop/davidson/data_for_geodata/merra2/1998/01/MERRA2_200.statD_2d_slv_Nx.19980122.nc4'),\n",
       "  ('surface_flux_dailymeans',\n",
       "   '/Users/williamhonaker/Desktop/davidson/data_for_geodata/merra2/1998/01/MERRA2_200.statD_2d_slv_Nx.19980123.nc4'),\n",
       "  ('surface_flux_dailymeans',\n",
       "   '/Users/williamhonaker/Desktop/davidson/data_for_geodata/merra2/1998/01/MERRA2_200.statD_2d_slv_Nx.19980124.nc4'),\n",
       "  ('surface_flux_dailymeans',\n",
       "   '/Users/williamhonaker/Desktop/davidson/data_for_geodata/merra2/1998/01/MERRA2_200.statD_2d_slv_Nx.19980125.nc4'),\n",
       "  ('surface_flux_dailymeans',\n",
       "   '/Users/williamhonaker/Desktop/davidson/data_for_geodata/merra2/1998/01/MERRA2_200.statD_2d_slv_Nx.19980126.nc4'),\n",
       "  ('surface_flux_dailymeans',\n",
       "   '/Users/williamhonaker/Desktop/davidson/data_for_geodata/merra2/1998/01/MERRA2_200.statD_2d_slv_Nx.19980127.nc4'),\n",
       "  ('surface_flux_dailymeans',\n",
       "   '/Users/williamhonaker/Desktop/davidson/data_for_geodata/merra2/1998/01/MERRA2_200.statD_2d_slv_Nx.19980128.nc4'),\n",
       "  ('surface_flux_dailymeans',\n",
       "   '/Users/williamhonaker/Desktop/davidson/data_for_geodata/merra2/1998/01/MERRA2_200.statD_2d_slv_Nx.19980129.nc4'),\n",
       "  ('surface_flux_dailymeans',\n",
       "   '/Users/williamhonaker/Desktop/davidson/data_for_geodata/merra2/1998/01/MERRA2_200.statD_2d_slv_Nx.19980130.nc4'),\n",
       "  ('surface_flux_dailymeans',\n",
       "   '/Users/williamhonaker/Desktop/davidson/data_for_geodata/merra2/1998/01/MERRA2_200.statD_2d_slv_Nx.19980131.nc4')],\n",
       " 'totalFiles': [('surface_flux_dailymeans',\n",
       "   '/Users/williamhonaker/Desktop/davidson/data_for_geodata/merra2/1998/01/MERRA2_200.statD_2d_slv_Nx.19980101.nc4'),\n",
       "  ('surface_flux_dailymeans',\n",
       "   '/Users/williamhonaker/Desktop/davidson/data_for_geodata/merra2/1998/01/MERRA2_200.statD_2d_slv_Nx.19980102.nc4'),\n",
       "  ('surface_flux_dailymeans',\n",
       "   '/Users/williamhonaker/Desktop/davidson/data_for_geodata/merra2/1998/01/MERRA2_200.statD_2d_slv_Nx.19980103.nc4'),\n",
       "  ('surface_flux_dailymeans',\n",
       "   '/Users/williamhonaker/Desktop/davidson/data_for_geodata/merra2/1998/01/MERRA2_200.statD_2d_slv_Nx.19980104.nc4'),\n",
       "  ('surface_flux_dailymeans',\n",
       "   '/Users/williamhonaker/Desktop/davidson/data_for_geodata/merra2/1998/01/MERRA2_200.statD_2d_slv_Nx.19980105.nc4'),\n",
       "  ('surface_flux_dailymeans',\n",
       "   '/Users/williamhonaker/Desktop/davidson/data_for_geodata/merra2/1998/01/MERRA2_200.statD_2d_slv_Nx.19980106.nc4'),\n",
       "  ('surface_flux_dailymeans',\n",
       "   '/Users/williamhonaker/Desktop/davidson/data_for_geodata/merra2/1998/01/MERRA2_200.statD_2d_slv_Nx.19980107.nc4'),\n",
       "  ('surface_flux_dailymeans',\n",
       "   '/Users/williamhonaker/Desktop/davidson/data_for_geodata/merra2/1998/01/MERRA2_200.statD_2d_slv_Nx.19980108.nc4'),\n",
       "  ('surface_flux_dailymeans',\n",
       "   '/Users/williamhonaker/Desktop/davidson/data_for_geodata/merra2/1998/01/MERRA2_200.statD_2d_slv_Nx.19980109.nc4'),\n",
       "  ('surface_flux_dailymeans',\n",
       "   '/Users/williamhonaker/Desktop/davidson/data_for_geodata/merra2/1998/01/MERRA2_200.statD_2d_slv_Nx.19980110.nc4'),\n",
       "  ('surface_flux_dailymeans',\n",
       "   '/Users/williamhonaker/Desktop/davidson/data_for_geodata/merra2/1998/01/MERRA2_200.statD_2d_slv_Nx.19980111.nc4'),\n",
       "  ('surface_flux_dailymeans',\n",
       "   '/Users/williamhonaker/Desktop/davidson/data_for_geodata/merra2/1998/01/MERRA2_200.statD_2d_slv_Nx.19980112.nc4'),\n",
       "  ('surface_flux_dailymeans',\n",
       "   '/Users/williamhonaker/Desktop/davidson/data_for_geodata/merra2/1998/01/MERRA2_200.statD_2d_slv_Nx.19980113.nc4'),\n",
       "  ('surface_flux_dailymeans',\n",
       "   '/Users/williamhonaker/Desktop/davidson/data_for_geodata/merra2/1998/01/MERRA2_200.statD_2d_slv_Nx.19980114.nc4'),\n",
       "  ('surface_flux_dailymeans',\n",
       "   '/Users/williamhonaker/Desktop/davidson/data_for_geodata/merra2/1998/01/MERRA2_200.statD_2d_slv_Nx.19980115.nc4'),\n",
       "  ('surface_flux_dailymeans',\n",
       "   '/Users/williamhonaker/Desktop/davidson/data_for_geodata/merra2/1998/01/MERRA2_200.statD_2d_slv_Nx.19980116.nc4'),\n",
       "  ('surface_flux_dailymeans',\n",
       "   '/Users/williamhonaker/Desktop/davidson/data_for_geodata/merra2/1998/01/MERRA2_200.statD_2d_slv_Nx.19980117.nc4'),\n",
       "  ('surface_flux_dailymeans',\n",
       "   '/Users/williamhonaker/Desktop/davidson/data_for_geodata/merra2/1998/01/MERRA2_200.statD_2d_slv_Nx.19980118.nc4'),\n",
       "  ('surface_flux_dailymeans',\n",
       "   '/Users/williamhonaker/Desktop/davidson/data_for_geodata/merra2/1998/01/MERRA2_200.statD_2d_slv_Nx.19980119.nc4'),\n",
       "  ('surface_flux_dailymeans',\n",
       "   '/Users/williamhonaker/Desktop/davidson/data_for_geodata/merra2/1998/01/MERRA2_200.statD_2d_slv_Nx.19980120.nc4'),\n",
       "  ('surface_flux_dailymeans',\n",
       "   '/Users/williamhonaker/Desktop/davidson/data_for_geodata/merra2/1998/01/MERRA2_200.statD_2d_slv_Nx.19980121.nc4'),\n",
       "  ('surface_flux_dailymeans',\n",
       "   '/Users/williamhonaker/Desktop/davidson/data_for_geodata/merra2/1998/01/MERRA2_200.statD_2d_slv_Nx.19980122.nc4'),\n",
       "  ('surface_flux_dailymeans',\n",
       "   '/Users/williamhonaker/Desktop/davidson/data_for_geodata/merra2/1998/01/MERRA2_200.statD_2d_slv_Nx.19980123.nc4'),\n",
       "  ('surface_flux_dailymeans',\n",
       "   '/Users/williamhonaker/Desktop/davidson/data_for_geodata/merra2/1998/01/MERRA2_200.statD_2d_slv_Nx.19980124.nc4'),\n",
       "  ('surface_flux_dailymeans',\n",
       "   '/Users/williamhonaker/Desktop/davidson/data_for_geodata/merra2/1998/01/MERRA2_200.statD_2d_slv_Nx.19980125.nc4'),\n",
       "  ('surface_flux_dailymeans',\n",
       "   '/Users/williamhonaker/Desktop/davidson/data_for_geodata/merra2/1998/01/MERRA2_200.statD_2d_slv_Nx.19980126.nc4'),\n",
       "  ('surface_flux_dailymeans',\n",
       "   '/Users/williamhonaker/Desktop/davidson/data_for_geodata/merra2/1998/01/MERRA2_200.statD_2d_slv_Nx.19980127.nc4'),\n",
       "  ('surface_flux_dailymeans',\n",
       "   '/Users/williamhonaker/Desktop/davidson/data_for_geodata/merra2/1998/01/MERRA2_200.statD_2d_slv_Nx.19980128.nc4'),\n",
       "  ('surface_flux_dailymeans',\n",
       "   '/Users/williamhonaker/Desktop/davidson/data_for_geodata/merra2/1998/01/MERRA2_200.statD_2d_slv_Nx.19980129.nc4'),\n",
       "  ('surface_flux_dailymeans',\n",
       "   '/Users/williamhonaker/Desktop/davidson/data_for_geodata/merra2/1998/01/MERRA2_200.statD_2d_slv_Nx.19980130.nc4'),\n",
       "  ('surface_flux_dailymeans',\n",
       "   '/Users/williamhonaker/Desktop/davidson/data_for_geodata/merra2/1998/01/MERRA2_200.statD_2d_slv_Nx.19980131.nc4')]}"
      ]
     },
     "execution_count": 4,
     "metadata": {},
     "output_type": "execute_result"
    }
   ],
   "source": [
    "DS_daily.__dict__"
   ]
  },
  {
   "cell_type": "code",
   "execution_count": 5,
   "metadata": {},
   "outputs": [
    {
     "data": {
      "text/plain": [
       "['t2mmean', 'tprecmax']"
      ]
     },
     "execution_count": 5,
     "metadata": {},
     "output_type": "execute_result"
    }
   ],
   "source": [
    "DS_daily.weatherconfig['variables'] "
   ]
  },
  {
   "cell_type": "markdown",
   "metadata": {},
   "source": [
    "## 3. Cutout"
   ]
  },
  {
   "cell_type": "code",
   "execution_count": 12,
   "metadata": {},
   "outputs": [
    {
     "name": "stderr",
     "output_type": "stream",
     "text": [
      "INFO:geodata.cutout:All cutout (tokyo-2008-daily-test-7, /Users/williamhonaker/Desktop/davidson/data_for_geodata/cutouts) files available.\n",
      "INFO:geodata.preparation:[4, 1, 1, 10]\n",
      "INFO:geodata.cutout:Cutout subset prepared: <Cutout tokyo-2008-daily-test-7 x=138.75-139.38 y=35.00-36.00 time=1998/1-1998/1 prepared>\n"
     ]
    }
   ],
   "source": [
    "cutout = geodata.Cutout(name=\"tokyo-2008-daily-test-7\",\n",
    "                       module=\"merra2\",\n",
    "                       weather_data_config=\"surface_flux_dailymeans\",\n",
    "                       xs=slice(138.5, 139.5),\n",
    "                       ys=slice(35, 36),\n",
    "                       years=slice(1998, 1998),\n",
    "                       months=slice(1,1))"
   ]
  },
  {
   "cell_type": "code",
   "execution_count": 13,
   "metadata": {},
   "outputs": [
    {
     "name": "stderr",
     "output_type": "stream",
     "text": [
      "INFO:geodata.preparation:The cutout is already prepared. If you want to recalculate it, supply an `overwrite=True` argument.\n"
     ]
    },
    {
     "data": {
      "text/plain": [
       "True"
      ]
     },
     "execution_count": 13,
     "metadata": {},
     "output_type": "execute_result"
    }
   ],
   "source": [
    "cutout.prepare()"
   ]
  },
  {
   "cell_type": "code",
   "execution_count": 9,
   "metadata": {
    "collapsed": true,
    "jupyter": {
     "outputs_hidden": true
    }
   },
   "outputs": [
    {
     "data": {
      "text/plain": [
       "{'name': 'tokyo-2008-daily-test-7',\n",
       " 'cutout_dir': '/Users/williamhonaker/Desktop/davidson/data_for_geodata/cutouts/tokyo-2008-daily-test-7',\n",
       " 'prepared': True,\n",
       " 'meta_append': 0,\n",
       " 'config': 'surface_flux_dailymeans',\n",
       " 'meta': <xarray.Dataset>\n",
       " Dimensions:     (time: 31, x: 2, y: 3, year-month: 1)\n",
       " Coordinates:\n",
       "   * x           (x) float64 138.8 139.4\n",
       "   * time        (time) datetime64[ns] 1998-01-01 1998-01-02 ... 1998-01-31\n",
       "   * y           (y) float64 35.0 35.5 36.0\n",
       "     lon         (x) float64 ...\n",
       "     lat         (y) float64 ...\n",
       "   * year-month  (year-month) MultiIndex\n",
       "   - year        (year-month) int64 1998\n",
       "   - month       (year-month) int64 1\n",
       " Data variables:\n",
       "     *empty*\n",
       " Attributes:\n",
       "     nco_openmp_thread_number:          1\n",
       "     Comment:                           GMAO filename: d5124_m2_jan91.statD_2d...\n",
       "     History:                           Original file generated: Sun Nov 16 08...\n",
       "     Filename:                          MERRA2_200.statD_2d_slv_Nx.19980123.nc4\n",
       "     Conventions:                       CF-1\n",
       "     Institution:                       NASA Global Modeling and Assimilation ...\n",
       "     References:                        http://gmao.gsfc.nasa.gov\n",
       "     Format:                            NetCDF-4/HDF-5\n",
       "     SpatialCoverage:                   global\n",
       "     VersionID:                         5.12.4\n",
       "     TemporalRange:                     1980-01-01 -> 2016-12-31\n",
       "     identifier_product_doi_authority:  http://dx.doi.org/\n",
       "     ShortName:                         M2SDNXSLV\n",
       "     GranuleID:                         MERRA2_200.statD_2d_slv_Nx.19980123.nc4\n",
       "     ProductionDateTime:                Original file generated: Sun Nov 16 08...\n",
       "     LongName:                          MERRA2 statD_2d_slv_Nx: 2d,Daily,Aggre...\n",
       "     Title:                             MERRA2 statD_2d_slv_Nx: 2d,Daily,Aggre...\n",
       "     SouthernmostLatitude:              -90.0\n",
       "     NorthernmostLatitude:              90.0\n",
       "     WesternmostLongitude:              -180.0\n",
       "     EasternmostLongitude:              179.375\n",
       "     LatitudeResolution:                0.5\n",
       "     LongitudeResolution:               0.625\n",
       "     DataResolution:                    0.5 x 0.625\n",
       "     Source:                            CVS tag: GEOSadas-5_12_4\n",
       "     Contact:                           http://gmao.gsfc.nasa.gov\n",
       "     identifier_product_doi:            10.5067/9SC1VNTWGWV3\n",
       "     RangeBeginningDate:                1998-01-23\n",
       "     RangeBeginningTime:                00:00:00.000000\n",
       "     RangeEndingDate:                   1998-01-23\n",
       "     RangeEndingTime:                   23:59:59.000000\n",
       "     module:                            merra2\n",
       "     view:                              {'x': slice(138.5, 139.5, None), 'y': ...,\n",
       " 'dataset_module': <module 'geodata.datasets.merra2' from '/usr/local/lib/python3.7/site-packages/geodata-0.0.2-py3.7.egg/geodata/datasets/merra2.py'>}"
      ]
     },
     "execution_count": 9,
     "metadata": {},
     "output_type": "execute_result"
    }
   ],
   "source": [
    "cutout.__dict__"
   ]
  },
  {
   "cell_type": "markdown",
   "metadata": {
    "jupyter": {
     "outputs_hidden": true
    }
   },
   "source": [
    "## 4.  Generate Outputs"
   ]
  },
  {
   "cell_type": "code",
   "execution_count": 15,
   "metadata": {
    "collapsed": true,
    "jupyter": {
     "outputs_hidden": true
    }
   },
   "outputs": [],
   "source": [
    "## Only Temperature output possible for Merra2 Daily Means currently\n",
    "\n",
    "ds_temperature = geodata.convert.temperature(cutout)\n",
    "ds_temperature"
   ]
  },
  {
   "cell_type": "code",
   "execution_count": 16,
   "metadata": {
    "collapsed": true,
    "jupyter": {
     "outputs_hidden": true
    }
   },
   "outputs": [
    {
     "data": {
      "text/html": [
       "<div>\n",
       "<style scoped>\n",
       "    .dataframe tbody tr th:only-of-type {\n",
       "        vertical-align: middle;\n",
       "    }\n",
       "\n",
       "    .dataframe tbody tr th {\n",
       "        vertical-align: top;\n",
       "    }\n",
       "\n",
       "    .dataframe thead th {\n",
       "        text-align: right;\n",
       "    }\n",
       "</style>\n",
       "<table border=\"1\" class=\"dataframe\">\n",
       "  <thead>\n",
       "    <tr style=\"text-align: right;\">\n",
       "      <th></th>\n",
       "      <th></th>\n",
       "      <th></th>\n",
       "      <th>lat</th>\n",
       "      <th>lon</th>\n",
       "      <th>temperature</th>\n",
       "    </tr>\n",
       "    <tr>\n",
       "      <th>time</th>\n",
       "      <th>y</th>\n",
       "      <th>x</th>\n",
       "      <th></th>\n",
       "      <th></th>\n",
       "      <th></th>\n",
       "    </tr>\n",
       "  </thead>\n",
       "  <tbody>\n",
       "    <tr>\n",
       "      <th rowspan=\"5\" valign=\"top\">1998-01-01 12:00:00</th>\n",
       "      <th rowspan=\"2\" valign=\"top\">35.0</th>\n",
       "      <th>138.750</th>\n",
       "      <td>35.0</td>\n",
       "      <td>138.750</td>\n",
       "      <td>8.314087</td>\n",
       "    </tr>\n",
       "    <tr>\n",
       "      <th>139.375</th>\n",
       "      <td>35.0</td>\n",
       "      <td>139.375</td>\n",
       "      <td>10.843048</td>\n",
       "    </tr>\n",
       "    <tr>\n",
       "      <th rowspan=\"2\" valign=\"top\">35.5</th>\n",
       "      <th>138.750</th>\n",
       "      <td>35.5</td>\n",
       "      <td>138.750</td>\n",
       "      <td>0.837891</td>\n",
       "    </tr>\n",
       "    <tr>\n",
       "      <th>139.375</th>\n",
       "      <td>35.5</td>\n",
       "      <td>139.375</td>\n",
       "      <td>4.513550</td>\n",
       "    </tr>\n",
       "    <tr>\n",
       "      <th>36.0</th>\n",
       "      <th>138.750</th>\n",
       "      <td>36.0</td>\n",
       "      <td>138.750</td>\n",
       "      <td>-0.043091</td>\n",
       "    </tr>\n",
       "    <tr>\n",
       "      <th>...</th>\n",
       "      <th>...</th>\n",
       "      <th>...</th>\n",
       "      <td>...</td>\n",
       "      <td>...</td>\n",
       "      <td>...</td>\n",
       "    </tr>\n",
       "    <tr>\n",
       "      <th rowspan=\"5\" valign=\"top\">1998-01-31 12:00:00</th>\n",
       "      <th>35.0</th>\n",
       "      <th>139.375</th>\n",
       "      <td>35.0</td>\n",
       "      <td>139.375</td>\n",
       "      <td>7.731232</td>\n",
       "    </tr>\n",
       "    <tr>\n",
       "      <th rowspan=\"2\" valign=\"top\">35.5</th>\n",
       "      <th>138.750</th>\n",
       "      <td>35.5</td>\n",
       "      <td>138.750</td>\n",
       "      <td>-3.248901</td>\n",
       "    </tr>\n",
       "    <tr>\n",
       "      <th>139.375</th>\n",
       "      <td>35.5</td>\n",
       "      <td>139.375</td>\n",
       "      <td>1.689819</td>\n",
       "    </tr>\n",
       "    <tr>\n",
       "      <th rowspan=\"2\" valign=\"top\">36.0</th>\n",
       "      <th>138.750</th>\n",
       "      <td>36.0</td>\n",
       "      <td>138.750</td>\n",
       "      <td>-4.639099</td>\n",
       "    </tr>\n",
       "    <tr>\n",
       "      <th>139.375</th>\n",
       "      <td>36.0</td>\n",
       "      <td>139.375</td>\n",
       "      <td>0.393372</td>\n",
       "    </tr>\n",
       "  </tbody>\n",
       "</table>\n",
       "<p>186 rows × 3 columns</p>\n",
       "</div>"
      ],
      "text/plain": [
       "                                   lat      lon  temperature\n",
       "time                y    x                                  \n",
       "1998-01-01 12:00:00 35.0 138.750  35.0  138.750     8.314087\n",
       "                         139.375  35.0  139.375    10.843048\n",
       "                    35.5 138.750  35.5  138.750     0.837891\n",
       "                         139.375  35.5  139.375     4.513550\n",
       "                    36.0 138.750  36.0  138.750    -0.043091\n",
       "...                                ...      ...          ...\n",
       "1998-01-31 12:00:00 35.0 139.375  35.0  139.375     7.731232\n",
       "                    35.5 138.750  35.5  138.750    -3.248901\n",
       "                         139.375  35.5  139.375     1.689819\n",
       "                    36.0 138.750  36.0  138.750    -4.639099\n",
       "                         139.375  36.0  139.375     0.393372\n",
       "\n",
       "[186 rows x 3 columns]"
      ]
     },
     "execution_count": 16,
     "metadata": {},
     "output_type": "execute_result"
    }
   ],
   "source": [
    "df_temperature = ds_temperature.to_dataframe(name='temperature')\n",
    "df_temperature"
   ]
  },
  {
   "cell_type": "code",
   "execution_count": null,
   "metadata": {},
   "outputs": [],
   "source": [
    "df_temperature.to_csv('temperature_test_dailymeans.csv')"
   ]
  }
 ],
 "metadata": {
  "kernelspec": {
   "display_name": "Python 3",
   "language": "python",
   "name": "python3"
  },
  "language_info": {
   "codemirror_mode": {
    "name": "ipython",
    "version": 3
   },
   "file_extension": ".py",
   "mimetype": "text/x-python",
   "name": "python",
   "nbconvert_exporter": "python",
   "pygments_lexer": "ipython3",
   "version": "3.7.4"
  }
 },
 "nbformat": 4,
 "nbformat_minor": 4
}
