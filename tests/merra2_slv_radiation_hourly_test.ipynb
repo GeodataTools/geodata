{
 "cells": [
  {
   "cell_type": "markdown",
   "metadata": {},
   "source": [
    "# MERRA2 SLV+Radiation Hourly Granularity Test\n",
    "- Download\n",
    "- Trim\n",
    "- Create Cutout\n",
    "- Generate Solar Outputs"
   ]
  },
  {
   "cell_type": "markdown",
   "metadata": {},
   "source": [
    "## 1. Import and Download Data"
   ]
  },
  {
   "cell_type": "code",
   "execution_count": 1,
   "metadata": {},
   "outputs": [
    {
     "name": "stderr",
     "output_type": "stream",
     "text": [
      "INFO:geodata.dataset:Directory /Users/williamhonaker/Desktop/davidson/data_for_geodata/merra2 found, checking for completeness.\n",
      "INFO:geodata.dataset:Directory complete.\n"
     ]
    }
   ],
   "source": [
    "import calendar\n",
    "import geodata\n",
    "import xarray as xr\n",
    "import logging\n",
    "import pandas as pd\n",
    "logging.basicConfig(level=logging.INFO)\n",
    "DS_hourly = geodata.Dataset(module=\"merra2\",\n",
    "\t\t\t\t\t years=slice(1997, 1997),\n",
    "\t\t\t\t\t months=slice(1,1),\n",
    "                     weather_data_config = \"slv_radiation_hourly\")  "
   ]
  },
  {
   "cell_type": "code",
   "execution_count": 2,
   "metadata": {},
   "outputs": [],
   "source": [
    "if DS_hourly.prepared == False:\n",
    "\tDS_hourly.get_data()"
   ]
  },
  {
   "cell_type": "markdown",
   "metadata": {},
   "source": [
    "## 2. Trim Variables"
   ]
  },
  {
   "cell_type": "code",
   "execution_count": null,
   "metadata": {},
   "outputs": [],
   "source": [
    "## Variables before trimming\n",
    "ds = xr.open_dataset(DS_hourly.downloadedFiles[0][1])\n",
    "ds.data_vars"
   ]
  },
  {
   "cell_type": "code",
   "execution_count": null,
   "metadata": {},
   "outputs": [],
   "source": [
    "DS_hourly.trim_variables()"
   ]
  },
  {
   "cell_type": "code",
   "execution_count": 4,
   "metadata": {},
   "outputs": [
    {
     "data": {
      "text/plain": [
       "Data variables:\n",
       "    albedo   (time, lat, lon) float32 ...\n",
       "    swgdn    (time, lat, lon) float32 ...\n",
       "    swtdn    (time, lat, lon) float32 ...\n",
       "    t2m      (time, lat, lon) float32 ..."
      ]
     },
     "execution_count": 4,
     "metadata": {},
     "output_type": "execute_result"
    }
   ],
   "source": [
    "## Variables after trimming\n",
    "ds = xr.open_dataset(DS_hourly.downloadedFiles[0][1])\n",
    "ds.data_vars"
   ]
  },
  {
   "cell_type": "markdown",
   "metadata": {},
   "source": [
    "## 3. Create Cutout"
   ]
  },
  {
   "cell_type": "code",
   "execution_count": 5,
   "metadata": {},
   "outputs": [
    {
     "name": "stderr",
     "output_type": "stream",
     "text": [
      "INFO:geodata.cutout:Cutout (hourly-test-cutout, /Users/williamhonaker/Desktop/davidson/data_for_geodata/cutouts) not found or incomplete.\n"
     ]
    }
   ],
   "source": [
    "hourly_cutout = geodata.Cutout(name=\"hourly-test-cutout\",\n",
    "                       module=\"merra2\",\n",
    "                       weather_data_config=\"slv_radiation_hourly\",\n",
    "                       xs=slice(138.5, 139.5),\n",
    "                       ys=slice(35, 36),\n",
    "                       years=slice(1997, 1997),\n",
    "                       months=slice(1,1))"
   ]
  },
  {
   "cell_type": "code",
   "execution_count": 6,
   "metadata": {
    "collapsed": true,
    "jupyter": {
     "outputs_hidden": true
    }
   },
   "outputs": [
    {
     "name": "stderr",
     "output_type": "stream",
     "text": [
      "INFO:geodata.preparation:Starting preparation of cutout 'hourly-test-cutout'\n",
      "INFO:geodata.datasets.merra2:MultiIndex([(1997, 1)],\n",
      "           names=['year', 'month'])\n",
      "INFO:geodata.datasets.merra2:[(1997, 1, 1), (1997, 1, 2), (1997, 1, 3), (1997, 1, 4), (1997, 1, 5), (1997, 1, 6), (1997, 1, 7), (1997, 1, 8), (1997, 1, 9), (1997, 1, 10), (1997, 1, 11), (1997, 1, 12), (1997, 1, 13), (1997, 1, 14), (1997, 1, 15), (1997, 1, 16), (1997, 1, 17), (1997, 1, 18), (1997, 1, 19), (1997, 1, 20), (1997, 1, 21), (1997, 1, 22), (1997, 1, 23), (1997, 1, 24), (1997, 1, 25), (1997, 1, 26), (1997, 1, 27), (1997, 1, 28), (1997, 1, 29), (1997, 1, 30), (1997, 1, 31)]\n",
      "INFO:geodata.preparation:31 tasks have been collected. Starting running them on all processors.\n",
      "INFO:geodata.datasets.merra2:Opening `/Users/williamhonaker/Desktop/davidson/data_for_geodata/merra2/1997/01/MERRA2_200.tavg1_2d_slv_rad_Nx.19970101.nc4`\n",
      "INFO:geodata.datasets.merra2:Opening `/Users/williamhonaker/Desktop/davidson/data_for_geodata/merra2/1997/01/MERRA2_200.tavg1_2d_slv_rad_Nx.19970103.nc4`\n",
      "INFO:geodata.datasets.merra2:Opening `/Users/williamhonaker/Desktop/davidson/data_for_geodata/merra2/1997/01/MERRA2_200.tavg1_2d_slv_rad_Nx.19970102.nc4`\n",
      "INFO:geodata.datasets.merra2:Opening `/Users/williamhonaker/Desktop/davidson/data_for_geodata/merra2/1997/01/MERRA2_200.tavg1_2d_slv_rad_Nx.19970107.nc4`\n",
      "INFO:geodata.datasets.merra2:Opening `/Users/williamhonaker/Desktop/davidson/data_for_geodata/merra2/1997/01/MERRA2_200.tavg1_2d_slv_rad_Nx.19970108.nc4`\n",
      "INFO:geodata.datasets.merra2:Opening `/Users/williamhonaker/Desktop/davidson/data_for_geodata/merra2/1997/01/MERRA2_200.tavg1_2d_slv_rad_Nx.19970106.nc4`\n",
      "INFO:geodata.datasets.merra2:Opening `/Users/williamhonaker/Desktop/davidson/data_for_geodata/merra2/1997/01/MERRA2_200.tavg1_2d_slv_rad_Nx.19970105.nc4`\n",
      "INFO:geodata.datasets.merra2:Opening `/Users/williamhonaker/Desktop/davidson/data_for_geodata/merra2/1997/01/MERRA2_200.tavg1_2d_slv_rad_Nx.19970104.nc4`\n",
      "INFO:geodata.datasets.merra2:Opening `/Users/williamhonaker/Desktop/davidson/data_for_geodata/merra2/1997/01/MERRA2_200.tavg1_2d_slv_rad_Nx.19970109.nc4`\n",
      "INFO:geodata.datasets.merra2:Opening `/Users/williamhonaker/Desktop/davidson/data_for_geodata/merra2/1997/01/MERRA2_200.tavg1_2d_slv_rad_Nx.19970110.nc4`\n",
      "INFO:geodata.datasets.merra2:Opening `/Users/williamhonaker/Desktop/davidson/data_for_geodata/merra2/1997/01/MERRA2_200.tavg1_2d_slv_rad_Nx.19970112.nc4`\n",
      "INFO:geodata.datasets.merra2:Opening `/Users/williamhonaker/Desktop/davidson/data_for_geodata/merra2/1997/01/MERRA2_200.tavg1_2d_slv_rad_Nx.19970113.nc4`\n",
      "INFO:geodata.datasets.merra2:Opening `/Users/williamhonaker/Desktop/davidson/data_for_geodata/merra2/1997/01/MERRA2_200.tavg1_2d_slv_rad_Nx.19970111.nc4`\n",
      "INFO:geodata.datasets.merra2:Opening `/Users/williamhonaker/Desktop/davidson/data_for_geodata/merra2/1997/01/MERRA2_200.tavg1_2d_slv_rad_Nx.19970114.nc4`\n",
      "INFO:geodata.datasets.merra2:Opening `/Users/williamhonaker/Desktop/davidson/data_for_geodata/merra2/1997/01/MERRA2_200.tavg1_2d_slv_rad_Nx.19970116.nc4`\n",
      "INFO:geodata.datasets.merra2:Opening `/Users/williamhonaker/Desktop/davidson/data_for_geodata/merra2/1997/01/MERRA2_200.tavg1_2d_slv_rad_Nx.19970115.nc4`\n",
      "INFO:geodata.datasets.merra2:Opening `/Users/williamhonaker/Desktop/davidson/data_for_geodata/merra2/1997/01/MERRA2_200.tavg1_2d_slv_rad_Nx.19970117.nc4`\n",
      "INFO:geodata.datasets.merra2:Opening `/Users/williamhonaker/Desktop/davidson/data_for_geodata/merra2/1997/01/MERRA2_200.tavg1_2d_slv_rad_Nx.19970119.nc4`\n",
      "INFO:geodata.datasets.merra2:Opening `/Users/williamhonaker/Desktop/davidson/data_for_geodata/merra2/1997/01/MERRA2_200.tavg1_2d_slv_rad_Nx.19970120.nc4`\n",
      "INFO:geodata.datasets.merra2:Opening `/Users/williamhonaker/Desktop/davidson/data_for_geodata/merra2/1997/01/MERRA2_200.tavg1_2d_slv_rad_Nx.19970121.nc4`\n",
      "INFO:geodata.datasets.merra2:Opening `/Users/williamhonaker/Desktop/davidson/data_for_geodata/merra2/1997/01/MERRA2_200.tavg1_2d_slv_rad_Nx.19970123.nc4`\n",
      "INFO:geodata.datasets.merra2:Opening `/Users/williamhonaker/Desktop/davidson/data_for_geodata/merra2/1997/01/MERRA2_200.tavg1_2d_slv_rad_Nx.19970122.nc4`\n",
      "INFO:geodata.datasets.merra2:Opening `/Users/williamhonaker/Desktop/davidson/data_for_geodata/merra2/1997/01/MERRA2_200.tavg1_2d_slv_rad_Nx.19970118.nc4`\n",
      "INFO:geodata.datasets.merra2:Opening `/Users/williamhonaker/Desktop/davidson/data_for_geodata/merra2/1997/01/MERRA2_200.tavg1_2d_slv_rad_Nx.19970124.nc4`\n",
      "INFO:geodata.datasets.merra2:Opening `/Users/williamhonaker/Desktop/davidson/data_for_geodata/merra2/1997/01/MERRA2_200.tavg1_2d_slv_rad_Nx.19970125.nc4`\n",
      "INFO:geodata.datasets.merra2:Opening `/Users/williamhonaker/Desktop/davidson/data_for_geodata/merra2/1997/01/MERRA2_200.tavg1_2d_slv_rad_Nx.19970127.nc4`\n",
      "INFO:geodata.datasets.merra2:Opening `/Users/williamhonaker/Desktop/davidson/data_for_geodata/merra2/1997/01/MERRA2_200.tavg1_2d_slv_rad_Nx.19970126.nc4`\n",
      "INFO:geodata.datasets.merra2:Opening `/Users/williamhonaker/Desktop/davidson/data_for_geodata/merra2/1997/01/MERRA2_200.tavg1_2d_slv_rad_Nx.19970128.nc4`\n",
      "INFO:geodata.datasets.merra2:Opening `/Users/williamhonaker/Desktop/davidson/data_for_geodata/merra2/1997/01/MERRA2_200.tavg1_2d_slv_rad_Nx.19970131.nc4`\n",
      "INFO:geodata.datasets.merra2:Opening `/Users/williamhonaker/Desktop/davidson/data_for_geodata/merra2/1997/01/MERRA2_200.tavg1_2d_slv_rad_Nx.19970129.nc4`\n",
      "INFO:geodata.datasets.merra2:Opening `/Users/williamhonaker/Desktop/davidson/data_for_geodata/merra2/1997/01/MERRA2_200.tavg1_2d_slv_rad_Nx.19970130.nc4`\n",
      "INFO:geodata.preparation:Merging variables into monthly compound files\n",
      "INFO:geodata.preparation:Cutout 'hourly-test-cutout' has been successfully prepared\n"
     ]
    }
   ],
   "source": [
    "hourly_cutout.prepare()"
   ]
  },
  {
   "cell_type": "code",
   "execution_count": 8,
   "metadata": {},
   "outputs": [
    {
     "data": {
      "text/plain": [
       "{'name': 'hourly-test-cutout',\n",
       " 'cutout_dir': '/Users/williamhonaker/Desktop/davidson/data_for_geodata/cutouts/hourly-test-cutout',\n",
       " 'prepared': True,\n",
       " 'meta_append': 0,\n",
       " 'config': 'slv_radiation_hourly',\n",
       " 'dataset_module': <module 'geodata.datasets.merra2' from '/usr/local/lib/python3.7/site-packages/geodata-0.0.2-py3.7.egg/geodata/datasets/merra2.py'>,\n",
       " 'meta': <xarray.Dataset>\n",
       " Dimensions:     (time: 744, x: 2, y: 3, year-month: 1)\n",
       " Coordinates:\n",
       "   * time        (time) datetime64[ns] 1997-01-01T00:30:00 ... 1997-01-31T23:30:00\n",
       "   * x           (x) float64 138.8 139.4\n",
       "   * y           (y) float64 35.0 35.5 36.0\n",
       "     lon         (x) float64 138.8 139.4\n",
       "     lat         (y) float64 35.0 35.5 36.0\n",
       "   * year-month  (year-month) MultiIndex\n",
       "   - year        (year-month) int64 1997\n",
       "   - month       (year-month) int64 1\n",
       " Data variables:\n",
       "     *empty*\n",
       " Attributes:\n",
       "     module:   merra2}"
      ]
     },
     "execution_count": 8,
     "metadata": {},
     "output_type": "execute_result"
    }
   ],
   "source": [
    "# Verify Cutout Contents\n",
    "hourly_cutout.__dict__"
   ]
  },
  {
   "cell_type": "markdown",
   "metadata": {},
   "source": [
    "## 4. Generate Solar Output"
   ]
  },
  {
   "cell_type": "code",
   "execution_count": 10,
   "metadata": {
    "collapsed": true,
    "jupyter": {
     "outputs_hidden": true
    }
   },
   "outputs": [
    {
     "data": {
      "text/html": [
       "<pre>&lt;xarray.DataArray &#x27;AC power&#x27; (y: 3, time: 744, x: 2)&gt;\n",
       "array([[[0.28905639, 0.28089478],\n",
       "        [0.43574266, 0.42219579],\n",
       "        [0.53800452, 0.54373469],\n",
       "        ...,\n",
       "        [0.        , 0.        ],\n",
       "        [0.0434896 , 0.04548016],\n",
       "        [0.17568191, 0.18254081]],\n",
       "\n",
       "       [[0.30820237, 0.29355579],\n",
       "        [0.44990651, 0.41478911],\n",
       "        [0.52704902, 0.49089815],\n",
       "        ...,\n",
       "        [0.        , 0.        ],\n",
       "        [0.04282355, 0.04701791],\n",
       "        [0.17506339, 0.17932855]],\n",
       "\n",
       "       [[0.29296198, 0.26647445],\n",
       "        [0.4266345 , 0.39563724],\n",
       "        [0.49771324, 0.47503696],\n",
       "        ...,\n",
       "        [0.        , 0.        ],\n",
       "        [0.04643929, 0.04982751],\n",
       "        [0.17094576, 0.17261607]]])\n",
       "Coordinates:\n",
       "    lon      (x) float64 138.8 139.4\n",
       "    lat      (y) float64 35.0 35.5 36.0\n",
       "  * x        (x) float64 138.8 139.4\n",
       "  * y        (y) float64 35.0 35.5 36.0\n",
       "  * time     (time) datetime64[ns] 1997-01-01T00:30:00 ... 1997-01-31T23:30:00</pre>"
      ],
      "text/plain": [
       "<xarray.DataArray 'AC power' (y: 3, time: 744, x: 2)>\n",
       "array([[[0.28905639, 0.28089478],\n",
       "        [0.43574266, 0.42219579],\n",
       "        [0.53800452, 0.54373469],\n",
       "        ...,\n",
       "        [0.        , 0.        ],\n",
       "        [0.0434896 , 0.04548016],\n",
       "        [0.17568191, 0.18254081]],\n",
       "\n",
       "       [[0.30820237, 0.29355579],\n",
       "        [0.44990651, 0.41478911],\n",
       "        [0.52704902, 0.49089815],\n",
       "        ...,\n",
       "        [0.        , 0.        ],\n",
       "        [0.04282355, 0.04701791],\n",
       "        [0.17506339, 0.17932855]],\n",
       "\n",
       "       [[0.29296198, 0.26647445],\n",
       "        [0.4266345 , 0.39563724],\n",
       "        [0.49771324, 0.47503696],\n",
       "        ...,\n",
       "        [0.        , 0.        ],\n",
       "        [0.04643929, 0.04982751],\n",
       "        [0.17094576, 0.17261607]]])\n",
       "Coordinates:\n",
       "    lon      (x) float64 138.8 139.4\n",
       "    lat      (y) float64 35.0 35.5 36.0\n",
       "  * x        (x) float64 138.8 139.4\n",
       "  * y        (y) float64 35.0 35.5 36.0\n",
       "  * time     (time) datetime64[ns] 1997-01-01T00:30:00 ... 1997-01-31T23:30:00"
      ]
     },
     "execution_count": 10,
     "metadata": {},
     "output_type": "execute_result"
    }
   ],
   "source": [
    "ds_pv = geodata.convert.pv(\n",
    "    hourly_cutout, \n",
    "    panel=\"KANENA\", \n",
    "    orientation = \"latitude_optimal\"\n",
    "    )\n",
    "ds_pv"
   ]
  },
  {
   "cell_type": "code",
   "execution_count": 11,
   "metadata": {
    "collapsed": true,
    "jupyter": {
     "outputs_hidden": true
    }
   },
   "outputs": [
    {
     "data": {
      "text/html": [
       "<div>\n",
       "<style scoped>\n",
       "    .dataframe tbody tr th:only-of-type {\n",
       "        vertical-align: middle;\n",
       "    }\n",
       "\n",
       "    .dataframe tbody tr th {\n",
       "        vertical-align: top;\n",
       "    }\n",
       "\n",
       "    .dataframe thead th {\n",
       "        text-align: right;\n",
       "    }\n",
       "</style>\n",
       "<table border=\"1\" class=\"dataframe\">\n",
       "  <thead>\n",
       "    <tr style=\"text-align: right;\">\n",
       "      <th></th>\n",
       "      <th></th>\n",
       "      <th></th>\n",
       "      <th>lon</th>\n",
       "      <th>lat</th>\n",
       "      <th>pv</th>\n",
       "    </tr>\n",
       "    <tr>\n",
       "      <th>y</th>\n",
       "      <th>time</th>\n",
       "      <th>x</th>\n",
       "      <th></th>\n",
       "      <th></th>\n",
       "      <th></th>\n",
       "    </tr>\n",
       "  </thead>\n",
       "  <tbody>\n",
       "    <tr>\n",
       "      <th rowspan=\"5\" valign=\"top\">35.0</th>\n",
       "      <th rowspan=\"2\" valign=\"top\">1997-01-01 00:30:00</th>\n",
       "      <th>138.750</th>\n",
       "      <td>138.750</td>\n",
       "      <td>35.0</td>\n",
       "      <td>0.289056</td>\n",
       "    </tr>\n",
       "    <tr>\n",
       "      <th>139.375</th>\n",
       "      <td>139.375</td>\n",
       "      <td>35.0</td>\n",
       "      <td>0.280895</td>\n",
       "    </tr>\n",
       "    <tr>\n",
       "      <th rowspan=\"2\" valign=\"top\">1997-01-01 01:30:00</th>\n",
       "      <th>138.750</th>\n",
       "      <td>138.750</td>\n",
       "      <td>35.0</td>\n",
       "      <td>0.435743</td>\n",
       "    </tr>\n",
       "    <tr>\n",
       "      <th>139.375</th>\n",
       "      <td>139.375</td>\n",
       "      <td>35.0</td>\n",
       "      <td>0.422196</td>\n",
       "    </tr>\n",
       "    <tr>\n",
       "      <th>1997-01-01 02:30:00</th>\n",
       "      <th>138.750</th>\n",
       "      <td>138.750</td>\n",
       "      <td>35.0</td>\n",
       "      <td>0.538005</td>\n",
       "    </tr>\n",
       "    <tr>\n",
       "      <th>...</th>\n",
       "      <th>...</th>\n",
       "      <th>...</th>\n",
       "      <td>...</td>\n",
       "      <td>...</td>\n",
       "      <td>...</td>\n",
       "    </tr>\n",
       "    <tr>\n",
       "      <th rowspan=\"5\" valign=\"top\">36.0</th>\n",
       "      <th>1997-01-31 21:30:00</th>\n",
       "      <th>139.375</th>\n",
       "      <td>139.375</td>\n",
       "      <td>36.0</td>\n",
       "      <td>0.000000</td>\n",
       "    </tr>\n",
       "    <tr>\n",
       "      <th rowspan=\"2\" valign=\"top\">1997-01-31 22:30:00</th>\n",
       "      <th>138.750</th>\n",
       "      <td>138.750</td>\n",
       "      <td>36.0</td>\n",
       "      <td>0.046439</td>\n",
       "    </tr>\n",
       "    <tr>\n",
       "      <th>139.375</th>\n",
       "      <td>139.375</td>\n",
       "      <td>36.0</td>\n",
       "      <td>0.049828</td>\n",
       "    </tr>\n",
       "    <tr>\n",
       "      <th rowspan=\"2\" valign=\"top\">1997-01-31 23:30:00</th>\n",
       "      <th>138.750</th>\n",
       "      <td>138.750</td>\n",
       "      <td>36.0</td>\n",
       "      <td>0.170946</td>\n",
       "    </tr>\n",
       "    <tr>\n",
       "      <th>139.375</th>\n",
       "      <td>139.375</td>\n",
       "      <td>36.0</td>\n",
       "      <td>0.172616</td>\n",
       "    </tr>\n",
       "  </tbody>\n",
       "</table>\n",
       "<p>4464 rows × 3 columns</p>\n",
       "</div>"
      ],
      "text/plain": [
       "                                      lon   lat        pv\n",
       "y    time                x                               \n",
       "35.0 1997-01-01 00:30:00 138.750  138.750  35.0  0.289056\n",
       "                         139.375  139.375  35.0  0.280895\n",
       "     1997-01-01 01:30:00 138.750  138.750  35.0  0.435743\n",
       "                         139.375  139.375  35.0  0.422196\n",
       "     1997-01-01 02:30:00 138.750  138.750  35.0  0.538005\n",
       "...                                   ...   ...       ...\n",
       "36.0 1997-01-31 21:30:00 139.375  139.375  36.0  0.000000\n",
       "     1997-01-31 22:30:00 138.750  138.750  36.0  0.046439\n",
       "                         139.375  139.375  36.0  0.049828\n",
       "     1997-01-31 23:30:00 138.750  138.750  36.0  0.170946\n",
       "                         139.375  139.375  36.0  0.172616\n",
       "\n",
       "[4464 rows x 3 columns]"
      ]
     },
     "execution_count": 11,
     "metadata": {},
     "output_type": "execute_result"
    }
   ],
   "source": [
    "df_pv = ds_pv.to_dataframe(name='pv')\n",
    "df_pv"
   ]
  },
  {
   "cell_type": "code",
   "execution_count": 12,
   "metadata": {},
   "outputs": [],
   "source": [
    "df_pv.to_csv('pv_test.csv')"
   ]
  },
  {
   "cell_type": "code",
   "execution_count": null,
   "metadata": {},
   "outputs": [],
   "source": []
  }
 ],
 "metadata": {
  "kernelspec": {
   "display_name": "Python 3",
   "language": "python",
   "name": "python3"
  },
  "language_info": {
   "codemirror_mode": {
    "name": "ipython",
    "version": 3
   },
   "file_extension": ".py",
   "mimetype": "text/x-python",
   "name": "python",
   "nbconvert_exporter": "python",
   "pygments_lexer": "ipython3",
   "version": "3.7.4"
  }
 },
 "nbformat": 4,
 "nbformat_minor": 4
}
