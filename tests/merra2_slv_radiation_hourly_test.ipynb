{
 "cells": [
  {
   "cell_type": "markdown",
   "metadata": {},
   "source": [
    "# MERRA2 SLV+Radiation Monthly Granularity Test\n",
    "- Download\n",
    "- Trim\n",
    "- Create Cutout\n",
    "- Generate Solar Outputs"
   ]
  },
  {
   "cell_type": "markdown",
   "metadata": {},
   "source": [
    "## 1. Import and Download Data"
   ]
  },
  {
   "cell_type": "code",
   "execution_count": 1,
   "metadata": {},
   "outputs": [
    {
     "name": "stderr",
     "output_type": "stream",
     "text": [
      "INFO:geodata.dataset:Directory /Users/williamhonaker/Desktop/davidson/data_for_geodata/merra2 found, checking for completeness.\n",
      "INFO:geodata.dataset:Directory complete.\n"
     ]
    }
   ],
   "source": [
    "import calendar\n",
    "import geodata\n",
    "import xarray as xr\n",
    "import logging\n",
    "import pandas as pd\n",
    "logging.basicConfig(level=logging.INFO)\n",
    "DS_monthly = geodata.Dataset(module=\"merra2\",\n",
    "\t\t\t\t\t years=slice(1997, 1997),\n",
    "\t\t\t\t\t months=slice(1,1),\n",
    "                     weather_data_config = \"slv_radiation_monthly\")  "
   ]
  },
  {
   "cell_type": "code",
   "execution_count": 2,
   "metadata": {},
   "outputs": [],
   "source": [
    "if DS_monthly.prepared == False:\n",
    "\tDS_monthly.get_data()"
   ]
  },
  {
   "cell_type": "markdown",
   "metadata": {},
   "source": [
    "## 2. Trim Variables"
   ]
  },
  {
   "cell_type": "code",
   "execution_count": null,
   "metadata": {},
   "outputs": [],
   "source": [
    "## Variables before trimming\n",
    "ds = xr.open_dataset(DS_monthly.downloadedFiles[0][1])\n",
    "ds.data_vars"
   ]
  },
  {
   "cell_type": "code",
   "execution_count": null,
   "metadata": {},
   "outputs": [],
   "source": [
    "DS_monthly.trim_variables()"
   ]
  },
  {
   "cell_type": "code",
   "execution_count": 4,
   "metadata": {},
   "outputs": [
    {
     "data": {
      "text/plain": [
       "Data variables:\n",
       "    albedo   (time, lat, lon) float32 ...\n",
       "    swgdn    (time, lat, lon) float32 ...\n",
       "    swtdn    (time, lat, lon) float32 ...\n",
       "    t2m      (time, lat, lon) float32 ..."
      ]
     },
     "execution_count": 4,
     "metadata": {},
     "output_type": "execute_result"
    }
   ],
   "source": [
    "## Variables after trimming\n",
    "ds = xr.open_dataset(DS_monthly.downloadedFiles[0][1])\n",
    "ds.data_vars"
   ]
  },
  {
   "cell_type": "markdown",
   "metadata": {},
   "source": [
    "## 3. Create Cutout"
   ]
  },
  {
   "cell_type": "code",
   "execution_count": 3,
   "metadata": {},
   "outputs": [
    {
     "name": "stderr",
     "output_type": "stream",
     "text": [
      "INFO:geodata.cutout:Cutout (monthly-test-cutout, /Users/williamhonaker/Desktop/davidson/data_for_geodata/cutouts) not found or incomplete.\n"
     ]
    }
   ],
   "source": [
    "monthly_cutout = geodata.Cutout(name=\"monthly-test-cutout\",\n",
    "                       module=\"merra2\",\n",
    "                       weather_data_config=\"slv_radiation_monthly\",\n",
    "                       xs=slice(138.5, 139.5),\n",
    "                       ys=slice(35, 36),\n",
    "                       years=slice(1997, 1997),\n",
    "                       months=slice(1,1))"
   ]
  },
  {
   "cell_type": "code",
   "execution_count": 4,
   "metadata": {},
   "outputs": [
    {
     "name": "stderr",
     "output_type": "stream",
     "text": [
      "INFO:geodata.preparation:Starting preparation of cutout 'monthly-test-cutout'\n",
      "INFO:geodata.datasets.merra2:MultiIndex([(1997, 1)],\n",
      "           names=['year', 'month'])\n",
      "INFO:geodata.datasets.merra2:[(1997, 1)]\n",
      "INFO:geodata.preparation:1 tasks have been collected. Starting running them on all processors.\n",
      "INFO:geodata.datasets.merra2:Opening `/Users/williamhonaker/Desktop/davidson/data_for_geodata/merra2/1997/MERRA2_200.tavgM_2d_slv_rad_Nx.199701.nc4`\n",
      "INFO:geodata.preparation:Merging variables into monthly compound files\n",
      "INFO:geodata.preparation:Cutout 'monthly-test-cutout' has been successfully prepared\n"
     ]
    }
   ],
   "source": [
    "monthly_cutout.prepare()"
   ]
  },
  {
   "cell_type": "code",
   "execution_count": 5,
   "metadata": {},
   "outputs": [
    {
     "data": {
      "text/plain": [
       "{'name': 'monthly-test-cutout',\n",
       " 'cutout_dir': '/Users/williamhonaker/Desktop/davidson/data_for_geodata/cutouts/monthly-test-cutout',\n",
       " 'prepared': True,\n",
       " 'meta_append': 0,\n",
       " 'config': 'slv_radiation_monthly',\n",
       " 'dataset_module': <module 'geodata.datasets.merra2' from '/usr/local/lib/python3.7/site-packages/geodata-0.0.2-py3.7.egg/geodata/datasets/merra2.py'>,\n",
       " 'meta': <xarray.Dataset>\n",
       " Dimensions:     (time: 1, x: 2, y: 3, year-month: 1)\n",
       " Coordinates:\n",
       "   * time        (time) datetime64[ns] 1997-01-01T00:30:00\n",
       "   * x           (x) float64 138.8 139.4\n",
       "   * y           (y) float64 35.0 35.5 36.0\n",
       "     lon         (x) float64 138.8 139.4\n",
       "     lat         (y) float64 35.0 35.5 36.0\n",
       "   * year-month  (year-month) MultiIndex\n",
       "   - year        (year-month) int64 1997\n",
       "   - month       (year-month) int64 1\n",
       " Data variables:\n",
       "     *empty*\n",
       " Attributes:\n",
       "     module:   merra2}"
      ]
     },
     "execution_count": 5,
     "metadata": {},
     "output_type": "execute_result"
    }
   ],
   "source": [
    "# Verify Cutout Contents\n",
    "monthly_cutout.__dict__"
   ]
  },
  {
   "cell_type": "markdown",
   "metadata": {},
   "source": [
    "## 4. Generate Solar Output"
   ]
  },
  {
   "cell_type": "code",
   "execution_count": 6,
   "metadata": {
    "collapsed": true,
    "jupyter": {
     "outputs_hidden": true
    }
   },
   "outputs": [
    {
     "data": {
      "text/html": [
       "<pre>&lt;xarray.DataArray &#x27;AC power&#x27; (y: 3, time: 1, x: 2)&gt;\n",
       "array([[[0.10150946, 0.1014931 ]],\n",
       "\n",
       "       [[0.10501715, 0.1024548 ]],\n",
       "\n",
       "       [[0.10163419, 0.10006862]]])\n",
       "Coordinates:\n",
       "    lon      (x) float64 138.8 139.4\n",
       "    lat      (y) float64 35.0 35.5 36.0\n",
       "  * x        (x) float64 138.8 139.4\n",
       "  * y        (y) float64 35.0 35.5 36.0\n",
       "  * time     (time) datetime64[ns] 1997-01-01T00:30:00</pre>"
      ],
      "text/plain": [
       "<xarray.DataArray 'AC power' (y: 3, time: 1, x: 2)>\n",
       "array([[[0.10150946, 0.1014931 ]],\n",
       "\n",
       "       [[0.10501715, 0.1024548 ]],\n",
       "\n",
       "       [[0.10163419, 0.10006862]]])\n",
       "Coordinates:\n",
       "    lon      (x) float64 138.8 139.4\n",
       "    lat      (y) float64 35.0 35.5 36.0\n",
       "  * x        (x) float64 138.8 139.4\n",
       "  * y        (y) float64 35.0 35.5 36.0\n",
       "  * time     (time) datetime64[ns] 1997-01-01T00:30:00"
      ]
     },
     "execution_count": 6,
     "metadata": {},
     "output_type": "execute_result"
    }
   ],
   "source": [
    "ds_pv = geodata.convert.pv(\n",
    "    monthly_cutout, \n",
    "    panel=\"KANENA\", \n",
    "    orientation = \"latitude_optimal\"\n",
    "    )\n",
    "ds_pv"
   ]
  },
  {
   "cell_type": "code",
   "execution_count": 11,
   "metadata": {
    "collapsed": true,
    "jupyter": {
     "outputs_hidden": true
    }
   },
   "outputs": [
    {
     "data": {
      "text/html": [
       "<div>\n",
       "<style scoped>\n",
       "    .dataframe tbody tr th:only-of-type {\n",
       "        vertical-align: middle;\n",
       "    }\n",
       "\n",
       "    .dataframe tbody tr th {\n",
       "        vertical-align: top;\n",
       "    }\n",
       "\n",
       "    .dataframe thead th {\n",
       "        text-align: right;\n",
       "    }\n",
       "</style>\n",
       "<table border=\"1\" class=\"dataframe\">\n",
       "  <thead>\n",
       "    <tr style=\"text-align: right;\">\n",
       "      <th></th>\n",
       "      <th></th>\n",
       "      <th></th>\n",
       "      <th>lon</th>\n",
       "      <th>lat</th>\n",
       "      <th>pv</th>\n",
       "    </tr>\n",
       "    <tr>\n",
       "      <th>y</th>\n",
       "      <th>time</th>\n",
       "      <th>x</th>\n",
       "      <th></th>\n",
       "      <th></th>\n",
       "      <th></th>\n",
       "    </tr>\n",
       "  </thead>\n",
       "  <tbody>\n",
       "    <tr>\n",
       "      <th rowspan=\"5\" valign=\"top\">35.0</th>\n",
       "      <th rowspan=\"2\" valign=\"top\">1997-01-01 00:30:00</th>\n",
       "      <th>138.750</th>\n",
       "      <td>138.750</td>\n",
       "      <td>35.0</td>\n",
       "      <td>0.289056</td>\n",
       "    </tr>\n",
       "    <tr>\n",
       "      <th>139.375</th>\n",
       "      <td>139.375</td>\n",
       "      <td>35.0</td>\n",
       "      <td>0.280895</td>\n",
       "    </tr>\n",
       "    <tr>\n",
       "      <th rowspan=\"2\" valign=\"top\">1997-01-01 01:30:00</th>\n",
       "      <th>138.750</th>\n",
       "      <td>138.750</td>\n",
       "      <td>35.0</td>\n",
       "      <td>0.435743</td>\n",
       "    </tr>\n",
       "    <tr>\n",
       "      <th>139.375</th>\n",
       "      <td>139.375</td>\n",
       "      <td>35.0</td>\n",
       "      <td>0.422196</td>\n",
       "    </tr>\n",
       "    <tr>\n",
       "      <th>1997-01-01 02:30:00</th>\n",
       "      <th>138.750</th>\n",
       "      <td>138.750</td>\n",
       "      <td>35.0</td>\n",
       "      <td>0.538005</td>\n",
       "    </tr>\n",
       "    <tr>\n",
       "      <th>...</th>\n",
       "      <th>...</th>\n",
       "      <th>...</th>\n",
       "      <td>...</td>\n",
       "      <td>...</td>\n",
       "      <td>...</td>\n",
       "    </tr>\n",
       "    <tr>\n",
       "      <th rowspan=\"5\" valign=\"top\">36.0</th>\n",
       "      <th>1997-01-31 21:30:00</th>\n",
       "      <th>139.375</th>\n",
       "      <td>139.375</td>\n",
       "      <td>36.0</td>\n",
       "      <td>0.000000</td>\n",
       "    </tr>\n",
       "    <tr>\n",
       "      <th rowspan=\"2\" valign=\"top\">1997-01-31 22:30:00</th>\n",
       "      <th>138.750</th>\n",
       "      <td>138.750</td>\n",
       "      <td>36.0</td>\n",
       "      <td>0.046439</td>\n",
       "    </tr>\n",
       "    <tr>\n",
       "      <th>139.375</th>\n",
       "      <td>139.375</td>\n",
       "      <td>36.0</td>\n",
       "      <td>0.049828</td>\n",
       "    </tr>\n",
       "    <tr>\n",
       "      <th rowspan=\"2\" valign=\"top\">1997-01-31 23:30:00</th>\n",
       "      <th>138.750</th>\n",
       "      <td>138.750</td>\n",
       "      <td>36.0</td>\n",
       "      <td>0.170946</td>\n",
       "    </tr>\n",
       "    <tr>\n",
       "      <th>139.375</th>\n",
       "      <td>139.375</td>\n",
       "      <td>36.0</td>\n",
       "      <td>0.172616</td>\n",
       "    </tr>\n",
       "  </tbody>\n",
       "</table>\n",
       "<p>4464 rows × 3 columns</p>\n",
       "</div>"
      ],
      "text/plain": [
       "                                      lon   lat        pv\n",
       "y    time                x                               \n",
       "35.0 1997-01-01 00:30:00 138.750  138.750  35.0  0.289056\n",
       "                         139.375  139.375  35.0  0.280895\n",
       "     1997-01-01 01:30:00 138.750  138.750  35.0  0.435743\n",
       "                         139.375  139.375  35.0  0.422196\n",
       "     1997-01-01 02:30:00 138.750  138.750  35.0  0.538005\n",
       "...                                   ...   ...       ...\n",
       "36.0 1997-01-31 21:30:00 139.375  139.375  36.0  0.000000\n",
       "     1997-01-31 22:30:00 138.750  138.750  36.0  0.046439\n",
       "                         139.375  139.375  36.0  0.049828\n",
       "     1997-01-31 23:30:00 138.750  138.750  36.0  0.170946\n",
       "                         139.375  139.375  36.0  0.172616\n",
       "\n",
       "[4464 rows x 3 columns]"
      ]
     },
     "execution_count": 11,
     "metadata": {},
     "output_type": "execute_result"
    }
   ],
   "source": [
    "df_pv = ds_pv.to_dataframe(name='pv')\n",
    "df_pv"
   ]
  },
  {
   "cell_type": "code",
   "execution_count": 12,
   "metadata": {},
   "outputs": [],
   "source": [
    "df_pv.to_csv('pv_test_monthly.csv')"
   ]
  },
  {
   "cell_type": "code",
   "execution_count": null,
   "metadata": {},
   "outputs": [],
   "source": []
  }
 ],
 "metadata": {
  "kernelspec": {
   "display_name": "Python 3",
   "language": "python",
   "name": "python3"
  },
  "language_info": {
   "codemirror_mode": {
    "name": "ipython",
    "version": 3
   },
   "file_extension": ".py",
   "mimetype": "text/x-python",
   "name": "python",
   "nbconvert_exporter": "python",
   "pygments_lexer": "ipython3",
   "version": "3.7.4"
  }
 },
 "nbformat": 4,
 "nbformat_minor": 4
}
