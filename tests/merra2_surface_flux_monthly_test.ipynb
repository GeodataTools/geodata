{
 "cells": [
  {
   "cell_type": "markdown",
   "metadata": {},
   "source": [
    "# MERRA2 Monthly Granularity Test\n",
    "- Download\n",
    "- Trim\n",
    "- Create Cutout\n",
    "- Generate Wind Outputs"
   ]
  },
  {
   "cell_type": "markdown",
   "metadata": {},
   "source": [
    "## 1. Imports and Create Dataset"
   ]
  },
  {
   "cell_type": "code",
   "execution_count": 1,
   "metadata": {},
   "outputs": [
    {
     "name": "stderr",
     "output_type": "stream",
     "text": [
      "INFO:geodata.dataset:Directory /Users/williamhonaker/Desktop/davidson/data_for_geodata/merra2 found, checking for completeness.\n",
      "INFO:geodata.dataset:Directory complete.\n"
     ]
    }
   ],
   "source": [
    "import geodata\n",
    "import xarray as xr\n",
    "import logging\n",
    "logging.basicConfig(level=logging.INFO)\n",
    "DS_monthly = geodata.Dataset(module=\"merra2\",\n",
<<<<<<< HEAD:tests/merra2_surface_flux_monthly_test.ipynb
    "\t\t\t\t\t years=slice(2007, 2007),\n",
=======
    "\t\t\t\t\t years=slice(1998, 1998),\n",
>>>>>>> master:tests/merra2_monthly_test.ipynb
    "\t\t\t\t\t months=slice(1,1),\n",
    "                     weather_data_config = \"surface_flux_monthly\")  \n"
   ]
  },
  {
   "cell_type": "code",
<<<<<<< HEAD:tests/merra2_surface_flux_monthly_test.ipynb
   "execution_count": 2,
=======
   "execution_count": 7,
>>>>>>> master:tests/merra2_monthly_test.ipynb
   "metadata": {
    "collapsed": true,
    "jupyter": {
     "outputs_hidden": true
    }
   },
   "outputs": [
    {
     "data": {
      "text/plain": [
       "{'module': 'merra2',\n",
       " 'config': 'surface_flux_monthly',\n",
       " 'dataset_module': <module 'geodata.datasets.merra2' from '/usr/local/lib/python3.7/site-packages/geodata-0.0.2-py3.7.egg/geodata/datasets/merra2.py'>,\n",
       " 'weatherconfig': {'file_granularity': 'monthly',\n",
       "  'tasks_func': <function geodata.datasets.merra2.tasks_monthly_merra2(xs, ys, yearmonths, prepare_func, **meta_attrs)>,\n",
       "  'meta_prepare_func': <function geodata.datasets.merra2.prepare_meta_merra2(xs, ys, year, month, template, module, **params)>,\n",
       "  'prepare_func': <function geodata.datasets.merra2.prepare_month_surface_flux(fn, year, month, xs, ys)>,\n",
       "  'template': '/Users/williamhonaker/Desktop/davidson/data_for_geodata/merra2/{year}/MERRA2_*.tavgM_2d_flx_Nx.*.nc4',\n",
       "  'url': 'https://goldsmr4.gesdisc.eosdis.nasa.gov/data/MERRA2_MONTHLY/M2TMNXFLX.5.12.4/{year}/MERRA2_{spinup}.tavgM_2d_flx_Nx.{year}{month:0>2}.nc4',\n",
       "  'fn': '/Users/williamhonaker/Desktop/davidson/data_for_geodata/merra2/{year}/MERRA2_{spinup}.tavgM_2d_flx_Nx.{year}{month:0>2}.nc4',\n",
       "  'variables': ['ustar',\n",
       "   'z0m',\n",
       "   'disph',\n",
       "   'rhoa',\n",
       "   'ulml',\n",
       "   'vlml',\n",
       "   'tstar',\n",
       "   'hlml',\n",
       "   'tlml',\n",
       "   'pblh',\n",
       "   'hflux',\n",
       "   'eflux']},\n",
       " 'datadir': '/Users/williamhonaker/Desktop/davidson/data_for_geodata/merra2',\n",
<<<<<<< HEAD:tests/merra2_surface_flux_monthly_test.ipynb
       " 'years': slice(2007, 2007, None),\n",
       " 'months': slice(1, 1, None),\n",
       " 'prepared': False,\n",
       " 'toDownload': [('surface_flux_monthly',\n",
       "   '/Users/williamhonaker/Desktop/davidson/data_for_geodata/merra2/2007/MERRA2_300.tavgM_2d_flx_Nx.200701.nc4',\n",
       "   'https://goldsmr4.gesdisc.eosdis.nasa.gov/data/MERRA2_MONTHLY/M2TMNXFLX.5.12.4/2007/MERRA2_300.tavgM_2d_flx_Nx.200701.nc4')],\n",
       " 'downloadedFiles': [],\n",
       " 'totalFiles': [('surface_flux_monthly',\n",
       "   '/Users/williamhonaker/Desktop/davidson/data_for_geodata/merra2/2007/MERRA2_300.tavgM_2d_flx_Nx.200701.nc4')]}"
      ]
     },
     "execution_count": 2,
=======
       " 'years': slice(1998, 1998, None),\n",
       " 'months': slice(1, 1, None),\n",
       " 'prepared': True,\n",
       " 'toDownload': [],\n",
       " 'downloadedFiles': [('surface_flux_monthly',\n",
       "   '/Users/williamhonaker/Desktop/davidson/data_for_geodata/merra2/1998/MERRA2_200.tavgM_2d_flx_Nx.199801.nc4')],\n",
       " 'totalFiles': [('surface_flux_monthly',\n",
       "   '/Users/williamhonaker/Desktop/davidson/data_for_geodata/merra2/1998/MERRA2_200.tavgM_2d_flx_Nx.199801.nc4')]}"
      ]
     },
     "execution_count": 7,
>>>>>>> master:tests/merra2_monthly_test.ipynb
     "metadata": {},
     "output_type": "execute_result"
    }
   ],
   "source": [
    "## Verify Dataset\n",
    "DS_monthly.__dict__"
   ]
  },
  {
   "cell_type": "code",
   "execution_count": 8,
   "metadata": {},
   "outputs": [
    {
     "name": "stdout",
     "output_type": "stream",
     "text": [
      "('surface_flux_monthly', '/Users/williamhonaker/Desktop/davidson/data_for_geodata/merra2/2007/MERRA2_300.tavgM_2d_flx_Nx.200701.nc4', 'https://goldsmr4.gesdisc.eosdis.nasa.gov/data/MERRA2_MONTHLY/M2TMNXFLX.5.12.4/2007/MERRA2_300.tavgM_2d_flx_Nx.200701.nc4')\n"
     ]
    }
   ],
   "source": [
    "if DS_monthly.prepared == False:\n",
    "\tDS_monthly.get_data()"
   ]
  },
  {
   "cell_type": "markdown",
   "metadata": {},
   "source": [
    "## 2.Trim"
   ]
  },
  {
   "cell_type": "code",
<<<<<<< HEAD:tests/merra2_surface_flux_monthly_test.ipynb
   "execution_count": 5,
   "metadata": {},
=======
   "execution_count": 6,
   "metadata": {
    "collapsed": true,
    "jupyter": {
     "outputs_hidden": true
    }
   },
>>>>>>> master:tests/merra2_monthly_test.ipynb
   "outputs": [
    {
     "data": {
      "text/plain": [
       "Data variables:\n",
       "    BSTAR            (time, lat, lon) float32 ...\n",
       "    CDH              (time, lat, lon) float32 ...\n",
       "    CDM              (time, lat, lon) float32 ...\n",
       "    CDQ              (time, lat, lon) float32 ...\n",
       "    CN               (time, lat, lon) float32 ...\n",
       "    DISPH            (time, lat, lon) float32 ...\n",
       "    EFLUX            (time, lat, lon) float32 ...\n",
       "    EVAP             (time, lat, lon) float32 ...\n",
       "    FRCAN            (time, lat, lon) float32 ...\n",
       "    FRCCN            (time, lat, lon) float32 ...\n",
       "    FRCLS            (time, lat, lon) float32 ...\n",
       "    FRSEAICE         (time, lat, lon) float32 ...\n",
       "    GHTSKIN          (time, lat, lon) float32 ...\n",
       "    HFLUX            (time, lat, lon) float32 ...\n",
       "    HLML             (time, lat, lon) float32 ...\n",
       "    NIRDF            (time, lat, lon) float32 ...\n",
       "    NIRDR            (time, lat, lon) float32 ...\n",
       "    PBLH             (time, lat, lon) float32 ...\n",
       "    PGENTOT          (time, lat, lon) float32 ...\n",
       "    PRECANV          (time, lat, lon) float32 ...\n",
       "    PRECCON          (time, lat, lon) float32 ...\n",
       "    PRECLSC          (time, lat, lon) float32 ...\n",
       "    PRECSNO          (time, lat, lon) float32 ...\n",
       "    PRECTOT          (time, lat, lon) float32 ...\n",
       "    PRECTOTCORR      (time, lat, lon) float32 ...\n",
       "    PREVTOT          (time, lat, lon) float32 ...\n",
       "    QLML             (time, lat, lon) float32 ...\n",
       "    QSH              (time, lat, lon) float32 ...\n",
       "    QSTAR            (time, lat, lon) float32 ...\n",
       "    RHOA             (time, lat, lon) float32 ...\n",
       "    RISFC            (time, lat, lon) float32 ...\n",
       "    SPEED            (time, lat, lon) float32 ...\n",
       "    SPEEDMAX         (time, lat, lon) float32 ...\n",
       "    TAUGWX           (time, lat, lon) float32 ...\n",
       "    TAUGWY           (time, lat, lon) float32 ...\n",
       "    TAUX             (time, lat, lon) float32 ...\n",
       "    TAUY             (time, lat, lon) float32 ...\n",
       "    TCZPBL           (time, lat, lon) float32 ...\n",
       "    TLML             (time, lat, lon) float32 ...\n",
       "    TSH              (time, lat, lon) float32 ...\n",
       "    TSTAR            (time, lat, lon) float32 ...\n",
       "    ULML             (time, lat, lon) float32 ...\n",
       "    USTAR            (time, lat, lon) float32 ...\n",
       "    VLML             (time, lat, lon) float32 ...\n",
       "    Z0H              (time, lat, lon) float32 ...\n",
       "    Z0M              (time, lat, lon) float32 ...\n",
       "    Var_BSTAR        (time, lat, lon) float32 ...\n",
       "    Var_CDH          (time, lat, lon) float32 ...\n",
       "    Var_CDM          (time, lat, lon) float32 ...\n",
       "    Var_CDQ          (time, lat, lon) float32 ...\n",
       "    Var_CN           (time, lat, lon) float32 ...\n",
       "    Var_DISPH        (time, lat, lon) float32 ...\n",
       "    Var_EFLUX        (time, lat, lon) float32 ...\n",
       "    Var_EVAP         (time, lat, lon) float32 ...\n",
       "    Var_FRCAN        (time, lat, lon) float32 ...\n",
       "    Var_FRCCN        (time, lat, lon) float32 ...\n",
       "    Var_FRCLS        (time, lat, lon) float32 ...\n",
       "    Var_FRSEAICE     (time, lat, lon) float32 ...\n",
       "    Var_GHTSKIN      (time, lat, lon) float32 ...\n",
       "    Var_HFLUX        (time, lat, lon) float32 ...\n",
       "    Var_HLML         (time, lat, lon) float32 ...\n",
       "    Var_NIRDF        (time, lat, lon) float32 ...\n",
       "    Var_NIRDR        (time, lat, lon) float32 ...\n",
       "    Var_PBLH         (time, lat, lon) float32 ...\n",
       "    Var_PGENTOT      (time, lat, lon) float32 ...\n",
       "    Var_PRECANV      (time, lat, lon) float32 ...\n",
       "    Var_PRECCON      (time, lat, lon) float32 ...\n",
       "    Var_PRECLSC      (time, lat, lon) float32 ...\n",
       "    Var_PRECSNO      (time, lat, lon) float32 ...\n",
       "    Var_PRECTOT      (time, lat, lon) float32 ...\n",
       "    Var_PRECTOTCORR  (time, lat, lon) float32 ...\n",
       "    Var_PREVTOT      (time, lat, lon) float32 ...\n",
       "    Var_QLML         (time, lat, lon) float32 ...\n",
       "    Var_QSH          (time, lat, lon) float32 ...\n",
       "    Var_QSTAR        (time, lat, lon) float32 ...\n",
       "    Var_RHOA         (time, lat, lon) float32 ...\n",
       "    Var_RISFC        (time, lat, lon) float32 ...\n",
       "    Var_SPEED        (time, lat, lon) float32 ...\n",
       "    Var_SPEEDMAX     (time, lat, lon) float32 ...\n",
       "    Var_TAUGWX       (time, lat, lon) float32 ...\n",
       "    Var_TAUGWY       (time, lat, lon) float32 ...\n",
       "    Var_TAUX         (time, lat, lon) float32 ...\n",
       "    Var_TAUY         (time, lat, lon) float32 ...\n",
       "    Var_TCZPBL       (time, lat, lon) float32 ...\n",
       "    Var_TLML         (time, lat, lon) float32 ...\n",
       "    Var_TSH          (time, lat, lon) float32 ...\n",
       "    Var_TSTAR        (time, lat, lon) float32 ...\n",
       "    Var_ULML         (time, lat, lon) float32 ...\n",
       "    Var_USTAR        (time, lat, lon) float32 ...\n",
       "    Var_VLML         (time, lat, lon) float32 ...\n",
       "    Var_Z0H          (time, lat, lon) float32 ...\n",
       "    Var_Z0M          (time, lat, lon) float32 ..."
      ]
     },
<<<<<<< HEAD:tests/merra2_surface_flux_monthly_test.ipynb
     "execution_count": 5,
=======
     "execution_count": 6,
>>>>>>> master:tests/merra2_monthly_test.ipynb
     "metadata": {},
     "output_type": "execute_result"
    }
   ],
   "source": [
    "## Variables before trimming\n",
    "ds = xr.open_dataset(DS_monthly.downloadedFiles[0][1])\n",
    "ds.data_vars"
   ]
  },
  {
   "cell_type": "code",
   "execution_count": 3,
   "metadata": {},
   "outputs": [],
   "source": [
    "# No longer need downloadedFiles = True\n",
    "DS_monthly.trim_variables()"
   ]
  },
  {
   "cell_type": "code",
   "execution_count": 3,
   "metadata": {},
   "outputs": [],
   "source": [
    "## Variables after trimming\n",
    "ds = xr.open_dataset(DS_monthly.downloadedFiles[0][1])\n",
    "list(ds.data_vars)"
   ]
  },
  {
   "cell_type": "code",
   "execution_count": 3,
   "metadata": {},
   "outputs": [],
   "source": [
    "# True if variables in trimmed dataset equal variables in config \n",
    "DS_monthly.weatherconfig['variables'] == list(ds.data_vars)"
   ]
  },
  {
   "cell_type": "markdown",
   "metadata": {},
   "source": [
    "# 3. Create Cutout"
   ]
  },
  {
   "cell_type": "code",
<<<<<<< HEAD:tests/merra2_surface_flux_monthly_test.ipynb
   "execution_count": 2,
=======
   "execution_count": 9,
>>>>>>> master:tests/merra2_monthly_test.ipynb
   "metadata": {},
   "outputs": [
    {
     "name": "stderr",
     "output_type": "stream",
     "text": [
      "INFO:geodata.cutout:All cutout (tokyo-2008-1-test, /Users/williamhonaker/Desktop/davidson/data_for_geodata/cutouts) files available.\n",
      "INFO:geodata.preparation:[4, 1, 1, 10]\n",
      "INFO:geodata.cutout:Cutout subset prepared: <Cutout tokyo-2008-1-test x=138.75-139.38 y=35.00-36.00 time=2008/1-2008/1 prepared>\n"
     ]
    }
   ],
   "source": [
    "cutout = geodata.Cutout(name=\"tokyo-2008-test-monthly\",\n",
    "                       module=\"merra2\",\n",
    "                       weather_data_config=\"surface_flux_monthly\",\n",
    "                       xs=slice(138.5, 139.5),\n",
    "                       ys=slice(35, 36),\n",
    "                       years=slice(2008, 2008),\n",
    "                       months=slice(1,1))"
   ]
  },
  {
   "cell_type": "code",
<<<<<<< HEAD:tests/merra2_surface_flux_monthly_test.ipynb
   "execution_count": 3,
=======
   "execution_count": 5,
>>>>>>> master:tests/merra2_monthly_test.ipynb
   "metadata": {},
   "outputs": [
    {
     "name": "stderr",
     "output_type": "stream",
     "text": [
<<<<<<< HEAD:tests/merra2_surface_flux_monthly_test.ipynb
      "INFO:geodata.preparation:The cutout is already prepared. If you want to recalculate it, supply an `overwrite=True` argument.\n"
=======
      "INFO:geodata.preparation:Starting preparation of cutout 'tokyo-2008-2-test'\n",
      "INFO:geodata.datasets.merra2:MultiIndex([(2008, 1)],\n",
      "           names=['year', 'month'])\n",
      "INFO:geodata.datasets.merra2:[(2008, 1)]\n",
      "INFO:geodata.preparation:1 tasks have been collected. Starting running them on all processors.\n",
      "INFO:geodata.datasets.merra2:Opening `/Users/williamhonaker/Desktop/davidson/data_for_geodata/merra2/2008/MERRA2_300.tavgM_2d_flx_Nx.200801.nc4`\n",
      "INFO:geodata.preparation:Merging variables into monthly compound files\n",
      "INFO:geodata.preparation:Cutout 'tokyo-2008-2-test' has been successfully prepared\n"
>>>>>>> master:tests/merra2_monthly_test.ipynb
     ]
    },
    {
     "data": {
      "text/plain": [
       "True"
      ]
     },
     "execution_count": 3,
     "metadata": {},
     "output_type": "execute_result"
    }
   ],
   "source": [
    "cutout.prepare()"
   ]
  },
  {
   "cell_type": "code",
   "execution_count": 4,
   "metadata": {},
   "outputs": [
    {
     "data": {
      "text/plain": [
       "{'name': 'tokyo-2008-1-test',\n",
       " 'cutout_dir': '/Users/williamhonaker/Desktop/davidson/data_for_geodata/cutouts/tokyo-2008-1-test',\n",
       " 'prepared': True,\n",
       " 'meta_append': 0,\n",
       " 'config': 'surface_flux_monthly',\n",
       " 'meta': <xarray.Dataset>\n",
       " Dimensions:     (time: 1, x: 2, y: 3, year-month: 1)\n",
       " Coordinates:\n",
       "   * y           (y) float64 35.0 35.5 36.0\n",
       "   * x           (x) float64 138.8 139.4\n",
       "   * time        (time) datetime64[ns] 2008-01-01\n",
       "     lon         (x) float64 ...\n",
       "     lat         (y) float64 ...\n",
       "   * year-month  (year-month) MultiIndex\n",
       "   - year        (year-month) int64 2008\n",
       "   - month       (year-month) int64 1\n",
       " Data variables:\n",
       "     *empty*\n",
       " Attributes:\n",
       "     History:                           Original file generated: Tue Jun 30 21...\n",
       "     Filename:                          MERRA2_300.tavgM_2d_flx_Nx.200804.nc4\n",
       "     Comment:                           GMAO filename: d5124_m2_jan00.tavg1_2d...\n",
       "     Conventions:                       CF-1\n",
       "     Institution:                       NASA Global Modeling and Assimilation ...\n",
       "     References:                        http://gmao.gsfc.nasa.gov\n",
       "     Format:                            NetCDF-4/HDF-5\n",
       "     SpatialCoverage:                   global\n",
       "     VersionID:                         5.12.4\n",
       "     TemporalRange:                     1980-01-01 -> 2016-12-31\n",
       "     identifier_product_doi_authority:  http://dx.doi.org/\n",
       "     ShortName:                         M2TMNXFLX\n",
       "     RangeBeginningDate:                2008-04-01\n",
       "     RangeEndingDate:                   2008-04-30\n",
       "     GranuleID:                         MERRA2_300.tavgM_2d_flx_Nx.200804.nc4\n",
       "     ProductionDateTime:                Original file generated: Tue Jun 30 21...\n",
       "     LongName:                          MERRA2 tavg1_2d_flx_Nx: 2d,1-Hourly,Ti...\n",
       "     Title:                             MERRA2 tavg1_2d_flx_Nx: 2d,1-Hourly,Ti...\n",
       "     SouthernmostLatitude:              -90.0\n",
       "     NorthernmostLatitude:              90.0\n",
       "     WesternmostLongitude:              -180.0\n",
       "     EasternmostLongitude:              179.375\n",
       "     LatitudeResolution:                0.5\n",
       "     LongitudeResolution:               0.625\n",
       "     DataResolution:                    0.5 x 0.625\n",
       "     Source:                            CVS tag: GEOSadas-5_12_4\n",
       "     Contact:                           http://gmao.gsfc.nasa.gov\n",
       "     identifier_product_doi:            10.5067/0JRLVL8YV2Y4\n",
       "     RangeBeginningTime:                00:00:00.000000\n",
       "     RangeEndingTime:                   23:59:59.000000\n",
       "     module:                            merra2\n",
       "     view:                              {'x': slice(138.5, 139.5, None), 'y': ...,\n",
       " 'dataset_module': <module 'geodata.datasets.merra2' from '/usr/local/lib/python3.7/site-packages/geodata-0.0.2-py3.7.egg/geodata/datasets/merra2.py'>}"
      ]
     },
     "execution_count": 4,
     "metadata": {},
     "output_type": "execute_result"
    }
   ],
   "source": [
    "## Verify Cutout Contents\n",
    "cutout.__dict__"
   ]
  },
  {
   "cell_type": "code",
   "execution_count": 10,
   "metadata": {},
   "outputs": [],
   "source": [
    "## Verify Cutout Coords\n",
    "cutout.coords"
   ]
  },
  {
   "cell_type": "markdown",
   "metadata": {},
   "source": [
    "# 4. Generate Outputs"
   ]
  },
  {
   "cell_type": "code",
<<<<<<< HEAD:tests/merra2_surface_flux_monthly_test.ipynb
   "execution_count": 5,
=======
   "execution_count": 10,
>>>>>>> master:tests/merra2_monthly_test.ipynb
   "metadata": {},
   "outputs": [
    {
     "data": {
      "text/html": [
       "<pre>&lt;xarray.DataArray (time: 1, y: 3, x: 2)&gt;\n",
       "array([[[0.00419508, 0.02942151],\n",
       "        [0.01058039, 0.05267962],\n",
       "        [0.10489164, 0.0398446 ]]])\n",
       "Coordinates:\n",
       "    lon      (x) float64 138.8 139.4\n",
<<<<<<< HEAD:tests/merra2_surface_flux_monthly_test.ipynb
       "    lat      (y) float64 35.0 35.5 36.0\n",
=======
>>>>>>> master:tests/merra2_monthly_test.ipynb
       "  * y        (y) float64 35.0 35.5 36.0\n",
       "  * x        (x) float64 138.8 139.4\n",
       "  * time     (time) datetime64[ns] 2008-01-01T00:30:00</pre>"
      ],
      "text/plain": [
       "<xarray.DataArray (time: 1, y: 3, x: 2)>\n",
       "array([[[0.00419508, 0.02942151],\n",
       "        [0.01058039, 0.05267962],\n",
       "        [0.10489164, 0.0398446 ]]])\n",
       "Coordinates:\n",
       "    lon      (x) float64 138.8 139.4\n",
<<<<<<< HEAD:tests/merra2_surface_flux_monthly_test.ipynb
       "    lat      (y) float64 35.0 35.5 36.0\n",
=======
>>>>>>> master:tests/merra2_monthly_test.ipynb
       "  * y        (y) float64 35.0 35.5 36.0\n",
       "  * x        (x) float64 138.8 139.4\n",
       "  * time     (time) datetime64[ns] 2008-01-01T00:30:00"
      ]
     },
<<<<<<< HEAD:tests/merra2_surface_flux_monthly_test.ipynb
     "execution_count": 5,
=======
     "execution_count": 10,
>>>>>>> master:tests/merra2_monthly_test.ipynb
     "metadata": {},
     "output_type": "execute_result"
    }
   ],
   "source": [
    "ds_wind = geodata.convert.wind(\n",
    "                 cutout, \n",
    "                 turbine='Suzlon_S82_1.5_MW', \n",
    "                 smooth=True, \n",
    "                 var_height='lml')\n",
    "ds_wind"
   ]
  },
  {
   "cell_type": "code",
<<<<<<< HEAD:tests/merra2_surface_flux_monthly_test.ipynb
   "execution_count": 6,
=======
   "execution_count": 11,
>>>>>>> master:tests/merra2_monthly_test.ipynb
   "metadata": {},
   "outputs": [],
   "source": [
    "df_wind = ds_wind.to_dataframe(name='wind')\n",
    "df_wind"
   ]
  },
  {
   "cell_type": "code",
<<<<<<< HEAD:tests/merra2_surface_flux_monthly_test.ipynb
   "execution_count": 6,
=======
   "execution_count": 11,
>>>>>>> master:tests/merra2_monthly_test.ipynb
   "metadata": {},
   "outputs": [
    {
     "data": {
      "text/html": [
       "<div>\n",
       "<style scoped>\n",
       "    .dataframe tbody tr th:only-of-type {\n",
       "        vertical-align: middle;\n",
       "    }\n",
       "\n",
       "    .dataframe tbody tr th {\n",
       "        vertical-align: top;\n",
       "    }\n",
       "\n",
       "    .dataframe thead th {\n",
       "        text-align: right;\n",
       "    }\n",
       "</style>\n",
       "<table border=\"1\" class=\"dataframe\">\n",
       "  <thead>\n",
       "    <tr style=\"text-align: right;\">\n",
       "      <th></th>\n",
       "      <th></th>\n",
       "      <th></th>\n",
       "      <th>lon</th>\n",
       "      <th>lat</th>\n",
       "      <th>wind</th>\n",
       "    </tr>\n",
       "    <tr>\n",
       "      <th>time</th>\n",
       "      <th>y</th>\n",
       "      <th>x</th>\n",
       "      <th></th>\n",
       "      <th></th>\n",
       "      <th></th>\n",
       "    </tr>\n",
       "  </thead>\n",
       "  <tbody>\n",
       "    <tr>\n",
       "      <th rowspan=\"6\" valign=\"top\">2008-01-01 00:30:00</th>\n",
       "      <th rowspan=\"2\" valign=\"top\">35.0</th>\n",
       "      <th>138.750</th>\n",
       "      <td>138.750</td>\n",
       "      <td>35.0</td>\n",
       "      <td>0.004195</td>\n",
       "    </tr>\n",
       "    <tr>\n",
       "      <th>139.375</th>\n",
       "      <td>139.375</td>\n",
       "      <td>35.0</td>\n",
       "      <td>0.029422</td>\n",
       "    </tr>\n",
       "    <tr>\n",
       "      <th rowspan=\"2\" valign=\"top\">35.5</th>\n",
       "      <th>138.750</th>\n",
       "      <td>138.750</td>\n",
       "      <td>35.5</td>\n",
       "      <td>0.010580</td>\n",
       "    </tr>\n",
       "    <tr>\n",
       "      <th>139.375</th>\n",
       "      <td>139.375</td>\n",
       "      <td>35.5</td>\n",
       "      <td>0.052680</td>\n",
       "    </tr>\n",
       "    <tr>\n",
       "      <th rowspan=\"2\" valign=\"top\">36.0</th>\n",
       "      <th>138.750</th>\n",
       "      <td>138.750</td>\n",
       "      <td>36.0</td>\n",
       "      <td>0.104892</td>\n",
       "    </tr>\n",
       "    <tr>\n",
       "      <th>139.375</th>\n",
       "      <td>139.375</td>\n",
       "      <td>36.0</td>\n",
       "      <td>0.039845</td>\n",
       "    </tr>\n",
       "  </tbody>\n",
       "</table>\n",
       "</div>"
      ],
      "text/plain": [
       "                                      lon   lat      wind\n",
       "time                y    x                               \n",
       "2008-01-01 00:30:00 35.0 138.750  138.750  35.0  0.004195\n",
       "                         139.375  139.375  35.0  0.029422\n",
       "                    35.5 138.750  138.750  35.5  0.010580\n",
       "                         139.375  139.375  35.5  0.052680\n",
       "                    36.0 138.750  138.750  36.0  0.104892\n",
       "                         139.375  139.375  36.0  0.039845"
      ]
     },
<<<<<<< HEAD:tests/merra2_surface_flux_monthly_test.ipynb
     "execution_count": 6,
=======
     "execution_count": 11,
>>>>>>> master:tests/merra2_monthly_test.ipynb
     "metadata": {},
     "output_type": "execute_result"
    }
   ],
   "source": [
<<<<<<< HEAD:tests/merra2_surface_flux_monthly_test.ipynb
    "df_wind.to_csv('wind_test_monthly.csv')"
=======
    "df_wind.to_csv('merra2_wind_data_monthly.csv')"
>>>>>>> master:tests/merra2_monthly_test.ipynb
   ]
  },
  {
   "cell_type": "code",
<<<<<<< HEAD:tests/merra2_surface_flux_monthly_test.ipynb
   "execution_count": 7,
   "metadata": {},
   "outputs": [
    {
     "data": {
      "text/html": [
       "<pre>&lt;xarray.DataArray (time: 1, y: 3, x: 2)&gt;\n",
       "array([[[ 1.88176  , 26.917198 ],\n",
       "        [ 7.6360803, 49.887188 ],\n",
       "        [90.27525  , 37.614548 ]]], dtype=float32)\n",
       "Coordinates:\n",
       "    lon      (x) float64 138.8 139.4\n",
       "    lat      (y) float64 35.0 35.5 36.0\n",
       "  * y        (y) float64 35.0 35.5 36.0\n",
       "  * x        (x) float64 138.8 139.4\n",
       "  * time     (time) datetime64[ns] 2008-01-01T00:30:00</pre>"
      ],
      "text/plain": [
       "<xarray.DataArray (time: 1, y: 3, x: 2)>\n",
       "array([[[ 1.88176  , 26.917198 ],\n",
       "        [ 7.6360803, 49.887188 ],\n",
       "        [90.27525  , 37.614548 ]]], dtype=float32)\n",
       "Coordinates:\n",
       "    lon      (x) float64 138.8 139.4\n",
       "    lat      (y) float64 35.0 35.5 36.0\n",
       "  * y        (y) float64 35.0 35.5 36.0\n",
       "  * x        (x) float64 138.8 139.4\n",
       "  * time     (time) datetime64[ns] 2008-01-01T00:30:00"
      ]
     },
     "execution_count": 7,
     "metadata": {},
     "output_type": "execute_result"
    }
   ],
=======
   "execution_count": 12,
   "metadata": {},
   "outputs": [],
>>>>>>> master:tests/merra2_monthly_test.ipynb
   "source": [
    "ds_windwpd = geodata.convert.windwpd(\n",
    "                cutout, \n",
    "                turbine='Vestas_V66_1750kW', \n",
    "                var_height='lml')\n",
    "ds_windwpd"
   ]
  },
  {
   "cell_type": "code",
<<<<<<< HEAD:tests/merra2_surface_flux_monthly_test.ipynb
   "execution_count": 8,
=======
   "execution_count": 13,
>>>>>>> master:tests/merra2_monthly_test.ipynb
   "metadata": {},
   "outputs": [],
   "source": [
    "df_windwpd = ds_windwpd.to_dataframe(name='windwpd')\n",
    "df_windwpd"
   ]
  },
  {
   "cell_type": "code",
<<<<<<< HEAD:tests/merra2_surface_flux_monthly_test.ipynb
   "execution_count": 8,
=======
   "execution_count": 13,
>>>>>>> master:tests/merra2_monthly_test.ipynb
   "metadata": {},
   "outputs": [
    {
     "data": {
      "text/html": [
       "<div>\n",
       "<style scoped>\n",
       "    .dataframe tbody tr th:only-of-type {\n",
       "        vertical-align: middle;\n",
       "    }\n",
       "\n",
       "    .dataframe tbody tr th {\n",
       "        vertical-align: top;\n",
       "    }\n",
       "\n",
       "    .dataframe thead th {\n",
       "        text-align: right;\n",
       "    }\n",
       "</style>\n",
       "<table border=\"1\" class=\"dataframe\">\n",
       "  <thead>\n",
       "    <tr style=\"text-align: right;\">\n",
       "      <th></th>\n",
       "      <th></th>\n",
       "      <th></th>\n",
       "      <th>lon</th>\n",
       "      <th>lat</th>\n",
       "      <th>windwpd</th>\n",
       "    </tr>\n",
       "    <tr>\n",
       "      <th>time</th>\n",
       "      <th>y</th>\n",
       "      <th>x</th>\n",
       "      <th></th>\n",
       "      <th></th>\n",
       "      <th></th>\n",
       "    </tr>\n",
       "  </thead>\n",
       "  <tbody>\n",
       "    <tr>\n",
       "      <th rowspan=\"6\" valign=\"top\">2008-01-01 00:30:00</th>\n",
       "      <th rowspan=\"2\" valign=\"top\">35.0</th>\n",
       "      <th>138.750</th>\n",
       "      <td>138.750</td>\n",
       "      <td>35.0</td>\n",
       "      <td>1.881760</td>\n",
       "    </tr>\n",
       "    <tr>\n",
       "      <th>139.375</th>\n",
       "      <td>139.375</td>\n",
       "      <td>35.0</td>\n",
       "      <td>26.917198</td>\n",
       "    </tr>\n",
       "    <tr>\n",
       "      <th rowspan=\"2\" valign=\"top\">35.5</th>\n",
       "      <th>138.750</th>\n",
       "      <td>138.750</td>\n",
       "      <td>35.5</td>\n",
       "      <td>7.636080</td>\n",
       "    </tr>\n",
       "    <tr>\n",
       "      <th>139.375</th>\n",
       "      <td>139.375</td>\n",
       "      <td>35.5</td>\n",
       "      <td>49.887188</td>\n",
       "    </tr>\n",
       "    <tr>\n",
       "      <th rowspan=\"2\" valign=\"top\">36.0</th>\n",
       "      <th>138.750</th>\n",
       "      <td>138.750</td>\n",
       "      <td>36.0</td>\n",
       "      <td>90.275253</td>\n",
       "    </tr>\n",
       "    <tr>\n",
       "      <th>139.375</th>\n",
       "      <td>139.375</td>\n",
       "      <td>36.0</td>\n",
       "      <td>37.614548</td>\n",
       "    </tr>\n",
       "  </tbody>\n",
       "</table>\n",
       "</div>"
      ],
      "text/plain": [
       "                                      lon   lat    windwpd\n",
       "time                y    x                                \n",
       "2008-01-01 00:30:00 35.0 138.750  138.750  35.0   1.881760\n",
       "                         139.375  139.375  35.0  26.917198\n",
       "                    35.5 138.750  138.750  35.5   7.636080\n",
       "                         139.375  139.375  35.5  49.887188\n",
       "                    36.0 138.750  138.750  36.0  90.275253\n",
       "                         139.375  139.375  36.0  37.614548"
      ]
     },
<<<<<<< HEAD:tests/merra2_surface_flux_monthly_test.ipynb
     "execution_count": 8,
=======
     "execution_count": 13,
>>>>>>> master:tests/merra2_monthly_test.ipynb
     "metadata": {},
     "output_type": "execute_result"
    }
   ],
   "source": [
<<<<<<< HEAD:tests/merra2_surface_flux_monthly_test.ipynb
    "df_windwpd.to_csv('windwpd_test_monthly.csv')"
=======
    "df_windwpd.to_csv('merra2_windwpd_data_monthly.csv')"
>>>>>>> master:tests/merra2_monthly_test.ipynb
   ]
  },
  {
   "cell_type": "code",
   "execution_count": 14,
   "metadata": {},
   "outputs": [
    {
     "data": {
      "text/html": [
       "<pre>&lt;xarray.DataArray &#x27;wnd67m&#x27; (time: 1, y: 3, x: 2)&gt;\n",
       "array([[[1.4499094, 3.5014899],\n",
       "        [2.3455117, 4.3108544],\n",
       "        [5.3523173, 3.9228833]]], dtype=float32)\n",
       "Coordinates:\n",
       "    lat      (y) float64 35.0 35.5 36.0\n",
       "    lon      (x) float64 138.8 139.4\n",
       "  * y        (y) float64 35.0 35.5 36.0\n",
       "  * x        (x) float64 138.8 139.4\n",
       "  * time     (time) datetime64[ns] 2008-01-01T00:30:00\n",
       "Attributes:\n",
       "    long_name:  extrapolated 67 m wind speed using log ratio, from variable h...\n",
       "    units:      m s**-1</pre>"
      ],
      "text/plain": [
       "<xarray.DataArray 'wnd67m' (time: 1, y: 3, x: 2)>\n",
       "array([[[1.4499094, 3.5014899],\n",
       "        [2.3455117, 4.3108544],\n",
       "        [5.3523173, 3.9228833]]], dtype=float32)\n",
       "Coordinates:\n",
       "    lat      (y) float64 35.0 35.5 36.0\n",
       "    lon      (x) float64 138.8 139.4\n",
       "  * y        (y) float64 35.0 35.5 36.0\n",
       "  * x        (x) float64 138.8 139.4\n",
       "  * time     (time) datetime64[ns] 2008-01-01T00:30:00\n",
       "Attributes:\n",
       "    long_name:  extrapolated 67 m wind speed using log ratio, from variable h...\n",
       "    units:      m s**-1"
      ]
     },
     "execution_count": 14,
     "metadata": {},
     "output_type": "execute_result"
    }
   ],
   "source": [
    "ds_windspd = geodata.convert.windspd(\n",
    "                cutout, \n",
    "                turbine='Vestas_V66_1750kW', \n",
    "                var_height='lml')\n",
    "ds_windspd"
   ]
  },
  {
   "cell_type": "code",
   "execution_count": 15,
   "metadata": {},
   "outputs": [],
   "source": [
    "df_windspd = ds_windspd.to_dataframe(name='windspd')\n",
    "df_windspd"
   ]
  },
  {
   "cell_type": "code",
   "execution_count": 15,
   "metadata": {},
   "outputs": [
    {
     "data": {
      "text/html": [
       "<div>\n",
       "<style scoped>\n",
       "    .dataframe tbody tr th:only-of-type {\n",
       "        vertical-align: middle;\n",
       "    }\n",
       "\n",
       "    .dataframe tbody tr th {\n",
       "        vertical-align: top;\n",
       "    }\n",
       "\n",
       "    .dataframe thead th {\n",
       "        text-align: right;\n",
       "    }\n",
       "</style>\n",
       "<table border=\"1\" class=\"dataframe\">\n",
       "  <thead>\n",
       "    <tr style=\"text-align: right;\">\n",
       "      <th></th>\n",
       "      <th></th>\n",
       "      <th></th>\n",
       "      <th>lat</th>\n",
       "      <th>lon</th>\n",
       "      <th>windspd</th>\n",
       "    </tr>\n",
       "    <tr>\n",
       "      <th>time</th>\n",
       "      <th>y</th>\n",
       "      <th>x</th>\n",
       "      <th></th>\n",
       "      <th></th>\n",
       "      <th></th>\n",
       "    </tr>\n",
       "  </thead>\n",
       "  <tbody>\n",
       "    <tr>\n",
       "      <th rowspan=\"6\" valign=\"top\">2008-01-01 00:30:00</th>\n",
       "      <th rowspan=\"2\" valign=\"top\">35.0</th>\n",
       "      <th>138.750</th>\n",
       "      <td>35.0</td>\n",
       "      <td>138.750</td>\n",
       "      <td>1.881760</td>\n",
       "    </tr>\n",
       "    <tr>\n",
       "      <th>139.375</th>\n",
       "      <td>35.0</td>\n",
       "      <td>139.375</td>\n",
       "      <td>26.917198</td>\n",
       "    </tr>\n",
       "    <tr>\n",
       "      <th rowspan=\"2\" valign=\"top\">35.5</th>\n",
       "      <th>138.750</th>\n",
       "      <td>35.5</td>\n",
       "      <td>138.750</td>\n",
       "      <td>7.636080</td>\n",
       "    </tr>\n",
       "    <tr>\n",
       "      <th>139.375</th>\n",
       "      <td>35.5</td>\n",
       "      <td>139.375</td>\n",
       "      <td>49.887188</td>\n",
       "    </tr>\n",
       "    <tr>\n",
       "      <th rowspan=\"2\" valign=\"top\">36.0</th>\n",
       "      <th>138.750</th>\n",
       "      <td>36.0</td>\n",
       "      <td>138.750</td>\n",
       "      <td>90.275253</td>\n",
       "    </tr>\n",
       "    <tr>\n",
       "      <th>139.375</th>\n",
       "      <td>36.0</td>\n",
       "      <td>139.375</td>\n",
       "      <td>37.614548</td>\n",
       "    </tr>\n",
       "  </tbody>\n",
       "</table>\n",
       "</div>"
      ],
      "text/plain": [
       "                                   lat      lon    windspd\n",
       "time                y    x                                \n",
       "2008-01-01 00:30:00 35.0 138.750  35.0  138.750   1.881760\n",
       "                         139.375  35.0  139.375  26.917198\n",
       "                    35.5 138.750  35.5  138.750   7.636080\n",
       "                         139.375  35.5  139.375  49.887188\n",
       "                    36.0 138.750  36.0  138.750  90.275253\n",
       "                         139.375  36.0  139.375  37.614548"
      ]
     },
     "execution_count": 15,
     "metadata": {},
     "output_type": "execute_result"
    }
   ],
   "source": [
    "df_windspd.to_csv('merra2_windspd_data_monthly.csv')"
   ]
  },
  {
   "cell_type": "code",
   "execution_count": null,
   "metadata": {},
   "outputs": [],
   "source": [
    "df_windspd.to_csv('windspd_test_monthly.csv')"
   ]
  }
 ],
 "metadata": {
  "kernelspec": {
   "display_name": "Python 3",
   "language": "python",
   "name": "python3"
  },
  "language_info": {
   "codemirror_mode": {
    "name": "ipython",
    "version": 3
   },
   "file_extension": ".py",
   "mimetype": "text/x-python",
   "name": "python",
   "nbconvert_exporter": "python",
   "pygments_lexer": "ipython3",
   "version": "3.7.4"
  }
 },
 "nbformat": 4,
 "nbformat_minor": 4
}
