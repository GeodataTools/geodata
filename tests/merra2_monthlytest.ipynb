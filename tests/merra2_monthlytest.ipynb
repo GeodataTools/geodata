{
 "cells": [
  {
   "cell_type": "code",
   "execution_count": 28,
   "metadata": {},
   "outputs": [],
   "source": [
    "##Merra 2 with Monthly test\n",
    "##Tests Monthly download + new trimming function\n",
    "import geodata\n",
    "import xarray as xr\n"
   ]
  },
  {
   "cell_type": "code",
   "execution_count": 29,
   "metadata": {},
   "outputs": [],
   "source": [
    "import logging\n",
    "logging.basicConfig(level=logging.INFO)"
   ]
  },
  {
   "cell_type": "code",
   "execution_count": 30,
   "metadata": {},
   "outputs": [
    {
     "name": "stderr",
     "output_type": "stream",
     "text": [
      "INFO:geodata.dataset:Directory /Users/williamhonaker/Desktop/davidson/data_for_geodata/merra2 found, checking for completeness.\n",
      "INFO:geodata.dataset:Directory complete.\n"
     ]
    }
   ],
   "source": [
    "DS_monthly = geodata.Dataset(module=\"merra2\",\n",
    "\t\t\t\t\t years=slice(2008, 2008),\n",
    "\t\t\t\t\t months=slice(1,6),\n",
    "                     weather_data_config = \"surface_flux_monthly\")  \n",
    "\n",
    "# specify an entry in weather_data_config"
   ]
  },
  {
   "cell_type": "code",
   "execution_count": 31,
   "metadata": {},
   "outputs": [
    {
     "data": {
      "text/plain": [
       "{'module': 'merra2',\n",
       " 'config': 'surface_flux_monthly',\n",
       " 'dataset_module': <module 'geodata.datasets.merra2' from '/usr/local/lib/python3.7/site-packages/geodata-0.0.2-py3.7.egg/geodata/datasets/merra2.py'>,\n",
       " 'weatherconfig': {'time_period': 'monthly',\n",
       "  'tasks_func': <function geodata.datasets.merra2.tasks_monthly_merra2(xs, ys, yearmonths, prepare_func, **meta_attrs)>,\n",
       "  'prepare_func': <function geodata.datasets.merra2.prepare_month_surface_flux(fn, year, month, xs, ys)>,\n",
       "  'template': '/Users/williamhonaker/Desktop/davidson/data_for_geodata/merra2/{year}/MERRA2_*.tavgM_2d_flx_Nx.*.nc4',\n",
       "  'url': 'https://goldsmr4.gesdisc.eosdis.nasa.gov/data/MERRA2_MONTHLY/M2TMNXFLX.5.12.4/{year}/MERRA2_{spinup}.tavgM_2d_flx_Nx.{year}{month:0>2}.nc4',\n",
       "  'fn': '/Users/williamhonaker/Desktop/davidson/data_for_geodata/merra2/{year}/MERRA2_{spinup}.tavgM_2d_flx_Nx.{year}{month:0>2}.nc4',\n",
       "  'variables': ['ustar',\n",
       "   'z0m',\n",
       "   'disph',\n",
       "   'rhoa',\n",
       "   'ulml',\n",
       "   'vlml',\n",
       "   'tstar',\n",
       "   'hlml',\n",
       "   'tlml',\n",
       "   'pblh',\n",
       "   'hflux',\n",
       "   'eflux']},\n",
       " 'datadir': '/Users/williamhonaker/Desktop/davidson/data_for_geodata/merra2',\n",
       " 'years': slice(2008, 2008, None),\n",
       " 'months': slice(1, 6, None),\n",
       " 'prepared': True,\n",
       " 'toDownload': [],\n",
       " 'downloadedFiles': [('surface_flux_monthly',\n",
       "   '/Users/williamhonaker/Desktop/davidson/data_for_geodata/merra2/2008/MERRA2_300.tavgM_2d_flx_Nx.200801.nc4'),\n",
       "  ('surface_flux_monthly',\n",
       "   '/Users/williamhonaker/Desktop/davidson/data_for_geodata/merra2/2008/MERRA2_300.tavgM_2d_flx_Nx.200802.nc4'),\n",
       "  ('surface_flux_monthly',\n",
       "   '/Users/williamhonaker/Desktop/davidson/data_for_geodata/merra2/2008/MERRA2_300.tavgM_2d_flx_Nx.200803.nc4'),\n",
       "  ('surface_flux_monthly',\n",
       "   '/Users/williamhonaker/Desktop/davidson/data_for_geodata/merra2/2008/MERRA2_300.tavgM_2d_flx_Nx.200804.nc4'),\n",
       "  ('surface_flux_monthly',\n",
       "   '/Users/williamhonaker/Desktop/davidson/data_for_geodata/merra2/2008/MERRA2_300.tavgM_2d_flx_Nx.200805.nc4'),\n",
       "  ('surface_flux_monthly',\n",
       "   '/Users/williamhonaker/Desktop/davidson/data_for_geodata/merra2/2008/MERRA2_300.tavgM_2d_flx_Nx.200806.nc4')],\n",
       " 'totalFiles': [('surface_flux_monthly',\n",
       "   '/Users/williamhonaker/Desktop/davidson/data_for_geodata/merra2/2008/MERRA2_300.tavgM_2d_flx_Nx.200801.nc4'),\n",
       "  ('surface_flux_monthly',\n",
       "   '/Users/williamhonaker/Desktop/davidson/data_for_geodata/merra2/2008/MERRA2_300.tavgM_2d_flx_Nx.200802.nc4'),\n",
       "  ('surface_flux_monthly',\n",
       "   '/Users/williamhonaker/Desktop/davidson/data_for_geodata/merra2/2008/MERRA2_300.tavgM_2d_flx_Nx.200803.nc4'),\n",
       "  ('surface_flux_monthly',\n",
       "   '/Users/williamhonaker/Desktop/davidson/data_for_geodata/merra2/2008/MERRA2_300.tavgM_2d_flx_Nx.200804.nc4'),\n",
       "  ('surface_flux_monthly',\n",
       "   '/Users/williamhonaker/Desktop/davidson/data_for_geodata/merra2/2008/MERRA2_300.tavgM_2d_flx_Nx.200805.nc4'),\n",
       "  ('surface_flux_monthly',\n",
       "   '/Users/williamhonaker/Desktop/davidson/data_for_geodata/merra2/2008/MERRA2_300.tavgM_2d_flx_Nx.200806.nc4')]}"
      ]
     },
     "execution_count": 31,
     "metadata": {},
     "output_type": "execute_result"
    }
   ],
   "source": [
    "DS_monthly.__dict__\n",
    "# Dataset class now keeps three lists\n",
    "# totalFiles: represents every source file that correponds to the dataset\n",
    "# downloadedFiles: represents every source file that has already been downloaded\n",
    "# toDownload: represents every source file that still has yet to be downloaded"
   ]
  },
  {
   "cell_type": "code",
   "execution_count": 32,
   "metadata": {},
   "outputs": [],
   "source": [
    "if DS_monthly.prepared == False:\n",
    "\tDS_monthly.get_data()"
   ]
  },
  {
   "cell_type": "code",
   "execution_count": 33,
   "metadata": {},
   "outputs": [
    {
     "data": {
      "text/plain": [
       "Data variables:\n",
       "    ustar    (time, lat, lon) float32 ...\n",
       "    z0m      (time, lat, lon) float32 ...\n",
       "    disph    (time, lat, lon) float32 ...\n",
       "    rhoa     (time, lat, lon) float32 ...\n",
       "    ulml     (time, lat, lon) float32 ...\n",
       "    vlml     (time, lat, lon) float32 ...\n",
       "    tstar    (time, lat, lon) float32 ...\n",
       "    hlml     (time, lat, lon) float32 ...\n",
       "    tlml     (time, lat, lon) float32 ...\n",
       "    pblh     (time, lat, lon) float32 ...\n",
       "    hflux    (time, lat, lon) float32 ...\n",
       "    eflux    (time, lat, lon) float32 ..."
      ]
     },
     "execution_count": 33,
     "metadata": {},
     "output_type": "execute_result"
    }
   ],
   "source": [
    "## Variables before trimming\n",
    "ds = xr.open_dataset(DS_monthly.downloadedFiles[1][1])\n",
    "ds.data_vars"
   ]
  },
  {
   "cell_type": "code",
   "execution_count": 34,
   "metadata": {},
   "outputs": [],
   "source": [
    "# No longer need downloadedFiles = True\n",
    "DS_monthly.trim_variables()"
   ]
  },
  {
   "cell_type": "code",
   "execution_count": 35,
   "metadata": {},
   "outputs": [
    {
     "data": {
      "text/plain": [
       "['ustar',\n",
       " 'z0m',\n",
       " 'disph',\n",
       " 'rhoa',\n",
       " 'ulml',\n",
       " 'vlml',\n",
       " 'tstar',\n",
       " 'hlml',\n",
       " 'tlml',\n",
       " 'pblh',\n",
       " 'hflux',\n",
       " 'eflux']"
      ]
     },
     "execution_count": 35,
     "metadata": {},
     "output_type": "execute_result"
    }
   ],
   "source": [
    "## Variables after trimming\n",
    "ds = xr.open_dataset(DS_monthly.downloadedFiles[1][1])\n",
    "list(ds.data_vars)"
   ]
  },
  {
   "cell_type": "code",
   "execution_count": 36,
   "metadata": {},
   "outputs": [
    {
     "data": {
      "text/plain": [
       "True"
      ]
     },
     "execution_count": 36,
     "metadata": {},
     "output_type": "execute_result"
    }
   ],
   "source": [
    "# True if variables in trimmed dataset equal variables in config \n",
    "DS_monthly.weatherconfig['variables'] == list(ds.data_vars)"
   ]
  },
  {
   "cell_type": "code",
   "execution_count": null,
   "metadata": {},
   "outputs": [],
   "source": []
  }
 ],
 "metadata": {
  "kernelspec": {
   "display_name": "Python 3",
   "language": "python",
   "name": "python3"
  },
  "language_info": {
   "codemirror_mode": {
    "name": "ipython",
    "version": 3
   },
   "file_extension": ".py",
   "mimetype": "text/x-python",
   "name": "python",
   "nbconvert_exporter": "python",
   "pygments_lexer": "ipython3",
   "version": "3.7.4"
  }
 },
 "nbformat": 4,
 "nbformat_minor": 4
}
