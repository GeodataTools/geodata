{
 "cells": [
  {
   "cell_type": "markdown",
   "metadata": {},
   "source": [
    "# Geodata.cutout updates\n",
    "\n",
    "### Jeffrey Feng, 8/16/2021"
   ]
  },
  {
   "cell_type": "code",
   "execution_count": 1,
   "metadata": {},
   "outputs": [],
   "source": [
    "import geodata\n",
    "import logging\n",
    "import xarray as xr\n",
    "logging.basicConfig(level=logging.INFO)"
   ]
  },
  {
   "cell_type": "markdown",
   "metadata": {},
   "source": [
    "### Load dataset, cutout"
   ]
  },
  {
   "cell_type": "code",
   "execution_count": 2,
   "metadata": {},
   "outputs": [
    {
     "name": "stderr",
     "output_type": "stream",
     "text": [
      "INFO:geodata.dataset:No months specified, defaulting to 1-12\n",
      "INFO:geodata.dataset:Using global bounds.\n",
      "INFO:geodata.dataset:Directory D:/Users/davison_lab_data/merra2 found, checking for completeness.\n",
      "INFO:geodata.dataset:Directory complete.\n",
      "INFO:geodata.cutout:All cutout (china-2011-slv-test, D:/Users/davison_lab_data/cutouts) files available.\n",
      "INFO:geodata.cutout:Cutout subset prepared: <Cutout china-2011-slv-test x=73.12-135.62 y=18.00-54.00 time=2011/1-2011/12 prepared>\n",
      "INFO:geodata.preparation:The cutout is already prepared. If you want to recalculate it, supply an `overwrite=True` argument.\n"
     ]
    },
    {
     "data": {
      "text/plain": [
       "True"
      ]
     },
     "execution_count": 2,
     "metadata": {},
     "output_type": "execute_result"
    }
   ],
   "source": [
    "DS_monthly_chn = geodata.Dataset(module=\"merra2\",\n",
    "                                 years=slice(2011, 2011),month=slice(1,12),weather_data_config = \"slv_radiation_monthly\")\n",
    "if DS_monthly_chn.prepared == False: DS_monthly_chn.get_data()\n",
    "DS_monthly_chn.trim_variables()\n",
    "cutout = geodata.Cutout(name = \"china-2011-slv-test\",module = \"merra2\",weather_data_config = \"slv_radiation_monthly\",\n",
    "                        xs = slice(73, 136),ys = slice(18, 54),years = slice(2011, 2011), months = slice(1,12))\n",
    "cutout.prepare()"
   ]
  },
  {
   "cell_type": "markdown",
   "metadata": {},
   "source": [
    "**NOTE:** \n",
    "\n",
    "If you have created the mask `china_bin`, please ignore the block below, and run the next section. Otherwise, un-comment the cell below and run it."
   ]
  },
  {
   "cell_type": "code",
   "execution_count": 3,
   "metadata": {},
   "outputs": [],
   "source": [
    "# prov_path = shpreader.natural_earth(resolution='10m', category='cultural', name = 'admin_1_states_provinces')\n",
    "# china_all_shapes = geodata.mask.get_shape(prov_path, key = 'name_en', return_dict = True,\n",
    "#                          condition_key = 'admin', condition_value = 'China')\n",
    "# # #get rid of the islands, EDGE CASE cuz the islands are outside of shape\n",
    "# china_all_shapes.pop(None) \n",
    "\n",
    "# china_bin = geodata.Mask(\"china_bin\")\n",
    "# china_bin.add_layer('FINAL_GRID_5BINS.tif', layer_name = 'bins')\n",
    "\n",
    "# #extracted shape on bins layer\n",
    "# china_bin.extract_shapes(china_all_shapes, layer = 'bins')\n",
    "# china_bin.save_mask()"
   ]
  },
  {
   "cell_type": "markdown",
   "metadata": {},
   "source": [
    "If you have ran the previous cell before, please comment out the cell above and run the cell below."
   ]
  },
  {
   "cell_type": "markdown",
   "metadata": {},
   "source": [
    "### Add mask variable"
   ]
  },
  {
   "cell_type": "markdown",
   "metadata": {},
   "source": [
    "The mask \"china_bin\" has no merged_mask value, but the `add_mask` will look for both `merged_mask` and `shape_mask` attribute saved for the mask, unless you set the parameter `merged_mask = False`, or `shape_mask = False`"
   ]
  },
  {
   "cell_type": "code",
   "execution_count": 4,
   "metadata": {
    "scrolled": false
   },
   "outputs": [
    {
     "name": "stderr",
     "output_type": "stream",
     "text": [
      "INFO:geodata.mask:Layer ['bins'] loaded to the mask china_bin.\n",
      "INFO:geodata.mask:No Merged Mask found.\n",
      "INFO:geodata.mask:Shape mask ['Anhui', 'Beijing', 'Chongqing', 'Fujian', 'Gansu', 'Guangdong', 'Guangxi Zhuang Autonomous Region', 'Guizhou', 'Hainan', 'Hebei', 'Heilongjiang', 'Henan', 'Hubei', 'Hunan', 'Inner Mongolia', 'Jiangsu', 'Jiangxi', 'Jilin', 'Liaoning', 'Ningxia Hui Autonomous Region', 'Qinghai', 'Shaanxi', 'Shandong', 'Shanghai', 'Shanxi', 'Sichuan', 'Tianjin', 'Tibet', 'Xinjiang', 'Yunnan', 'Zhejiang'] loaded to the mask china_bin.\n",
      "INFO:geodata.mask:Please close the shape_mask xarray(s) for further changes of the mask object.\n",
      "INFO:geodata.cutout:Cutout.shape_mask added.\n"
     ]
    }
   ],
   "source": [
    "cutout.add_mask(\"china_bin\")"
   ]
  },
  {
   "cell_type": "code",
   "execution_count": 5,
   "metadata": {},
   "outputs": [],
   "source": [
    "#cutout.merged_mask, cutout.shape_mask"
   ]
  },
  {
   "cell_type": "markdown",
   "metadata": {},
   "source": [
    "### Add grid area variable"
   ]
  },
  {
   "cell_type": "code",
   "execution_count": 6,
   "metadata": {},
   "outputs": [],
   "source": [
    "cutout.add_grid_area()"
   ]
  },
  {
   "cell_type": "code",
   "execution_count": 7,
   "metadata": {},
   "outputs": [],
   "source": [
    "#cutout.area"
   ]
  },
  {
   "cell_type": "markdown",
   "metadata": {},
   "source": [
    "### Generate PV data (cutout conversion)"
   ]
  },
  {
   "cell_type": "code",
   "execution_count": 8,
   "metadata": {},
   "outputs": [],
   "source": [
    "ds_solar = geodata.convert.pv(cutout, panel = \"KANENA\", orientation = \"latitude_optimal\")\n",
    "ds_solar = ds_solar.reset_coords(['lon', 'lat'], drop = True)\n",
    "ds_solar = ds_solar.rename({'x': 'lon', 'y': 'lat'})\n",
    "ds_cutout = ds_solar.to_dataset(name = 'solar')\n",
    "ds_cutout = ds_cutout.coarsen(time = 12, boundary = 'exact').mean()\n",
    "ds_cutout = ds_cutout.transpose(\"time\", \"lat\", \"lon\")"
   ]
  },
  {
   "cell_type": "markdown",
   "metadata": {},
   "source": [
    "## Combining variables"
   ]
  },
  {
   "cell_type": "code",
   "execution_count": 9,
   "metadata": {
    "scrolled": false
   },
   "outputs": [
    {
     "name": "stderr",
     "output_type": "stream",
     "text": [
      "INFO:geodata.cutout:shape_mask combined with dataset. \n"
     ]
    }
   ],
   "source": [
    "combine = cutout.apply_mask(dataset = ds_cutout)"
   ]
  },
  {
   "cell_type": "code",
   "execution_count": 10,
   "metadata": {
    "scrolled": false
   },
   "outputs": [
    {
     "data": {
      "text/plain": [
       "dict_keys(['Anhui', 'Beijing', 'Chongqing', 'Fujian', 'Gansu', 'Guangdong', 'Guangxi Zhuang Autonomous Region', 'Guizhou', 'Hainan', 'Hebei', 'Heilongjiang', 'Henan', 'Hubei', 'Hunan', 'Inner Mongolia', 'Jiangsu', 'Jiangxi', 'Jilin', 'Liaoning', 'Ningxia Hui Autonomous Region', 'Qinghai', 'Shaanxi', 'Shandong', 'Shanghai', 'Shanxi', 'Sichuan', 'Tianjin', 'Tibet', 'Xinjiang', 'Yunnan', 'Zhejiang'])"
      ]
     },
     "execution_count": 10,
     "metadata": {},
     "output_type": "execute_result"
    }
   ],
   "source": [
    "combine.keys()"
   ]
  },
  {
   "cell_type": "code",
   "execution_count": 13,
   "metadata": {},
   "outputs": [
    {
     "data": {
      "text/html": [
       "<div><svg style=\"position: absolute; width: 0; height: 0; overflow: hidden\">\n",
       "<defs>\n",
       "<symbol id=\"icon-database\" viewBox=\"0 0 32 32\">\n",
       "<path d=\"M16 0c-8.837 0-16 2.239-16 5v4c0 2.761 7.163 5 16 5s16-2.239 16-5v-4c0-2.761-7.163-5-16-5z\"></path>\n",
       "<path d=\"M16 17c-8.837 0-16-2.239-16-5v6c0 2.761 7.163 5 16 5s16-2.239 16-5v-6c0 2.761-7.163 5-16 5z\"></path>\n",
       "<path d=\"M16 26c-8.837 0-16-2.239-16-5v6c0 2.761 7.163 5 16 5s16-2.239 16-5v-6c0 2.761-7.163 5-16 5z\"></path>\n",
       "</symbol>\n",
       "<symbol id=\"icon-file-text2\" viewBox=\"0 0 32 32\">\n",
       "<path d=\"M28.681 7.159c-0.694-0.947-1.662-2.053-2.724-3.116s-2.169-2.030-3.116-2.724c-1.612-1.182-2.393-1.319-2.841-1.319h-15.5c-1.378 0-2.5 1.121-2.5 2.5v27c0 1.378 1.122 2.5 2.5 2.5h23c1.378 0 2.5-1.122 2.5-2.5v-19.5c0-0.448-0.137-1.23-1.319-2.841zM24.543 5.457c0.959 0.959 1.712 1.825 2.268 2.543h-4.811v-4.811c0.718 0.556 1.584 1.309 2.543 2.268zM28 29.5c0 0.271-0.229 0.5-0.5 0.5h-23c-0.271 0-0.5-0.229-0.5-0.5v-27c0-0.271 0.229-0.5 0.5-0.5 0 0 15.499-0 15.5 0v7c0 0.552 0.448 1 1 1h7v19.5z\"></path>\n",
       "<path d=\"M23 26h-14c-0.552 0-1-0.448-1-1s0.448-1 1-1h14c0.552 0 1 0.448 1 1s-0.448 1-1 1z\"></path>\n",
       "<path d=\"M23 22h-14c-0.552 0-1-0.448-1-1s0.448-1 1-1h14c0.552 0 1 0.448 1 1s-0.448 1-1 1z\"></path>\n",
       "<path d=\"M23 18h-14c-0.552 0-1-0.448-1-1s0.448-1 1-1h14c0.552 0 1 0.448 1 1s-0.448 1-1 1z\"></path>\n",
       "</symbol>\n",
       "</defs>\n",
       "</svg>\n",
       "<style>/* CSS stylesheet for displaying xarray objects in jupyterlab.\n",
       " *\n",
       " */\n",
       "\n",
       ":root {\n",
       "  --xr-font-color0: var(--jp-content-font-color0, rgba(0, 0, 0, 1));\n",
       "  --xr-font-color2: var(--jp-content-font-color2, rgba(0, 0, 0, 0.54));\n",
       "  --xr-font-color3: var(--jp-content-font-color3, rgba(0, 0, 0, 0.38));\n",
       "  --xr-border-color: var(--jp-border-color2, #e0e0e0);\n",
       "  --xr-disabled-color: var(--jp-layout-color3, #bdbdbd);\n",
       "  --xr-background-color: var(--jp-layout-color0, white);\n",
       "  --xr-background-color-row-even: var(--jp-layout-color1, white);\n",
       "  --xr-background-color-row-odd: var(--jp-layout-color2, #eeeeee);\n",
       "}\n",
       "\n",
       "html[theme=dark],\n",
       "body.vscode-dark {\n",
       "  --xr-font-color0: rgba(255, 255, 255, 1);\n",
       "  --xr-font-color2: rgba(255, 255, 255, 0.54);\n",
       "  --xr-font-color3: rgba(255, 255, 255, 0.38);\n",
       "  --xr-border-color: #1F1F1F;\n",
       "  --xr-disabled-color: #515151;\n",
       "  --xr-background-color: #111111;\n",
       "  --xr-background-color-row-even: #111111;\n",
       "  --xr-background-color-row-odd: #313131;\n",
       "}\n",
       "\n",
       ".xr-wrap {\n",
       "  display: block;\n",
       "  min-width: 300px;\n",
       "  max-width: 700px;\n",
       "}\n",
       "\n",
       ".xr-text-repr-fallback {\n",
       "  /* fallback to plain text repr when CSS is not injected (untrusted notebook) */\n",
       "  display: none;\n",
       "}\n",
       "\n",
       ".xr-header {\n",
       "  padding-top: 6px;\n",
       "  padding-bottom: 6px;\n",
       "  margin-bottom: 4px;\n",
       "  border-bottom: solid 1px var(--xr-border-color);\n",
       "}\n",
       "\n",
       ".xr-header > div,\n",
       ".xr-header > ul {\n",
       "  display: inline;\n",
       "  margin-top: 0;\n",
       "  margin-bottom: 0;\n",
       "}\n",
       "\n",
       ".xr-obj-type,\n",
       ".xr-array-name {\n",
       "  margin-left: 2px;\n",
       "  margin-right: 10px;\n",
       "}\n",
       "\n",
       ".xr-obj-type {\n",
       "  color: var(--xr-font-color2);\n",
       "}\n",
       "\n",
       ".xr-sections {\n",
       "  padding-left: 0 !important;\n",
       "  display: grid;\n",
       "  grid-template-columns: 150px auto auto 1fr 20px 20px;\n",
       "}\n",
       "\n",
       ".xr-section-item {\n",
       "  display: contents;\n",
       "}\n",
       "\n",
       ".xr-section-item input {\n",
       "  display: none;\n",
       "}\n",
       "\n",
       ".xr-section-item input + label {\n",
       "  color: var(--xr-disabled-color);\n",
       "}\n",
       "\n",
       ".xr-section-item input:enabled + label {\n",
       "  cursor: pointer;\n",
       "  color: var(--xr-font-color2);\n",
       "}\n",
       "\n",
       ".xr-section-item input:enabled + label:hover {\n",
       "  color: var(--xr-font-color0);\n",
       "}\n",
       "\n",
       ".xr-section-summary {\n",
       "  grid-column: 1;\n",
       "  color: var(--xr-font-color2);\n",
       "  font-weight: 500;\n",
       "}\n",
       "\n",
       ".xr-section-summary > span {\n",
       "  display: inline-block;\n",
       "  padding-left: 0.5em;\n",
       "}\n",
       "\n",
       ".xr-section-summary-in:disabled + label {\n",
       "  color: var(--xr-font-color2);\n",
       "}\n",
       "\n",
       ".xr-section-summary-in + label:before {\n",
       "  display: inline-block;\n",
       "  content: '►';\n",
       "  font-size: 11px;\n",
       "  width: 15px;\n",
       "  text-align: center;\n",
       "}\n",
       "\n",
       ".xr-section-summary-in:disabled + label:before {\n",
       "  color: var(--xr-disabled-color);\n",
       "}\n",
       "\n",
       ".xr-section-summary-in:checked + label:before {\n",
       "  content: '▼';\n",
       "}\n",
       "\n",
       ".xr-section-summary-in:checked + label > span {\n",
       "  display: none;\n",
       "}\n",
       "\n",
       ".xr-section-summary,\n",
       ".xr-section-inline-details {\n",
       "  padding-top: 4px;\n",
       "  padding-bottom: 4px;\n",
       "}\n",
       "\n",
       ".xr-section-inline-details {\n",
       "  grid-column: 2 / -1;\n",
       "}\n",
       "\n",
       ".xr-section-details {\n",
       "  display: none;\n",
       "  grid-column: 1 / -1;\n",
       "  margin-bottom: 5px;\n",
       "}\n",
       "\n",
       ".xr-section-summary-in:checked ~ .xr-section-details {\n",
       "  display: contents;\n",
       "}\n",
       "\n",
       ".xr-array-wrap {\n",
       "  grid-column: 1 / -1;\n",
       "  display: grid;\n",
       "  grid-template-columns: 20px auto;\n",
       "}\n",
       "\n",
       ".xr-array-wrap > label {\n",
       "  grid-column: 1;\n",
       "  vertical-align: top;\n",
       "}\n",
       "\n",
       ".xr-preview {\n",
       "  color: var(--xr-font-color3);\n",
       "}\n",
       "\n",
       ".xr-array-preview,\n",
       ".xr-array-data {\n",
       "  padding: 0 5px !important;\n",
       "  grid-column: 2;\n",
       "}\n",
       "\n",
       ".xr-array-data,\n",
       ".xr-array-in:checked ~ .xr-array-preview {\n",
       "  display: none;\n",
       "}\n",
       "\n",
       ".xr-array-in:checked ~ .xr-array-data,\n",
       ".xr-array-preview {\n",
       "  display: inline-block;\n",
       "}\n",
       "\n",
       ".xr-dim-list {\n",
       "  display: inline-block !important;\n",
       "  list-style: none;\n",
       "  padding: 0 !important;\n",
       "  margin: 0;\n",
       "}\n",
       "\n",
       ".xr-dim-list li {\n",
       "  display: inline-block;\n",
       "  padding: 0;\n",
       "  margin: 0;\n",
       "}\n",
       "\n",
       ".xr-dim-list:before {\n",
       "  content: '(';\n",
       "}\n",
       "\n",
       ".xr-dim-list:after {\n",
       "  content: ')';\n",
       "}\n",
       "\n",
       ".xr-dim-list li:not(:last-child):after {\n",
       "  content: ',';\n",
       "  padding-right: 5px;\n",
       "}\n",
       "\n",
       ".xr-has-index {\n",
       "  font-weight: bold;\n",
       "}\n",
       "\n",
       ".xr-var-list,\n",
       ".xr-var-item {\n",
       "  display: contents;\n",
       "}\n",
       "\n",
       ".xr-var-item > div,\n",
       ".xr-var-item label,\n",
       ".xr-var-item > .xr-var-name span {\n",
       "  background-color: var(--xr-background-color-row-even);\n",
       "  margin-bottom: 0;\n",
       "}\n",
       "\n",
       ".xr-var-item > .xr-var-name:hover span {\n",
       "  padding-right: 5px;\n",
       "}\n",
       "\n",
       ".xr-var-list > li:nth-child(odd) > div,\n",
       ".xr-var-list > li:nth-child(odd) > label,\n",
       ".xr-var-list > li:nth-child(odd) > .xr-var-name span {\n",
       "  background-color: var(--xr-background-color-row-odd);\n",
       "}\n",
       "\n",
       ".xr-var-name {\n",
       "  grid-column: 1;\n",
       "}\n",
       "\n",
       ".xr-var-dims {\n",
       "  grid-column: 2;\n",
       "}\n",
       "\n",
       ".xr-var-dtype {\n",
       "  grid-column: 3;\n",
       "  text-align: right;\n",
       "  color: var(--xr-font-color2);\n",
       "}\n",
       "\n",
       ".xr-var-preview {\n",
       "  grid-column: 4;\n",
       "}\n",
       "\n",
       ".xr-var-name,\n",
       ".xr-var-dims,\n",
       ".xr-var-dtype,\n",
       ".xr-preview,\n",
       ".xr-attrs dt {\n",
       "  white-space: nowrap;\n",
       "  overflow: hidden;\n",
       "  text-overflow: ellipsis;\n",
       "  padding-right: 10px;\n",
       "}\n",
       "\n",
       ".xr-var-name:hover,\n",
       ".xr-var-dims:hover,\n",
       ".xr-var-dtype:hover,\n",
       ".xr-attrs dt:hover {\n",
       "  overflow: visible;\n",
       "  width: auto;\n",
       "  z-index: 1;\n",
       "}\n",
       "\n",
       ".xr-var-attrs,\n",
       ".xr-var-data {\n",
       "  display: none;\n",
       "  background-color: var(--xr-background-color) !important;\n",
       "  padding-bottom: 5px !important;\n",
       "}\n",
       "\n",
       ".xr-var-attrs-in:checked ~ .xr-var-attrs,\n",
       ".xr-var-data-in:checked ~ .xr-var-data {\n",
       "  display: block;\n",
       "}\n",
       "\n",
       ".xr-var-data > table {\n",
       "  float: right;\n",
       "}\n",
       "\n",
       ".xr-var-name span,\n",
       ".xr-var-data,\n",
       ".xr-attrs {\n",
       "  padding-left: 25px !important;\n",
       "}\n",
       "\n",
       ".xr-attrs,\n",
       ".xr-var-attrs,\n",
       ".xr-var-data {\n",
       "  grid-column: 1 / -1;\n",
       "}\n",
       "\n",
       "dl.xr-attrs {\n",
       "  padding: 0;\n",
       "  margin: 0;\n",
       "  display: grid;\n",
       "  grid-template-columns: 125px auto;\n",
       "}\n",
       "\n",
       ".xr-attrs dt, dd {\n",
       "  padding: 0;\n",
       "  margin: 0;\n",
       "  float: left;\n",
       "  padding-right: 10px;\n",
       "  width: auto;\n",
       "}\n",
       "\n",
       ".xr-attrs dt {\n",
       "  font-weight: normal;\n",
       "  grid-column: 1;\n",
       "}\n",
       "\n",
       ".xr-attrs dt:hover span {\n",
       "  display: inline-block;\n",
       "  background: var(--xr-background-color);\n",
       "  padding-right: 10px;\n",
       "}\n",
       "\n",
       ".xr-attrs dd {\n",
       "  grid-column: 2;\n",
       "  white-space: pre-wrap;\n",
       "  word-break: break-all;\n",
       "}\n",
       "\n",
       ".xr-icon-database,\n",
       ".xr-icon-file-text2 {\n",
       "  display: inline-block;\n",
       "  vertical-align: middle;\n",
       "  width: 1em;\n",
       "  height: 1.5em !important;\n",
       "  stroke-width: 0;\n",
       "  stroke: currentColor;\n",
       "  fill: currentColor;\n",
       "}\n",
       "</style><pre class='xr-text-repr-fallback'>&lt;xarray.Dataset&gt;\n",
       "Dimensions:  (lat: 73, lon: 101, time: 1)\n",
       "Coordinates:\n",
       "  * lat      (lat) float64 18.0 18.5 19.0 19.5 20.0 ... 52.0 52.5 53.0 53.5 54.0\n",
       "  * time     (time) datetime64[ns] 2011-06-16T12:30:00\n",
       "  * lon      (lon) float64 73.12 73.75 74.38 75.0 ... 133.8 134.4 135.0 135.6\n",
       "Data variables:\n",
       "    solar    (time, lat, lon) float64 0.0 0.0 0.0 ... 0.09313 0.09343 0.09398\n",
       "    mask     (lat, lon) float32 0.0 0.0 0.0 0.0 0.0 0.0 ... 0.0 0.0 0.0 0.0 0.0\n",
       "    area     (lat, lon) float64 3.663e+03 3.663e+03 ... 2.281e+03 2.281e+03</pre><div class='xr-wrap' hidden><div class='xr-header'><div class='xr-obj-type'>xarray.Dataset</div></div><ul class='xr-sections'><li class='xr-section-item'><input id='section-a30a24d6-566d-4ed0-bc12-367bdba86dbc' class='xr-section-summary-in' type='checkbox' disabled ><label for='section-a30a24d6-566d-4ed0-bc12-367bdba86dbc' class='xr-section-summary'  title='Expand/collapse section'>Dimensions:</label><div class='xr-section-inline-details'><ul class='xr-dim-list'><li><span class='xr-has-index'>lat</span>: 73</li><li><span class='xr-has-index'>lon</span>: 101</li><li><span class='xr-has-index'>time</span>: 1</li></ul></div><div class='xr-section-details'></div></li><li class='xr-section-item'><input id='section-bf691886-4b40-4712-afb6-533327acddf7' class='xr-section-summary-in' type='checkbox'  checked><label for='section-bf691886-4b40-4712-afb6-533327acddf7' class='xr-section-summary' >Coordinates: <span>(3)</span></label><div class='xr-section-inline-details'></div><div class='xr-section-details'><ul class='xr-var-list'><li class='xr-var-item'><div class='xr-var-name'><span class='xr-has-index'>lat</span></div><div class='xr-var-dims'>(lat)</div><div class='xr-var-dtype'>float64</div><div class='xr-var-preview xr-preview'>18.0 18.5 19.0 ... 53.0 53.5 54.0</div><input id='attrs-dafca05f-3dbd-4449-8d10-f5b6b53d82e3' class='xr-var-attrs-in' type='checkbox' ><label for='attrs-dafca05f-3dbd-4449-8d10-f5b6b53d82e3' title='Show/Hide attributes'><svg class='icon xr-icon-file-text2'><use xlink:href='#icon-file-text2'></use></svg></label><input id='data-40483f57-edb7-4f23-aad7-4b6fb0eb19a7' class='xr-var-data-in' type='checkbox'><label for='data-40483f57-edb7-4f23-aad7-4b6fb0eb19a7' title='Show/Hide data repr'><svg class='icon xr-icon-database'><use xlink:href='#icon-database'></use></svg></label><div class='xr-var-attrs'><dl class='xr-attrs'><dt><span>long_name :</span></dt><dd>latitude</dd><dt><span>units :</span></dt><dd>degrees_north</dd><dt><span>vmax :</span></dt><dd>1000000000000000.0</dd><dt><span>vmin :</span></dt><dd>-1000000000000000.0</dd><dt><span>valid_range :</span></dt><dd>[-1.e+15  1.e+15]</dd></dl></div><div class='xr-var-data'><pre>array([18. , 18.5, 19. , 19.5, 20. , 20.5, 21. , 21.5, 22. , 22.5, 23. , 23.5,\n",
       "       24. , 24.5, 25. , 25.5, 26. , 26.5, 27. , 27.5, 28. , 28.5, 29. , 29.5,\n",
       "       30. , 30.5, 31. , 31.5, 32. , 32.5, 33. , 33.5, 34. , 34.5, 35. , 35.5,\n",
       "       36. , 36.5, 37. , 37.5, 38. , 38.5, 39. , 39.5, 40. , 40.5, 41. , 41.5,\n",
       "       42. , 42.5, 43. , 43.5, 44. , 44.5, 45. , 45.5, 46. , 46.5, 47. , 47.5,\n",
       "       48. , 48.5, 49. , 49.5, 50. , 50.5, 51. , 51.5, 52. , 52.5, 53. , 53.5,\n",
       "       54. ])</pre></div></li><li class='xr-var-item'><div class='xr-var-name'><span class='xr-has-index'>time</span></div><div class='xr-var-dims'>(time)</div><div class='xr-var-dtype'>datetime64[ns]</div><div class='xr-var-preview xr-preview'>2011-06-16T12:30:00</div><input id='attrs-6f686f57-8508-4152-8b37-d81f36bb73e1' class='xr-var-attrs-in' type='checkbox' disabled><label for='attrs-6f686f57-8508-4152-8b37-d81f36bb73e1' title='Show/Hide attributes'><svg class='icon xr-icon-file-text2'><use xlink:href='#icon-file-text2'></use></svg></label><input id='data-4bffaf49-4b12-4fc3-a043-84ebc6c8c5f4' class='xr-var-data-in' type='checkbox'><label for='data-4bffaf49-4b12-4fc3-a043-84ebc6c8c5f4' title='Show/Hide data repr'><svg class='icon xr-icon-database'><use xlink:href='#icon-database'></use></svg></label><div class='xr-var-attrs'><dl class='xr-attrs'></dl></div><div class='xr-var-data'><pre>array([&#x27;2011-06-16T12:30:00.000000000&#x27;], dtype=&#x27;datetime64[ns]&#x27;)</pre></div></li><li class='xr-var-item'><div class='xr-var-name'><span class='xr-has-index'>lon</span></div><div class='xr-var-dims'>(lon)</div><div class='xr-var-dtype'>float64</div><div class='xr-var-preview xr-preview'>73.12 73.75 74.38 ... 135.0 135.6</div><input id='attrs-18fbf86e-e9e9-4ca4-9d7b-f8dc8ae08cfd' class='xr-var-attrs-in' type='checkbox' ><label for='attrs-18fbf86e-e9e9-4ca4-9d7b-f8dc8ae08cfd' title='Show/Hide attributes'><svg class='icon xr-icon-file-text2'><use xlink:href='#icon-file-text2'></use></svg></label><input id='data-c11e4c96-7251-4b2c-8d91-63656e376683' class='xr-var-data-in' type='checkbox'><label for='data-c11e4c96-7251-4b2c-8d91-63656e376683' title='Show/Hide data repr'><svg class='icon xr-icon-database'><use xlink:href='#icon-database'></use></svg></label><div class='xr-var-attrs'><dl class='xr-attrs'><dt><span>long_name :</span></dt><dd>longitude</dd><dt><span>units :</span></dt><dd>degrees_east</dd><dt><span>vmax :</span></dt><dd>1000000000000000.0</dd><dt><span>vmin :</span></dt><dd>-1000000000000000.0</dd><dt><span>valid_range :</span></dt><dd>[-1.e+15  1.e+15]</dd></dl></div><div class='xr-var-data'><pre>array([ 73.125,  73.75 ,  74.375,  75.   ,  75.625,  76.25 ,  76.875,  77.5  ,\n",
       "        78.125,  78.75 ,  79.375,  80.   ,  80.625,  81.25 ,  81.875,  82.5  ,\n",
       "        83.125,  83.75 ,  84.375,  85.   ,  85.625,  86.25 ,  86.875,  87.5  ,\n",
       "        88.125,  88.75 ,  89.375,  90.   ,  90.625,  91.25 ,  91.875,  92.5  ,\n",
       "        93.125,  93.75 ,  94.375,  95.   ,  95.625,  96.25 ,  96.875,  97.5  ,\n",
       "        98.125,  98.75 ,  99.375, 100.   , 100.625, 101.25 , 101.875, 102.5  ,\n",
       "       103.125, 103.75 , 104.375, 105.   , 105.625, 106.25 , 106.875, 107.5  ,\n",
       "       108.125, 108.75 , 109.375, 110.   , 110.625, 111.25 , 111.875, 112.5  ,\n",
       "       113.125, 113.75 , 114.375, 115.   , 115.625, 116.25 , 116.875, 117.5  ,\n",
       "       118.125, 118.75 , 119.375, 120.   , 120.625, 121.25 , 121.875, 122.5  ,\n",
       "       123.125, 123.75 , 124.375, 125.   , 125.625, 126.25 , 126.875, 127.5  ,\n",
       "       128.125, 128.75 , 129.375, 130.   , 130.625, 131.25 , 131.875, 132.5  ,\n",
       "       133.125, 133.75 , 134.375, 135.   , 135.625])</pre></div></li></ul></div></li><li class='xr-section-item'><input id='section-0b38424a-3e3f-46d7-a21b-82df33835bed' class='xr-section-summary-in' type='checkbox'  checked><label for='section-0b38424a-3e3f-46d7-a21b-82df33835bed' class='xr-section-summary' >Data variables: <span>(3)</span></label><div class='xr-section-inline-details'></div><div class='xr-section-details'><ul class='xr-var-list'><li class='xr-var-item'><div class='xr-var-name'><span>solar</span></div><div class='xr-var-dims'>(time, lat, lon)</div><div class='xr-var-dtype'>float64</div><div class='xr-var-preview xr-preview'>0.0 0.0 0.0 ... 0.09343 0.09398</div><input id='attrs-58bac2f2-f908-4110-87f0-5fb5bf774615' class='xr-var-attrs-in' type='checkbox' disabled><label for='attrs-58bac2f2-f908-4110-87f0-5fb5bf774615' title='Show/Hide attributes'><svg class='icon xr-icon-file-text2'><use xlink:href='#icon-file-text2'></use></svg></label><input id='data-5b103871-7592-4ca0-b947-090cc01a8027' class='xr-var-data-in' type='checkbox'><label for='data-5b103871-7592-4ca0-b947-090cc01a8027' title='Show/Hide data repr'><svg class='icon xr-icon-database'><use xlink:href='#icon-database'></use></svg></label><div class='xr-var-attrs'><dl class='xr-attrs'></dl></div><div class='xr-var-data'><pre>array([[[0.        , 0.        , 0.        , ..., 0.14240781,\n",
       "         0.14308053, 0.14289609],\n",
       "        [0.        , 0.        , 0.        , ..., 0.14200726,\n",
       "         0.14323535, 0.14380682],\n",
       "        [0.        , 0.        , 0.        , ..., 0.14151678,\n",
       "         0.14257839, 0.14383049],\n",
       "        ...,\n",
       "        [0.02860299, 0.02889462, 0.02869829, ..., 0.09498449,\n",
       "         0.0961276 , 0.09491253],\n",
       "        [0.02906416, 0.0289724 , 0.02877416, ..., 0.09412395,\n",
       "         0.09545206, 0.09523241],\n",
       "        [0.02938167, 0.02915921, 0.02878651, ..., 0.0931309 ,\n",
       "         0.09342933, 0.0939781 ]]])</pre></div></li><li class='xr-var-item'><div class='xr-var-name'><span>mask</span></div><div class='xr-var-dims'>(lat, lon)</div><div class='xr-var-dtype'>float32</div><div class='xr-var-preview xr-preview'>0.0 0.0 0.0 0.0 ... 0.0 0.0 0.0 0.0</div><input id='attrs-c8fdcd4d-3a0c-456b-9b3c-3685ccb3e847' class='xr-var-attrs-in' type='checkbox' disabled><label for='attrs-c8fdcd4d-3a0c-456b-9b3c-3685ccb3e847' title='Show/Hide attributes'><svg class='icon xr-icon-file-text2'><use xlink:href='#icon-file-text2'></use></svg></label><input id='data-d0272aec-c8b8-4b8f-ab3f-52b59a4c4a53' class='xr-var-data-in' type='checkbox'><label for='data-d0272aec-c8b8-4b8f-ab3f-52b59a4c4a53' title='Show/Hide data repr'><svg class='icon xr-icon-database'><use xlink:href='#icon-database'></use></svg></label><div class='xr-var-attrs'><dl class='xr-attrs'></dl></div><div class='xr-var-data'><pre>array([[0., 0., 0., ..., 0., 0., 0.],\n",
       "       [0., 0., 0., ..., 0., 0., 0.],\n",
       "       [0., 0., 0., ..., 0., 0., 0.],\n",
       "       ...,\n",
       "       [0., 0., 0., ..., 0., 0., 0.],\n",
       "       [0., 0., 0., ..., 0., 0., 0.],\n",
       "       [0., 0., 0., ..., 0., 0., 0.]], dtype=float32)</pre></div></li><li class='xr-var-item'><div class='xr-var-name'><span>area</span></div><div class='xr-var-dims'>(lat, lon)</div><div class='xr-var-dtype'>float64</div><div class='xr-var-preview xr-preview'>3.663e+03 3.663e+03 ... 2.281e+03</div><input id='attrs-d57b03ca-6684-4aa3-9796-66cda7ae5e45' class='xr-var-attrs-in' type='checkbox' disabled><label for='attrs-d57b03ca-6684-4aa3-9796-66cda7ae5e45' title='Show/Hide attributes'><svg class='icon xr-icon-file-text2'><use xlink:href='#icon-file-text2'></use></svg></label><input id='data-8c9b549e-002f-4a21-a965-31801b0a593c' class='xr-var-data-in' type='checkbox'><label for='data-8c9b549e-002f-4a21-a965-31801b0a593c' title='Show/Hide data repr'><svg class='icon xr-icon-database'><use xlink:href='#icon-database'></use></svg></label><div class='xr-var-attrs'><dl class='xr-attrs'></dl></div><div class='xr-var-data'><pre>array([[3662.98, 3662.98, 3662.98, ..., 3662.98, 3662.98, 3662.98],\n",
       "       [3652.71, 3652.71, 3652.71, ..., 3652.71, 3652.71, 3652.71],\n",
       "       [3642.17, 3642.17, 3642.17, ..., 3642.17, 3642.17, 3642.17],\n",
       "       ...,\n",
       "       [2334.79, 2334.79, 2334.79, ..., 2334.79, 2334.79, 2334.79],\n",
       "       [2307.92, 2307.92, 2307.92, ..., 2307.92, 2307.92, 2307.92],\n",
       "       [2280.87, 2280.87, 2280.87, ..., 2280.87, 2280.87, 2280.87]])</pre></div></li></ul></div></li><li class='xr-section-item'><input id='section-af249b20-0807-4792-8982-07371c13a23e' class='xr-section-summary-in' type='checkbox' disabled ><label for='section-af249b20-0807-4792-8982-07371c13a23e' class='xr-section-summary'  title='Expand/collapse section'>Attributes: <span>(0)</span></label><div class='xr-section-inline-details'></div><div class='xr-section-details'><dl class='xr-attrs'></dl></div></li></ul></div></div>"
      ],
      "text/plain": [
       "<xarray.Dataset>\n",
       "Dimensions:  (lat: 73, lon: 101, time: 1)\n",
       "Coordinates:\n",
       "  * lat      (lat) float64 18.0 18.5 19.0 19.5 20.0 ... 52.0 52.5 53.0 53.5 54.0\n",
       "  * time     (time) datetime64[ns] 2011-06-16T12:30:00\n",
       "  * lon      (lon) float64 73.12 73.75 74.38 75.0 ... 133.8 134.4 135.0 135.6\n",
       "Data variables:\n",
       "    solar    (time, lat, lon) float64 0.0 0.0 0.0 ... 0.09313 0.09343 0.09398\n",
       "    mask     (lat, lon) float32 0.0 0.0 0.0 0.0 0.0 0.0 ... 0.0 0.0 0.0 0.0 0.0\n",
       "    area     (lat, lon) float64 3.663e+03 3.663e+03 ... 2.281e+03 2.281e+03"
      ]
     },
     "execution_count": 13,
     "metadata": {},
     "output_type": "execute_result"
    }
   ],
   "source": [
    "combine['Anhui']"
   ]
  },
  {
   "cell_type": "code",
   "execution_count": null,
   "metadata": {},
   "outputs": [],
   "source": []
  }
 ],
 "metadata": {
  "kernelspec": {
   "display_name": "Python 3",
   "language": "python",
   "name": "python3"
  },
  "language_info": {
   "codemirror_mode": {
    "name": "ipython",
    "version": 3
   },
   "file_extension": ".py",
   "mimetype": "text/x-python",
   "name": "python",
   "nbconvert_exporter": "python",
   "pygments_lexer": "ipython3",
   "version": "3.8.3"
  }
 },
 "nbformat": 4,
 "nbformat_minor": 4
}
