{
 "cells": [
  {
   "cell_type": "markdown",
   "metadata": {},
   "source": [
    "# MERRA2 Monthly Granularity Test\n",
    "- Download\n",
    "- Trim\n",
    "- Create Cutout\n",
    "- Generate Wind Outputs"
   ]
  },
  {
   "cell_type": "markdown",
   "metadata": {},
   "source": [
    "## 1. Imports and Create Dataset"
   ]
  },
  {
   "cell_type": "code",
   "execution_count": 2,
   "metadata": {},
   "outputs": [
    {
     "name": "stderr",
     "output_type": "stream",
     "text": [
      "INFO:geodata.dataset:Directory /Users/williamhonaker/Desktop/davidson/data_for_geodata/merra2 found, checking for completeness.\n",
      "INFO:geodata.dataset:Directory complete.\n"
     ]
    }
   ],
   "source": [
    "import geodata\n",
    "import xarray as xr\n",
    "import logging\n",
    "logging.basicConfig(level=logging.INFO)\n",
    "DS_monthly = geodata.Dataset(module=\"merra2\",\n",
    "\t\t\t\t\t years=slice(2008, 2008),\n",
    "\t\t\t\t\t months=slice(1,6),\n",
    "                     weather_data_config = \"surface_flux_monthly\")  \n"
   ]
  },
  {
   "cell_type": "code",
   "execution_count": 3,
   "metadata": {},
   "outputs": [],
   "source": [
    "## Verify Dataset\n",
    "DS_monthly.__dict__"
   ]
  },
  {
   "cell_type": "code",
   "execution_count": 3,
   "metadata": {},
   "outputs": [],
   "source": [
    "if DS_monthly.prepared == False:\n",
    "\tDS_monthly.get_data()"
   ]
  },
  {
   "cell_type": "markdown",
   "metadata": {},
   "source": [
    "## 2.Trim"
   ]
  },
  {
   "cell_type": "code",
   "execution_count": 3,
   "metadata": {},
   "outputs": [],
   "source": [
    "## Variables before trimming\n",
    "ds = xr.open_dataset(DS_monthly.downloadedFiles[1][1])\n",
    "ds.data_vars"
   ]
  },
  {
   "cell_type": "code",
   "execution_count": 3,
   "metadata": {},
   "outputs": [],
   "source": [
    "# No longer need downloadedFiles = True\n",
    "DS_monthly.trim_variables()"
   ]
  },
  {
   "cell_type": "code",
   "execution_count": 3,
   "metadata": {},
   "outputs": [],
   "source": [
    "## Variables after trimming\n",
    "ds = xr.open_dataset(DS_monthly.downloadedFiles[1][1])\n",
    "list(ds.data_vars)"
   ]
  },
  {
   "cell_type": "code",
   "execution_count": 3,
   "metadata": {},
   "outputs": [],
   "source": [
    "# True if variables in trimmed dataset equal variables in config \n",
    "DS_monthly.weatherconfig['variables'] == list(ds.data_vars)"
   ]
  },
  {
   "cell_type": "markdown",
   "metadata": {},
   "source": [
    "# 3. Create Cutout"
   ]
  },
  {
   "cell_type": "code",
   "execution_count": 7,
   "metadata": {},
   "outputs": [],
   "source": [
    "cutout = geodata.Cutout(name=\"tokyo-2008-1-test\",\n",
    "                       module=\"merra2\",\n",
    "                       weather_data_config=\"surface_flux_monthly\",\n",
    "                       xs=slice(138.5, 139.5),\n",
    "                       ys=slice(35, 36),\n",
    "                       years=slice(2008, 2008),\n",
    "                       months=slice(1,1))"
   ]
  },
  {
   "cell_type": "code",
   "execution_count": 7,
   "metadata": {},
   "outputs": [
    {
     "name": "stderr",
     "output_type": "stream",
     "text": [
      "INFO:geodata.cutout:Cutout (tokyo-2008-1-test, /Users/williamhonaker/Desktop/davidson/data_for_geodata/cutouts) not found or incomplete.\n",
      "INFO:geodata.preparation:Starting preparation of cutout 'tokyo-2008-1-test'\n",
      "INFO:geodata.datasets.merra2:MultiIndex([(2008, 1)],\n",
      "           names=['year', 'month'])\n",
      "INFO:geodata.datasets.merra2:[(2008, 1)]\n",
      "INFO:geodata.preparation:1 tasks have been collected. Starting running them on all processors.\n",
      "INFO:geodata.datasets.merra2:Opening `/Users/williamhonaker/Desktop/davidson/data_for_geodata/merra2/2008/MERRA2_300.tavgM_2d_flx_Nx.200801.nc4`\n",
      "INFO:geodata.preparation:Merging variables into monthly compound files\n",
      "INFO:geodata.preparation:Cutout 'tokyo-2008-1-test' has been successfully prepared\n"
     ]
    }
   ],
   "source": [
    "cutout.prepare()"
   ]
  },
  {
   "cell_type": "code",
   "execution_count": 9,
   "metadata": {},
   "outputs": [
    {
     "data": {
      "text/plain": [
       "{'name': 'tokyo-2008-1-test',\n",
       " 'cutout_dir': '/Users/williamhonaker/Desktop/davidson/data_for_geodata/cutouts/tokyo-2008-1-test',\n",
       " 'prepared': True,\n",
       " 'meta_append': 0,\n",
       " 'config': 'surface_flux_monthly',\n",
       " 'dataset_module': <module 'geodata.datasets.merra2' from '/usr/local/lib/python3.7/site-packages/geodata-0.0.2-py3.7.egg/geodata/datasets/merra2.py'>,\n",
       " 'meta': <xarray.Dataset>\n",
       " Dimensions:     (time: 1, x: 2, y: 3, year-month: 1)\n",
       " Coordinates:\n",
       "   * y           (y) float64 35.0 35.5 36.0\n",
       "   * x           (x) float64 138.8 139.4\n",
       "   * time        (time) datetime64[ns] 2008-01-01\n",
       "     lon         (x) float64 138.8 139.4\n",
       "     lat         (y) float64 35.0 35.5 36.0\n",
       "   * year-month  (year-month) MultiIndex\n",
       "   - year        (year-month) int64 2008\n",
       "   - month       (year-month) int64 1\n",
       " Data variables:\n",
       "     *empty*\n",
       " Attributes:\n",
       "     History:                           Original file generated: Tue Jun 30 21...\n",
       "     Filename:                          MERRA2_300.tavgM_2d_flx_Nx.200804.nc4\n",
       "     Comment:                           GMAO filename: d5124_m2_jan00.tavg1_2d...\n",
       "     Conventions:                       CF-1\n",
       "     Institution:                       NASA Global Modeling and Assimilation ...\n",
       "     References:                        http://gmao.gsfc.nasa.gov\n",
       "     Format:                            NetCDF-4/HDF-5\n",
       "     SpatialCoverage:                   global\n",
       "     VersionID:                         5.12.4\n",
       "     TemporalRange:                     1980-01-01 -> 2016-12-31\n",
       "     identifier_product_doi_authority:  http://dx.doi.org/\n",
       "     ShortName:                         M2TMNXFLX\n",
       "     RangeBeginningDate:                2008-04-01\n",
       "     RangeEndingDate:                   2008-04-30\n",
       "     GranuleID:                         MERRA2_300.tavgM_2d_flx_Nx.200804.nc4\n",
       "     ProductionDateTime:                Original file generated: Tue Jun 30 21...\n",
       "     LongName:                          MERRA2 tavg1_2d_flx_Nx: 2d,1-Hourly,Ti...\n",
       "     Title:                             MERRA2 tavg1_2d_flx_Nx: 2d,1-Hourly,Ti...\n",
       "     SouthernmostLatitude:              -90.0\n",
       "     NorthernmostLatitude:              90.0\n",
       "     WesternmostLongitude:              -180.0\n",
       "     EasternmostLongitude:              179.375\n",
       "     LatitudeResolution:                0.5\n",
       "     LongitudeResolution:               0.625\n",
       "     DataResolution:                    0.5 x 0.625\n",
       "     Source:                            CVS tag: GEOSadas-5_12_4\n",
       "     Contact:                           http://gmao.gsfc.nasa.gov\n",
       "     identifier_product_doi:            10.5067/0JRLVL8YV2Y4\n",
       "     RangeBeginningTime:                00:00:00.000000\n",
       "     RangeEndingTime:                   23:59:59.000000\n",
       "     module:                            merra2}"
      ]
     },
     "execution_count": 9,
     "metadata": {},
     "output_type": "execute_result"
    }
   ],
   "source": [
    "## Verify Cutout Contents\n",
    "cutout.__dict__"
   ]
  },
  {
   "cell_type": "code",
   "execution_count": 10,
   "metadata": {},
   "outputs": [],
   "source": [
    "## Verify Cutout Coords\n",
    "cutout.coords"
   ]
  },
  {
   "cell_type": "markdown",
   "metadata": {},
   "source": [
    "# 4. Generate Outputs"
   ]
  },
  {
   "cell_type": "code",
   "execution_count": 12,
   "metadata": {},
   "outputs": [
    {
     "data": {
      "text/html": [
       "<pre>&lt;xarray.DataArray (time: 1, y: 3, x: 2)&gt;\n",
       "array([[[0.00419508, 0.02942151],\n",
       "        [0.01058039, 0.05267962],\n",
       "        [0.10489164, 0.0398446 ]]])\n",
       "Coordinates:\n",
       "    lat      (y) float64 35.0 35.5 36.0\n",
       "    lon      (x) float64 138.8 139.4\n",
       "  * x        (x) float64 138.8 139.4\n",
       "  * y        (y) float64 35.0 35.5 36.0\n",
       "  * time     (time) datetime64[ns] 2008-01-01T00:30:00</pre>"
      ],
      "text/plain": [
       "<xarray.DataArray (time: 1, y: 3, x: 2)>\n",
       "array([[[0.00419508, 0.02942151],\n",
       "        [0.01058039, 0.05267962],\n",
       "        [0.10489164, 0.0398446 ]]])\n",
       "Coordinates:\n",
       "    lat      (y) float64 35.0 35.5 36.0\n",
       "    lon      (x) float64 138.8 139.4\n",
       "  * x        (x) float64 138.8 139.4\n",
       "  * y        (y) float64 35.0 35.5 36.0\n",
       "  * time     (time) datetime64[ns] 2008-01-01T00:30:00"
      ]
     },
     "execution_count": 12,
     "metadata": {},
     "output_type": "execute_result"
    }
   ],
   "source": [
    "ds_wind = geodata.convert.wind(\n",
    "                 cutout, \n",
    "                 turbine='Suzlon_S82_1.5_MW', \n",
    "                 smooth=True, \n",
    "                 var_height='lml')\n",
    "ds_wind"
   ]
  },
  {
   "cell_type": "code",
   "execution_count": 13,
   "metadata": {},
   "outputs": [
    {
     "data": {
      "text/html": [
       "<div>\n",
       "<style scoped>\n",
       "    .dataframe tbody tr th:only-of-type {\n",
       "        vertical-align: middle;\n",
       "    }\n",
       "\n",
       "    .dataframe tbody tr th {\n",
       "        vertical-align: top;\n",
       "    }\n",
       "\n",
       "    .dataframe thead th {\n",
       "        text-align: right;\n",
       "    }\n",
       "</style>\n",
       "<table border=\"1\" class=\"dataframe\">\n",
       "  <thead>\n",
       "    <tr style=\"text-align: right;\">\n",
       "      <th></th>\n",
       "      <th></th>\n",
       "      <th></th>\n",
       "      <th>lat</th>\n",
       "      <th>lon</th>\n",
       "      <th>wind</th>\n",
       "    </tr>\n",
       "    <tr>\n",
       "      <th>time</th>\n",
       "      <th>y</th>\n",
       "      <th>x</th>\n",
       "      <th></th>\n",
       "      <th></th>\n",
       "      <th></th>\n",
       "    </tr>\n",
       "  </thead>\n",
       "  <tbody>\n",
       "    <tr>\n",
       "      <th rowspan=\"6\" valign=\"top\">2008-01-01 00:30:00</th>\n",
       "      <th rowspan=\"2\" valign=\"top\">35.0</th>\n",
       "      <th>138.750</th>\n",
       "      <td>35.0</td>\n",
       "      <td>138.750</td>\n",
       "      <td>0.004195</td>\n",
       "    </tr>\n",
       "    <tr>\n",
       "      <th>139.375</th>\n",
       "      <td>35.0</td>\n",
       "      <td>139.375</td>\n",
       "      <td>0.029422</td>\n",
       "    </tr>\n",
       "    <tr>\n",
       "      <th rowspan=\"2\" valign=\"top\">35.5</th>\n",
       "      <th>138.750</th>\n",
       "      <td>35.5</td>\n",
       "      <td>138.750</td>\n",
       "      <td>0.010580</td>\n",
       "    </tr>\n",
       "    <tr>\n",
       "      <th>139.375</th>\n",
       "      <td>35.5</td>\n",
       "      <td>139.375</td>\n",
       "      <td>0.052680</td>\n",
       "    </tr>\n",
       "    <tr>\n",
       "      <th rowspan=\"2\" valign=\"top\">36.0</th>\n",
       "      <th>138.750</th>\n",
       "      <td>36.0</td>\n",
       "      <td>138.750</td>\n",
       "      <td>0.104892</td>\n",
       "    </tr>\n",
       "    <tr>\n",
       "      <th>139.375</th>\n",
       "      <td>36.0</td>\n",
       "      <td>139.375</td>\n",
       "      <td>0.039845</td>\n",
       "    </tr>\n",
       "  </tbody>\n",
       "</table>\n",
       "</div>"
      ],
      "text/plain": [
       "                                   lat      lon      wind\n",
       "time                y    x                               \n",
       "2008-01-01 00:30:00 35.0 138.750  35.0  138.750  0.004195\n",
       "                         139.375  35.0  139.375  0.029422\n",
       "                    35.5 138.750  35.5  138.750  0.010580\n",
       "                         139.375  35.5  139.375  0.052680\n",
       "                    36.0 138.750  36.0  138.750  0.104892\n",
       "                         139.375  36.0  139.375  0.039845"
      ]
     },
     "execution_count": 13,
     "metadata": {},
     "output_type": "execute_result"
    }
   ],
   "source": [
    "df_wind = ds_wind.to_dataframe(name='wind')\n",
    "df_wind"
   ]
  },
  {
   "cell_type": "code",
   "execution_count": 15,
   "metadata": {},
   "outputs": [
    {
     "data": {
      "text/html": [
       "<pre>&lt;xarray.DataArray (time: 1, y: 3, x: 2)&gt;\n",
       "array([[[ 1.88176  , 26.917198 ],\n",
       "        [ 7.6360803, 49.887188 ],\n",
       "        [90.27525  , 37.614548 ]]], dtype=float32)\n",
       "Coordinates:\n",
       "    lat      (y) float64 35.0 35.5 36.0\n",
       "    lon      (x) float64 138.8 139.4\n",
       "  * x        (x) float64 138.8 139.4\n",
       "  * y        (y) float64 35.0 35.5 36.0\n",
       "  * time     (time) datetime64[ns] 2008-01-01T00:30:00</pre>"
      ],
      "text/plain": [
       "<xarray.DataArray (time: 1, y: 3, x: 2)>\n",
       "array([[[ 1.88176  , 26.917198 ],\n",
       "        [ 7.6360803, 49.887188 ],\n",
       "        [90.27525  , 37.614548 ]]], dtype=float32)\n",
       "Coordinates:\n",
       "    lat      (y) float64 35.0 35.5 36.0\n",
       "    lon      (x) float64 138.8 139.4\n",
       "  * x        (x) float64 138.8 139.4\n",
       "  * y        (y) float64 35.0 35.5 36.0\n",
       "  * time     (time) datetime64[ns] 2008-01-01T00:30:00"
      ]
     },
     "execution_count": 15,
     "metadata": {},
     "output_type": "execute_result"
    }
   ],
   "source": [
    "ds_windwpd = geodata.convert.windwpd(\n",
    "                cutout, \n",
    "                turbine='Vestas_V66_1750kW', \n",
    "                var_height='lml')\n",
    "ds_windwpd"
   ]
  },
  {
   "cell_type": "code",
   "execution_count": 16,
   "metadata": {},
   "outputs": [
    {
     "data": {
      "text/html": [
       "<div>\n",
       "<style scoped>\n",
       "    .dataframe tbody tr th:only-of-type {\n",
       "        vertical-align: middle;\n",
       "    }\n",
       "\n",
       "    .dataframe tbody tr th {\n",
       "        vertical-align: top;\n",
       "    }\n",
       "\n",
       "    .dataframe thead th {\n",
       "        text-align: right;\n",
       "    }\n",
       "</style>\n",
       "<table border=\"1\" class=\"dataframe\">\n",
       "  <thead>\n",
       "    <tr style=\"text-align: right;\">\n",
       "      <th></th>\n",
       "      <th></th>\n",
       "      <th></th>\n",
       "      <th>lat</th>\n",
       "      <th>lon</th>\n",
       "      <th>windwpd</th>\n",
       "    </tr>\n",
       "    <tr>\n",
       "      <th>time</th>\n",
       "      <th>y</th>\n",
       "      <th>x</th>\n",
       "      <th></th>\n",
       "      <th></th>\n",
       "      <th></th>\n",
       "    </tr>\n",
       "  </thead>\n",
       "  <tbody>\n",
       "    <tr>\n",
       "      <th rowspan=\"6\" valign=\"top\">2008-01-01 00:30:00</th>\n",
       "      <th rowspan=\"2\" valign=\"top\">35.0</th>\n",
       "      <th>138.750</th>\n",
       "      <td>35.0</td>\n",
       "      <td>138.750</td>\n",
       "      <td>1.881760</td>\n",
       "    </tr>\n",
       "    <tr>\n",
       "      <th>139.375</th>\n",
       "      <td>35.0</td>\n",
       "      <td>139.375</td>\n",
       "      <td>26.917198</td>\n",
       "    </tr>\n",
       "    <tr>\n",
       "      <th rowspan=\"2\" valign=\"top\">35.5</th>\n",
       "      <th>138.750</th>\n",
       "      <td>35.5</td>\n",
       "      <td>138.750</td>\n",
       "      <td>7.636080</td>\n",
       "    </tr>\n",
       "    <tr>\n",
       "      <th>139.375</th>\n",
       "      <td>35.5</td>\n",
       "      <td>139.375</td>\n",
       "      <td>49.887188</td>\n",
       "    </tr>\n",
       "    <tr>\n",
       "      <th rowspan=\"2\" valign=\"top\">36.0</th>\n",
       "      <th>138.750</th>\n",
       "      <td>36.0</td>\n",
       "      <td>138.750</td>\n",
       "      <td>90.275253</td>\n",
       "    </tr>\n",
       "    <tr>\n",
       "      <th>139.375</th>\n",
       "      <td>36.0</td>\n",
       "      <td>139.375</td>\n",
       "      <td>37.614548</td>\n",
       "    </tr>\n",
       "  </tbody>\n",
       "</table>\n",
       "</div>"
      ],
      "text/plain": [
       "                                   lat      lon    windwpd\n",
       "time                y    x                                \n",
       "2008-01-01 00:30:00 35.0 138.750  35.0  138.750   1.881760\n",
       "                         139.375  35.0  139.375  26.917198\n",
       "                    35.5 138.750  35.5  138.750   7.636080\n",
       "                         139.375  35.5  139.375  49.887188\n",
       "                    36.0 138.750  36.0  138.750  90.275253\n",
       "                         139.375  36.0  139.375  37.614548"
      ]
     },
     "execution_count": 16,
     "metadata": {},
     "output_type": "execute_result"
    }
   ],
   "source": [
    "df_windwpd = ds_windwpd.to_dataframe(name='windwpd')\n",
    "df_windwpd"
   ]
  },
  {
   "cell_type": "code",
   "execution_count": 18,
   "metadata": {},
   "outputs": [
    {
     "data": {
      "text/html": [
       "<pre>&lt;xarray.DataArray &#x27;wnd67m&#x27; (time: 1, y: 3, x: 2)&gt;\n",
       "array([[[1.4499094, 3.5014899],\n",
       "        [2.3455117, 4.3108544],\n",
       "        [5.3523173, 3.9228833]]], dtype=float32)\n",
       "Coordinates:\n",
       "    lat      (y) float64 35.0 35.5 36.0\n",
       "    lon      (x) float64 138.8 139.4\n",
       "  * x        (x) float64 138.8 139.4\n",
       "  * y        (y) float64 35.0 35.5 36.0\n",
       "  * time     (time) datetime64[ns] 2008-01-01T00:30:00\n",
       "Attributes:\n",
       "    long_name:  extrapolated 67 m wind speed using log ratio, from variable h...\n",
       "    units:      m s**-1</pre>"
      ],
      "text/plain": [
       "<xarray.DataArray 'wnd67m' (time: 1, y: 3, x: 2)>\n",
       "array([[[1.4499094, 3.5014899],\n",
       "        [2.3455117, 4.3108544],\n",
       "        [5.3523173, 3.9228833]]], dtype=float32)\n",
       "Coordinates:\n",
       "    lat      (y) float64 35.0 35.5 36.0\n",
       "    lon      (x) float64 138.8 139.4\n",
       "  * x        (x) float64 138.8 139.4\n",
       "  * y        (y) float64 35.0 35.5 36.0\n",
       "  * time     (time) datetime64[ns] 2008-01-01T00:30:00\n",
       "Attributes:\n",
       "    long_name:  extrapolated 67 m wind speed using log ratio, from variable h...\n",
       "    units:      m s**-1"
      ]
     },
     "execution_count": 18,
     "metadata": {},
     "output_type": "execute_result"
    }
   ],
   "source": [
    "ds_windspd = geodata.convert.windspd(\n",
    "                cutout, \n",
    "                turbine='Vestas_V66_1750kW', \n",
    "                var_height='lml')\n",
    "ds_windspd"
   ]
  },
  {
   "cell_type": "code",
   "execution_count": 19,
   "metadata": {},
   "outputs": [
    {
     "data": {
      "text/html": [
       "<div>\n",
       "<style scoped>\n",
       "    .dataframe tbody tr th:only-of-type {\n",
       "        vertical-align: middle;\n",
       "    }\n",
       "\n",
       "    .dataframe tbody tr th {\n",
       "        vertical-align: top;\n",
       "    }\n",
       "\n",
       "    .dataframe thead th {\n",
       "        text-align: right;\n",
       "    }\n",
       "</style>\n",
       "<table border=\"1\" class=\"dataframe\">\n",
       "  <thead>\n",
       "    <tr style=\"text-align: right;\">\n",
       "      <th></th>\n",
       "      <th></th>\n",
       "      <th></th>\n",
       "      <th>lat</th>\n",
       "      <th>lon</th>\n",
       "      <th>windspd</th>\n",
       "    </tr>\n",
       "    <tr>\n",
       "      <th>time</th>\n",
       "      <th>y</th>\n",
       "      <th>x</th>\n",
       "      <th></th>\n",
       "      <th></th>\n",
       "      <th></th>\n",
       "    </tr>\n",
       "  </thead>\n",
       "  <tbody>\n",
       "    <tr>\n",
       "      <th rowspan=\"6\" valign=\"top\">2008-01-01 00:30:00</th>\n",
       "      <th rowspan=\"2\" valign=\"top\">35.0</th>\n",
       "      <th>138.750</th>\n",
       "      <td>35.0</td>\n",
       "      <td>138.750</td>\n",
       "      <td>1.881760</td>\n",
       "    </tr>\n",
       "    <tr>\n",
       "      <th>139.375</th>\n",
       "      <td>35.0</td>\n",
       "      <td>139.375</td>\n",
       "      <td>26.917198</td>\n",
       "    </tr>\n",
       "    <tr>\n",
       "      <th rowspan=\"2\" valign=\"top\">35.5</th>\n",
       "      <th>138.750</th>\n",
       "      <td>35.5</td>\n",
       "      <td>138.750</td>\n",
       "      <td>7.636080</td>\n",
       "    </tr>\n",
       "    <tr>\n",
       "      <th>139.375</th>\n",
       "      <td>35.5</td>\n",
       "      <td>139.375</td>\n",
       "      <td>49.887188</td>\n",
       "    </tr>\n",
       "    <tr>\n",
       "      <th rowspan=\"2\" valign=\"top\">36.0</th>\n",
       "      <th>138.750</th>\n",
       "      <td>36.0</td>\n",
       "      <td>138.750</td>\n",
       "      <td>90.275253</td>\n",
       "    </tr>\n",
       "    <tr>\n",
       "      <th>139.375</th>\n",
       "      <td>36.0</td>\n",
       "      <td>139.375</td>\n",
       "      <td>37.614548</td>\n",
       "    </tr>\n",
       "  </tbody>\n",
       "</table>\n",
       "</div>"
      ],
      "text/plain": [
       "                                   lat      lon    windspd\n",
       "time                y    x                                \n",
       "2008-01-01 00:30:00 35.0 138.750  35.0  138.750   1.881760\n",
       "                         139.375  35.0  139.375  26.917198\n",
       "                    35.5 138.750  35.5  138.750   7.636080\n",
       "                         139.375  35.5  139.375  49.887188\n",
       "                    36.0 138.750  36.0  138.750  90.275253\n",
       "                         139.375  36.0  139.375  37.614548"
      ]
     },
     "execution_count": 19,
     "metadata": {},
     "output_type": "execute_result"
    }
   ],
   "source": [
    "df_windspd = ds_windwpd.to_dataframe(name='windspd')\n",
    "df_windspd"
   ]
  },
  {
   "cell_type": "code",
   "execution_count": null,
   "metadata": {},
   "outputs": [],
   "source": []
  }
 ],
 "metadata": {
  "kernelspec": {
   "display_name": "Python 3",
   "language": "python",
   "name": "python3"
  },
  "language_info": {
   "codemirror_mode": {
    "name": "ipython",
    "version": 3
   },
   "file_extension": ".py",
   "mimetype": "text/x-python",
   "name": "python",
   "nbconvert_exporter": "python",
   "pygments_lexer": "ipython3",
   "version": "3.7.4"
  }
 },
 "nbformat": 4,
 "nbformat_minor": 4
}
