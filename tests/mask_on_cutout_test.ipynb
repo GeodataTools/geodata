{
 "cells": [
  {
   "cell_type": "markdown",
   "metadata": {},
   "source": [
    "# Geodata.cutout updates\n",
    "\n",
    "### Jeffrey Feng, 8/16/2021\n",
    "\n",
    "A short guide to use the product of mask module for masking cutout objects."
   ]
  },
  {
   "cell_type": "markdown",
   "metadata": {},
   "source": [
    "## 1. Introduction\n",
    "\n",
    "Geodata is able to process geospatial data to extract cutouts over specified geographies. Built off the [rasterio library](https://rasterio.readthedocs.io/en/latest/quickstart.html), the mask module imports rasters and shapefiles, merges and flattens multiple layers together, and extracts subsetted cutout data from merged masks and shapefiles.\n",
    "\n",
    "The sample workflow that shows how to create a mask object and save it to the disk can be found in `mask_creation_workflow.md` and [mask_test.ipynb](https://github.com/east-winds/geodata/tree/mask/tests/mask_test.ipynb)."
   ]
  },
  {
   "cell_type": "markdown",
   "metadata": {},
   "source": [
    "## 2. Setup\n",
    "\n",
    "To start, import the required dependencies:"
   ]
  },
  {
   "cell_type": "code",
   "execution_count": null,
   "metadata": {},
   "outputs": [],
   "source": [
    "import geodata\n",
    "import xarray as xr"
   ]
  },
  {
   "cell_type": "markdown",
   "metadata": {},
   "source": [
    "To launch a logger for detailed debugging, run:"
   ]
  },
  {
   "cell_type": "code",
   "execution_count": null,
   "metadata": {},
   "outputs": [],
   "source": [
    "import logging\n",
    "logging.basicConfig(level=logging.INFO)"
   ]
  },
  {
   "cell_type": "markdown",
   "metadata": {},
   "source": [
    "We will use a cutout object created from a downloaded dataset. We first download the dataset through `geodata.Dataset()`.\n",
    "\n",
    "In `get_data()`, if we specify `testing = true`, the program downloads only first file in download list (e.g., first day of month))"
   ]
  },
  {
   "cell_type": "code",
   "execution_count": null,
   "metadata": {},
   "outputs": [],
   "source": [
    "DS_hourly_test_chn = geodata.Dataset(module = \"merra2\", \n",
    "                                 years = slice(2011, 2011),\n",
    "                                 month = slice(1,1),\n",
    "                                 weather_data_config = \"slv_radiation_hourly\")\n",
    "if DS_hourly_test_chn.prepared == False: \n",
    "    DS_hourly_test_chn.get_data(testing = True)\n",
    "    \n",
    "DS_hourly_test_chn.trim_variables()"
   ]
  },
  {
   "cell_type": "markdown",
   "metadata": {},
   "source": [
    "Extract the cutout from the trimmed dataset."
   ]
  },
  {
   "cell_type": "code",
   "execution_count": null,
   "metadata": {
    "scrolled": true
   },
   "outputs": [],
   "source": [
    "cutout = geodata.Cutout(name = \"china-2011-slv-hourly-test\",\n",
    "                        module = \"merra2\",\n",
    "                        weather_data_config = \"slv_radiation_hourly\",\n",
    "                        xs = slice(73, 136), \n",
    "                        ys = slice(18, 54), \n",
    "                        years = slice(2011, 2011), \n",
    "                        months = slice(1,1))\n",
    "cutout.prepare()"
   ]
  },
  {
   "cell_type": "code",
   "execution_count": null,
   "metadata": {},
   "outputs": [],
   "source": [
    "cutout.meta.time"
   ]
  },
  {
   "cell_type": "markdown",
   "metadata": {},
   "source": [
    "## 3. Loading mask"
   ]
  },
  {
   "cell_type": "markdown",
   "metadata": {},
   "source": [
    "**NOTE:** \n",
    "\n",
    "If you have created the mask `china_bin`, please ignore the block below, and run the next section. Otherwise, un-comment the cell below and run it."
   ]
  },
  {
   "cell_type": "code",
   "execution_count": null,
   "metadata": {},
   "outputs": [],
   "source": [
    "# prov_path = shpreader.natural_earth(resolution='10m', category='cultural', name = 'admin_1_states_provinces')\n",
    "# china_all_shapes = geodata.mask.get_shape(prov_path, key = 'name_en', return_dict = True,\n",
    "#                          condition_key = 'admin', condition_value = 'China')\n",
    "# # #get rid of the islands, EDGE CASE cuz the islands are outside of shape\n",
    "# china_all_shapes.pop(None) \n",
    "\n",
    "# china_bin = geodata.Mask(\"china_bin\")\n",
    "# china_bin.add_layer('FINAL_GRID_5BINS.tif', layer_name = 'bins')\n",
    "\n",
    "# #extracted shape on bins layer\n",
    "# china_bin.extract_shapes(china_all_shapes, layer = 'bins')\n",
    "# china_bin.save_mask()"
   ]
  },
  {
   "cell_type": "markdown",
   "metadata": {},
   "source": [
    "If the user have already created such mask object on disk, it is sufficient to run the following cell to retrieve the object:"
   ]
  },
  {
   "cell_type": "code",
   "execution_count": null,
   "metadata": {},
   "outputs": [],
   "source": [
    "china_bin = geodata.mask.load_mask(\"china_bin\")"
   ]
  },
  {
   "cell_type": "markdown",
   "metadata": {},
   "source": [
    "## 4. Adding Mask variables to the Cutout object"
   ]
  },
  {
   "cell_type": "markdown",
   "metadata": {},
   "source": [
    "### 4.1 Adding masking variables"
   ]
  },
  {
   "cell_type": "markdown",
   "metadata": {},
   "source": [
    "\n",
    "`add_mask` method will add attribute `merged_mask` and `shape_mask` from the Mask object to the Cutout object. However, the `merged_mask` or `shape_mask` in the Cutout object will be stored in the format of xarray.DataArray, and their dimensions will be coarsened to the same dimension with the Cutout metadata.\n",
    "\n",
    "The mask `china_bin` has no `merged_mask` value, but the `add_mask` method will look for both `merged_mask` and `shape_mask` attribute saved for the loaded mask, unless the user set the parameter `merged_mask = False`, or `shape_mask = False`\n"
   ]
  },
  {
   "cell_type": "code",
   "execution_count": null,
   "metadata": {
    "scrolled": false
   },
   "outputs": [],
   "source": [
    "cutout.add_mask(\"china_bin\")"
   ]
  },
  {
   "cell_type": "markdown",
   "metadata": {},
   "source": [
    "### 4.2 Adding area variable\n"
   ]
  },
  {
   "cell_type": "markdown",
   "metadata": {},
   "source": [
    "The user is also able to add grid area for each grid cell in the cutout metadata. Because the grid cell with the same latitude difference will have different area due to the cylindrical map projection, this method makes sure that the user can capture the variation of grid cell area in the dataset."
   ]
  },
  {
   "cell_type": "code",
   "execution_count": null,
   "metadata": {},
   "outputs": [],
   "source": [
    "cutout.add_grid_area()"
   ]
  },
  {
   "cell_type": "markdown",
   "metadata": {},
   "source": [
    "### 4.3 Creating PV data through cutout conversion"
   ]
  },
  {
   "cell_type": "markdown",
   "metadata": {},
   "source": [
    "The code block below will use the `geodata.convert.pv` method to generate `ds_cutout`, an xarray Dataset that contains the pv variable for the cutout.\n",
    "\n",
    "`ds_cutout.coarsen(time = 24, boundary = 'exact').mean()` will aggregate the values over its 24 timestamps, since we have pv values for each of the 24 hours in the dataset."
   ]
  },
  {
   "cell_type": "code",
   "execution_count": null,
   "metadata": {},
   "outputs": [],
   "source": [
    "ds_solar = geodata.convert.pv(cutout, panel = \"KANENA\", orientation = \"latitude_optimal\")\n",
    "ds_solar = ds_solar.reset_coords(['lon', 'lat'], drop = True)\n",
    "ds_solar = ds_solar.rename({'x': 'lon', 'y': 'lat'})\n",
    "ds_cutout = ds_solar.to_dataset(name = 'solar')\n",
    "ds_cutout = ds_cutout.coarsen(time = 24, boundary = 'exact').mean()\n",
    "ds_cutout = ds_cutout.transpose(\"time\", \"lat\", \"lon\")"
   ]
  },
  {
   "cell_type": "markdown",
   "metadata": {},
   "source": [
    "### 4.4 Combining variables"
   ]
  },
  {
   "cell_type": "markdown",
   "metadata": {},
   "source": [
    "The `mask` method will mask converted dataSet variable, such as `ds_cutout` created above, with previously added masks and area variable, and return a dictionary of xarray Dataset. Each key in the dictionary is one unique mask from either the merged_mask or shape_mask variable from the Cutout object, and each value is an xarray dataset containing the dataSet variable (`ds_cutout`) with the mask and area values.\n",
    "\n",
    "The program will automatically search for `merged_mask` and `shape_mask`, unless the user specify `merged_mask = False` or `shape_mask = False`, the masks in `shape_mask` will have the same key as it has in the `shape_mask` attribute, and the mask for `merged_mask` will have the key name \"merged_mask\"."
   ]
  },
  {
   "cell_type": "code",
   "execution_count": null,
   "metadata": {
    "scrolled": false
   },
   "outputs": [],
   "source": [
    "combine = cutout.mask(dataset = ds_cutout)\n",
    "combine.keys()"
   ]
  },
  {
   "cell_type": "code",
   "execution_count": null,
   "metadata": {},
   "outputs": [],
   "source": [
    "combine['Anhui']"
   ]
  },
  {
   "cell_type": "code",
   "execution_count": null,
   "metadata": {},
   "outputs": [],
   "source": [
    "combine['Anhui']['solar'].plot()"
   ]
  },
  {
   "cell_type": "code",
   "execution_count": null,
   "metadata": {},
   "outputs": [],
   "source": [
    "combine['Anhui']['mask'].plot()"
   ]
  },
  {
   "cell_type": "code",
   "execution_count": null,
   "metadata": {},
   "outputs": [],
   "source": [
    "combine['Anhui']['area'].plot()"
   ]
  },
  {
   "cell_type": "code",
   "execution_count": null,
   "metadata": {},
   "outputs": [],
   "source": []
  }
 ],
 "metadata": {
  "kernelspec": {
   "display_name": "Python 3",
   "language": "python",
   "name": "python3"
  },
  "language_info": {
   "codemirror_mode": {
    "name": "ipython",
    "version": 3
   },
   "file_extension": ".py",
   "mimetype": "text/x-python",
   "name": "python",
   "nbconvert_exporter": "python",
   "pygments_lexer": "ipython3",
   "version": "3.8.3"
  }
 },
 "nbformat": 4,
 "nbformat_minor": 4
}
