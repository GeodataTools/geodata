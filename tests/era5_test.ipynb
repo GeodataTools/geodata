{
 "cells": [
  {
   "cell_type": "markdown",
   "metadata": {},
   "source": [
    "# ERA5 Test\n",
    "- Download and Generate Cutout\n",
    "- Generate Outputs"
   ]
  },
  {
   "cell_type": "markdown",
   "metadata": {},
   "source": [
    "## 1.  Download and Generate Output"
   ]
  },
  {
   "cell_type": "code",
   "execution_count": 1,
   "metadata": {},
   "outputs": [],
   "source": [
    "import geodata\n",
    "import logging\n",
    "logging.basicConfig(level=logging.INFO)"
   ]
  },
  {
   "cell_type": "code",
   "execution_count": 2,
   "metadata": {},
   "outputs": [
    {
     "name": "stderr",
     "output_type": "stream",
     "text": [
      "INFO:geodata.cutout:Cutout (era5-europe-test-2012-04, /Users/williamhonaker/Desktop/davidson/data_for_geodata/cutouts) not found or incomplete.\n",
      "WARNING:geodata.preparation:ys slices are expected from north to south, i.e. slice(70, 40) for europe.\n",
      "INFO:geodata.datasets.era5:Running ERA5 get data routine.\n",
      "INFO:geodata.datasets.era5:Making request.\n",
      "INFO:cdsapi:Welcome to the CDS\n",
      "INFO:cdsapi:Sending request to https://cds.climate.copernicus.eu/api/v2/resources/reanalysis-era5-single-levels\n",
      "INFO:cdsapi:Request is queued\n",
      "INFO:cdsapi:Request is running\n",
      "INFO:cdsapi:Request is completed\n",
      "INFO:geodata.datasets.era5:Downloading request for 9 variables to /Users/williamhonaker/Desktop/davidson/data_for_geodata/era5\n",
      "INFO:cdsapi:Downloading http://136.156.132.105/cache-compute-0000/cache/data0/adaptor.mars.internal-1591769377.9420025-3870-17-dd1b8f90-b443-4c25-931c-45e89d4d1303.nc to /Users/williamhonaker/Desktop/davidson/data_for_geodata/era5/2012/04/orography.nc (2.4K)\n",
      "INFO:cdsapi:Download rate 7.5K/s           \n"
     ]
    }
   ],
   "source": [
    "cutout = geodata.Cutout(name=\"era5-europe-test-2012-04\",\n",
    "                        module=\"era5\",\n",
    "                        weather_data_config=\"era5_monthly\",\n",
    "                        xs=slice(30, 31),\n",
    "                        ys=slice(34, 35),\n",
    "                        years=slice(2012, 2012),\n",
    "                        months=slice(4,4))"
   ]
  },
  {
   "cell_type": "code",
   "execution_count": 4,
   "metadata": {},
   "outputs": [
    {
     "data": {
      "text/plain": [
       "{'name': 'era5-europe-test-2012-03',\n",
       " 'cutout_dir': '/Users/williamhonaker/Desktop/davidson/data_for_geodata/cutouts/era5-europe-test-2012-03',\n",
       " 'prepared': False,\n",
       " 'meta_append': 0,\n",
       " 'config': 'era5_monthly',\n",
       " 'meta': <xarray.Dataset>\n",
       " Dimensions:     (time: 1, x: 5, y: 5, year-month: 1)\n",
       " Coordinates:\n",
       "   * x           (x) float32 30.0 30.25 30.5 30.75 31.0\n",
       "   * y           (y) float32 35.0 34.75 34.5 34.25 34.0\n",
       "   * time        (time) datetime64[ns] 2012-03-01\n",
       "     lon         (x) float32 30.0 30.25 30.5 30.75 31.0\n",
       "     lat         (y) float32 35.0 34.75 34.5 34.25 34.0\n",
       "   * year-month  (year-month) MultiIndex\n",
       "   - year        (year-month) int64 2012\n",
       "   - month       (year-month) int64 3\n",
       " Data variables:\n",
       "     height      (y, x) float32 6.7204175 2.1396968 ... 1.0645151 -0.34906465\n",
       " Attributes:\n",
       "     Conventions:  CF-1.6\n",
       "     history:      2020-06-10 06:02:46 GMT by grib_to_netcdf-2.16.0: /opt/ecmw...\n",
       "     module:       era5,\n",
       " 'dataset_module': <module 'geodata.datasets.era5' from '/usr/local/lib/python3.7/site-packages/geodata-0.0.2-py3.7.egg/geodata/datasets/era5.py'>}"
      ]
     },
     "execution_count": 4,
     "metadata": {},
     "output_type": "execute_result"
    }
   ],
   "source": [
    "cutout.__dict__"
   ]
  },
  {
   "cell_type": "code",
   "execution_count": 3,
   "metadata": {},
   "outputs": [],
   "source": [
    "cutout.prepare()"
   ]
  },
  {
   "cell_type": "code",
   "execution_count": 3,
   "metadata": {
    "collapsed": true,
    "jupyter": {
     "outputs_hidden": true
    }
   },
   "outputs": [
    {
     "data": {
      "text/plain": [
       "{'name': 'era5-europe-test-2012-01',\n",
       " 'cutout_dir': '/Users/williamhonaker/Desktop/davidson/data_for_geodata/cutouts/era5-europe-test-2012-01',\n",
       " 'prepared': False,\n",
       " 'meta_append': 0,\n",
       " 'config': 'era5_monthly',\n",
       " 'dataset_module': <module 'geodata.datasets.era5' from '/usr/local/lib/python3.7/site-packages/geodata-0.0.2-py3.7.egg/geodata/datasets/era5.py'>,\n",
       " 'meta': <xarray.Dataset>\n",
       " Dimensions:     (time: 1, x: 47, y: 5, year-month: 1)\n",
       " Coordinates:\n",
       "   * x           (x) float32 30.0 30.25 30.5 30.75 31.0 ... 40.75 41.0 41.25 41.5\n",
       "   * y           (y) float32 34.815 34.565 34.315 34.065 33.815\n",
       "   * time        (time) datetime64[ns] 2012-01-01\n",
       "     lon         (x) float32 30.0 30.25 30.5 30.75 31.0 ... 40.75 41.0 41.25 41.5\n",
       "     lat         (y) float32 34.815 34.565 34.315 34.065 33.815\n",
       "   * year-month  (year-month) MultiIndex\n",
       "   - year        (year-month) int64 2012\n",
       "   - month       (year-month) int64 1\n",
       " Data variables:\n",
       "     height      (y, x) float32 -0.14688295 1.0544702 ... 409.52347 391.20856\n",
       " Attributes:\n",
       "     Conventions:  CF-1.6\n",
       "     history:      2020-06-10 05:47:27 GMT by grib_to_netcdf-2.16.0: /opt/ecmw...\n",
       "     module:       era5}"
      ]
     },
     "execution_count": 3,
     "metadata": {},
     "output_type": "execute_result"
    }
   ],
   "source": [
    "## Test Cutout contents\n",
    "cutout.__dict__"
   ]
  },
  {
   "cell_type": "markdown",
   "metadata": {},
   "source": [
    "## 2. Generate Outputs"
   ]
  },
  {
   "cell_type": "code",
   "execution_count": 6,
   "metadata": {
    "collapsed": true,
    "jupyter": {
     "outputs_hidden": true
    }
   },
   "outputs": [
    {
     "ename": "AssertionError",
     "evalue": "The cutout has to be prepared first.",
     "output_type": "error",
     "traceback": [
      "\u001b[0;31m---------------------------------------------------------------------------\u001b[0m",
      "\u001b[0;31mAssertionError\u001b[0m                            Traceback (most recent call last)",
      "\u001b[0;32m<ipython-input-6-a2b2d5b6e5d5>\u001b[0m in \u001b[0;36m<module>\u001b[0;34m\u001b[0m\n\u001b[1;32m      2\u001b[0m                   \u001b[0mcutout\u001b[0m\u001b[0;34m,\u001b[0m\u001b[0;34m\u001b[0m\u001b[0;34m\u001b[0m\u001b[0m\n\u001b[1;32m      3\u001b[0m                   \u001b[0mturbine\u001b[0m\u001b[0;34m=\u001b[0m\u001b[0;34m'Suzlon_S82_1.5_MW'\u001b[0m\u001b[0;34m,\u001b[0m\u001b[0;34m\u001b[0m\u001b[0;34m\u001b[0m\u001b[0m\n\u001b[0;32m----> 4\u001b[0;31m                   smooth=True)\n\u001b[0m\u001b[1;32m      5\u001b[0m \u001b[0mds_wind\u001b[0m\u001b[0;34m\u001b[0m\u001b[0;34m\u001b[0m\u001b[0m\n",
      "\u001b[0;32m/usr/local/lib/python3.7/site-packages/geodata-0.0.2-py3.7.egg/geodata/convert.py\u001b[0m in \u001b[0;36mwind\u001b[0;34m(cutout, turbine, smooth, **params)\u001b[0m\n\u001b[1;32m    479\u001b[0m \u001b[0;34m\u001b[0m\u001b[0m\n\u001b[1;32m    480\u001b[0m \treturn cutout.convert_and_aggregate(convert_func=convert_wind, turbine=turbine,\n\u001b[0;32m--> 481\u001b[0;31m \t\t\t\t\t\t\t\t\t\t**params)\n\u001b[0m\u001b[1;32m    482\u001b[0m \u001b[0;34m\u001b[0m\u001b[0m\n\u001b[1;32m    483\u001b[0m \u001b[0;32mdef\u001b[0m \u001b[0mwindspd\u001b[0m\u001b[0;34m(\u001b[0m\u001b[0mcutout\u001b[0m\u001b[0;34m,\u001b[0m \u001b[0;34m**\u001b[0m\u001b[0mparams\u001b[0m\u001b[0;34m)\u001b[0m\u001b[0;34m:\u001b[0m\u001b[0;34m\u001b[0m\u001b[0;34m\u001b[0m\u001b[0m\n",
      "\u001b[0;32m/usr/local/lib/python3.7/site-packages/geodata-0.0.2-py3.7.egg/geodata/convert.py\u001b[0m in \u001b[0;36mconvert_and_aggregate\u001b[0;34m(cutout, convert_func, matrix, index, layout, shapes, shapes_proj, per_unit, return_capacity, capacity_factor, show_progress, **convert_kwds)\u001b[0m\n\u001b[1;32m    114\u001b[0m                 \u001b[0mCallback\u001b[0m \u001b[0mlike\u001b[0m \u001b[0mconvert_wind\u001b[0m\u001b[0;34m,\u001b[0m \u001b[0mconvert_pv\u001b[0m\u001b[0;34m\u001b[0m\u001b[0;34m\u001b[0m\u001b[0m\n\u001b[1;32m    115\u001b[0m \t\"\"\"\n\u001b[0;32m--> 116\u001b[0;31m         \u001b[0;32massert\u001b[0m \u001b[0mcutout\u001b[0m\u001b[0;34m.\u001b[0m\u001b[0mprepared\u001b[0m\u001b[0;34m,\u001b[0m \u001b[0;34m\"The cutout has to be prepared first.\"\u001b[0m\u001b[0;34m\u001b[0m\u001b[0;34m\u001b[0m\u001b[0m\n\u001b[0m\u001b[1;32m    117\u001b[0m \u001b[0;34m\u001b[0m\u001b[0m\n\u001b[1;32m    118\u001b[0m         \u001b[0;32mif\u001b[0m \u001b[0mshapes\u001b[0m \u001b[0;32mis\u001b[0m \u001b[0;32mnot\u001b[0m \u001b[0;32mNone\u001b[0m\u001b[0;34m:\u001b[0m\u001b[0;34m\u001b[0m\u001b[0;34m\u001b[0m\u001b[0m\n",
      "\u001b[0;31mAssertionError\u001b[0m: The cutout has to be prepared first."
     ]
    }
   ],
   "source": [
    "# Wind output\n",
    "ds_wind = geodata.convert.wind(\n",
    "                  cutout, \n",
    "                  turbine='Suzlon_S82_1.5_MW', \n",
    "                  smooth=True)\n",
    "ds_wind"
   ]
  },
  {
   "cell_type": "code",
   "execution_count": null,
   "metadata": {},
   "outputs": [],
   "source": [
    "df_wind = ds_wind.to_dataframe(name='wind')\n",
    "df_wind"
   ]
  },
  {
   "cell_type": "code",
   "execution_count": null,
   "metadata": {},
   "outputs": [],
   "source": [
    "df_wind.to_csv('era5_wind_data.csv')"
   ]
  },
  {
   "cell_type": "code",
   "execution_count": null,
   "metadata": {},
   "outputs": [],
   "source": [
    "# Windspd Output\n",
    "ds_windspd = geodata.convert.wind(\n",
    "                  cutout, \n",
    "                  turbine='Suzlon_S82_1.5_MW', \n",
    "                  smooth=True)\n",
    "ds_windspd"
   ]
  },
  {
   "cell_type": "code",
   "execution_count": null,
   "metadata": {},
   "outputs": [],
   "source": [
    "df_windspd = ds_windspd.to_dataframe(name='windspd')\n",
    "df_windspd"
   ]
  },
  {
   "cell_type": "code",
   "execution_count": null,
   "metadata": {},
   "outputs": [],
   "source": [
    "df_windspd.to_csv('era5_windspd_data.csv')"
   ]
  },
  {
   "cell_type": "code",
   "execution_count": null,
   "metadata": {},
   "outputs": [],
   "source": [
    "# Solar Output\n",
    "ds_pv = atlite.convert.pv(\n",
    "    cutout, \n",
    "    panel=\"KANENA\", \n",
    "    orientation = \"latitude_optimal\"\n",
    "    )\n",
    "ds_pv"
   ]
  },
  {
   "cell_type": "code",
   "execution_count": null,
   "metadata": {},
   "outputs": [],
   "source": [
    "df_pv = ds_pv.to_dataframe(name='pv')\n",
    "df_pv"
   ]
  },
  {
   "cell_type": "code",
   "execution_count": null,
   "metadata": {},
   "outputs": [],
   "source": [
    "df_pv.to_csv('era5_pv_data.csv')"
   ]
  }
 ],
 "metadata": {
  "kernelspec": {
   "display_name": "Python 3",
   "language": "python",
   "name": "python3"
  },
  "language_info": {
   "codemirror_mode": {
    "name": "ipython",
    "version": 3
   },
   "file_extension": ".py",
   "mimetype": "text/x-python",
   "name": "python",
   "nbconvert_exporter": "python",
   "pygments_lexer": "ipython3",
   "version": "3.7.4"
  }
 },
 "nbformat": 4,
 "nbformat_minor": 4
}
