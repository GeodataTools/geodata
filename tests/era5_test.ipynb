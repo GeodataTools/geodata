{
 "cells": [
  {
   "cell_type": "markdown",
   "metadata": {},
   "source": [
    "# ERA5 Test\n",
    "- Download and Generate Cutout\n",
    "- Generate Outputs"
   ]
  },
  {
   "cell_type": "markdown",
   "metadata": {},
   "source": [
    "## 1.  Download and Generate Output"
   ]
  },
  {
   "cell_type": "code",
   "execution_count": 1,
   "metadata": {},
   "outputs": [],
   "source": [
    "import geodata\n",
    "import logging\n",
    "logging.basicConfig(level=logging.INFO)"
   ]
  },
  {
   "cell_type": "code",
   "execution_count": 2,
   "metadata": {},
   "outputs": [
    {
     "name": "stderr",
     "output_type": "stream",
     "text": [
      "INFO:geodata.dataset:Directory /Users/williamhonaker/Desktop/davidson/data_for_geodata/era5 found, checking for completeness.\n",
      "INFO:geodata.dataset:File `/Users/williamhonaker/Desktop/davidson/data_for_geodata/era5/2004/01/wind_solar_hourly.nc` not found!\n",
      "INFO:geodata.dataset:File `/Users/williamhonaker/Desktop/davidson/data_for_geodata/era5/2004/02/wind_solar_hourly.nc` not found!\n",
      "INFO:geodata.dataset:2 files not completed.\n"
     ]
    }
   ],
   "source": [
    "## For ERA5, pass geographic bounds in array as follows:\n",
    "## bounds = [North, West, South, East]\n",
    "## Omitting bounds will default to global file of 20+ GB per month\n",
    "DS = geodata.Dataset(module=\"era5\",\n",
    "                     weather_data_config=\"wind_solar_hourly\",\n",
    "                     years=slice(2004, 2004),\n",
    "                     months=slice(1,2),\n",
    "                     bounds=[50, -3, 45, 3])"
   ]
  },
  {
   "cell_type": "code",
   "execution_count": null,
   "metadata": {},
   "outputs": [],
   "source": [
    "## Confirm Contents\n",
    "\n",
    "DS.__dict__"
   ]
  },
  {
   "cell_type": "markdown",
   "metadata": {},
   "source": [
    "## 2. Generate Cutout"
   ]
  },
  {
   "cell_type": "code",
   "execution_count": null,
   "metadata": {},
   "outputs": [],
   "source": [
    "cutout = geodata.Cutout(name=\"era5-2004-test-1\",\n",
    "                        module=\"era5\",\n",
    "                        weather_data_config=\"wind_solar_hourly\",\n",
    "                        xs=slice(1, 2),\n",
    "                        ys=slice(48, 46),\n",
    "                        years=slice(2004, 2004),\n",
    "                        months=slice(1,1))"
   ]
  },
  {
   "cell_type": "code",
   "execution_count": null,
   "metadata": {},
   "outputs": [],
   "source": [
    "cutout.__dict__"
   ]
  },
  {
   "cell_type": "code",
   "execution_count": null,
   "metadata": {},
   "outputs": [],
   "source": [
    "cutout.prepare()"
   ]
  },
  {
   "cell_type": "markdown",
   "metadata": {},
   "source": [
    "## 2. Generate Outputs"
   ]
  },
  {
   "cell_type": "code",
   "execution_count": null,
   "metadata": {},
   "outputs": [],
   "source": [
    "# Wind output\n",
    "ds_wind = geodata.convert.wind(\n",
    "                  cutout, \n",
    "                  turbine='Suzlon_S82_1.5_MW', \n",
    "                  smooth=True)\n",
    "ds_wind"
   ]
  },
  {
   "cell_type": "code",
   "execution_count": null,
   "metadata": {},
   "outputs": [],
   "source": [
    "df_wind = ds_wind.to_dataframe(name='wind')\n",
    "df_wind"
   ]
  },
  {
   "cell_type": "code",
   "execution_count": null,
   "metadata": {},
   "outputs": [],
   "source": [
    "df_wind.to_csv('era5_wind_data.csv')"
   ]
  },
  {
   "cell_type": "code",
   "execution_count": null,
   "metadata": {},
   "outputs": [],
   "source": [
    "# Windspd Output\n",
    "ds_windspd = geodata.convert.wind(\n",
    "                  cutout, \n",
    "                  turbine='Suzlon_S82_1.5_MW', \n",
    "                  smooth=True)\n",
    "ds_windspd"
   ]
  },
  {
   "cell_type": "code",
   "execution_count": null,
   "metadata": {},
   "outputs": [],
   "source": [
    "df_windspd = ds_windspd.to_dataframe(name='windspd')\n",
    "df_windspd"
   ]
  },
  {
   "cell_type": "code",
   "execution_count": null,
   "metadata": {},
   "outputs": [],
   "source": [
    "df_windspd.to_csv('era5_windspd_data.csv')"
   ]
  },
  {
   "cell_type": "code",
   "execution_count": null,
   "metadata": {},
   "outputs": [],
   "source": [
    "# Solar Output\n",
    "ds_pv = geodata.convert.pv(\n",
    "    cutout, \n",
    "    panel=\"KANENA\", \n",
    "    orientation = \"latitude_optimal\"\n",
    "    )\n",
    "ds_pv"
   ]
  },
  {
   "cell_type": "code",
   "execution_count": null,
   "metadata": {},
   "outputs": [],
   "source": [
    "df_pv = ds_pv.to_dataframe(name='pv')\n",
    "df_pv"
   ]
  },
  {
   "cell_type": "code",
   "execution_count": null,
   "metadata": {},
   "outputs": [],
   "source": [
    "df_pv.to_csv('era5_pv_data.csv')"
   ]
  }
 ],
 "metadata": {
  "kernelspec": {
   "display_name": "Python 3",
   "language": "python",
   "name": "python3"
  },
  "language_info": {
   "codemirror_mode": {
    "name": "ipython",
    "version": 3
   },
   "file_extension": ".py",
   "mimetype": "text/x-python",
   "name": "python",
   "nbconvert_exporter": "python",
   "pygments_lexer": "ipython3",
   "version": "3.8.4"
  }
 },
 "nbformat": 4,
 "nbformat_minor": 4
}
