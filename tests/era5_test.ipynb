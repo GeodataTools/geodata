{
 "cells": [
  {
   "cell_type": "markdown",
   "metadata": {},
   "source": [
    "# ERA5 Test\n",
    "- Download and Generate Cutout\n",
    "- Generate Outputs"
   ]
  },
  {
   "cell_type": "markdown",
   "metadata": {},
   "source": [
    "## 1.  Download and Generate Output"
   ]
  },
  {
   "cell_type": "code",
   "execution_count": 6,
   "metadata": {},
   "outputs": [],
   "source": [
    "import geodata\n",
    "import logging\n",
    "logging.basicConfig(level=logging.INFO)"
   ]
  },
  {
   "cell_type": "code",
   "execution_count": 7,
   "metadata": {
    "collapsed": true,
    "jupyter": {
     "outputs_hidden": true
    }
   },
   "outputs": [
    {
     "name": "stderr",
     "output_type": "stream",
     "text": [
      "INFO:geodata.cutout:Cutout (era5-europe-test-2012-08, /Users/williamhonaker/Desktop/davidson/data_for_geodata/cutouts) not found or incomplete.\n",
      "WARNING:geodata.preparation:ys slices are expected from north to south, i.e. slice(70, 40) for europe.\n",
      "INFO:cdsapi:Welcome to the CDS\n",
      "INFO:cdsapi:Sending request to https://cds.climate.copernicus.eu/api/v2/resources/reanalysis-era5-single-levels\n",
      "INFO:cdsapi:Request is queued\n",
      "INFO:cdsapi:Request is running\n",
      "INFO:cdsapi:Request is completed\n",
      "INFO:geodata.datasets.era5:Downloading request for 9 variables to /Users/williamhonaker/Desktop/davidson/data_for_geodata/era5\n",
      "INFO:cdsapi:Downloading http://136.156.133.42/cache-compute-0014/cache/data9/adaptor.mars.internal-1591773936.7287116-7292-31-e1e9bb62-adf2-48cd-86d6-b0710b8888f2.nc to /Users/williamhonaker/Desktop/davidson/data_for_geodata/era5/2012/05/orography.nc (2.4K)\n",
      "INFO:cdsapi:Download rate 7.4K/s           \n"
     ]
    }
   ],
   "source": [
    "cutout = geodata.Cutout(name=\"era5-europe-test-2012-08\",\n",
    "                        module=\"era5\",\n",
    "                        weather_data_config=\"era5_monthly\",\n",
    "                        xs=slice(30, 31),\n",
    "                        ys=slice(34, 35),\n",
    "                        years=slice(2012, 2012),\n",
    "                        months=slice(4,5))"
   ]
  },
  {
   "cell_type": "code",
   "execution_count": 4,
   "metadata": {
    "collapsed": true,
    "jupyter": {
     "outputs_hidden": true
    }
   },
   "outputs": [
    {
     "data": {
      "text/plain": [
       "{'name': 'era5-europe-test-2012-06',\n",
       " 'cutout_dir': '/Users/williamhonaker/Desktop/davidson/data_for_geodata/cutouts/era5-europe-test-2012-06',\n",
       " 'prepared': False,\n",
       " 'meta_append': 0,\n",
       " 'config': 'era5_monthly',\n",
       " 'meta': <xarray.Dataset>\n",
       " Dimensions:     (time: 1, x: 5, y: 5, year-month: 1)\n",
       " Coordinates:\n",
       "   * x           (x) float32 30.0 30.25 30.5 30.75 31.0\n",
       "   * y           (y) float32 35.0 34.75 34.5 34.25 34.0\n",
       "   * time        (time) datetime64[ns] 2012-04-01\n",
       "     lon         (x) float32 30.0 30.25 30.5 30.75 31.0\n",
       "     lat         (y) float32 35.0 34.75 34.5 34.25 34.0\n",
       "   * year-month  (year-month) MultiIndex\n",
       "   - year        (year-month) int64 2012\n",
       "   - month       (year-month) int64 4\n",
       " Data variables:\n",
       "     height      (y, x) float32 6.7204175 2.1396968 ... 1.0645151 -0.34906465\n",
       " Attributes:\n",
       "     Conventions:  CF-1.6\n",
       "     history:      2020-06-10 06:09:41 GMT by grib_to_netcdf-2.16.0: /opt/ecmw...\n",
       "     module:       era5,\n",
       " 'dataset_module': <module 'geodata.datasets.era5' from '/usr/local/lib/python3.7/site-packages/geodata-0.0.2-py3.7.egg/geodata/datasets/era5.py'>}"
      ]
     },
     "execution_count": 4,
     "metadata": {},
     "output_type": "execute_result"
    }
   ],
   "source": [
    "cutout.__dict__"
   ]
  },
  {
   "cell_type": "code",
   "execution_count": 8,
   "metadata": {
    "collapsed": true,
    "jupyter": {
     "outputs_hidden": true
    }
   },
   "outputs": [
    {
     "name": "stderr",
     "output_type": "stream",
     "text": [
      "INFO:geodata.preparation:Starting preparation of cutout 'era5-europe-test-2012-08'\n",
      "INFO:geodata.preparation:2 tasks have been collected. Starting running them on all processors.\n",
      "INFO:cdsapi:Welcome to the CDS\n",
      "INFO:cdsapi:Welcome to the CDS\n",
      "INFO:cdsapi:Sending request to https://cds.climate.copernicus.eu/api/v2/resources/reanalysis-era5-single-levels\n",
      "INFO:cdsapi:Sending request to https://cds.climate.copernicus.eu/api/v2/resources/reanalysis-era5-single-levels\n",
      "INFO:cdsapi:Request is queued\n",
      "INFO:cdsapi:Request is completed\n",
      "INFO:geodata.datasets.era5:Downloading request for 10 variables to /Users/williamhonaker/Desktop/davidson/data_for_geodata/era5\n",
      "INFO:cdsapi:Downloading http://136.156.132.198/cache-compute-0003/cache/data4/adaptor.mars.internal-1591769396.8937743-27329-23-865c1057-8d11-4d3b-accc-b75804f6478c.nc to /Users/williamhonaker/Desktop/davidson/data_for_geodata/era5/2012/04/112rsssstt.nc (357.8K)\n",
      "INFO:cdsapi:Download rate 324.4K/s                 \n",
      "INFO:cdsapi:Request is running\n",
      "INFO:cdsapi:Welcome to the CDS\n",
      "INFO:cdsapi:Sending request to https://cds.climate.copernicus.eu/api/v2/resources/reanalysis-era5-single-levels\n",
      "INFO:cdsapi:Request is queued\n",
      "INFO:cdsapi:Request is running\n",
      "INFO:cdsapi:Request is completed\n",
      "INFO:geodata.datasets.era5:Downloading request for 2 variables to /Users/williamhonaker/Desktop/davidson/data_for_geodata/era5\n",
      "INFO:cdsapi:Downloading http://136.156.132.110/cache-compute-0001/cache/data5/adaptor.mars.internal-1591773958.4142895-4649-36-6abae571-b29c-47d4-af76-5c0999356c9a.nc to /Users/williamhonaker/Desktop/davidson/data_for_geodata/era5/2012/04/fo.nc (3.8K)\n",
      "INFO:cdsapi:Download rate 11.9K/s          \n",
      "INFO:cdsapi:Request is completed\n",
      "INFO:geodata.datasets.era5:Downloading request for 10 variables to /Users/williamhonaker/Desktop/davidson/data_for_geodata/era5\n",
      "INFO:cdsapi:Downloading http://136.156.133.32/cache-compute-0009/cache/data2/adaptor.mars.internal-1591773954.0831234-21520-7-3e0541d1-bbc3-4788-b9ac-072c30886561.nc to /Users/williamhonaker/Desktop/davidson/data_for_geodata/era5/2012/05/112rsssstt.nc (369.6K)\n",
      "INFO:cdsapi:Download rate 346.1K/s                 \n",
      "INFO:cdsapi:Welcome to the CDS\n",
      "INFO:cdsapi:Sending request to https://cds.climate.copernicus.eu/api/v2/resources/reanalysis-era5-single-levels\n",
      "INFO:cdsapi:Request is queued\n",
      "INFO:cdsapi:Request is running\n",
      "INFO:cdsapi:Request is completed\n",
      "INFO:geodata.datasets.era5:Downloading request for 2 variables to /Users/williamhonaker/Desktop/davidson/data_for_geodata/era5\n",
      "INFO:cdsapi:Downloading http://136.156.132.153/cache-compute-0002/cache/data2/adaptor.mars.internal-1591774578.7239013-7372-9-9d39d6db-60c5-4e22-a29e-2c8538230b1a.nc to /Users/williamhonaker/Desktop/davidson/data_for_geodata/era5/2012/05/fo.nc (3.8K)\n",
      "INFO:cdsapi:Download rate 12.1K/s          \n",
      "INFO:geodata.preparation:Merging variables into monthly compound files\n",
      "INFO:geodata.preparation:Cutout 'era5-europe-test-2012-08' has been successfully prepared\n"
     ]
    }
   ],
   "source": [
    "cutout.prepare()"
   ]
  },
  {
   "cell_type": "code",
   "execution_count": 9,
   "metadata": {
    "collapsed": true,
    "jupyter": {
     "outputs_hidden": true
    }
   },
   "outputs": [
    {
     "data": {
      "text/plain": [
       "{'name': 'era5-europe-test-2012-08',\n",
       " 'cutout_dir': '/Users/williamhonaker/Desktop/davidson/data_for_geodata/cutouts/era5-europe-test-2012-08',\n",
       " 'prepared': True,\n",
       " 'meta_append': 0,\n",
       " 'config': 'era5_monthly',\n",
       " 'dataset_module': <module 'geodata.datasets.era5' from '/usr/local/lib/python3.7/site-packages/geodata-0.0.2-py3.7.egg/geodata/datasets/era5.py'>,\n",
       " 'meta': <xarray.Dataset>\n",
       " Dimensions:     (time: 2, x: 5, y: 5, year-month: 2)\n",
       " Coordinates:\n",
       "   * x           (x) float32 30.0 30.25 30.5 30.75 31.0\n",
       "   * y           (y) float32 35.0 34.75 34.5 34.25 34.0\n",
       "   * time        (time) datetime64[ns] 2012-04-01 2012-05-01\n",
       "     lon         (x) float32 30.0 30.25 30.5 30.75 31.0\n",
       "     lat         (y) float32 35.0 34.75 34.5 34.25 34.0\n",
       "   * year-month  (year-month) MultiIndex\n",
       "   - year        (year-month) int64 2012 2012\n",
       "   - month       (year-month) int64 4 5\n",
       " Data variables:\n",
       "     height      (y, x) float32 6.7204175 2.1396968 ... 1.0645151 -0.34906465\n",
       " Attributes:\n",
       "     Conventions:  CF-1.6\n",
       "     history:      2020-06-10 07:25:40 GMT by grib_to_netcdf-2.16.0: /opt/ecmw...\n",
       "     module:       era5}"
      ]
     },
     "execution_count": 9,
     "metadata": {},
     "output_type": "execute_result"
    }
   ],
   "source": [
    "## Test Cutout contents\n",
    "cutout.__dict__"
   ]
  },
  {
   "cell_type": "markdown",
   "metadata": {},
   "source": [
    "## 2. Generate Outputs"
   ]
  },
  {
   "cell_type": "code",
   "execution_count": 10,
   "metadata": {
    "collapsed": true,
    "jupyter": {
     "outputs_hidden": true
    }
   },
   "outputs": [
    {
     "data": {
      "text/html": [
       "<pre>&lt;xarray.DataArray (time: 1464, y: 5, x: 5)&gt;\n",
       "array([[[0.03283656, 0.04080303, 0.05006218, 0.05596076, 0.05490346],\n",
       "        [0.05056869, 0.06223168, 0.0757006 , 0.09010156, 0.09749523],\n",
       "        [0.08464217, 0.09980584, 0.11789232, 0.13540712, 0.1460605 ],\n",
       "        [0.12588047, 0.1425076 , 0.16331222, 0.19041489, 0.20477764],\n",
       "        [0.15748276, 0.17489437, 0.21257602, 0.25090376, 0.26829999]],\n",
       "\n",
       "       [[0.0431625 , 0.04814303, 0.05646394, 0.06384128, 0.06412933],\n",
       "        [0.06411051, 0.08241647, 0.09283056, 0.09840557, 0.10216912],\n",
       "        [0.09543516, 0.1203034 , 0.12295403, 0.1228404 , 0.13336948],\n",
       "        [0.13493301, 0.14427877, 0.12748348, 0.13185183, 0.16465314],\n",
       "        [0.16231824, 0.14649518, 0.14256816, 0.15344737, 0.19583401]],\n",
       "\n",
       "       [[0.05586747, 0.07519304, 0.09142   , 0.09467956, 0.07934184],\n",
       "        [0.07675382, 0.09993189, 0.11182036, 0.11015593, 0.09837983],\n",
       "        [0.0983696 , 0.12177909, 0.11949843, 0.11298074, 0.11859178],\n",
       "        [0.1218681 , 0.13637487, 0.11836325, 0.0992363 , 0.10882829],\n",
       "        [0.13933342, 0.14631401, 0.12693476, 0.09654214, 0.09667378]],\n",
       "\n",
       "       ...,\n",
       "\n",
       "       [[0.27514351, 0.24365198, 0.20220736, 0.16289568, 0.13062366],\n",
       "        [0.22278084, 0.19238549, 0.16439634, 0.14799675, 0.13333754],\n",
       "        [0.1719926 , 0.15407489, 0.14908218, 0.13758197, 0.14170485],\n",
       "        [0.13451792, 0.12495749, 0.12184581, 0.12918626, 0.13363933],\n",
       "        [0.11848152, 0.11130249, 0.11150518, 0.11796686, 0.11917864]],\n",
       "\n",
       "       [[0.28275298, 0.24681264, 0.20197922, 0.16113832, 0.12791679],\n",
       "        [0.24607759, 0.20702351, 0.175799  , 0.15601975, 0.13506932],\n",
       "        [0.20352222, 0.17547578, 0.16393802, 0.14832493, 0.14758402],\n",
       "        [0.16626293, 0.1490029 , 0.14000229, 0.14253611, 0.14664273],\n",
       "        [0.145797  , 0.13202249, 0.12858297, 0.13132695, 0.13532534]],\n",
       "\n",
       "       [[0.29920685, 0.26975161, 0.23035643, 0.1907185 , 0.15488828],\n",
       "        [0.27189936, 0.2381159 , 0.20662445, 0.17879914, 0.14934556],\n",
       "        [0.23615438, 0.20470035, 0.18397119, 0.16018845, 0.15153469],\n",
       "        [0.1951932 , 0.17044993, 0.15444853, 0.14648585, 0.14304977],\n",
       "        [0.16328228, 0.14473947, 0.13414299, 0.12845891, 0.12766913]]])\n",
       "Coordinates:\n",
       "    lat      (y) float32 35.0 34.75 34.5 34.25 34.0\n",
       "    lon      (x) float32 30.0 30.25 30.5 30.75 31.0\n",
       "  * x        (x) float32 30.0 30.25 30.5 30.75 31.0\n",
       "  * y        (y) float32 35.0 34.75 34.5 34.25 34.0\n",
       "  * time     (time) datetime64[ns] 2012-04-01 ... 2012-05-31T23:00:00</pre>"
      ],
      "text/plain": [
       "<xarray.DataArray (time: 1464, y: 5, x: 5)>\n",
       "array([[[0.03283656, 0.04080303, 0.05006218, 0.05596076, 0.05490346],\n",
       "        [0.05056869, 0.06223168, 0.0757006 , 0.09010156, 0.09749523],\n",
       "        [0.08464217, 0.09980584, 0.11789232, 0.13540712, 0.1460605 ],\n",
       "        [0.12588047, 0.1425076 , 0.16331222, 0.19041489, 0.20477764],\n",
       "        [0.15748276, 0.17489437, 0.21257602, 0.25090376, 0.26829999]],\n",
       "\n",
       "       [[0.0431625 , 0.04814303, 0.05646394, 0.06384128, 0.06412933],\n",
       "        [0.06411051, 0.08241647, 0.09283056, 0.09840557, 0.10216912],\n",
       "        [0.09543516, 0.1203034 , 0.12295403, 0.1228404 , 0.13336948],\n",
       "        [0.13493301, 0.14427877, 0.12748348, 0.13185183, 0.16465314],\n",
       "        [0.16231824, 0.14649518, 0.14256816, 0.15344737, 0.19583401]],\n",
       "\n",
       "       [[0.05586747, 0.07519304, 0.09142   , 0.09467956, 0.07934184],\n",
       "        [0.07675382, 0.09993189, 0.11182036, 0.11015593, 0.09837983],\n",
       "        [0.0983696 , 0.12177909, 0.11949843, 0.11298074, 0.11859178],\n",
       "        [0.1218681 , 0.13637487, 0.11836325, 0.0992363 , 0.10882829],\n",
       "        [0.13933342, 0.14631401, 0.12693476, 0.09654214, 0.09667378]],\n",
       "\n",
       "       ...,\n",
       "\n",
       "       [[0.27514351, 0.24365198, 0.20220736, 0.16289568, 0.13062366],\n",
       "        [0.22278084, 0.19238549, 0.16439634, 0.14799675, 0.13333754],\n",
       "        [0.1719926 , 0.15407489, 0.14908218, 0.13758197, 0.14170485],\n",
       "        [0.13451792, 0.12495749, 0.12184581, 0.12918626, 0.13363933],\n",
       "        [0.11848152, 0.11130249, 0.11150518, 0.11796686, 0.11917864]],\n",
       "\n",
       "       [[0.28275298, 0.24681264, 0.20197922, 0.16113832, 0.12791679],\n",
       "        [0.24607759, 0.20702351, 0.175799  , 0.15601975, 0.13506932],\n",
       "        [0.20352222, 0.17547578, 0.16393802, 0.14832493, 0.14758402],\n",
       "        [0.16626293, 0.1490029 , 0.14000229, 0.14253611, 0.14664273],\n",
       "        [0.145797  , 0.13202249, 0.12858297, 0.13132695, 0.13532534]],\n",
       "\n",
       "       [[0.29920685, 0.26975161, 0.23035643, 0.1907185 , 0.15488828],\n",
       "        [0.27189936, 0.2381159 , 0.20662445, 0.17879914, 0.14934556],\n",
       "        [0.23615438, 0.20470035, 0.18397119, 0.16018845, 0.15153469],\n",
       "        [0.1951932 , 0.17044993, 0.15444853, 0.14648585, 0.14304977],\n",
       "        [0.16328228, 0.14473947, 0.13414299, 0.12845891, 0.12766913]]])\n",
       "Coordinates:\n",
       "    lat      (y) float32 35.0 34.75 34.5 34.25 34.0\n",
       "    lon      (x) float32 30.0 30.25 30.5 30.75 31.0\n",
       "  * x        (x) float32 30.0 30.25 30.5 30.75 31.0\n",
       "  * y        (y) float32 35.0 34.75 34.5 34.25 34.0\n",
       "  * time     (time) datetime64[ns] 2012-04-01 ... 2012-05-31T23:00:00"
      ]
     },
     "execution_count": 10,
     "metadata": {},
     "output_type": "execute_result"
    }
   ],
   "source": [
    "# Wind output\n",
    "ds_wind = geodata.convert.wind(\n",
    "                  cutout, \n",
    "                  turbine='Suzlon_S82_1.5_MW', \n",
    "                  smooth=True)\n",
    "ds_wind"
   ]
  },
  {
   "cell_type": "code",
   "execution_count": 11,
   "metadata": {
    "collapsed": true,
    "jupyter": {
     "outputs_hidden": true
    }
   },
   "outputs": [
    {
     "data": {
      "text/html": [
       "<div>\n",
       "<style scoped>\n",
       "    .dataframe tbody tr th:only-of-type {\n",
       "        vertical-align: middle;\n",
       "    }\n",
       "\n",
       "    .dataframe tbody tr th {\n",
       "        vertical-align: top;\n",
       "    }\n",
       "\n",
       "    .dataframe thead th {\n",
       "        text-align: right;\n",
       "    }\n",
       "</style>\n",
       "<table border=\"1\" class=\"dataframe\">\n",
       "  <thead>\n",
       "    <tr style=\"text-align: right;\">\n",
       "      <th></th>\n",
       "      <th></th>\n",
       "      <th></th>\n",
       "      <th>lat</th>\n",
       "      <th>lon</th>\n",
       "      <th>wind</th>\n",
       "    </tr>\n",
       "    <tr>\n",
       "      <th>time</th>\n",
       "      <th>y</th>\n",
       "      <th>x</th>\n",
       "      <th></th>\n",
       "      <th></th>\n",
       "      <th></th>\n",
       "    </tr>\n",
       "  </thead>\n",
       "  <tbody>\n",
       "    <tr>\n",
       "      <th rowspan=\"5\" valign=\"top\">2012-04-01 00:00:00</th>\n",
       "      <th rowspan=\"5\" valign=\"top\">35.0</th>\n",
       "      <th>30.00</th>\n",
       "      <td>35.0</td>\n",
       "      <td>30.00</td>\n",
       "      <td>0.032837</td>\n",
       "    </tr>\n",
       "    <tr>\n",
       "      <th>30.25</th>\n",
       "      <td>35.0</td>\n",
       "      <td>30.25</td>\n",
       "      <td>0.040803</td>\n",
       "    </tr>\n",
       "    <tr>\n",
       "      <th>30.50</th>\n",
       "      <td>35.0</td>\n",
       "      <td>30.50</td>\n",
       "      <td>0.050062</td>\n",
       "    </tr>\n",
       "    <tr>\n",
       "      <th>30.75</th>\n",
       "      <td>35.0</td>\n",
       "      <td>30.75</td>\n",
       "      <td>0.055961</td>\n",
       "    </tr>\n",
       "    <tr>\n",
       "      <th>31.00</th>\n",
       "      <td>35.0</td>\n",
       "      <td>31.00</td>\n",
       "      <td>0.054903</td>\n",
       "    </tr>\n",
       "    <tr>\n",
       "      <th>...</th>\n",
       "      <th>...</th>\n",
       "      <th>...</th>\n",
       "      <td>...</td>\n",
       "      <td>...</td>\n",
       "      <td>...</td>\n",
       "    </tr>\n",
       "    <tr>\n",
       "      <th rowspan=\"5\" valign=\"top\">2012-05-31 23:00:00</th>\n",
       "      <th rowspan=\"5\" valign=\"top\">34.0</th>\n",
       "      <th>30.00</th>\n",
       "      <td>34.0</td>\n",
       "      <td>30.00</td>\n",
       "      <td>0.163282</td>\n",
       "    </tr>\n",
       "    <tr>\n",
       "      <th>30.25</th>\n",
       "      <td>34.0</td>\n",
       "      <td>30.25</td>\n",
       "      <td>0.144739</td>\n",
       "    </tr>\n",
       "    <tr>\n",
       "      <th>30.50</th>\n",
       "      <td>34.0</td>\n",
       "      <td>30.50</td>\n",
       "      <td>0.134143</td>\n",
       "    </tr>\n",
       "    <tr>\n",
       "      <th>30.75</th>\n",
       "      <td>34.0</td>\n",
       "      <td>30.75</td>\n",
       "      <td>0.128459</td>\n",
       "    </tr>\n",
       "    <tr>\n",
       "      <th>31.00</th>\n",
       "      <td>34.0</td>\n",
       "      <td>31.00</td>\n",
       "      <td>0.127669</td>\n",
       "    </tr>\n",
       "  </tbody>\n",
       "</table>\n",
       "<p>36600 rows × 3 columns</p>\n",
       "</div>"
      ],
      "text/plain": [
       "                                 lat    lon      wind\n",
       "time                y    x                           \n",
       "2012-04-01 00:00:00 35.0 30.00  35.0  30.00  0.032837\n",
       "                         30.25  35.0  30.25  0.040803\n",
       "                         30.50  35.0  30.50  0.050062\n",
       "                         30.75  35.0  30.75  0.055961\n",
       "                         31.00  35.0  31.00  0.054903\n",
       "...                              ...    ...       ...\n",
       "2012-05-31 23:00:00 34.0 30.00  34.0  30.00  0.163282\n",
       "                         30.25  34.0  30.25  0.144739\n",
       "                         30.50  34.0  30.50  0.134143\n",
       "                         30.75  34.0  30.75  0.128459\n",
       "                         31.00  34.0  31.00  0.127669\n",
       "\n",
       "[36600 rows x 3 columns]"
      ]
     },
     "execution_count": 11,
     "metadata": {},
     "output_type": "execute_result"
    }
   ],
   "source": [
    "df_wind = ds_wind.to_dataframe(name='wind')\n",
    "df_wind"
   ]
  },
  {
   "cell_type": "code",
   "execution_count": null,
   "metadata": {},
   "outputs": [],
   "source": [
    "df_wind.to_csv('era5_wind_data.csv')"
   ]
  },
  {
   "cell_type": "code",
   "execution_count": null,
   "metadata": {},
   "outputs": [],
   "source": [
    "# Windspd Output\n",
    "ds_windspd = geodata.convert.wind(\n",
    "                  cutout, \n",
    "                  turbine='Suzlon_S82_1.5_MW', \n",
    "                  smooth=True)\n",
    "ds_windspd"
   ]
  },
  {
   "cell_type": "code",
   "execution_count": null,
   "metadata": {},
   "outputs": [],
   "source": [
    "df_windspd = ds_windspd.to_dataframe(name='windspd')\n",
    "df_windspd"
   ]
  },
  {
   "cell_type": "code",
   "execution_count": null,
   "metadata": {},
   "outputs": [],
   "source": [
    "df_windspd.to_csv('era5_windspd_data.csv')"
   ]
  },
  {
   "cell_type": "code",
   "execution_count": null,
   "metadata": {},
   "outputs": [],
   "source": [
    "# Solar Output\n",
    "ds_pv = atlite.convert.pv(\n",
    "    cutout, \n",
    "    panel=\"KANENA\", \n",
    "    orientation = \"latitude_optimal\"\n",
    "    )\n",
    "ds_pv"
   ]
  },
  {
   "cell_type": "code",
   "execution_count": null,
   "metadata": {},
   "outputs": [],
   "source": [
    "df_pv = ds_pv.to_dataframe(name='pv')\n",
    "df_pv"
   ]
  },
  {
   "cell_type": "code",
   "execution_count": null,
   "metadata": {},
   "outputs": [],
   "source": [
    "df_pv.to_csv('era5_pv_data.csv')"
   ]
  }
 ],
 "metadata": {
  "kernelspec": {
   "display_name": "Python 3",
   "language": "python",
   "name": "python3"
  },
  "language_info": {
   "codemirror_mode": {
    "name": "ipython",
    "version": 3
   },
   "file_extension": ".py",
   "mimetype": "text/x-python",
   "name": "python",
   "nbconvert_exporter": "python",
   "pygments_lexer": "ipython3",
   "version": "3.7.4"
  }
 },
 "nbformat": 4,
 "nbformat_minor": 4
}
