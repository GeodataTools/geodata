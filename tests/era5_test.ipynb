{
 "cells": [
  {
   "cell_type": "markdown",
   "metadata": {},
   "source": [
    "# ERA5 Test\n",
    "- Download and Generate Cutout\n",
    "- Generate Outputs"
   ]
  },
  {
   "cell_type": "markdown",
   "metadata": {},
   "source": [
    "## 1.  Download and Generate Output"
   ]
  },
  {
   "cell_type": "code",
   "execution_count": 7,
   "metadata": {},
   "outputs": [],
   "source": [
    "import geodata\n",
    "import logging\n",
    "logging.basicConfig(level=logging.INFO)"
   ]
  },
  {
   "cell_type": "code",
   "execution_count": 8,
   "metadata": {},
   "outputs": [
    {
     "name": "stderr",
     "output_type": "stream",
     "text": [
      "INFO:geodata.dataset:Directory /Users/williamhonaker/Desktop/davidson/data_for_geodata/era5 found, checking for completeness.\n",
      "INFO:geodata.dataset:Directory complete.\n"
     ]
    }
   ],
   "source": [
    "## For ERA5, pass geographic bounds in array as follows:\n",
    "## bounds = [North, West, South, East]\n",
    "## Omitting bounds will default to global file of 20+ GB per month\n",
    "DS = geodata.Dataset(module=\"era5\",\n",
    "                     weather_data_config=\"wind_solar_hourly\",\n",
    "                     years=slice(2004, 2004),\n",
    "                     months=slice(1,2),\n",
    "                     bounds=[50, -3, 45, 3])"
   ]
  },
  {
   "cell_type": "code",
   "execution_count": 9,
   "metadata": {
    "collapsed": true,
    "jupyter": {
     "outputs_hidden": true
    }
   },
   "outputs": [
    {
     "data": {
      "text/plain": [
       "{'module': 'era5',\n",
       " 'config': 'wind_solar_hourly',\n",
       " 'dataset_module': <module 'geodata.datasets.era5' from '/usr/local/lib/python3.8/site-packages/geodata-0.0.1-py3.8.egg/geodata/datasets/era5.py'>,\n",
       " 'weatherconfig': {'file_granularity': 'monthly',\n",
       "  'tasks_func': <function geodata.datasets.era5.tasks_monthly_era5(xs, ys, yearmonths, prepare_func, **meta_attrs)>,\n",
       "  'meta_prepare_func': <function geodata.datasets.era5.prepare_meta_era5(xs, ys, year, month, template, module, **kwargs)>,\n",
       "  'prepare_func': <function geodata.datasets.era5.prepare_month_era5(fn, year, month, xs, ys)>,\n",
       "  'template': '/Users/williamhonaker/Desktop/davidson/data_for_geodata/era5/{year}/{month:0>2}/*.nc',\n",
       "  'fn': '/Users/williamhonaker/Desktop/davidson/data_for_geodata/era5/{year}/{month:0>2}/wind_solar_hourly.nc',\n",
       "  'product': 'reanalysis-era5-single-levels',\n",
       "  'variables': ['100m_u_component_of_wind',\n",
       "   '100m_v_component_of_wind',\n",
       "   '2m_temperature',\n",
       "   'runoff',\n",
       "   'soil_temperature_level_4',\n",
       "   'surface_net_solar_radiation',\n",
       "   'surface_pressure',\n",
       "   'surface_solar_radiation_downwards',\n",
       "   'toa_incident_solar_radiation',\n",
       "   'total_sky_direct_solar_radiation_at_surface']},\n",
       " 'datadir': '/Users/williamhonaker/Desktop/davidson/data_for_geodata/era5',\n",
       " 'years': slice(2004, 2004, None),\n",
       " 'months': slice(1, 2, None),\n",
       " 'prepared': True,\n",
       " 'toDownload': [],\n",
       " 'downloadedFiles': [('wind_solar_hourly',\n",
       "   '/Users/williamhonaker/Desktop/davidson/data_for_geodata/era5/2004/01/wind_solar_hourly.nc'),\n",
       "  ('wind_solar_hourly',\n",
       "   '/Users/williamhonaker/Desktop/davidson/data_for_geodata/era5/2004/02/wind_solar_hourly.nc')],\n",
       " 'totalFiles': [('wind_solar_hourly',\n",
       "   '/Users/williamhonaker/Desktop/davidson/data_for_geodata/era5/2004/01/wind_solar_hourly.nc'),\n",
       "  ('wind_solar_hourly',\n",
       "   '/Users/williamhonaker/Desktop/davidson/data_for_geodata/era5/2004/02/wind_solar_hourly.nc')],\n",
       " 'bounds': [50, -3, 45, 3]}"
      ]
     },
     "execution_count": 9,
     "metadata": {},
     "output_type": "execute_result"
    }
   ],
   "source": [
    "## Confirm Contents\n",
    "\n",
    "#DS.__dict__"
   ]
  },
  {
   "cell_type": "markdown",
   "metadata": {},
   "source": [
    "## 2. Generate Cutout"
   ]
  },
  {
   "cell_type": "code",
   "execution_count": 10,
   "metadata": {},
   "outputs": [
    {
     "name": "stderr",
     "output_type": "stream",
     "text": [
      "INFO:geodata.cutout:All cutout (era5-2004-test-1, /Users/williamhonaker/Desktop/davidson/data_for_geodata/cutouts) files available.\n",
      "INFO:geodata.preparation:[4, 1, 1, 10]\n",
      "INFO:geodata.cutout:Cutout subset prepared: <Cutout era5-2004-test-1 x=1.00-2.00 y=48.00-46.00 time=2004/1-2004/1 prepared>\n"
     ]
    }
   ],
   "source": [
    "cutout = geodata.Cutout(name=\"era5-2004-test-1\",\n",
    "                        module=\"era5\",\n",
    "                        weather_data_config=\"wind_solar_hourly\",\n",
    "                        xs=slice(1, 2),\n",
    "                        ys=slice(48, 46),\n",
    "                        years=slice(2004, 2004),\n",
    "                        months=slice(1,1))"
   ]
  },
  {
   "cell_type": "code",
   "execution_count": null,
   "metadata": {},
   "outputs": [],
   "source": [
    "cutout.__dict__"
   ]
  },
  {
   "cell_type": "code",
   "execution_count": null,
   "metadata": {},
   "outputs": [],
   "source": [
    "cutout.prepare()"
   ]
  },
  {
   "cell_type": "markdown",
   "metadata": {},
   "source": [
    "## 2. Generate Outputs"
   ]
  },
  {
   "cell_type": "code",
   "execution_count": null,
   "metadata": {},
   "outputs": [],
   "source": [
    "# Wind output\n",
    "ds_wind = geodata.convert.wind(\n",
    "                  cutout, \n",
    "                  turbine='Suzlon_S82_1.5_MW', \n",
    "                  smooth=True)\n",
    "ds_wind"
   ]
  },
  {
   "cell_type": "code",
   "execution_count": null,
   "metadata": {},
   "outputs": [],
   "source": [
    "df_wind = ds_wind.to_dataframe(name='wind')\n",
    "df_wind"
   ]
  },
  {
   "cell_type": "code",
   "execution_count": null,
   "metadata": {},
   "outputs": [],
   "source": [
    "df_wind.to_csv('era5_wind_data.csv')"
   ]
  },
  {
   "cell_type": "code",
   "execution_count": null,
   "metadata": {},
   "outputs": [],
   "source": [
    "# Windspd Output\n",
    "ds_windspd = geodata.convert.windspd(\n",
    "                  cutout, \n",
    "                  turbine='Suzlon_S82_1.5_MW', \n",
    "                  var_height='lml')\n",
    "ds_windspd"
   ]
  },
  {
   "cell_type": "code",
   "execution_count": null,
   "metadata": {},
   "outputs": [],
   "source": [
    "df_windspd = ds_windspd.to_dataframe(name='windspd')\n",
    "df_windspd"
   ]
  },
  {
   "cell_type": "code",
   "execution_count": null,
   "metadata": {},
   "outputs": [],
   "source": [
    "df_windspd.to_csv('era5_windspd_data.csv')"
   ]
  },
  {
   "cell_type": "code",
   "execution_count": null,
   "metadata": {},
   "outputs": [],
   "source": [
    "# Solar Output\n",
    "ds_pv = geodata.convert.pv(\n",
    "    cutout, \n",
    "    panel=\"KANENA\", \n",
    "    orientation = \"latitude_optimal\"\n",
    "    )\n",
    "ds_pv"
   ]
  },
  {
   "cell_type": "code",
   "execution_count": null,
   "metadata": {},
   "outputs": [],
   "source": [
    "df_pv = ds_pv.to_dataframe(name='pv')\n",
    "df_pv"
   ]
  },
  {
   "cell_type": "code",
   "execution_count": null,
   "metadata": {},
   "outputs": [],
   "source": [
    "df_pv.to_csv('era5_pv_data.csv')"
   ]
  }
 ],
 "metadata": {
  "kernelspec": {
   "display_name": "Python 3",
   "language": "python",
   "name": "python3"
  },
  "language_info": {
   "codemirror_mode": {
    "name": "ipython",
    "version": 3
   },
   "file_extension": ".py",
   "mimetype": "text/x-python",
   "name": "python",
   "nbconvert_exporter": "python",
   "pygments_lexer": "ipython3",
   "version": "3.8.4"
  }
 },
 "nbformat": 4,
 "nbformat_minor": 4
}
