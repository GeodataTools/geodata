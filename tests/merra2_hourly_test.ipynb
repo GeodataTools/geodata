{
 "cells": [
  {
   "cell_type": "markdown",
   "metadata": {},
   "source": [
    "# MERRA2 Hourly Granularity Test\n",
    "- Download\n",
    "- Trim\n",
    "- Create Cutout\n",
    "- Generate Wind Outputs"
   ]
  },
  {
   "cell_type": "markdown",
   "metadata": {},
   "source": [
    "# 1. Imports and Download"
   ]
  },
  {
   "cell_type": "code",
   "execution_count": 1,
   "metadata": {},
   "outputs": [
    {
     "name": "stderr",
     "output_type": "stream",
     "text": [
      "INFO:geodata.dataset:Directory /Users/williamhonaker/Desktop/davidson/data_for_geodata/merra2 found, checking for completeness.\n",
      "INFO:geodata.dataset:Directory complete.\n"
     ]
    }
   ],
   "source": [
    "import geodata\n",
    "import xarray as xr\n",
    "import logging\n",
    "logging.basicConfig(level=logging.INFO)\n",
    "DS_monthly = geodata.Dataset(module=\"merra2\",\n",
    "\t\t\t\t\t years=slice(2011, 2011),\n",
    "\t\t\t\t\t months=slice(1,1),\n",
    "                     weather_data_config = \"surface_flux_hourly\")  "
   ]
  },
  {
   "cell_type": "code",
   "execution_count": 2,
   "metadata": {},
   "outputs": [
    {
     "data": {
      "text/plain": [
       "{'module': 'merra2',\n",
       " 'config': 'surface_flux_hourly',\n",
       " 'dataset_module': <module 'geodata.datasets.merra2' from '/usr/local/lib/python3.7/site-packages/geodata-0.0.2-py3.7.egg/geodata/datasets/merra2.py'>,\n",
       " 'weatherconfig': {'file_granularity': 'daily',\n",
       "  'tasks_func': <function geodata.datasets.merra2.tasks_daily_merra2(xs, ys, yearmonths, prepare_func, **meta_attrs)>,\n",
       "  'meta_prepare_func': <function geodata.datasets.merra2.prepare_meta_merra2(xs, ys, year, month, template, module, **params)>,\n",
       "  'prepare_func': <function geodata.datasets.merra2.prepare_month_surface_flux(fn, year, month, xs, ys)>,\n",
       "  'template': '/Users/williamhonaker/Desktop/davidson/data_for_geodata/merra2/{year}/{month:0>2}/MERRA2_*.tavg1_2d_flx_Nx.*.nc4',\n",
       "  'url': 'https://goldsmr4.gesdisc.eosdis.nasa.gov/data/MERRA2/M2T1NXFLX.5.12.4/{year}/{month:0>2}/MERRA2_{spinup}.tavg1_2d_flx_Nx.{year}{month:0>2}{day:0>2}.nc4',\n",
       "  'fn': '/Users/williamhonaker/Desktop/davidson/data_for_geodata/merra2/{year}/{month:0>2}/MERRA2_{spinup}.tavg1_2d_flx_Nx.{year}{month:0>2}{day:0>2}.nc4',\n",
       "  'variables': ['ustar',\n",
       "   'z0m',\n",
       "   'disph',\n",
       "   'rhoa',\n",
       "   'ulml',\n",
       "   'vlml',\n",
       "   'tstar',\n",
       "   'hlml',\n",
       "   'tlml',\n",
       "   'pblh',\n",
       "   'hflux',\n",
       "   'eflux']},\n",
       " 'datadir': '/Users/williamhonaker/Desktop/davidson/data_for_geodata/merra2',\n",
       " 'years': slice(2011, 2011, None),\n",
       " 'months': slice(1, 1, None),\n",
       " 'prepared': True,\n",
       " 'toDownload': [],\n",
       " 'downloadedFiles': [('surface_flux_hourly',\n",
       "   '/Users/williamhonaker/Desktop/davidson/data_for_geodata/merra2/2011/01/MERRA2_400.tavg1_2d_flx_Nx.20110101.nc4'),\n",
       "  ('surface_flux_hourly',\n",
       "   '/Users/williamhonaker/Desktop/davidson/data_for_geodata/merra2/2011/01/MERRA2_400.tavg1_2d_flx_Nx.20110102.nc4'),\n",
       "  ('surface_flux_hourly',\n",
       "   '/Users/williamhonaker/Desktop/davidson/data_for_geodata/merra2/2011/01/MERRA2_400.tavg1_2d_flx_Nx.20110103.nc4'),\n",
       "  ('surface_flux_hourly',\n",
       "   '/Users/williamhonaker/Desktop/davidson/data_for_geodata/merra2/2011/01/MERRA2_400.tavg1_2d_flx_Nx.20110104.nc4'),\n",
       "  ('surface_flux_hourly',\n",
       "   '/Users/williamhonaker/Desktop/davidson/data_for_geodata/merra2/2011/01/MERRA2_400.tavg1_2d_flx_Nx.20110105.nc4'),\n",
       "  ('surface_flux_hourly',\n",
       "   '/Users/williamhonaker/Desktop/davidson/data_for_geodata/merra2/2011/01/MERRA2_400.tavg1_2d_flx_Nx.20110106.nc4'),\n",
       "  ('surface_flux_hourly',\n",
       "   '/Users/williamhonaker/Desktop/davidson/data_for_geodata/merra2/2011/01/MERRA2_400.tavg1_2d_flx_Nx.20110107.nc4'),\n",
       "  ('surface_flux_hourly',\n",
       "   '/Users/williamhonaker/Desktop/davidson/data_for_geodata/merra2/2011/01/MERRA2_400.tavg1_2d_flx_Nx.20110108.nc4'),\n",
       "  ('surface_flux_hourly',\n",
       "   '/Users/williamhonaker/Desktop/davidson/data_for_geodata/merra2/2011/01/MERRA2_400.tavg1_2d_flx_Nx.20110109.nc4'),\n",
       "  ('surface_flux_hourly',\n",
       "   '/Users/williamhonaker/Desktop/davidson/data_for_geodata/merra2/2011/01/MERRA2_400.tavg1_2d_flx_Nx.20110110.nc4'),\n",
       "  ('surface_flux_hourly',\n",
       "   '/Users/williamhonaker/Desktop/davidson/data_for_geodata/merra2/2011/01/MERRA2_400.tavg1_2d_flx_Nx.20110111.nc4'),\n",
       "  ('surface_flux_hourly',\n",
       "   '/Users/williamhonaker/Desktop/davidson/data_for_geodata/merra2/2011/01/MERRA2_400.tavg1_2d_flx_Nx.20110112.nc4'),\n",
       "  ('surface_flux_hourly',\n",
       "   '/Users/williamhonaker/Desktop/davidson/data_for_geodata/merra2/2011/01/MERRA2_400.tavg1_2d_flx_Nx.20110113.nc4'),\n",
       "  ('surface_flux_hourly',\n",
       "   '/Users/williamhonaker/Desktop/davidson/data_for_geodata/merra2/2011/01/MERRA2_400.tavg1_2d_flx_Nx.20110114.nc4'),\n",
       "  ('surface_flux_hourly',\n",
       "   '/Users/williamhonaker/Desktop/davidson/data_for_geodata/merra2/2011/01/MERRA2_400.tavg1_2d_flx_Nx.20110115.nc4'),\n",
       "  ('surface_flux_hourly',\n",
       "   '/Users/williamhonaker/Desktop/davidson/data_for_geodata/merra2/2011/01/MERRA2_400.tavg1_2d_flx_Nx.20110116.nc4'),\n",
       "  ('surface_flux_hourly',\n",
       "   '/Users/williamhonaker/Desktop/davidson/data_for_geodata/merra2/2011/01/MERRA2_400.tavg1_2d_flx_Nx.20110117.nc4'),\n",
       "  ('surface_flux_hourly',\n",
       "   '/Users/williamhonaker/Desktop/davidson/data_for_geodata/merra2/2011/01/MERRA2_400.tavg1_2d_flx_Nx.20110118.nc4'),\n",
       "  ('surface_flux_hourly',\n",
       "   '/Users/williamhonaker/Desktop/davidson/data_for_geodata/merra2/2011/01/MERRA2_400.tavg1_2d_flx_Nx.20110119.nc4'),\n",
       "  ('surface_flux_hourly',\n",
       "   '/Users/williamhonaker/Desktop/davidson/data_for_geodata/merra2/2011/01/MERRA2_400.tavg1_2d_flx_Nx.20110120.nc4'),\n",
       "  ('surface_flux_hourly',\n",
       "   '/Users/williamhonaker/Desktop/davidson/data_for_geodata/merra2/2011/01/MERRA2_400.tavg1_2d_flx_Nx.20110121.nc4'),\n",
       "  ('surface_flux_hourly',\n",
       "   '/Users/williamhonaker/Desktop/davidson/data_for_geodata/merra2/2011/01/MERRA2_400.tavg1_2d_flx_Nx.20110122.nc4'),\n",
       "  ('surface_flux_hourly',\n",
       "   '/Users/williamhonaker/Desktop/davidson/data_for_geodata/merra2/2011/01/MERRA2_400.tavg1_2d_flx_Nx.20110123.nc4'),\n",
       "  ('surface_flux_hourly',\n",
       "   '/Users/williamhonaker/Desktop/davidson/data_for_geodata/merra2/2011/01/MERRA2_400.tavg1_2d_flx_Nx.20110124.nc4'),\n",
       "  ('surface_flux_hourly',\n",
       "   '/Users/williamhonaker/Desktop/davidson/data_for_geodata/merra2/2011/01/MERRA2_400.tavg1_2d_flx_Nx.20110125.nc4'),\n",
       "  ('surface_flux_hourly',\n",
       "   '/Users/williamhonaker/Desktop/davidson/data_for_geodata/merra2/2011/01/MERRA2_400.tavg1_2d_flx_Nx.20110126.nc4'),\n",
       "  ('surface_flux_hourly',\n",
       "   '/Users/williamhonaker/Desktop/davidson/data_for_geodata/merra2/2011/01/MERRA2_400.tavg1_2d_flx_Nx.20110127.nc4'),\n",
       "  ('surface_flux_hourly',\n",
       "   '/Users/williamhonaker/Desktop/davidson/data_for_geodata/merra2/2011/01/MERRA2_400.tavg1_2d_flx_Nx.20110128.nc4'),\n",
       "  ('surface_flux_hourly',\n",
       "   '/Users/williamhonaker/Desktop/davidson/data_for_geodata/merra2/2011/01/MERRA2_400.tavg1_2d_flx_Nx.20110129.nc4'),\n",
       "  ('surface_flux_hourly',\n",
       "   '/Users/williamhonaker/Desktop/davidson/data_for_geodata/merra2/2011/01/MERRA2_400.tavg1_2d_flx_Nx.20110130.nc4'),\n",
       "  ('surface_flux_hourly',\n",
       "   '/Users/williamhonaker/Desktop/davidson/data_for_geodata/merra2/2011/01/MERRA2_400.tavg1_2d_flx_Nx.20110131.nc4')],\n",
       " 'totalFiles': [('surface_flux_hourly',\n",
       "   '/Users/williamhonaker/Desktop/davidson/data_for_geodata/merra2/2011/01/MERRA2_400.tavg1_2d_flx_Nx.20110101.nc4'),\n",
       "  ('surface_flux_hourly',\n",
       "   '/Users/williamhonaker/Desktop/davidson/data_for_geodata/merra2/2011/01/MERRA2_400.tavg1_2d_flx_Nx.20110102.nc4'),\n",
       "  ('surface_flux_hourly',\n",
       "   '/Users/williamhonaker/Desktop/davidson/data_for_geodata/merra2/2011/01/MERRA2_400.tavg1_2d_flx_Nx.20110103.nc4'),\n",
       "  ('surface_flux_hourly',\n",
       "   '/Users/williamhonaker/Desktop/davidson/data_for_geodata/merra2/2011/01/MERRA2_400.tavg1_2d_flx_Nx.20110104.nc4'),\n",
       "  ('surface_flux_hourly',\n",
       "   '/Users/williamhonaker/Desktop/davidson/data_for_geodata/merra2/2011/01/MERRA2_400.tavg1_2d_flx_Nx.20110105.nc4'),\n",
       "  ('surface_flux_hourly',\n",
       "   '/Users/williamhonaker/Desktop/davidson/data_for_geodata/merra2/2011/01/MERRA2_400.tavg1_2d_flx_Nx.20110106.nc4'),\n",
       "  ('surface_flux_hourly',\n",
       "   '/Users/williamhonaker/Desktop/davidson/data_for_geodata/merra2/2011/01/MERRA2_400.tavg1_2d_flx_Nx.20110107.nc4'),\n",
       "  ('surface_flux_hourly',\n",
       "   '/Users/williamhonaker/Desktop/davidson/data_for_geodata/merra2/2011/01/MERRA2_400.tavg1_2d_flx_Nx.20110108.nc4'),\n",
       "  ('surface_flux_hourly',\n",
       "   '/Users/williamhonaker/Desktop/davidson/data_for_geodata/merra2/2011/01/MERRA2_400.tavg1_2d_flx_Nx.20110109.nc4'),\n",
       "  ('surface_flux_hourly',\n",
       "   '/Users/williamhonaker/Desktop/davidson/data_for_geodata/merra2/2011/01/MERRA2_400.tavg1_2d_flx_Nx.20110110.nc4'),\n",
       "  ('surface_flux_hourly',\n",
       "   '/Users/williamhonaker/Desktop/davidson/data_for_geodata/merra2/2011/01/MERRA2_400.tavg1_2d_flx_Nx.20110111.nc4'),\n",
       "  ('surface_flux_hourly',\n",
       "   '/Users/williamhonaker/Desktop/davidson/data_for_geodata/merra2/2011/01/MERRA2_400.tavg1_2d_flx_Nx.20110112.nc4'),\n",
       "  ('surface_flux_hourly',\n",
       "   '/Users/williamhonaker/Desktop/davidson/data_for_geodata/merra2/2011/01/MERRA2_400.tavg1_2d_flx_Nx.20110113.nc4'),\n",
       "  ('surface_flux_hourly',\n",
       "   '/Users/williamhonaker/Desktop/davidson/data_for_geodata/merra2/2011/01/MERRA2_400.tavg1_2d_flx_Nx.20110114.nc4'),\n",
       "  ('surface_flux_hourly',\n",
       "   '/Users/williamhonaker/Desktop/davidson/data_for_geodata/merra2/2011/01/MERRA2_400.tavg1_2d_flx_Nx.20110115.nc4'),\n",
       "  ('surface_flux_hourly',\n",
       "   '/Users/williamhonaker/Desktop/davidson/data_for_geodata/merra2/2011/01/MERRA2_400.tavg1_2d_flx_Nx.20110116.nc4'),\n",
       "  ('surface_flux_hourly',\n",
       "   '/Users/williamhonaker/Desktop/davidson/data_for_geodata/merra2/2011/01/MERRA2_400.tavg1_2d_flx_Nx.20110117.nc4'),\n",
       "  ('surface_flux_hourly',\n",
       "   '/Users/williamhonaker/Desktop/davidson/data_for_geodata/merra2/2011/01/MERRA2_400.tavg1_2d_flx_Nx.20110118.nc4'),\n",
       "  ('surface_flux_hourly',\n",
       "   '/Users/williamhonaker/Desktop/davidson/data_for_geodata/merra2/2011/01/MERRA2_400.tavg1_2d_flx_Nx.20110119.nc4'),\n",
       "  ('surface_flux_hourly',\n",
       "   '/Users/williamhonaker/Desktop/davidson/data_for_geodata/merra2/2011/01/MERRA2_400.tavg1_2d_flx_Nx.20110120.nc4'),\n",
       "  ('surface_flux_hourly',\n",
       "   '/Users/williamhonaker/Desktop/davidson/data_for_geodata/merra2/2011/01/MERRA2_400.tavg1_2d_flx_Nx.20110121.nc4'),\n",
       "  ('surface_flux_hourly',\n",
       "   '/Users/williamhonaker/Desktop/davidson/data_for_geodata/merra2/2011/01/MERRA2_400.tavg1_2d_flx_Nx.20110122.nc4'),\n",
       "  ('surface_flux_hourly',\n",
       "   '/Users/williamhonaker/Desktop/davidson/data_for_geodata/merra2/2011/01/MERRA2_400.tavg1_2d_flx_Nx.20110123.nc4'),\n",
       "  ('surface_flux_hourly',\n",
       "   '/Users/williamhonaker/Desktop/davidson/data_for_geodata/merra2/2011/01/MERRA2_400.tavg1_2d_flx_Nx.20110124.nc4'),\n",
       "  ('surface_flux_hourly',\n",
       "   '/Users/williamhonaker/Desktop/davidson/data_for_geodata/merra2/2011/01/MERRA2_400.tavg1_2d_flx_Nx.20110125.nc4'),\n",
       "  ('surface_flux_hourly',\n",
       "   '/Users/williamhonaker/Desktop/davidson/data_for_geodata/merra2/2011/01/MERRA2_400.tavg1_2d_flx_Nx.20110126.nc4'),\n",
       "  ('surface_flux_hourly',\n",
       "   '/Users/williamhonaker/Desktop/davidson/data_for_geodata/merra2/2011/01/MERRA2_400.tavg1_2d_flx_Nx.20110127.nc4'),\n",
       "  ('surface_flux_hourly',\n",
       "   '/Users/williamhonaker/Desktop/davidson/data_for_geodata/merra2/2011/01/MERRA2_400.tavg1_2d_flx_Nx.20110128.nc4'),\n",
       "  ('surface_flux_hourly',\n",
       "   '/Users/williamhonaker/Desktop/davidson/data_for_geodata/merra2/2011/01/MERRA2_400.tavg1_2d_flx_Nx.20110129.nc4'),\n",
       "  ('surface_flux_hourly',\n",
       "   '/Users/williamhonaker/Desktop/davidson/data_for_geodata/merra2/2011/01/MERRA2_400.tavg1_2d_flx_Nx.20110130.nc4'),\n",
       "  ('surface_flux_hourly',\n",
       "   '/Users/williamhonaker/Desktop/davidson/data_for_geodata/merra2/2011/01/MERRA2_400.tavg1_2d_flx_Nx.20110131.nc4')]}"
      ]
     },
     "execution_count": 2,
     "metadata": {},
     "output_type": "execute_result"
    }
   ],
   "source": [
    "## Verify Dataset\n",
    "DS_monthly.__dict__"
   ]
  },
  {
   "cell_type": "code",
   "execution_count": 3,
   "metadata": {},
   "outputs": [],
   "source": [
    "if DS_monthly.prepared == False:\n",
    "\tDS_monthly.get_data()"
   ]
  },
  {
   "cell_type": "markdown",
   "metadata": {},
   "source": [
    "## 2. Trim"
   ]
  },
  {
   "cell_type": "code",
   "execution_count": 4,
   "metadata": {},
   "outputs": [],
   "source": [
    "## Variables before trimming\n",
    "ds = xr.open_dataset(DS_monthly.downloadedFiles[1][1])\n",
    "ds.data_vars"
   ]
  },
  {
   "cell_type": "code",
   "execution_count": 7,
   "metadata": {},
   "outputs": [
    {
     "data": {
      "text/plain": [
       "24"
      ]
     },
     "execution_count": 7,
     "metadata": {},
     "output_type": "execute_result"
    }
   ],
   "source": [
    "len(ds.coords['time'])"
   ]
  },
  {
   "cell_type": "code",
   "execution_count": null,
   "metadata": {},
   "outputs": [],
   "source": [
    "# No longer need downloadedFiles = True\n",
    "DS_monthly.trim_variables()"
   ]
  },
  {
   "cell_type": "code",
   "execution_count": null,
   "metadata": {},
   "outputs": [],
   "source": [
    "## Variables after trimming\n",
    "ds = xr.open_dataset(DS_monthly.downloadedFiles[1][1])\n",
    "list(ds.data_vars)"
   ]
  },
  {
   "cell_type": "code",
   "execution_count": null,
   "metadata": {},
   "outputs": [],
   "source": [
    "# True if variables in trimmed dataset equal variables in config \n",
    "DS_monthly.weatherconfig['variables'] == list(ds.data_vars)"
   ]
  },
  {
   "cell_type": "markdown",
   "metadata": {},
   "source": [
    "# 3. Create Cutout"
   ]
  },
  {
   "cell_type": "code",
   "execution_count": null,
   "metadata": {},
   "outputs": [],
   "source": [
    "cutout = geodata.Cutout(name=\"tokyo-2011-1-test\",\n",
    "                       module=\"merra2\",\n",
    "                       weather_data_config=\"surface_flux_hourly\",\n",
    "                       xs=slice(138.5, 139.5),\n",
    "                       ys=slice(35, 36),\n",
    "                       years=slice(2011, 2011),\n",
    "                       months=slice(1,1))"
   ]
  },
  {
   "cell_type": "code",
   "execution_count": null,
   "metadata": {},
   "outputs": [],
   "source": [
    "cutout.prepare()"
   ]
  },
  {
   "cell_type": "code",
   "execution_count": null,
   "metadata": {},
   "outputs": [],
   "source": [
    "## Verify Cutout Contents\n",
    "cutout.__dict__"
   ]
  },
  {
   "cell_type": "code",
   "execution_count": null,
   "metadata": {},
   "outputs": [],
   "source": [
    "## Verify Cutout Coords\n",
    "cutout.coords"
   ]
  },
  {
   "cell_type": "markdown",
   "metadata": {},
   "source": [
    "# 4. Generate Outputs"
   ]
  },
  {
   "cell_type": "code",
   "execution_count": null,
   "metadata": {},
   "outputs": [],
   "source": [
    "ds_wind = geodata.convert.wind(\n",
    "                 cutout, \n",
    "                 turbine='Suzlon_S82_1.5_MW', \n",
    "                 smooth=True, \n",
    "                 var_height='lml')\n",
    "ds_wind"
   ]
  },
  {
   "cell_type": "code",
   "execution_count": null,
   "metadata": {},
   "outputs": [],
   "source": [
    "df_wind = ds_wind.to_dataframe(name='wind')\n",
    "df_wind"
   ]
  },
  {
   "cell_type": "code",
   "execution_count": null,
   "metadata": {},
   "outputs": [],
   "source": [
    "ds_windwpd = geodata.convert.windwpd(\n",
    "                cutout, \n",
    "                turbine='Vestas_V66_1750kW', \n",
    "                var_height='lml')\n",
    "ds_windwpd"
   ]
  },
  {
   "cell_type": "code",
   "execution_count": null,
   "metadata": {},
   "outputs": [],
   "source": [
    "df_windwpd = ds_windwpd.to_dataframe(name='windwpd')\n",
    "df_windwpd"
   ]
  },
  {
   "cell_type": "code",
   "execution_count": null,
   "metadata": {},
   "outputs": [],
   "source": [
    "ds_windspd = geodata.convert.windspd(\n",
    "                cutout, \n",
    "                turbine='Vestas_V66_1750kW', \n",
    "                var_height='lml')\n",
    "ds_windspd"
   ]
  },
  {
   "cell_type": "code",
   "execution_count": null,
   "metadata": {},
   "outputs": [],
   "source": [
    "df_windspd = ds_windwpd.to_dataframe(name='windspd')\n",
    "df_windspd"
   ]
  }
 ],
 "metadata": {
  "kernelspec": {
   "display_name": "Python 3",
   "language": "python",
   "name": "python3"
  },
  "language_info": {
   "codemirror_mode": {
    "name": "ipython",
    "version": 3
   },
   "file_extension": ".py",
   "mimetype": "text/x-python",
   "name": "python",
   "nbconvert_exporter": "python",
   "pygments_lexer": "ipython3",
   "version": "3.7.4"
  }
 },
 "nbformat": 4,
 "nbformat_minor": 4
}
