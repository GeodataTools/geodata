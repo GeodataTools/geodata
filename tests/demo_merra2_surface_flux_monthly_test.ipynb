{
 "cells": [
  {
   "cell_type": "markdown",
   "metadata": {},
   "source": [
    "# MERRA2 Monthly Granularity Demo\n",
    "- Download\n",
    "- Trim\n",
    "- Create Cutout\n",
    "- Generate Wind Outputs"
   ]
  },
  {
   "cell_type": "markdown",
   "metadata": {},
   "source": [
    "# 1. Imports and Download"
   ]
  },
  {
   "cell_type": "code",
<<<<<<< HEAD:tests/merra2_surface_flux_monthly_test.ipynb
   "execution_count": null,
=======
   "execution_count": 4,
>>>>>>> 354673cc34128effd05b646301b132f567a1f431:tests/demo_merra2_surface_flux_monthly_test.ipynb
   "metadata": {},
   "outputs": [],
   "source": [
    "import geodata\n",
    "import xarray as xr\n",
    "import logging\n",
    "logging.basicConfig(level=logging.INFO)\n",
    "DS_monthly = geodata.Dataset(module=\"merra2\",\n",
<<<<<<< HEAD:tests/merra2_surface_flux_monthly_test.ipynb
    "\t\t\t\t\t years=slice(2007, 2007),\n",
=======
    "\t\t\t\t\t years=slice(2020, 2020),\n",
>>>>>>> 354673cc34128effd05b646301b132f567a1f431:tests/demo_merra2_surface_flux_monthly_test.ipynb
    "\t\t\t\t\t months=slice(1,1),\n",
    "                     weather_data_config = \"surface_flux_monthly\")  "
   ]
  },
  {
   "cell_type": "code",
<<<<<<< HEAD:tests/merra2_surface_flux_monthly_test.ipynb
   "execution_count": null,
   "metadata": {},
   "outputs": [],
=======
   "execution_count": 5,
   "metadata": {},
   "outputs": [
    {
     "data": {
      "text/plain": [
       "{'module': 'merra2',\n",
       " 'config': 'surface_flux_monthly',\n",
       " 'dataset_module': <module 'geodata.datasets.merra2' from '/usr/local/lib/python3.7/site-packages/geodata-0.0.1-py3.7.egg/geodata/datasets/merra2.py'>,\n",
       " 'weatherconfig': {'file_granularity': 'monthly',\n",
       "  'tasks_func': <function geodata.datasets.merra2.tasks_monthly_merra2(xs, ys, yearmonths, prepare_func, **meta_attrs)>,\n",
       "  'meta_prepare_func': <function geodata.datasets.merra2.prepare_meta_merra2(xs, ys, year, month, template, module, **params)>,\n",
       "  'prepare_func': <function geodata.datasets.merra2.prepare_month_surface_flux(fn, year, month, xs, ys)>,\n",
       "  'template': '/Users/williamhonaker/Desktop/davidson/data_for_geodata/merra2/{year}/MERRA2_*.tavgM_2d_flx_Nx.*.nc4',\n",
       "  'url': 'https://goldsmr4.gesdisc.eosdis.nasa.gov/data/MERRA2_MONTHLY/M2TMNXFLX.5.12.4/{year}/MERRA2_{spinup}.tavgM_2d_flx_Nx.{year}{month:0>2}.nc4',\n",
       "  'fn': '/Users/williamhonaker/Desktop/davidson/data_for_geodata/merra2/{year}/MERRA2_{spinup}.tavgM_2d_flx_Nx.{year}{month:0>2}.nc4',\n",
       "  'variables': ['ustar',\n",
       "   'z0m',\n",
       "   'disph',\n",
       "   'rhoa',\n",
       "   'ulml',\n",
       "   'vlml',\n",
       "   'tstar',\n",
       "   'hlml',\n",
       "   'tlml',\n",
       "   'pblh',\n",
       "   'hflux',\n",
       "   'eflux']},\n",
       " 'datadir': '/Users/williamhonaker/Desktop/davidson/data_for_geodata/merra2',\n",
       " 'years': slice(2020, 2020, None),\n",
       " 'months': slice(1, 1, None),\n",
       " 'prepared': True,\n",
       " 'toDownload': [],\n",
       " 'downloadedFiles': [('surface_flux_monthly',\n",
       "   '/Users/williamhonaker/Desktop/davidson/data_for_geodata/merra2/2020/MERRA2_400.tavgM_2d_flx_Nx.202001.nc4')],\n",
       " 'totalFiles': [('surface_flux_monthly',\n",
       "   '/Users/williamhonaker/Desktop/davidson/data_for_geodata/merra2/2020/MERRA2_400.tavgM_2d_flx_Nx.202001.nc4')]}"
      ]
     },
     "execution_count": 5,
     "metadata": {},
     "output_type": "execute_result"
    }
   ],
>>>>>>> 354673cc34128effd05b646301b132f567a1f431:tests/demo_merra2_surface_flux_monthly_test.ipynb
   "source": [
    "## Verify Dataset\n",
    "DS_monthly.__dict__"
   ]
  },
  {
   "cell_type": "code",
<<<<<<< HEAD:tests/merra2_surface_flux_monthly_test.ipynb
   "execution_count": null,
   "metadata": {},
   "outputs": [],
=======
   "execution_count": 3,
   "metadata": {},
   "outputs": [
    {
     "name": "stdout",
     "output_type": "stream",
     "text": [
      "('surface_flux_monthly', '/Users/williamhonaker/Desktop/davidson/data_for_geodata/merra2/2020/MERRA2_400.tavgM_2d_flx_Nx.202001.nc4', 'https://goldsmr4.gesdisc.eosdis.nasa.gov/data/MERRA2_MONTHLY/M2TMNXFLX.5.12.4/2020/MERRA2_400.tavgM_2d_flx_Nx.202001.nc4')\n",
      "file completed\n"
     ]
    }
   ],
>>>>>>> 354673cc34128effd05b646301b132f567a1f431:tests/demo_merra2_surface_flux_monthly_test.ipynb
   "source": [
    "if DS_monthly.prepared == False:\n",
    "\tDS_monthly.get_data()"
   ]
  },
  {
   "cell_type": "markdown",
   "metadata": {},
   "source": [
    "## 2. Trim"
   ]
  },
  {
   "cell_type": "code",
<<<<<<< HEAD:tests/merra2_surface_flux_monthly_test.ipynb
   "execution_count": null,
   "metadata": {},
   "outputs": [],
=======
   "execution_count": 6,
   "metadata": {
    "collapsed": true,
    "jupyter": {
     "outputs_hidden": true
    }
   },
   "outputs": [
    {
     "data": {
      "text/plain": [
       "Data variables:\n",
       "    BSTAR            (time, lat, lon) float32 ...\n",
       "    CDH              (time, lat, lon) float32 ...\n",
       "    CDM              (time, lat, lon) float32 ...\n",
       "    CDQ              (time, lat, lon) float32 ...\n",
       "    CN               (time, lat, lon) float32 ...\n",
       "    DISPH            (time, lat, lon) float32 ...\n",
       "    EFLUX            (time, lat, lon) float32 ...\n",
       "    EVAP             (time, lat, lon) float32 ...\n",
       "    FRCAN            (time, lat, lon) float32 ...\n",
       "    FRCCN            (time, lat, lon) float32 ...\n",
       "    FRCLS            (time, lat, lon) float32 ...\n",
       "    FRSEAICE         (time, lat, lon) float32 ...\n",
       "    GHTSKIN          (time, lat, lon) float32 ...\n",
       "    HFLUX            (time, lat, lon) float32 ...\n",
       "    HLML             (time, lat, lon) float32 ...\n",
       "    NIRDF            (time, lat, lon) float32 ...\n",
       "    NIRDR            (time, lat, lon) float32 ...\n",
       "    PBLH             (time, lat, lon) float32 ...\n",
       "    PGENTOT          (time, lat, lon) float32 ...\n",
       "    PRECANV          (time, lat, lon) float32 ...\n",
       "    PRECCON          (time, lat, lon) float32 ...\n",
       "    PRECLSC          (time, lat, lon) float32 ...\n",
       "    PRECSNO          (time, lat, lon) float32 ...\n",
       "    PRECTOT          (time, lat, lon) float32 ...\n",
       "    PRECTOTCORR      (time, lat, lon) float32 ...\n",
       "    PREVTOT          (time, lat, lon) float32 ...\n",
       "    QLML             (time, lat, lon) float32 ...\n",
       "    QSH              (time, lat, lon) float32 ...\n",
       "    QSTAR            (time, lat, lon) float32 ...\n",
       "    RHOA             (time, lat, lon) float32 ...\n",
       "    RISFC            (time, lat, lon) float32 ...\n",
       "    SPEED            (time, lat, lon) float32 ...\n",
       "    SPEEDMAX         (time, lat, lon) float32 ...\n",
       "    TAUGWX           (time, lat, lon) float32 ...\n",
       "    TAUGWY           (time, lat, lon) float32 ...\n",
       "    TAUX             (time, lat, lon) float32 ...\n",
       "    TAUY             (time, lat, lon) float32 ...\n",
       "    TCZPBL           (time, lat, lon) float32 ...\n",
       "    TLML             (time, lat, lon) float32 ...\n",
       "    TSH              (time, lat, lon) float32 ...\n",
       "    TSTAR            (time, lat, lon) float32 ...\n",
       "    ULML             (time, lat, lon) float32 ...\n",
       "    USTAR            (time, lat, lon) float32 ...\n",
       "    VLML             (time, lat, lon) float32 ...\n",
       "    Z0H              (time, lat, lon) float32 ...\n",
       "    Z0M              (time, lat, lon) float32 ...\n",
       "    Var_BSTAR        (time, lat, lon) float32 ...\n",
       "    Var_CDH          (time, lat, lon) float32 ...\n",
       "    Var_CDM          (time, lat, lon) float32 ...\n",
       "    Var_CDQ          (time, lat, lon) float32 ...\n",
       "    Var_CN           (time, lat, lon) float32 ...\n",
       "    Var_DISPH        (time, lat, lon) float32 ...\n",
       "    Var_EFLUX        (time, lat, lon) float32 ...\n",
       "    Var_EVAP         (time, lat, lon) float32 ...\n",
       "    Var_FRCAN        (time, lat, lon) float32 ...\n",
       "    Var_FRCCN        (time, lat, lon) float32 ...\n",
       "    Var_FRCLS        (time, lat, lon) float32 ...\n",
       "    Var_FRSEAICE     (time, lat, lon) float32 ...\n",
       "    Var_GHTSKIN      (time, lat, lon) float32 ...\n",
       "    Var_HFLUX        (time, lat, lon) float32 ...\n",
       "    Var_HLML         (time, lat, lon) float32 ...\n",
       "    Var_NIRDF        (time, lat, lon) float32 ...\n",
       "    Var_NIRDR        (time, lat, lon) float32 ...\n",
       "    Var_PBLH         (time, lat, lon) float32 ...\n",
       "    Var_PGENTOT      (time, lat, lon) float32 ...\n",
       "    Var_PRECANV      (time, lat, lon) float32 ...\n",
       "    Var_PRECCON      (time, lat, lon) float32 ...\n",
       "    Var_PRECLSC      (time, lat, lon) float32 ...\n",
       "    Var_PRECSNO      (time, lat, lon) float32 ...\n",
       "    Var_PRECTOT      (time, lat, lon) float32 ...\n",
       "    Var_PRECTOTCORR  (time, lat, lon) float32 ...\n",
       "    Var_PREVTOT      (time, lat, lon) float32 ...\n",
       "    Var_QLML         (time, lat, lon) float32 ...\n",
       "    Var_QSH          (time, lat, lon) float32 ...\n",
       "    Var_QSTAR        (time, lat, lon) float32 ...\n",
       "    Var_RHOA         (time, lat, lon) float32 ...\n",
       "    Var_RISFC        (time, lat, lon) float32 ...\n",
       "    Var_SPEED        (time, lat, lon) float32 ...\n",
       "    Var_SPEEDMAX     (time, lat, lon) float32 ...\n",
       "    Var_TAUGWX       (time, lat, lon) float32 ...\n",
       "    Var_TAUGWY       (time, lat, lon) float32 ...\n",
       "    Var_TAUX         (time, lat, lon) float32 ...\n",
       "    Var_TAUY         (time, lat, lon) float32 ...\n",
       "    Var_TCZPBL       (time, lat, lon) float32 ...\n",
       "    Var_TLML         (time, lat, lon) float32 ...\n",
       "    Var_TSH          (time, lat, lon) float32 ...\n",
       "    Var_TSTAR        (time, lat, lon) float32 ...\n",
       "    Var_ULML         (time, lat, lon) float32 ...\n",
       "    Var_USTAR        (time, lat, lon) float32 ...\n",
       "    Var_VLML         (time, lat, lon) float32 ...\n",
       "    Var_Z0H          (time, lat, lon) float32 ...\n",
       "    Var_Z0M          (time, lat, lon) float32 ..."
      ]
     },
     "execution_count": 6,
     "metadata": {},
     "output_type": "execute_result"
    }
   ],
>>>>>>> 354673cc34128effd05b646301b132f567a1f431:tests/demo_merra2_surface_flux_monthly_test.ipynb
   "source": [
    "## Variables before trimming\n",
    "ds = xr.open_dataset(DS_monthly.downloadedFiles[0][1])\n",
    "ds.data_vars"
   ]
  },
  {
   "cell_type": "code",
<<<<<<< HEAD:tests/merra2_surface_flux_monthly_test.ipynb
   "execution_count": null,
=======
   "execution_count": 7,
   "metadata": {},
   "outputs": [
    {
     "data": {
      "text/plain": [
       "24"
      ]
     },
     "execution_count": 7,
     "metadata": {},
     "output_type": "execute_result"
    }
   ],
   "source": [
    "len(ds.coords['time'])"
   ]
  },
  {
   "cell_type": "code",
   "execution_count": 7,
>>>>>>> 354673cc34128effd05b646301b132f567a1f431:tests/demo_merra2_surface_flux_monthly_test.ipynb
   "metadata": {},
   "outputs": [],
   "source": [
    "# No longer need downloadedFiles = True\n",
    "DS_monthly.trim_variables()"
   ]
  },
  {
   "cell_type": "code",
<<<<<<< HEAD:tests/merra2_surface_flux_monthly_test.ipynb
   "execution_count": null,
=======
   "execution_count": 9,
>>>>>>> 354673cc34128effd05b646301b132f567a1f431:tests/demo_merra2_surface_flux_monthly_test.ipynb
   "metadata": {},
   "outputs": [
    {
     "data": {
      "text/plain": [
       "['ustar',\n",
       " 'z0m',\n",
       " 'disph',\n",
       " 'rhoa',\n",
       " 'ulml',\n",
       " 'vlml',\n",
       " 'tstar',\n",
       " 'hlml',\n",
       " 'tlml',\n",
       " 'pblh',\n",
       " 'hflux',\n",
       " 'eflux']"
      ]
     },
     "execution_count": 9,
     "metadata": {},
     "output_type": "execute_result"
    }
   ],
   "source": [
    "## Variables after trimming\n",
    "ds = xr.open_dataset(DS_monthly.downloadedFiles[0][1])\n",
    "list(ds.data_vars)"
   ]
  },
  {
   "cell_type": "code",
   "execution_count": null,
   "metadata": {},
   "outputs": [],
   "source": [
    "# True if variables in trimmed dataset equal variables in config \n",
    "DS_monthly.weatherconfig['variables'] == list(ds.data_vars)"
   ]
  },
  {
   "cell_type": "markdown",
   "metadata": {},
   "source": [
    "# 3. Create Cutout"
   ]
  },
  {
   "cell_type": "code",
<<<<<<< HEAD:tests/merra2_surface_flux_monthly_test.ipynb
   "execution_count": null,
   "metadata": {},
   "outputs": [],
=======
   "execution_count": 10,
   "metadata": {},
   "outputs": [
    {
     "name": "stderr",
     "output_type": "stream",
     "text": [
      "INFO:geodata.cutout:All cutout (tokyo-2011-1-test, /Users/williamhonaker/Desktop/davidson/data_for_geodata/cutouts) files available.\n",
      "INFO:geodata.preparation:[4, 1, 1, 10]\n",
      "INFO:geodata.cutout:Cutout subset prepared: <Cutout tokyo-2011-1-test x=138.75-139.38 y=35.00-36.00 time=2011/1-2011/1 prepared>\n"
     ]
    }
   ],
>>>>>>> 354673cc34128effd05b646301b132f567a1f431:tests/demo_merra2_surface_flux_monthly_test.ipynb
   "source": [
    "cutout = geodata.Cutout(name=\"tokyo-2011-1-test\",\n",
    "                       module=\"merra2\",\n",
    "                       weather_data_config=\"surface_flux_hourly\",\n",
    "                       xs=slice(138.5, 139.5),\n",
    "                       ys=slice(35, 36),\n",
    "                       years=slice(2011, 2011),\n",
    "                       months=slice(1,1))"
   ]
  },
  {
   "cell_type": "code",
<<<<<<< HEAD:tests/merra2_surface_flux_monthly_test.ipynb
   "execution_count": null,
   "metadata": {},
   "outputs": [],
=======
   "execution_count": 11,
   "metadata": {},
   "outputs": [
    {
     "name": "stderr",
     "output_type": "stream",
     "text": [
      "INFO:geodata.preparation:The cutout is already prepared. If you want to recalculate it, supply an `overwrite=True` argument.\n"
     ]
    },
    {
     "data": {
      "text/plain": [
       "True"
      ]
     },
     "execution_count": 11,
     "metadata": {},
     "output_type": "execute_result"
    }
   ],
>>>>>>> 354673cc34128effd05b646301b132f567a1f431:tests/demo_merra2_surface_flux_monthly_test.ipynb
   "source": [
    "cutout.prepare()"
   ]
  },
  {
   "cell_type": "code",
   "execution_count": null,
<<<<<<< HEAD:tests/merra2_surface_flux_monthly_test.ipynb
   "metadata": {},
   "outputs": [],
   "source": [
    "## Verify Cutout Contents\n",
    "cutout.__dict__"
   ]
  },
  {
   "cell_type": "code",
   "execution_count": null,
   "metadata": {},
   "outputs": [],
   "source": [
=======
   "metadata": {},
   "outputs": [],
   "source": [
    "## Verify Cutout Contents\n",
    "cutout.__dict__"
   ]
  },
  {
   "cell_type": "code",
   "execution_count": 12,
   "metadata": {},
   "outputs": [
    {
     "data": {
      "text/plain": [
       "Coordinates:\n",
       "  * x           (x) float64 138.8 139.4\n",
       "  * time        (time) datetime64[ns] 2011-01-01T00:30:00 ... 2011-01-31T23:30:00\n",
       "  * y           (y) float64 35.0 35.5 36.0\n",
       "    lon         (x) float64 ...\n",
       "    lat         (y) float64 ...\n",
       "  * year-month  (year-month) MultiIndex\n",
       "  - year        (year-month) int64 2011\n",
       "  - month       (year-month) int64 1"
      ]
     },
     "execution_count": 12,
     "metadata": {},
     "output_type": "execute_result"
    }
   ],
   "source": [
>>>>>>> 354673cc34128effd05b646301b132f567a1f431:tests/demo_merra2_surface_flux_monthly_test.ipynb
    "## Verify Cutout Coords\n",
    "cutout.coords"
   ]
  },
  {
   "cell_type": "markdown",
   "metadata": {},
   "source": [
    "# 4. Generate Outputs"
   ]
  },
  {
   "cell_type": "code",
<<<<<<< HEAD:tests/merra2_surface_flux_monthly_test.ipynb
   "execution_count": null,
   "metadata": {},
   "outputs": [],
=======
   "execution_count": 13,
   "metadata": {},
   "outputs": [
    {
     "data": {
      "text/html": [
       "<pre>&lt;xarray.DataArray (time: 744, y: 3, x: 2)&gt;\n",
       "array([[[0.22381513, 0.0863156 ],\n",
       "        [0.13271609, 0.13258754],\n",
       "        [0.29859448, 0.12443255]],\n",
       "\n",
       "       [[0.24798926, 0.07104576],\n",
       "        [0.13564859, 0.12183108],\n",
       "        [0.31510828, 0.12959776]],\n",
       "\n",
       "       [[0.21642724, 0.04677592],\n",
       "        [0.09452348, 0.09022951],\n",
       "        [0.26350894, 0.12234274]],\n",
       "\n",
       "       ...,\n",
       "\n",
       "       [[0.1696953 , 0.26896665],\n",
       "        [0.11345962, 0.10623499],\n",
       "        [0.5983832 , 0.2271489 ]],\n",
       "\n",
       "       [[0.13690319, 0.20564183],\n",
       "        [0.10115312, 0.09842402],\n",
       "        [0.59542333, 0.22139307]],\n",
       "\n",
       "       [[0.10713072, 0.13632084],\n",
       "        [0.08464646, 0.06526963],\n",
       "        [0.5232797 , 0.13272315]]])\n",
       "Coordinates:\n",
       "    lat      (y) float64 35.0 35.5 36.0\n",
       "    lon      (x) float64 138.8 139.4\n",
       "  * y        (y) float64 35.0 35.5 36.0\n",
       "  * x        (x) float64 138.8 139.4\n",
       "  * time     (time) datetime64[ns] 2011-01-01T00:30:00 ... 2011-01-31T23:30:00</pre>"
      ],
      "text/plain": [
       "<xarray.DataArray (time: 744, y: 3, x: 2)>\n",
       "array([[[0.22381513, 0.0863156 ],\n",
       "        [0.13271609, 0.13258754],\n",
       "        [0.29859448, 0.12443255]],\n",
       "\n",
       "       [[0.24798926, 0.07104576],\n",
       "        [0.13564859, 0.12183108],\n",
       "        [0.31510828, 0.12959776]],\n",
       "\n",
       "       [[0.21642724, 0.04677592],\n",
       "        [0.09452348, 0.09022951],\n",
       "        [0.26350894, 0.12234274]],\n",
       "\n",
       "       ...,\n",
       "\n",
       "       [[0.1696953 , 0.26896665],\n",
       "        [0.11345962, 0.10623499],\n",
       "        [0.5983832 , 0.2271489 ]],\n",
       "\n",
       "       [[0.13690319, 0.20564183],\n",
       "        [0.10115312, 0.09842402],\n",
       "        [0.59542333, 0.22139307]],\n",
       "\n",
       "       [[0.10713072, 0.13632084],\n",
       "        [0.08464646, 0.06526963],\n",
       "        [0.5232797 , 0.13272315]]])\n",
       "Coordinates:\n",
       "    lat      (y) float64 35.0 35.5 36.0\n",
       "    lon      (x) float64 138.8 139.4\n",
       "  * y        (y) float64 35.0 35.5 36.0\n",
       "  * x        (x) float64 138.8 139.4\n",
       "  * time     (time) datetime64[ns] 2011-01-01T00:30:00 ... 2011-01-31T23:30:00"
      ]
     },
     "execution_count": 13,
     "metadata": {},
     "output_type": "execute_result"
    }
   ],
>>>>>>> 354673cc34128effd05b646301b132f567a1f431:tests/demo_merra2_surface_flux_monthly_test.ipynb
   "source": [
    "ds_wind = geodata.convert.wind(\n",
    "                 cutout, \n",
    "                 turbine='Suzlon_S82_1.5_MW', \n",
    "                 smooth=True, \n",
    "                 var_height='lml')\n",
    "ds_wind"
   ]
  },
  {
   "cell_type": "code",
<<<<<<< HEAD:tests/merra2_surface_flux_monthly_test.ipynb
   "execution_count": null,
   "metadata": {},
   "outputs": [],
   "source": [
    "df_wind = ds_wind.to_dataframe(name='wind')\n",
    "df_wind"
   ]
  },
  {
   "cell_type": "code",
   "execution_count": null,
   "metadata": {},
   "outputs": [],
   "source": [
    "df_wind.to_csv('wind_test_monthly.csv')"
=======
   "execution_count": 14,
   "metadata": {},
   "outputs": [
    {
     "data": {
      "text/html": [
       "<div>\n",
       "<style scoped>\n",
       "    .dataframe tbody tr th:only-of-type {\n",
       "        vertical-align: middle;\n",
       "    }\n",
       "\n",
       "    .dataframe tbody tr th {\n",
       "        vertical-align: top;\n",
       "    }\n",
       "\n",
       "    .dataframe thead th {\n",
       "        text-align: right;\n",
       "    }\n",
       "</style>\n",
       "<table border=\"1\" class=\"dataframe\">\n",
       "  <thead>\n",
       "    <tr style=\"text-align: right;\">\n",
       "      <th></th>\n",
       "      <th></th>\n",
       "      <th></th>\n",
       "      <th>lat</th>\n",
       "      <th>lon</th>\n",
       "      <th>wind</th>\n",
       "    </tr>\n",
       "    <tr>\n",
       "      <th>time</th>\n",
       "      <th>y</th>\n",
       "      <th>x</th>\n",
       "      <th></th>\n",
       "      <th></th>\n",
       "      <th></th>\n",
       "    </tr>\n",
       "  </thead>\n",
       "  <tbody>\n",
       "    <tr>\n",
       "      <th rowspan=\"5\" valign=\"top\">2011-01-01 00:30:00</th>\n",
       "      <th rowspan=\"2\" valign=\"top\">35.0</th>\n",
       "      <th>138.750</th>\n",
       "      <td>35.0</td>\n",
       "      <td>138.750</td>\n",
       "      <td>0.223815</td>\n",
       "    </tr>\n",
       "    <tr>\n",
       "      <th>139.375</th>\n",
       "      <td>35.0</td>\n",
       "      <td>139.375</td>\n",
       "      <td>0.086316</td>\n",
       "    </tr>\n",
       "    <tr>\n",
       "      <th rowspan=\"2\" valign=\"top\">35.5</th>\n",
       "      <th>138.750</th>\n",
       "      <td>35.5</td>\n",
       "      <td>138.750</td>\n",
       "      <td>0.132716</td>\n",
       "    </tr>\n",
       "    <tr>\n",
       "      <th>139.375</th>\n",
       "      <td>35.5</td>\n",
       "      <td>139.375</td>\n",
       "      <td>0.132588</td>\n",
       "    </tr>\n",
       "    <tr>\n",
       "      <th>36.0</th>\n",
       "      <th>138.750</th>\n",
       "      <td>36.0</td>\n",
       "      <td>138.750</td>\n",
       "      <td>0.298594</td>\n",
       "    </tr>\n",
       "    <tr>\n",
       "      <th>...</th>\n",
       "      <th>...</th>\n",
       "      <th>...</th>\n",
       "      <td>...</td>\n",
       "      <td>...</td>\n",
       "      <td>...</td>\n",
       "    </tr>\n",
       "    <tr>\n",
       "      <th rowspan=\"5\" valign=\"top\">2011-01-31 23:30:00</th>\n",
       "      <th>35.0</th>\n",
       "      <th>139.375</th>\n",
       "      <td>35.0</td>\n",
       "      <td>139.375</td>\n",
       "      <td>0.136321</td>\n",
       "    </tr>\n",
       "    <tr>\n",
       "      <th rowspan=\"2\" valign=\"top\">35.5</th>\n",
       "      <th>138.750</th>\n",
       "      <td>35.5</td>\n",
       "      <td>138.750</td>\n",
       "      <td>0.084646</td>\n",
       "    </tr>\n",
       "    <tr>\n",
       "      <th>139.375</th>\n",
       "      <td>35.5</td>\n",
       "      <td>139.375</td>\n",
       "      <td>0.065270</td>\n",
       "    </tr>\n",
       "    <tr>\n",
       "      <th rowspan=\"2\" valign=\"top\">36.0</th>\n",
       "      <th>138.750</th>\n",
       "      <td>36.0</td>\n",
       "      <td>138.750</td>\n",
       "      <td>0.523280</td>\n",
       "    </tr>\n",
       "    <tr>\n",
       "      <th>139.375</th>\n",
       "      <td>36.0</td>\n",
       "      <td>139.375</td>\n",
       "      <td>0.132723</td>\n",
       "    </tr>\n",
       "  </tbody>\n",
       "</table>\n",
       "<p>4464 rows × 3 columns</p>\n",
       "</div>"
      ],
      "text/plain": [
       "                                   lat      lon      wind\n",
       "time                y    x                               \n",
       "2011-01-01 00:30:00 35.0 138.750  35.0  138.750  0.223815\n",
       "                         139.375  35.0  139.375  0.086316\n",
       "                    35.5 138.750  35.5  138.750  0.132716\n",
       "                         139.375  35.5  139.375  0.132588\n",
       "                    36.0 138.750  36.0  138.750  0.298594\n",
       "...                                ...      ...       ...\n",
       "2011-01-31 23:30:00 35.0 139.375  35.0  139.375  0.136321\n",
       "                    35.5 138.750  35.5  138.750  0.084646\n",
       "                         139.375  35.5  139.375  0.065270\n",
       "                    36.0 138.750  36.0  138.750  0.523280\n",
       "                         139.375  36.0  139.375  0.132723\n",
       "\n",
       "[4464 rows x 3 columns]"
      ]
     },
     "execution_count": 14,
     "metadata": {},
     "output_type": "execute_result"
    }
   ],
   "source": [
    "df_wind = ds_wind.to_dataframe(name='wind')\n",
    "df_wind"
>>>>>>> 354673cc34128effd05b646301b132f567a1f431:tests/demo_merra2_surface_flux_monthly_test.ipynb
   ]
  },
  {
   "cell_type": "code",
<<<<<<< HEAD:tests/merra2_surface_flux_monthly_test.ipynb
   "execution_count": null,
   "metadata": {},
   "outputs": [],
=======
   "execution_count": 15,
   "metadata": {},
   "outputs": [],
   "source": [
    "df_wind.to_csv('wind_test_hourly.csv')"
   ]
  },
  {
   "cell_type": "code",
   "execution_count": 16,
   "metadata": {},
   "outputs": [
    {
     "data": {
      "text/html": [
       "<pre>&lt;xarray.DataArray (time: 744, y: 3, x: 2)&gt;\n",
       "array([[[185.83606 ,  77.01047 ],\n",
       "        [107.72165 , 117.63641 ],\n",
       "        [242.0919  , 109.85475 ]],\n",
       "\n",
       "       [[204.61467 ,  64.12947 ],\n",
       "        [109.24462 , 107.637276],\n",
       "        [255.14848 , 113.88576 ]],\n",
       "\n",
       "       [[179.06313 ,  42.393337],\n",
       "        [ 77.26121 ,  80.726944],\n",
       "        [212.35182 , 107.235596]],\n",
       "\n",
       "       ...,\n",
       "\n",
       "       [[146.71759 , 235.09389 ],\n",
       "        [ 95.391106,  98.21224 ],\n",
       "        [559.0804  , 201.66855 ]],\n",
       "\n",
       "       [[119.5418  , 180.12392 ],\n",
       "        [ 86.04323 ,  91.56131 ],\n",
       "        [554.5012  , 196.7122  ]],\n",
       "\n",
       "       [[ 94.47623 , 121.83544 ],\n",
       "        [ 71.90639 ,  61.370293],\n",
       "        [464.92987 , 120.48262 ]]], dtype=float32)\n",
       "Coordinates:\n",
       "    lat      (y) float64 35.0 35.5 36.0\n",
       "    lon      (x) float64 138.8 139.4\n",
       "  * y        (y) float64 35.0 35.5 36.0\n",
       "  * x        (x) float64 138.8 139.4\n",
       "  * time     (time) datetime64[ns] 2011-01-01T00:30:00 ... 2011-01-31T23:30:00</pre>"
      ],
      "text/plain": [
       "<xarray.DataArray (time: 744, y: 3, x: 2)>\n",
       "array([[[185.83606 ,  77.01047 ],\n",
       "        [107.72165 , 117.63641 ],\n",
       "        [242.0919  , 109.85475 ]],\n",
       "\n",
       "       [[204.61467 ,  64.12947 ],\n",
       "        [109.24462 , 107.637276],\n",
       "        [255.14848 , 113.88576 ]],\n",
       "\n",
       "       [[179.06313 ,  42.393337],\n",
       "        [ 77.26121 ,  80.726944],\n",
       "        [212.35182 , 107.235596]],\n",
       "\n",
       "       ...,\n",
       "\n",
       "       [[146.71759 , 235.09389 ],\n",
       "        [ 95.391106,  98.21224 ],\n",
       "        [559.0804  , 201.66855 ]],\n",
       "\n",
       "       [[119.5418  , 180.12392 ],\n",
       "        [ 86.04323 ,  91.56131 ],\n",
       "        [554.5012  , 196.7122  ]],\n",
       "\n",
       "       [[ 94.47623 , 121.83544 ],\n",
       "        [ 71.90639 ,  61.370293],\n",
       "        [464.92987 , 120.48262 ]]], dtype=float32)\n",
       "Coordinates:\n",
       "    lat      (y) float64 35.0 35.5 36.0\n",
       "    lon      (x) float64 138.8 139.4\n",
       "  * y        (y) float64 35.0 35.5 36.0\n",
       "  * x        (x) float64 138.8 139.4\n",
       "  * time     (time) datetime64[ns] 2011-01-01T00:30:00 ... 2011-01-31T23:30:00"
      ]
     },
     "execution_count": 16,
     "metadata": {},
     "output_type": "execute_result"
    }
   ],
>>>>>>> 354673cc34128effd05b646301b132f567a1f431:tests/demo_merra2_surface_flux_monthly_test.ipynb
   "source": [
    "ds_windwpd = geodata.convert.windwpd(\n",
    "                cutout, \n",
    "                turbine='Vestas_V66_1750kW', \n",
    "                var_height='lml')\n",
    "ds_windwpd"
   ]
  },
  {
   "cell_type": "code",
<<<<<<< HEAD:tests/merra2_surface_flux_monthly_test.ipynb
   "execution_count": null,
   "metadata": {},
   "outputs": [],
   "source": [
    "df_windwpd = ds_windwpd.to_dataframe(name='windwpd')\n",
    "df_windwpd"
   ]
  },
  {
   "cell_type": "code",
   "execution_count": null,
   "metadata": {},
   "outputs": [],
   "source": [
    "df_windwpd.to_csv('windwpd_test_monthly.csv')"
=======
   "execution_count": 17,
   "metadata": {},
   "outputs": [
    {
     "data": {
      "text/html": [
       "<div>\n",
       "<style scoped>\n",
       "    .dataframe tbody tr th:only-of-type {\n",
       "        vertical-align: middle;\n",
       "    }\n",
       "\n",
       "    .dataframe tbody tr th {\n",
       "        vertical-align: top;\n",
       "    }\n",
       "\n",
       "    .dataframe thead th {\n",
       "        text-align: right;\n",
       "    }\n",
       "</style>\n",
       "<table border=\"1\" class=\"dataframe\">\n",
       "  <thead>\n",
       "    <tr style=\"text-align: right;\">\n",
       "      <th></th>\n",
       "      <th></th>\n",
       "      <th></th>\n",
       "      <th>lat</th>\n",
       "      <th>lon</th>\n",
       "      <th>windwpd</th>\n",
       "    </tr>\n",
       "    <tr>\n",
       "      <th>time</th>\n",
       "      <th>y</th>\n",
       "      <th>x</th>\n",
       "      <th></th>\n",
       "      <th></th>\n",
       "      <th></th>\n",
       "    </tr>\n",
       "  </thead>\n",
       "  <tbody>\n",
       "    <tr>\n",
       "      <th rowspan=\"5\" valign=\"top\">2011-01-01 00:30:00</th>\n",
       "      <th rowspan=\"2\" valign=\"top\">35.0</th>\n",
       "      <th>138.750</th>\n",
       "      <td>35.0</td>\n",
       "      <td>138.750</td>\n",
       "      <td>185.836060</td>\n",
       "    </tr>\n",
       "    <tr>\n",
       "      <th>139.375</th>\n",
       "      <td>35.0</td>\n",
       "      <td>139.375</td>\n",
       "      <td>77.010468</td>\n",
       "    </tr>\n",
       "    <tr>\n",
       "      <th rowspan=\"2\" valign=\"top\">35.5</th>\n",
       "      <th>138.750</th>\n",
       "      <td>35.5</td>\n",
       "      <td>138.750</td>\n",
       "      <td>107.721649</td>\n",
       "    </tr>\n",
       "    <tr>\n",
       "      <th>139.375</th>\n",
       "      <td>35.5</td>\n",
       "      <td>139.375</td>\n",
       "      <td>117.636414</td>\n",
       "    </tr>\n",
       "    <tr>\n",
       "      <th>36.0</th>\n",
       "      <th>138.750</th>\n",
       "      <td>36.0</td>\n",
       "      <td>138.750</td>\n",
       "      <td>242.091904</td>\n",
       "    </tr>\n",
       "    <tr>\n",
       "      <th>...</th>\n",
       "      <th>...</th>\n",
       "      <th>...</th>\n",
       "      <td>...</td>\n",
       "      <td>...</td>\n",
       "      <td>...</td>\n",
       "    </tr>\n",
       "    <tr>\n",
       "      <th rowspan=\"5\" valign=\"top\">2011-01-31 23:30:00</th>\n",
       "      <th>35.0</th>\n",
       "      <th>139.375</th>\n",
       "      <td>35.0</td>\n",
       "      <td>139.375</td>\n",
       "      <td>121.835442</td>\n",
       "    </tr>\n",
       "    <tr>\n",
       "      <th rowspan=\"2\" valign=\"top\">35.5</th>\n",
       "      <th>138.750</th>\n",
       "      <td>35.5</td>\n",
       "      <td>138.750</td>\n",
       "      <td>71.906387</td>\n",
       "    </tr>\n",
       "    <tr>\n",
       "      <th>139.375</th>\n",
       "      <td>35.5</td>\n",
       "      <td>139.375</td>\n",
       "      <td>61.370293</td>\n",
       "    </tr>\n",
       "    <tr>\n",
       "      <th rowspan=\"2\" valign=\"top\">36.0</th>\n",
       "      <th>138.750</th>\n",
       "      <td>36.0</td>\n",
       "      <td>138.750</td>\n",
       "      <td>464.929871</td>\n",
       "    </tr>\n",
       "    <tr>\n",
       "      <th>139.375</th>\n",
       "      <td>36.0</td>\n",
       "      <td>139.375</td>\n",
       "      <td>120.482620</td>\n",
       "    </tr>\n",
       "  </tbody>\n",
       "</table>\n",
       "<p>4464 rows × 3 columns</p>\n",
       "</div>"
      ],
      "text/plain": [
       "                                   lat      lon     windwpd\n",
       "time                y    x                                 \n",
       "2011-01-01 00:30:00 35.0 138.750  35.0  138.750  185.836060\n",
       "                         139.375  35.0  139.375   77.010468\n",
       "                    35.5 138.750  35.5  138.750  107.721649\n",
       "                         139.375  35.5  139.375  117.636414\n",
       "                    36.0 138.750  36.0  138.750  242.091904\n",
       "...                                ...      ...         ...\n",
       "2011-01-31 23:30:00 35.0 139.375  35.0  139.375  121.835442\n",
       "                    35.5 138.750  35.5  138.750   71.906387\n",
       "                         139.375  35.5  139.375   61.370293\n",
       "                    36.0 138.750  36.0  138.750  464.929871\n",
       "                         139.375  36.0  139.375  120.482620\n",
       "\n",
       "[4464 rows x 3 columns]"
      ]
     },
     "execution_count": 17,
     "metadata": {},
     "output_type": "execute_result"
    }
   ],
   "source": [
    "df_windwpd = ds_windwpd.to_dataframe(name='windwpd')\n",
    "df_windwpd"
>>>>>>> 354673cc34128effd05b646301b132f567a1f431:tests/demo_merra2_surface_flux_monthly_test.ipynb
   ]
  },
  {
   "cell_type": "code",
   "execution_count": null,
<<<<<<< HEAD:tests/merra2_surface_flux_monthly_test.ipynb
   "metadata": {},
   "outputs": [],
=======
   "metadata": {},
   "outputs": [],
   "source": [
    "df_windwpd.to_csv('windwpd_test_hourly.csv')"
   ]
  },
  {
   "cell_type": "code",
   "execution_count": 18,
   "metadata": {},
   "outputs": [
    {
     "data": {
      "text/html": [
       "<pre>&lt;xarray.DataArray &#x27;wnd67m&#x27; (time: 744, y: 3, x: 2)&gt;\n",
       "array([[[6.725229 , 4.995721 ],\n",
       "        [5.696166 , 5.775224 ],\n",
       "        [7.4854426, 5.6498623]],\n",
       "\n",
       "       [[6.95234  , 4.7024665],\n",
       "        [5.733051 , 5.614724 ],\n",
       "        [7.6278152, 5.7268963]],\n",
       "\n",
       "       [[6.6558366, 4.099582 ],\n",
       "        [5.1135764, 5.1076727],\n",
       "        [7.180017 , 5.618708 ]],\n",
       "\n",
       "       ...,\n",
       "\n",
       "       [[6.1616845, 7.1923656],\n",
       "        [5.417679 , 5.3841324],\n",
       "        [9.806989 , 6.8478518]],\n",
       "\n",
       "       [[5.7566805, 6.582411 ],\n",
       "        [5.236457 , 5.2597423],\n",
       "        [9.784339 , 6.793047 ]],\n",
       "\n",
       "       [[5.327301 , 5.780417 ],\n",
       "        [4.9397283, 4.6087866],\n",
       "        [9.241193 , 5.776321 ]]], dtype=float32)\n",
       "Coordinates:\n",
       "    lat      (y) float64 35.0 35.5 36.0\n",
       "    lon      (x) float64 138.8 139.4\n",
       "  * y        (y) float64 35.0 35.5 36.0\n",
       "  * x        (x) float64 138.8 139.4\n",
       "  * time     (time) datetime64[ns] 2011-01-01T00:30:00 ... 2011-01-31T23:30:00\n",
       "Attributes:\n",
       "    long_name:  extrapolated 67 m wind speed using log ratio, from variable h...\n",
       "    units:      m s**-1</pre>"
      ],
      "text/plain": [
       "<xarray.DataArray 'wnd67m' (time: 744, y: 3, x: 2)>\n",
       "array([[[6.725229 , 4.995721 ],\n",
       "        [5.696166 , 5.775224 ],\n",
       "        [7.4854426, 5.6498623]],\n",
       "\n",
       "       [[6.95234  , 4.7024665],\n",
       "        [5.733051 , 5.614724 ],\n",
       "        [7.6278152, 5.7268963]],\n",
       "\n",
       "       [[6.6558366, 4.099582 ],\n",
       "        [5.1135764, 5.1076727],\n",
       "        [7.180017 , 5.618708 ]],\n",
       "\n",
       "       ...,\n",
       "\n",
       "       [[6.1616845, 7.1923656],\n",
       "        [5.417679 , 5.3841324],\n",
       "        [9.806989 , 6.8478518]],\n",
       "\n",
       "       [[5.7566805, 6.582411 ],\n",
       "        [5.236457 , 5.2597423],\n",
       "        [9.784339 , 6.793047 ]],\n",
       "\n",
       "       [[5.327301 , 5.780417 ],\n",
       "        [4.9397283, 4.6087866],\n",
       "        [9.241193 , 5.776321 ]]], dtype=float32)\n",
       "Coordinates:\n",
       "    lat      (y) float64 35.0 35.5 36.0\n",
       "    lon      (x) float64 138.8 139.4\n",
       "  * y        (y) float64 35.0 35.5 36.0\n",
       "  * x        (x) float64 138.8 139.4\n",
       "  * time     (time) datetime64[ns] 2011-01-01T00:30:00 ... 2011-01-31T23:30:00\n",
       "Attributes:\n",
       "    long_name:  extrapolated 67 m wind speed using log ratio, from variable h...\n",
       "    units:      m s**-1"
      ]
     },
     "execution_count": 18,
     "metadata": {},
     "output_type": "execute_result"
    }
   ],
>>>>>>> 354673cc34128effd05b646301b132f567a1f431:tests/demo_merra2_surface_flux_monthly_test.ipynb
   "source": [
    "ds_windspd = geodata.convert.windspd(\n",
    "                cutout, \n",
    "                turbine='Vestas_V66_1750kW', \n",
    "                var_height='lml')\n",
    "ds_windspd"
   ]
  },
  {
   "cell_type": "code",
<<<<<<< HEAD:tests/merra2_surface_flux_monthly_test.ipynb
   "execution_count": null,
   "metadata": {},
   "outputs": [],
   "source": [
    "df_windspd = ds_windspd.to_dataframe(name='windspd')\n",
    "df_windspd"
   ]
  },
  {
   "cell_type": "code",
   "execution_count": null,
   "metadata": {},
   "outputs": [],
=======
   "execution_count": 19,
   "metadata": {},
   "outputs": [
    {
     "data": {
      "text/html": [
       "<div>\n",
       "<style scoped>\n",
       "    .dataframe tbody tr th:only-of-type {\n",
       "        vertical-align: middle;\n",
       "    }\n",
       "\n",
       "    .dataframe tbody tr th {\n",
       "        vertical-align: top;\n",
       "    }\n",
       "\n",
       "    .dataframe thead th {\n",
       "        text-align: right;\n",
       "    }\n",
       "</style>\n",
       "<table border=\"1\" class=\"dataframe\">\n",
       "  <thead>\n",
       "    <tr style=\"text-align: right;\">\n",
       "      <th></th>\n",
       "      <th></th>\n",
       "      <th></th>\n",
       "      <th>lat</th>\n",
       "      <th>lon</th>\n",
       "      <th>windspd</th>\n",
       "    </tr>\n",
       "    <tr>\n",
       "      <th>time</th>\n",
       "      <th>y</th>\n",
       "      <th>x</th>\n",
       "      <th></th>\n",
       "      <th></th>\n",
       "      <th></th>\n",
       "    </tr>\n",
       "  </thead>\n",
       "  <tbody>\n",
       "    <tr>\n",
       "      <th rowspan=\"5\" valign=\"top\">2011-01-01 00:30:00</th>\n",
       "      <th rowspan=\"2\" valign=\"top\">35.0</th>\n",
       "      <th>138.750</th>\n",
       "      <td>35.0</td>\n",
       "      <td>138.750</td>\n",
       "      <td>185.836060</td>\n",
       "    </tr>\n",
       "    <tr>\n",
       "      <th>139.375</th>\n",
       "      <td>35.0</td>\n",
       "      <td>139.375</td>\n",
       "      <td>77.010468</td>\n",
       "    </tr>\n",
       "    <tr>\n",
       "      <th rowspan=\"2\" valign=\"top\">35.5</th>\n",
       "      <th>138.750</th>\n",
       "      <td>35.5</td>\n",
       "      <td>138.750</td>\n",
       "      <td>107.721649</td>\n",
       "    </tr>\n",
       "    <tr>\n",
       "      <th>139.375</th>\n",
       "      <td>35.5</td>\n",
       "      <td>139.375</td>\n",
       "      <td>117.636414</td>\n",
       "    </tr>\n",
       "    <tr>\n",
       "      <th>36.0</th>\n",
       "      <th>138.750</th>\n",
       "      <td>36.0</td>\n",
       "      <td>138.750</td>\n",
       "      <td>242.091904</td>\n",
       "    </tr>\n",
       "    <tr>\n",
       "      <th>...</th>\n",
       "      <th>...</th>\n",
       "      <th>...</th>\n",
       "      <td>...</td>\n",
       "      <td>...</td>\n",
       "      <td>...</td>\n",
       "    </tr>\n",
       "    <tr>\n",
       "      <th rowspan=\"5\" valign=\"top\">2011-01-31 23:30:00</th>\n",
       "      <th>35.0</th>\n",
       "      <th>139.375</th>\n",
       "      <td>35.0</td>\n",
       "      <td>139.375</td>\n",
       "      <td>121.835442</td>\n",
       "    </tr>\n",
       "    <tr>\n",
       "      <th rowspan=\"2\" valign=\"top\">35.5</th>\n",
       "      <th>138.750</th>\n",
       "      <td>35.5</td>\n",
       "      <td>138.750</td>\n",
       "      <td>71.906387</td>\n",
       "    </tr>\n",
       "    <tr>\n",
       "      <th>139.375</th>\n",
       "      <td>35.5</td>\n",
       "      <td>139.375</td>\n",
       "      <td>61.370293</td>\n",
       "    </tr>\n",
       "    <tr>\n",
       "      <th rowspan=\"2\" valign=\"top\">36.0</th>\n",
       "      <th>138.750</th>\n",
       "      <td>36.0</td>\n",
       "      <td>138.750</td>\n",
       "      <td>464.929871</td>\n",
       "    </tr>\n",
       "    <tr>\n",
       "      <th>139.375</th>\n",
       "      <td>36.0</td>\n",
       "      <td>139.375</td>\n",
       "      <td>120.482620</td>\n",
       "    </tr>\n",
       "  </tbody>\n",
       "</table>\n",
       "<p>4464 rows × 3 columns</p>\n",
       "</div>"
      ],
      "text/plain": [
       "                                   lat      lon     windspd\n",
       "time                y    x                                 \n",
       "2011-01-01 00:30:00 35.0 138.750  35.0  138.750  185.836060\n",
       "                         139.375  35.0  139.375   77.010468\n",
       "                    35.5 138.750  35.5  138.750  107.721649\n",
       "                         139.375  35.5  139.375  117.636414\n",
       "                    36.0 138.750  36.0  138.750  242.091904\n",
       "...                                ...      ...         ...\n",
       "2011-01-31 23:30:00 35.0 139.375  35.0  139.375  121.835442\n",
       "                    35.5 138.750  35.5  138.750   71.906387\n",
       "                         139.375  35.5  139.375   61.370293\n",
       "                    36.0 138.750  36.0  138.750  464.929871\n",
       "                         139.375  36.0  139.375  120.482620\n",
       "\n",
       "[4464 rows x 3 columns]"
      ]
     },
     "execution_count": 19,
     "metadata": {},
     "output_type": "execute_result"
    }
   ],
>>>>>>> 354673cc34128effd05b646301b132f567a1f431:tests/demo_merra2_surface_flux_monthly_test.ipynb
   "source": [
    "df_windspd = ds_windwpd.to_dataframe(name='windspd')\n",
    "df_windspd"
   ]
  },
  {
   "cell_type": "code",
   "execution_count": null,
   "metadata": {},
   "outputs": [],
   "source": [
    "df_windspd.to_csv('windspd_test_hourly.csv')"
   ]
  }
 ],
 "metadata": {
  "kernelspec": {
   "display_name": "Python 3",
   "language": "python",
   "name": "python3"
  },
  "language_info": {
   "codemirror_mode": {
    "name": "ipython",
    "version": 3
   },
   "file_extension": ".py",
   "mimetype": "text/x-python",
   "name": "python",
   "nbconvert_exporter": "python",
   "pygments_lexer": "ipython3",
   "version": "3.8.4"
  }
 },
 "nbformat": 4,
 "nbformat_minor": 4
}
