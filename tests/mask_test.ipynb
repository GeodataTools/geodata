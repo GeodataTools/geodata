{
 "cells": [
  {
   "cell_type": "markdown",
   "metadata": {},
   "source": [
    "## Geodata Mask Module Sample Scripts\n",
    "\n",
    "#### Jeffrey Feng (j1feng@ucsd.edu), July 2021"
   ]
  },
  {
   "cell_type": "markdown",
   "metadata": {},
   "source": [
    "# Introduction"
   ]
  },
  {
   "cell_type": "markdown",
   "metadata": {},
   "source": [
    "Geodata is also able to process raster files and geospatial shapefiles. Built off the Rasterio library, its mask module function includes adding shapefiles into binary mask layers, merging and flattening multiple raster images together, and extracting region data from merged mask and shapefiles.\n",
    "\n",
    "Its current functionalities are:"
   ]
  },
  {
   "cell_type": "markdown",
   "metadata": {},
   "source": [
    "- Creating mask, adding layers from .tif files\n",
    "\n",
    "- CRS conversion, cropping, trimming, binarizing layers\n",
    "\n",
    "- Merging and flattening layers\n",
    "\n",
    "- Adding shape files as layers\n",
    "\n",
    "- Extracting shapes from mask layers"
   ]
  },
  {
   "cell_type": "code",
   "execution_count": null,
   "metadata": {},
   "outputs": [],
   "source": [
    "import geodata\n",
    "import numpy as np\n",
    "import logging\n",
    "logging.basicConfig(level=logging.INFO)\n",
    "from geodata.mask import show"
   ]
  },
  {
   "cell_type": "markdown",
   "metadata": {},
   "source": [
    "`import geodata` is required to use **geodata**, while launching a logger allows for detailed debugging via the console.\n",
    "\n",
    "On the other hand, `import numpy as np` and `from geodata.mask import show` are not required. They are only the dependency for this demo. You may also call the show method by calling its full name \"geodata.mask.show()\"."
   ]
  },
  {
   "cell_type": "markdown",
   "metadata": {},
   "source": [
    "We would use the four following tif files to run this demo:\n",
    "    \n",
    "- Elevation_Slope.tif\n",
    "- FINAL_GRID_5BINS.tif\n",
    "- FINAL_GRID_FOREST_MED.tif\n",
    "- MODIS_China.tif\n",
    "\n",
    "These tif files can be downloaded in https://drive.google.com/drive/u/1/folders/1uRnVkzZdY2SU3pzU8TiygBUVBMhxrvaJ"
   ]
  },
  {
   "cell_type": "code",
   "execution_count": null,
   "metadata": {},
   "outputs": [],
   "source": [
    "#These can be relative path if you downloaded these files in the same folder as this notebook\n",
    "slope_path = 'elevation_slope.tif' #CHANGE IT\n",
    "grid_bins_path = 'FINAL_GRID_5BINS.tif' #CHANGE IT\n",
    "forest_med_path = 'FINAL_GRID_FOREST_MED.tif' #CHANGE IT\n",
    "modis_china_path = 'MODIS_China.tif' #CHANGE IT"
   ]
  },
  {
   "cell_type": "markdown",
   "metadata": {},
   "source": [
    "## CREATING OBJECT, ADDING LAYERS"
   ]
  },
  {
   "cell_type": "markdown",
   "metadata": {},
   "source": [
    "The four methods below perform same functions. A user may add a layer to the Mask by specifying paths when a new instance is created, or use the `add_layer` method.\n",
    "\n",
    "We wil add the following two files: `FINAL_GRID_5BINS.tif`, and `FINAL_GRID_FOREST_MED.tif` to the `China` Mask, and name them `bins` and `forest` layers."
   ]
  },
  {
   "cell_type": "code",
   "execution_count": null,
   "metadata": {},
   "outputs": [],
   "source": [
    "china = geodata.Mask(\"China\", layer_path = grid_bins_path)\n",
    "china.rename_layer('FINAL_GRID_5BINS', 'bins')\n",
    "china.add_layer(forest_med_path, layer_name = 'forest')"
   ]
  },
  {
   "cell_type": "code",
   "execution_count": null,
   "metadata": {},
   "outputs": [],
   "source": [
    "china = geodata.Mask(\"China\")\n",
    "china.add_layer(layer_path = {'bins': grid_bins_path, \n",
    "                             'forest': forest_med_path})"
   ]
  },
  {
   "cell_type": "code",
   "execution_count": null,
   "metadata": {},
   "outputs": [],
   "source": [
    "china = geodata.Mask(\"China\", layer_path = [grid_bins_path, forest_med_path], \n",
    "             layer_name = ['bins', 'forest'])"
   ]
  },
  {
   "cell_type": "code",
   "execution_count": null,
   "metadata": {},
   "outputs": [],
   "source": [
    "china = geodata.Mask(\"China\", layer_path = {'bins': grid_bins_path, \n",
    "                              'forest': forest_med_path})"
   ]
  },
  {
   "cell_type": "code",
   "execution_count": null,
   "metadata": {},
   "outputs": [],
   "source": [
    "china"
   ]
  },
  {
   "cell_type": "markdown",
   "metadata": {},
   "source": [
    "About the `china` mask we created:\n",
    "\n",
    "Each Mask object had an attribute `layers`, which is a dictionary of name (key)  - rasterio file opener (values). The <\\open DatasetReader> can be the input for many other mask methods for the module.  \n",
    "\n",
    "\n",
    "[FYI: not important for its normal usage, but it may be helpful]: Although we save openning layerd in Rasterio, which only reads/opens/writes data on disk, sometimes we may have in-memory tif files in the `layers` attributes, and the product `merged_mask` and `shape_mask` are also in-memory temporary files. This is because we might create a new layer after automatic CRS conversion if we detect that the input file is not in latitude-longitude CRS, and in rasterio, a CRS conversion, merging-flattening, shapes on raster, cropping, and many other methods that make changes to the raster will requires creating a new file on disk, but we can avoid creating too many temporarily files and deleting them later by using memory files. Read more here: https://rasterio.readthedocs.io/en/latest/topics/memory-files.html\n",
    "\n",
    "The other attributes are:\n",
    "\n",
    "`merged_mask`: the merged and flatten mask of its layers, the merged raster from `layers`\n",
    "\n",
    "`shape_mask`: similar to the `layers` attribute, but a dictionary of extracted shapes from the merged mask by default. Users may also extracted shape masks from specified layers in `self.layers`.\n",
    "\n",
    "`saved`: whether this mask object has been saved locally.\n",
    "\n",
    "`mask_dir`: the directory to save the mask object, by default it should be the path in config.py.\n",
    "\n"
   ]
  },
  {
   "cell_type": "markdown",
   "metadata": {},
   "source": [
    "To finish adding all the layers: add another layers `Elevation_Slope.tif` as `slope`."
   ]
  },
  {
   "cell_type": "code",
   "execution_count": null,
   "metadata": {},
   "outputs": [],
   "source": [
    "china.add_layer(slope_path, layer_name = 'slope')"
   ]
  },
  {
   "cell_type": "markdown",
   "metadata": {},
   "source": [
    "Some useful methods for the layers:\n",
    "\n",
    "Get resolution"
   ]
  },
  {
   "cell_type": "code",
   "execution_count": null,
   "metadata": {},
   "outputs": [],
   "source": [
    "china.get_res()"
   ]
  },
  {
   "cell_type": "markdown",
   "metadata": {},
   "source": [
    "If we want to compare the area of the grid cell, so we know which layer has the smallest unit in term of product of coordinate difference of latitude/longitude. \n",
    "\n",
    "Note: it is not area of grid cells."
   ]
  },
  {
   "cell_type": "code",
   "execution_count": null,
   "metadata": {},
   "outputs": [],
   "source": [
    "china.get_res(product = True)"
   ]
  },
  {
   "cell_type": "markdown",
   "metadata": {},
   "source": [
    "Get bounds"
   ]
  },
  {
   "cell_type": "code",
   "execution_count": null,
   "metadata": {},
   "outputs": [],
   "source": [
    "china.get_bounds()"
   ]
  },
  {
   "cell_type": "markdown",
   "metadata": {},
   "source": [
    "### CRS conversion, trimming, cropping (if necessary)"
   ]
  },
  {
   "cell_type": "markdown",
   "metadata": {},
   "source": [
    "Method `open_tif` can open a raster file without adding it to the layer of a mask, this allows us to visualize it before-hand."
   ]
  },
  {
   "cell_type": "code",
   "execution_count": null,
   "metadata": {
    "scrolled": true
   },
   "outputs": [],
   "source": [
    "geodata.mask.open_tif(modis_china_path, show=True)"
   ]
  },
  {
   "cell_type": "markdown",
   "metadata": {},
   "source": [
    "The `add_layer` method incorporate CRS conversion, let us see what the layer look like after we add it to the object.\n",
    "\n",
    "This method will overwrite the layer by default, if it is in the object already."
   ]
  },
  {
   "cell_type": "code",
   "execution_count": null,
   "metadata": {},
   "outputs": [],
   "source": [
    "china.add_layer(modis_china_path, layer_name = 'modis')"
   ]
  },
  {
   "cell_type": "markdown",
   "metadata": {},
   "source": [
    "The `show` method will try to show the proper latitude and longitude by default, once the layer is in correct CRS. However, a problem with the result below is that there are too many surrounding columns, or maybe rows, that are all zero, and we might want to trim it as a result. We can add the layer again.\n",
    "\n",
    "We can use `remove_layer` method to remove a layer to mask `china`, method `add_layer` by default can simply replace the old layer as well."
   ]
  },
  {
   "cell_type": "code",
   "execution_count": null,
   "metadata": {},
   "outputs": [],
   "source": [
    "#geodata.mask.show(china.layers['modis'])\n",
    "show(china.layers['modis'])"
   ]
  },
  {
   "cell_type": "code",
   "execution_count": null,
   "metadata": {},
   "outputs": [],
   "source": [
    "#china.remove_layer('modis')\n",
    "china.add_layer('MODIS_China.tif', layer_name = 'modis', trim = True)"
   ]
  },
  {
   "cell_type": "code",
   "execution_count": null,
   "metadata": {},
   "outputs": [],
   "source": [
    "show(china.layers['modis'])"
   ]
  },
  {
   "cell_type": "markdown",
   "metadata": {},
   "source": [
    "We can also **arbitrary** crop a raster/layer: method `crop_layer` can take either starting indices of top/left, ending indices of right/bottom, or coordinates values in lat/long to trim the raster.\n",
    "\n",
    "We also have a method `crop_raster` (`geodata.mask.crop_raster`) similarly to `crop_layer` but we can have any raster as input, which indicates that users do not need to add a raster as a layer to call that method. (Similar method: `trim_layer`/`trim_raster`, `binarize_layer`/`binarize_raster`)."
   ]
  },
  {
   "cell_type": "code",
   "execution_count": null,
   "metadata": {},
   "outputs": [],
   "source": [
    "china.crop_layer('modis', bounds = (73, 17, 135, 54))\n",
    "#same thing with: china.layers['modis'] = geodata.mask.crop_raster(china.layers['modis'], (73, 17, 135, 54)) #similar to 5bins\n",
    "show(china.layers['modis'])"
   ]
  },
  {
   "cell_type": "markdown",
   "metadata": {},
   "source": [
    "### Categorical Value Extraction, if necessary"
   ]
  },
  {
   "cell_type": "markdown",
   "metadata": {},
   "source": [
    "However, the modis layer have 17 distinct values, we may want to create a layer of binary values, indicating unavailable land as 0, and available land as 1. \n",
    "\n",
    "Values 1, 2, 3, 4, 5 are 5 types of forest for the modis layer, let us use method `binarize_raster` to create a layer of `modis_forest` mask with 1 and 0. 1, 2, 3, 4, 5 will be unavailable land, therefore we need to take in the rest of the values to make them 1 (available).\n",
    "\n"
   ]
  },
  {
   "attachments": {
    "image.png": {
     "image/png": "[encoded data removed]"
    }
   },
   "cell_type": "markdown",
   "metadata": {},
   "source": [
    "![image.png](attachment:image.png)"
   ]
  },
  {
   "cell_type": "code",
   "execution_count": null,
   "metadata": {},
   "outputs": [],
   "source": [
    "values = np.arange(6, 18)\n",
    "values"
   ]
  },
  {
   "cell_type": "code",
   "execution_count": null,
   "metadata": {},
   "outputs": [],
   "source": [
    "china.layers['modis_forest'] = geodata.mask.binarize_raster(china.layers['modis'], values = values)\n",
    "china.remove_layer('modis')"
   ]
  },
  {
   "cell_type": "markdown",
   "metadata": {},
   "source": [
    "## MERGING FLATTENING LAYERS"
   ]
  },
  {
   "cell_type": "markdown",
   "metadata": {},
   "source": [
    "Check all the existing layers:"
   ]
  },
  {
   "cell_type": "code",
   "execution_count": null,
   "metadata": {},
   "outputs": [],
   "source": [
    "geodata.mask.show_all(china.layers)"
   ]
  },
  {
   "cell_type": "markdown",
   "metadata": {},
   "source": [
    "#### (binary) AND method"
   ]
  },
  {
   "cell_type": "markdown",
   "metadata": {},
   "source": [
    "By default, the `merge_layer` method will use a binary 'and' method: if any of the n grid cells of the n layers at the same location have 0, then the returned `self.merged_layer` will also have 0 at that location. In other words, if all the layers indicate that a land is not unavailable (!=0), the merged result will have value 1.\n",
    "\n",
    "`merge_layer` may also take in an optional parameter `layers`, which is a list of layer names stored in the object. If users do not wish to create the final merged mask with all layers, they can specify which layers to use."
   ]
  },
  {
   "cell_type": "code",
   "execution_count": null,
   "metadata": {},
   "outputs": [],
   "source": [
    "china.merge_layer(attribute_save = False, layers = ['bins', 'forest'])"
   ]
  },
  {
   "cell_type": "markdown",
   "metadata": {},
   "source": [
    "#### sum method"
   ]
  },
  {
   "cell_type": "markdown",
   "metadata": {},
   "source": [
    "The sum method will add up the values from all the layers. We can also customize the weights. The behind scene of this method is that it multiplys each layers with the corresponding weight, and add the in-memory temporary layers together."
   ]
  },
  {
   "cell_type": "code",
   "execution_count": null,
   "metadata": {},
   "outputs": [],
   "source": [
    "china.merge_layer(method = 'sum')"
   ]
  },
  {
   "cell_type": "markdown",
   "metadata": {},
   "source": [
    "This distribution is completely arbitrary for the purpose of demonstration of the module:\n",
    "- bins: 5%, forest: 25%, slope 40%, and modis_forest 30%. "
   ]
  },
  {
   "cell_type": "code",
   "execution_count": null,
   "metadata": {},
   "outputs": [],
   "source": [
    "china.merge_layer(method = 'sum', weights = {\n",
    "    'bins': 0.05,\n",
    "    'forest': 0.25,\n",
    "    'slope': 0.4,\n",
    "    'modis_forest': 0.3\n",
    "})"
   ]
  },
  {
   "cell_type": "markdown",
   "metadata": {},
   "source": [
    "The result mask use the grid cell resolution with the layer with the **finest resolution**. We can also trim the border of the merged mask since not 4 layers have the same boundary, and the border values are not useful. We can set the parameter `trim` to be `True`."
   ]
  },
  {
   "cell_type": "code",
   "execution_count": null,
   "metadata": {},
   "outputs": [],
   "source": [
    "china.merge_layer(method = 'sum', weights = {\n",
    "    'bins': 0.05, 'forest': 0.25, 'slope': 0.4, 'modis_forest': 0.3\n",
    "}, trim = True)"
   ]
  },
  {
   "cell_type": "markdown",
   "metadata": {},
   "source": [
    "## LOADING SHAPES, EXTRACTING SHAPE FROM MASK"
   ]
  },
  {
   "cell_type": "markdown",
   "metadata": {},
   "source": [
    "Get provinces shapes from https://scitools.org.uk/cartopy/docs/v0.15/tutorials/using_the_shapereader.html to save the path as a string `prov_path`, this can also be the path to any shape files users have."
   ]
  },
  {
   "cell_type": "code",
   "execution_count": null,
   "metadata": {},
   "outputs": [],
   "source": [
    "import cartopy.io.shapereader as shpreader"
   ]
  },
  {
   "cell_type": "code",
   "execution_count": null,
   "metadata": {},
   "outputs": [],
   "source": [
    "prov_path = shpreader.natural_earth(resolution='10m', category='cultural', name = 'admin_1_states_provinces')\n",
    "prov_path"
   ]
  },
  {
   "cell_type": "markdown",
   "metadata": {},
   "source": [
    "Check attributes in the shapes contained in path `prov_path`"
   ]
  },
  {
   "cell_type": "code",
   "execution_count": null,
   "metadata": {},
   "outputs": [],
   "source": [
    "#geodata.mask.shape_attribute(prov_path)"
   ]
  },
  {
   "cell_type": "markdown",
   "metadata": {},
   "source": [
    "In jupyter notebook, check out the get_shape() method for its docstring."
   ]
  },
  {
   "cell_type": "code",
   "execution_count": null,
   "metadata": {},
   "outputs": [],
   "source": [
    "geodata.mask.get_shape?"
   ]
  },
  {
   "cell_type": "code",
   "execution_count": null,
   "metadata": {},
   "outputs": [],
   "source": [
    "china_all_shapes = geodata.mask.get_shape(prov_path, key = 'name_en', \n",
    "                         condition_key = 'admin', condition_value = 'China')\n",
    "china_all_shapes"
   ]
  },
  {
   "cell_type": "markdown",
   "metadata": {},
   "source": [
    "We can also ignore condition, just take three provinces of China by listing them."
   ]
  },
  {
   "cell_type": "code",
   "execution_count": null,
   "metadata": {},
   "outputs": [],
   "source": [
    "china_shapes = geodata.mask.get_shape(prov_path, key = 'name_en', \n",
    "                         targets = ['Jiangsu', 'Zhejiang', 'Shanghai'],\n",
    "                         return_dict = True)\n",
    "china_shapes"
   ]
  },
  {
   "cell_type": "markdown",
   "metadata": {},
   "source": [
    "Extract the shapes from the merged_mask:"
   ]
  },
  {
   "cell_type": "code",
   "execution_count": null,
   "metadata": {},
   "outputs": [],
   "source": [
    "china.extract_shapes(china_shapes, crop = True)"
   ]
  },
  {
   "cell_type": "code",
   "execution_count": null,
   "metadata": {},
   "outputs": [],
   "source": [
    "geodata.mask.show_all(china.shape_mask)"
   ]
  },
  {
   "cell_type": "code",
   "execution_count": null,
   "metadata": {},
   "outputs": [],
   "source": [
    "china"
   ]
  },
  {
   "cell_type": "markdown",
   "metadata": {},
   "source": [
    "## SHAPE AS LAYER"
   ]
  },
  {
   "cell_type": "markdown",
   "metadata": {},
   "source": [
    "This is different from shape extractions, as we will simply treat one shp file as a layer, instead of extracting the merged mask value within that shape.\n",
    "\n",
    "The `add_shape_layer` method take in a dictionary of shapes, a resolution of the result raster with that shape."
   ]
  },
  {
   "cell_type": "code",
   "execution_count": null,
   "metadata": {},
   "outputs": [],
   "source": [
    "china.add_shape_layer({'Jiangsu': china_shapes['Jiangsu']}, \n",
    "                      resolution = (5000, 5000))\n",
    "show(china.layers['Jiangsu'])"
   ]
  },
  {
   "cell_type": "markdown",
   "metadata": {},
   "source": [
    "The previous method call is great when we do not have any layers in the mask object at all. However, since we already have bins, forest, and slope... as the layers, we may want to make the shape layers the similar resolution, and similar boundary with the other layers. We can just specify a `reference_layer` in the method call. We can set it to a layer name in the mask, and the result layer resolution and bounds of the shape layer will be same with that specified layer in the mask object."
   ]
  },
  {
   "cell_type": "code",
   "execution_count": null,
   "metadata": {},
   "outputs": [],
   "source": [
    "china.add_shape_layer(china_shapes, \n",
    "                      reference_layer = 'bins')\n",
    "show(china.layers['Jiangsu'])"
   ]
  },
  {
   "cell_type": "markdown",
   "metadata": {},
   "source": [
    "## SAVING MASK"
   ]
  },
  {
   "cell_type": "code",
   "execution_count": null,
   "metadata": {},
   "outputs": [],
   "source": [
    "china.save_mask()"
   ]
  },
  {
   "cell_type": "markdown",
   "metadata": {},
   "source": [
    "Note that since \"Mask has been saved\", we can now load the layers or shapes with xarray."
   ]
  },
  {
   "cell_type": "code",
   "execution_count": null,
   "metadata": {},
   "outputs": [],
   "source": [
    "shape_xr_lst = china.load_shape_xr()\n",
    "shape_xr_lst['Zhejiang']"
   ]
  },
  {
   "cell_type": "code",
   "execution_count": null,
   "metadata": {},
   "outputs": [],
   "source": [
    "shape_xr_lst['Zhejiang'].plot()"
   ]
  },
  {
   "cell_type": "markdown",
   "metadata": {},
   "source": [
    "Optional: closing all the files when saving the mask. This can avoid possible write permission error."
   ]
  },
  {
   "cell_type": "code",
   "execution_count": null,
   "metadata": {},
   "outputs": [],
   "source": [
    "china.save_mask(close_files = True)"
   ]
  },
  {
   "cell_type": "markdown",
   "metadata": {},
   "source": [
    "### Load a previously saved Mask\n",
    "\n"
   ]
  },
  {
   "cell_type": "code",
   "execution_count": null,
   "metadata": {},
   "outputs": [],
   "source": [
    "china_2 = geodata.mask.load_mask(\"china\")"
   ]
  },
  {
   "cell_type": "code",
   "execution_count": null,
   "metadata": {},
   "outputs": [],
   "source": [
    "show(china_2.merged_mask)"
   ]
  },
  {
   "cell_type": "code",
   "execution_count": null,
   "metadata": {},
   "outputs": [],
   "source": []
  },
  {
   "cell_type": "markdown",
   "metadata": {},
   "source": [
    "### Possible errors to avoid\n",
    "\n",
    "If you create another object `china_2` that opens the raster object `china` is accessing, and then try to save the original `china` without using `china_2.close_files()`, you should expect an error because Python does not want you to rewrite a file that is used by another program. Therefore, `china_2.close_files()` or `china_2.save_mask(close_files = True)` make sures that only one mask is having access to the files. `close_files()` will close all the layers in china_2 and make that mask object un-savable. Therefore, it is best to avoid having multiple mask objects accessing the same files.\n",
    "\n",
    "Please see the jupyter notebook for more details."
   ]
  },
  {
   "cell_type": "code",
   "execution_count": null,
   "metadata": {},
   "outputs": [],
   "source": []
  }
 ],
 "metadata": {
  "kernelspec": {
   "display_name": "Python 3",
   "language": "python",
   "name": "python3"
  },
  "language_info": {
   "codemirror_mode": {
    "name": "ipython",
    "version": 3
   },
   "file_extension": ".py",
   "mimetype": "text/x-python",
   "name": "python",
   "nbconvert_exporter": "python",
   "pygments_lexer": "ipython3",
   "version": "3.8.3"
  }
 },
 "nbformat": 4,
 "nbformat_minor": 4
}
