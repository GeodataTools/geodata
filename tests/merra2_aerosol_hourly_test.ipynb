{
 "cells": [
  {
   "cell_type": "markdown",
   "metadata": {},
   "source": [
    "## MERRA2 Aerosol Hourly Granularity\n",
    "- Download\n",
    "- Trim\n",
    "- Create Cutout\n",
    "- Generate Wind Outputs"
   ]
  },
  {
   "cell_type": "markdown",
   "metadata": {},
   "source": [
    "# 1. Imports and Download"
   ]
  },
  {
   "cell_type": "code",
   "execution_count": null,
   "metadata": {},
   "outputs": [],
   "source": [
    "import geodata\n",
    "import xarray as xr\n",
    "import logging\n",
    "import matplotlib.pyplot as plt\n",
    "logging.basicConfig(level=logging.INFO)"
   ]
  },
  {
   "cell_type": "code",
   "execution_count": null,
   "metadata": {},
   "outputs": [],
   "source": [
    "DS = geodata.Dataset(module=\"merra2\",\n",
    "\t\t\t\t\t years=slice(2015, 2015),\n",
    "\t\t\t\t\t months=slice(2,2),\n",
    "                     weather_data_config = \"surface_aerosol_hourly\")"
   ]
  },
  {
   "cell_type": "code",
   "execution_count": null,
   "metadata": {},
   "outputs": [],
   "source": [
    "if DS_hourly.prepared == False:\n",
    "\tDS_hourly.get_data()"
   ]
  },
  {
   "cell_type": "markdown",
   "metadata": {},
   "source": [
    "## 2. Trim"
   ]
  },
  {
   "cell_type": "code",
   "execution_count": null,
   "metadata": {},
   "outputs": [],
   "source": [
    "## Variables before trimming\n",
    "ds = xr.open_dataset(DS_hourly.downloadedFiles[0][1])\n",
    "list(ds.data_vars)"
   ]
  },
  {
   "cell_type": "code",
   "execution_count": null,
   "metadata": {},
   "outputs": [],
   "source": [
    "DS.trim_variables()"
   ]
  },
  {
   "cell_type": "code",
   "execution_count": null,
   "metadata": {},
   "outputs": [],
   "source": [
    "## Variables after trimming\n",
    "ds = xr.open_dataset(DS.downloadedFiles[0][1])\n",
    "list(ds.data_vars)"
   ]
  },
  {
   "cell_type": "markdown",
   "metadata": {},
   "source": [
    "# 3. Create Cutout"
   ]
  },
  {
   "cell_type": "code",
   "execution_count": null,
   "metadata": {},
   "outputs": [],
   "source": [
    "cutout = geodata.Cutout(name=\"beijing-2015-pm25-8\",\n",
    "                        module=\"merra2\",\n",
    "                        weather_data_config=\"surface_aerosol_hourly\",\n",
    "                        xs=slice(110, 125),\n",
    "                        ys=slice(35, 45),\n",
    "                        years=slice(2015, 2015),\n",
    "                        months=slice(2,2))\n"
   ]
  },
  {
   "cell_type": "code",
   "execution_count": null,
   "metadata": {},
   "outputs": [],
   "source": [
    "cutout.prepare(overwrite=True)"
   ]
  },
  {
   "cell_type": "code",
   "execution_count": null,
   "metadata": {},
   "outputs": [],
   "source": [
    "## Verify Cutout Coords\n",
    "cutout.coords"
   ]
  },
  {
   "cell_type": "markdown",
   "metadata": {},
   "source": [
    "# 4. Generate Outputs"
   ]
  },
  {
   "cell_type": "code",
   "execution_count": null,
   "metadata": {},
   "outputs": [],
   "source": [
    "ds_pm25 = geodata.convert.pm25(cutout)\n",
    "df_pm25 = ds_pm25.to_dataframe(name='pm25')\n",
    "df_pm25.reset_index(inplace=True)\n",
    "df_pm25"
   ]
  },
  {
   "cell_type": "code",
   "execution_count": null,
   "metadata": {},
   "outputs": [],
   "source": [
    "df_pm25.to_csv('beijing-2015-pm25.csv')"
   ]
  },
  {
   "cell_type": "markdown",
   "metadata": {},
   "source": [
    "# 5. Plot Outputs"
   ]
  },
  {
   "cell_type": "code",
   "execution_count": null,
   "metadata": {},
   "outputs": [],
   "source": [
    "## using panda plots\n",
    "df_pm25[(df_pm25.lat == 39.5) & (df_pm25.lon == 116.25)].plot(x='time', y='pm25')\n",
    "plt.show()"
   ]
  },
  {
   "cell_type": "code",
   "execution_count": null,
   "metadata": {},
   "outputs": [],
   "source": [
    "## using xarray plots (http://xarray.pydata.org/en/stable/plotting.html)\n",
    "ds_pm25.isel(y=1).plot.line(x='time', hue='lon');"
   ]
  },
  {
   "cell_type": "code",
   "execution_count": null,
   "metadata": {},
   "outputs": [],
   "source": [
    "ds_pm25.isel(time=1).plot();"
   ]
  },
  {
   "cell_type": "code",
   "execution_count": null,
   "metadata": {},
   "outputs": [],
   "source": [
    "# plot with cartopy\n",
    "import cartopy.crs as ccrs"
   ]
  },
  {
   "cell_type": "code",
   "execution_count": null,
   "metadata": {},
   "outputs": [],
   "source": [
    "ax = plt.axes(projection=ccrs.Miller(116.25))\n",
    "ax.set_extent([110, 125, 35, 45])\n",
    "ds_pm25.isel(time=0).plot.contourf(ax=ax, transform=ccrs.PlateCarree());\n",
    "ax.coastlines();"
   ]
  },
  {
   "cell_type": "code",
   "execution_count": null,
   "metadata": {},
   "outputs": [],
   "source": [
    "ax = plt.subplot(projection=ccrs.PlateCarree());\n",
    "ax.set_extent([115, 122, 37, 43])\n",
    "ds_pm25.isel(time=0).plot.pcolormesh('lon', 'lat', ax=ax);\n",
    "ax.coastlines();"
   ]
  },
  {
   "cell_type": "code",
   "execution_count": null,
   "metadata": {},
   "outputs": [],
   "source": []
  }
 ],
 "metadata": {
  "kernelspec": {
   "display_name": "Python 3",
   "language": "python",
   "name": "python3"
  },
  "language_info": {
   "codemirror_mode": {
    "name": "ipython",
    "version": 3
   },
   "file_extension": ".py",
   "mimetype": "text/x-python",
   "name": "python",
   "nbconvert_exporter": "python",
   "pygments_lexer": "ipython3",
   "version": "3.7.4"
  }
 },
 "nbformat": 4,
 "nbformat_minor": 4
}
