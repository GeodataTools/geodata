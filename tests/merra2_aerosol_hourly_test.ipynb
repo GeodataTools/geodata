{
 "cells": [
  {
   "cell_type": "markdown",
   "metadata": {},
   "source": [
    "## MERRA2 Aerosol Hourly Granularity\n",
    "- Download\n",
    "- Trim\n",
    "- Create Cutout\n",
    "- Generate Wind Outputs"
   ]
  },
  {
   "cell_type": "markdown",
   "metadata": {},
   "source": [
    "# 1. Imports and Download"
   ]
  },
  {
   "cell_type": "code",
   "execution_count": 1,
   "metadata": {},
   "outputs": [],
   "source": [
    "import geodata\n",
    "import xarray as xr\n",
    "import logging\n",
    "import matplotlib.pyplot as plt\n",
    "logging.basicConfig(level=logging.INFO)"
   ]
  },
  {
   "cell_type": "code",
   "execution_count": 2,
   "metadata": {},
   "outputs": [
    {
     "name": "stderr",
     "output_type": "stream",
     "text": [
      "INFO:geodata.dataset:Directory /Users/williamhonaker/Desktop/davidson/data_for_geodata/merra2 found, checking for completeness.\n",
      "INFO:geodata.dataset:Directory complete.\n"
     ]
    }
   ],
   "source": [
    "DS = geodata.Dataset(module=\"merra2\",\n",
    "\t\t\t\t\t years=slice(2015, 2015),\n",
    "\t\t\t\t\t months=slice(2,2),\n",
    "                     weather_data_config = \"surface_aerosol_hourly\")  "
   ]
  },
  {
   "cell_type": "code",
   "execution_count": 3,
   "metadata": {
    "collapsed": true,
    "jupyter": {
     "outputs_hidden": true
    }
   },
   "outputs": [
    {
     "data": {
      "text/plain": [
       "{'module': 'merra2',\n",
       " 'config': 'surface_aerosol_hourly',\n",
       " 'dataset_module': <module 'geodata.datasets.merra2' from '/usr/local/lib/python3.7/site-packages/geodata-0.0.1-py3.7.egg/geodata/datasets/merra2.py'>,\n",
       " 'weatherconfig': {'file_granularity': 'daily',\n",
       "  'tasks_func': <function geodata.datasets.merra2.tasks_daily_merra2(xs, ys, yearmonths, prepare_func, **meta_attrs)>,\n",
       "  'meta_prepare_func': <function geodata.datasets.merra2.prepare_meta_merra2(xs, ys, year, month, template, module, **params)>,\n",
       "  'prepare_func': <function geodata.datasets.merra2.prepare_month_aerosol(fn, year, month, xs, ys)>,\n",
       "  'template': '/Users/williamhonaker/Desktop/davidson/data_for_geodata/merra2/{year}/{month:0>2}/MERRA2_*.tavg1_2d_aer_Nx.*.nc4',\n",
       "  'url': 'https://goldsmr4.gesdisc.eosdis.nasa.gov/data/MERRA2/M2T1NXAER.5.12.4/{year}/{month:0>2}/MERRA2_{spinup}.tavg1_2d_aer_Nx.{year}{month:0>2}{day:0>2}.nc4',\n",
       "  'fn': '/Users/williamhonaker/Desktop/davidson/data_for_geodata/merra2/{year}/{month:0>2}/MERRA2_{spinup}.tavg1_2d_aer_Nx.{year}{month:0>2}{day:0>2}.nc4',\n",
       "  'variables': ['bcsmass', 'dusmass25', 'ocsmass', 'so4smass', 'sssmass25']},\n",
       " 'datadir': '/Users/williamhonaker/Desktop/davidson/data_for_geodata/merra2',\n",
       " 'years': slice(2015, 2015, None),\n",
       " 'months': slice(2, 2, None),\n",
       " 'prepared': False,\n",
       " 'toDownload': [('surface_aerosol_hourly',\n",
       "   '/Users/williamhonaker/Desktop/davidson/data_for_geodata/merra2/2015/02/MERRA2_400.tavg1_2d_aer_Nx.20150201.nc4',\n",
       "   'https://goldsmr4.gesdisc.eosdis.nasa.gov/data/MERRA2/M2T1NXAER.5.12.4/2015/02/MERRA2_400.tavg1_2d_aer_Nx.20150201.nc4'),\n",
       "  ('surface_aerosol_hourly',\n",
       "   '/Users/williamhonaker/Desktop/davidson/data_for_geodata/merra2/2015/02/MERRA2_400.tavg1_2d_aer_Nx.20150202.nc4',\n",
       "   'https://goldsmr4.gesdisc.eosdis.nasa.gov/data/MERRA2/M2T1NXAER.5.12.4/2015/02/MERRA2_400.tavg1_2d_aer_Nx.20150202.nc4'),\n",
       "  ('surface_aerosol_hourly',\n",
       "   '/Users/williamhonaker/Desktop/davidson/data_for_geodata/merra2/2015/02/MERRA2_400.tavg1_2d_aer_Nx.20150203.nc4',\n",
       "   'https://goldsmr4.gesdisc.eosdis.nasa.gov/data/MERRA2/M2T1NXAER.5.12.4/2015/02/MERRA2_400.tavg1_2d_aer_Nx.20150203.nc4'),\n",
       "  ('surface_aerosol_hourly',\n",
       "   '/Users/williamhonaker/Desktop/davidson/data_for_geodata/merra2/2015/02/MERRA2_400.tavg1_2d_aer_Nx.20150204.nc4',\n",
       "   'https://goldsmr4.gesdisc.eosdis.nasa.gov/data/MERRA2/M2T1NXAER.5.12.4/2015/02/MERRA2_400.tavg1_2d_aer_Nx.20150204.nc4'),\n",
       "  ('surface_aerosol_hourly',\n",
       "   '/Users/williamhonaker/Desktop/davidson/data_for_geodata/merra2/2015/02/MERRA2_400.tavg1_2d_aer_Nx.20150205.nc4',\n",
       "   'https://goldsmr4.gesdisc.eosdis.nasa.gov/data/MERRA2/M2T1NXAER.5.12.4/2015/02/MERRA2_400.tavg1_2d_aer_Nx.20150205.nc4'),\n",
       "  ('surface_aerosol_hourly',\n",
       "   '/Users/williamhonaker/Desktop/davidson/data_for_geodata/merra2/2015/02/MERRA2_400.tavg1_2d_aer_Nx.20150206.nc4',\n",
       "   'https://goldsmr4.gesdisc.eosdis.nasa.gov/data/MERRA2/M2T1NXAER.5.12.4/2015/02/MERRA2_400.tavg1_2d_aer_Nx.20150206.nc4'),\n",
       "  ('surface_aerosol_hourly',\n",
       "   '/Users/williamhonaker/Desktop/davidson/data_for_geodata/merra2/2015/02/MERRA2_400.tavg1_2d_aer_Nx.20150207.nc4',\n",
       "   'https://goldsmr4.gesdisc.eosdis.nasa.gov/data/MERRA2/M2T1NXAER.5.12.4/2015/02/MERRA2_400.tavg1_2d_aer_Nx.20150207.nc4'),\n",
       "  ('surface_aerosol_hourly',\n",
       "   '/Users/williamhonaker/Desktop/davidson/data_for_geodata/merra2/2015/02/MERRA2_400.tavg1_2d_aer_Nx.20150208.nc4',\n",
       "   'https://goldsmr4.gesdisc.eosdis.nasa.gov/data/MERRA2/M2T1NXAER.5.12.4/2015/02/MERRA2_400.tavg1_2d_aer_Nx.20150208.nc4'),\n",
       "  ('surface_aerosol_hourly',\n",
       "   '/Users/williamhonaker/Desktop/davidson/data_for_geodata/merra2/2015/02/MERRA2_400.tavg1_2d_aer_Nx.20150209.nc4',\n",
       "   'https://goldsmr4.gesdisc.eosdis.nasa.gov/data/MERRA2/M2T1NXAER.5.12.4/2015/02/MERRA2_400.tavg1_2d_aer_Nx.20150209.nc4'),\n",
       "  ('surface_aerosol_hourly',\n",
       "   '/Users/williamhonaker/Desktop/davidson/data_for_geodata/merra2/2015/02/MERRA2_400.tavg1_2d_aer_Nx.20150210.nc4',\n",
       "   'https://goldsmr4.gesdisc.eosdis.nasa.gov/data/MERRA2/M2T1NXAER.5.12.4/2015/02/MERRA2_400.tavg1_2d_aer_Nx.20150210.nc4'),\n",
       "  ('surface_aerosol_hourly',\n",
       "   '/Users/williamhonaker/Desktop/davidson/data_for_geodata/merra2/2015/02/MERRA2_400.tavg1_2d_aer_Nx.20150211.nc4',\n",
       "   'https://goldsmr4.gesdisc.eosdis.nasa.gov/data/MERRA2/M2T1NXAER.5.12.4/2015/02/MERRA2_400.tavg1_2d_aer_Nx.20150211.nc4'),\n",
       "  ('surface_aerosol_hourly',\n",
       "   '/Users/williamhonaker/Desktop/davidson/data_for_geodata/merra2/2015/02/MERRA2_400.tavg1_2d_aer_Nx.20150212.nc4',\n",
       "   'https://goldsmr4.gesdisc.eosdis.nasa.gov/data/MERRA2/M2T1NXAER.5.12.4/2015/02/MERRA2_400.tavg1_2d_aer_Nx.20150212.nc4'),\n",
       "  ('surface_aerosol_hourly',\n",
       "   '/Users/williamhonaker/Desktop/davidson/data_for_geodata/merra2/2015/02/MERRA2_400.tavg1_2d_aer_Nx.20150213.nc4',\n",
       "   'https://goldsmr4.gesdisc.eosdis.nasa.gov/data/MERRA2/M2T1NXAER.5.12.4/2015/02/MERRA2_400.tavg1_2d_aer_Nx.20150213.nc4'),\n",
       "  ('surface_aerosol_hourly',\n",
       "   '/Users/williamhonaker/Desktop/davidson/data_for_geodata/merra2/2015/02/MERRA2_400.tavg1_2d_aer_Nx.20150214.nc4',\n",
       "   'https://goldsmr4.gesdisc.eosdis.nasa.gov/data/MERRA2/M2T1NXAER.5.12.4/2015/02/MERRA2_400.tavg1_2d_aer_Nx.20150214.nc4'),\n",
       "  ('surface_aerosol_hourly',\n",
       "   '/Users/williamhonaker/Desktop/davidson/data_for_geodata/merra2/2015/02/MERRA2_400.tavg1_2d_aer_Nx.20150215.nc4',\n",
       "   'https://goldsmr4.gesdisc.eosdis.nasa.gov/data/MERRA2/M2T1NXAER.5.12.4/2015/02/MERRA2_400.tavg1_2d_aer_Nx.20150215.nc4'),\n",
       "  ('surface_aerosol_hourly',\n",
       "   '/Users/williamhonaker/Desktop/davidson/data_for_geodata/merra2/2015/02/MERRA2_400.tavg1_2d_aer_Nx.20150216.nc4',\n",
       "   'https://goldsmr4.gesdisc.eosdis.nasa.gov/data/MERRA2/M2T1NXAER.5.12.4/2015/02/MERRA2_400.tavg1_2d_aer_Nx.20150216.nc4'),\n",
       "  ('surface_aerosol_hourly',\n",
       "   '/Users/williamhonaker/Desktop/davidson/data_for_geodata/merra2/2015/02/MERRA2_400.tavg1_2d_aer_Nx.20150217.nc4',\n",
       "   'https://goldsmr4.gesdisc.eosdis.nasa.gov/data/MERRA2/M2T1NXAER.5.12.4/2015/02/MERRA2_400.tavg1_2d_aer_Nx.20150217.nc4'),\n",
       "  ('surface_aerosol_hourly',\n",
       "   '/Users/williamhonaker/Desktop/davidson/data_for_geodata/merra2/2015/02/MERRA2_400.tavg1_2d_aer_Nx.20150218.nc4',\n",
       "   'https://goldsmr4.gesdisc.eosdis.nasa.gov/data/MERRA2/M2T1NXAER.5.12.4/2015/02/MERRA2_400.tavg1_2d_aer_Nx.20150218.nc4'),\n",
       "  ('surface_aerosol_hourly',\n",
       "   '/Users/williamhonaker/Desktop/davidson/data_for_geodata/merra2/2015/02/MERRA2_400.tavg1_2d_aer_Nx.20150219.nc4',\n",
       "   'https://goldsmr4.gesdisc.eosdis.nasa.gov/data/MERRA2/M2T1NXAER.5.12.4/2015/02/MERRA2_400.tavg1_2d_aer_Nx.20150219.nc4'),\n",
       "  ('surface_aerosol_hourly',\n",
       "   '/Users/williamhonaker/Desktop/davidson/data_for_geodata/merra2/2015/02/MERRA2_400.tavg1_2d_aer_Nx.20150220.nc4',\n",
       "   'https://goldsmr4.gesdisc.eosdis.nasa.gov/data/MERRA2/M2T1NXAER.5.12.4/2015/02/MERRA2_400.tavg1_2d_aer_Nx.20150220.nc4'),\n",
       "  ('surface_aerosol_hourly',\n",
       "   '/Users/williamhonaker/Desktop/davidson/data_for_geodata/merra2/2015/02/MERRA2_400.tavg1_2d_aer_Nx.20150221.nc4',\n",
       "   'https://goldsmr4.gesdisc.eosdis.nasa.gov/data/MERRA2/M2T1NXAER.5.12.4/2015/02/MERRA2_400.tavg1_2d_aer_Nx.20150221.nc4'),\n",
       "  ('surface_aerosol_hourly',\n",
       "   '/Users/williamhonaker/Desktop/davidson/data_for_geodata/merra2/2015/02/MERRA2_400.tavg1_2d_aer_Nx.20150222.nc4',\n",
       "   'https://goldsmr4.gesdisc.eosdis.nasa.gov/data/MERRA2/M2T1NXAER.5.12.4/2015/02/MERRA2_400.tavg1_2d_aer_Nx.20150222.nc4'),\n",
       "  ('surface_aerosol_hourly',\n",
       "   '/Users/williamhonaker/Desktop/davidson/data_for_geodata/merra2/2015/02/MERRA2_400.tavg1_2d_aer_Nx.20150223.nc4',\n",
       "   'https://goldsmr4.gesdisc.eosdis.nasa.gov/data/MERRA2/M2T1NXAER.5.12.4/2015/02/MERRA2_400.tavg1_2d_aer_Nx.20150223.nc4'),\n",
       "  ('surface_aerosol_hourly',\n",
       "   '/Users/williamhonaker/Desktop/davidson/data_for_geodata/merra2/2015/02/MERRA2_400.tavg1_2d_aer_Nx.20150224.nc4',\n",
       "   'https://goldsmr4.gesdisc.eosdis.nasa.gov/data/MERRA2/M2T1NXAER.5.12.4/2015/02/MERRA2_400.tavg1_2d_aer_Nx.20150224.nc4'),\n",
       "  ('surface_aerosol_hourly',\n",
       "   '/Users/williamhonaker/Desktop/davidson/data_for_geodata/merra2/2015/02/MERRA2_400.tavg1_2d_aer_Nx.20150225.nc4',\n",
       "   'https://goldsmr4.gesdisc.eosdis.nasa.gov/data/MERRA2/M2T1NXAER.5.12.4/2015/02/MERRA2_400.tavg1_2d_aer_Nx.20150225.nc4'),\n",
       "  ('surface_aerosol_hourly',\n",
       "   '/Users/williamhonaker/Desktop/davidson/data_for_geodata/merra2/2015/02/MERRA2_400.tavg1_2d_aer_Nx.20150226.nc4',\n",
       "   'https://goldsmr4.gesdisc.eosdis.nasa.gov/data/MERRA2/M2T1NXAER.5.12.4/2015/02/MERRA2_400.tavg1_2d_aer_Nx.20150226.nc4'),\n",
       "  ('surface_aerosol_hourly',\n",
       "   '/Users/williamhonaker/Desktop/davidson/data_for_geodata/merra2/2015/02/MERRA2_400.tavg1_2d_aer_Nx.20150227.nc4',\n",
       "   'https://goldsmr4.gesdisc.eosdis.nasa.gov/data/MERRA2/M2T1NXAER.5.12.4/2015/02/MERRA2_400.tavg1_2d_aer_Nx.20150227.nc4'),\n",
       "  ('surface_aerosol_hourly',\n",
       "   '/Users/williamhonaker/Desktop/davidson/data_for_geodata/merra2/2015/02/MERRA2_400.tavg1_2d_aer_Nx.20150228.nc4',\n",
       "   'https://goldsmr4.gesdisc.eosdis.nasa.gov/data/MERRA2/M2T1NXAER.5.12.4/2015/02/MERRA2_400.tavg1_2d_aer_Nx.20150228.nc4')],\n",
       " 'downloadedFiles': [],\n",
       " 'totalFiles': [('surface_aerosol_hourly',\n",
       "   '/Users/williamhonaker/Desktop/davidson/data_for_geodata/merra2/2015/02/MERRA2_400.tavg1_2d_aer_Nx.20150201.nc4'),\n",
       "  ('surface_aerosol_hourly',\n",
       "   '/Users/williamhonaker/Desktop/davidson/data_for_geodata/merra2/2015/02/MERRA2_400.tavg1_2d_aer_Nx.20150202.nc4'),\n",
       "  ('surface_aerosol_hourly',\n",
       "   '/Users/williamhonaker/Desktop/davidson/data_for_geodata/merra2/2015/02/MERRA2_400.tavg1_2d_aer_Nx.20150203.nc4'),\n",
       "  ('surface_aerosol_hourly',\n",
       "   '/Users/williamhonaker/Desktop/davidson/data_for_geodata/merra2/2015/02/MERRA2_400.tavg1_2d_aer_Nx.20150204.nc4'),\n",
       "  ('surface_aerosol_hourly',\n",
       "   '/Users/williamhonaker/Desktop/davidson/data_for_geodata/merra2/2015/02/MERRA2_400.tavg1_2d_aer_Nx.20150205.nc4'),\n",
       "  ('surface_aerosol_hourly',\n",
       "   '/Users/williamhonaker/Desktop/davidson/data_for_geodata/merra2/2015/02/MERRA2_400.tavg1_2d_aer_Nx.20150206.nc4'),\n",
       "  ('surface_aerosol_hourly',\n",
       "   '/Users/williamhonaker/Desktop/davidson/data_for_geodata/merra2/2015/02/MERRA2_400.tavg1_2d_aer_Nx.20150207.nc4'),\n",
       "  ('surface_aerosol_hourly',\n",
       "   '/Users/williamhonaker/Desktop/davidson/data_for_geodata/merra2/2015/02/MERRA2_400.tavg1_2d_aer_Nx.20150208.nc4'),\n",
       "  ('surface_aerosol_hourly',\n",
       "   '/Users/williamhonaker/Desktop/davidson/data_for_geodata/merra2/2015/02/MERRA2_400.tavg1_2d_aer_Nx.20150209.nc4'),\n",
       "  ('surface_aerosol_hourly',\n",
       "   '/Users/williamhonaker/Desktop/davidson/data_for_geodata/merra2/2015/02/MERRA2_400.tavg1_2d_aer_Nx.20150210.nc4'),\n",
       "  ('surface_aerosol_hourly',\n",
       "   '/Users/williamhonaker/Desktop/davidson/data_for_geodata/merra2/2015/02/MERRA2_400.tavg1_2d_aer_Nx.20150211.nc4'),\n",
       "  ('surface_aerosol_hourly',\n",
       "   '/Users/williamhonaker/Desktop/davidson/data_for_geodata/merra2/2015/02/MERRA2_400.tavg1_2d_aer_Nx.20150212.nc4'),\n",
       "  ('surface_aerosol_hourly',\n",
       "   '/Users/williamhonaker/Desktop/davidson/data_for_geodata/merra2/2015/02/MERRA2_400.tavg1_2d_aer_Nx.20150213.nc4'),\n",
       "  ('surface_aerosol_hourly',\n",
       "   '/Users/williamhonaker/Desktop/davidson/data_for_geodata/merra2/2015/02/MERRA2_400.tavg1_2d_aer_Nx.20150214.nc4'),\n",
       "  ('surface_aerosol_hourly',\n",
       "   '/Users/williamhonaker/Desktop/davidson/data_for_geodata/merra2/2015/02/MERRA2_400.tavg1_2d_aer_Nx.20150215.nc4'),\n",
       "  ('surface_aerosol_hourly',\n",
       "   '/Users/williamhonaker/Desktop/davidson/data_for_geodata/merra2/2015/02/MERRA2_400.tavg1_2d_aer_Nx.20150216.nc4'),\n",
       "  ('surface_aerosol_hourly',\n",
       "   '/Users/williamhonaker/Desktop/davidson/data_for_geodata/merra2/2015/02/MERRA2_400.tavg1_2d_aer_Nx.20150217.nc4'),\n",
       "  ('surface_aerosol_hourly',\n",
       "   '/Users/williamhonaker/Desktop/davidson/data_for_geodata/merra2/2015/02/MERRA2_400.tavg1_2d_aer_Nx.20150218.nc4'),\n",
       "  ('surface_aerosol_hourly',\n",
       "   '/Users/williamhonaker/Desktop/davidson/data_for_geodata/merra2/2015/02/MERRA2_400.tavg1_2d_aer_Nx.20150219.nc4'),\n",
       "  ('surface_aerosol_hourly',\n",
       "   '/Users/williamhonaker/Desktop/davidson/data_for_geodata/merra2/2015/02/MERRA2_400.tavg1_2d_aer_Nx.20150220.nc4'),\n",
       "  ('surface_aerosol_hourly',\n",
       "   '/Users/williamhonaker/Desktop/davidson/data_for_geodata/merra2/2015/02/MERRA2_400.tavg1_2d_aer_Nx.20150221.nc4'),\n",
       "  ('surface_aerosol_hourly',\n",
       "   '/Users/williamhonaker/Desktop/davidson/data_for_geodata/merra2/2015/02/MERRA2_400.tavg1_2d_aer_Nx.20150222.nc4'),\n",
       "  ('surface_aerosol_hourly',\n",
       "   '/Users/williamhonaker/Desktop/davidson/data_for_geodata/merra2/2015/02/MERRA2_400.tavg1_2d_aer_Nx.20150223.nc4'),\n",
       "  ('surface_aerosol_hourly',\n",
       "   '/Users/williamhonaker/Desktop/davidson/data_for_geodata/merra2/2015/02/MERRA2_400.tavg1_2d_aer_Nx.20150224.nc4'),\n",
       "  ('surface_aerosol_hourly',\n",
       "   '/Users/williamhonaker/Desktop/davidson/data_for_geodata/merra2/2015/02/MERRA2_400.tavg1_2d_aer_Nx.20150225.nc4'),\n",
       "  ('surface_aerosol_hourly',\n",
       "   '/Users/williamhonaker/Desktop/davidson/data_for_geodata/merra2/2015/02/MERRA2_400.tavg1_2d_aer_Nx.20150226.nc4'),\n",
       "  ('surface_aerosol_hourly',\n",
       "   '/Users/williamhonaker/Desktop/davidson/data_for_geodata/merra2/2015/02/MERRA2_400.tavg1_2d_aer_Nx.20150227.nc4'),\n",
       "  ('surface_aerosol_hourly',\n",
       "   '/Users/williamhonaker/Desktop/davidson/data_for_geodata/merra2/2015/02/MERRA2_400.tavg1_2d_aer_Nx.20150228.nc4')]}"
      ]
     },
     "execution_count": 3,
     "metadata": {},
     "output_type": "execute_result"
    }
   ],
   "source": [
    "## Verify Dataset\n",
    "DS.__dict__"
   ]
  },
  {
   "cell_type": "code",
   "execution_count": 3,
   "metadata": {},
   "outputs": [],
   "source": [
    "if DS.prepared == False:\n",
    "\tDS.get_data()"
   ]
  },
  {
   "cell_type": "markdown",
   "metadata": {},
   "source": [
    "## 2. Trim"
   ]
  },
  {
   "cell_type": "code",
   "execution_count": 4,
   "metadata": {},
   "outputs": [
    {
     "data": {
      "text/plain": [
       "['bcsmass', 'dusmass25', 'ocsmass', 'so4smass', 'sssmass25']"
      ]
     },
     "execution_count": 4,
     "metadata": {},
     "output_type": "execute_result"
    }
   ],
   "source": [
    "## Variables before trimming\n",
    "ds = xr.open_dataset(DS.downloadedFiles[0][1])\n",
    "list(ds.data_vars)"
   ]
  },
  {
   "cell_type": "code",
   "execution_count": 5,
   "metadata": {},
   "outputs": [],
   "source": [
    "DS.trim_variables()"
   ]
  },
  {
   "cell_type": "code",
   "execution_count": 6,
   "metadata": {},
   "outputs": [
    {
     "data": {
      "text/plain": [
       "['bcsmass', 'dusmass25', 'ocsmass', 'so4smass', 'sssmass25']"
      ]
     },
     "execution_count": 6,
     "metadata": {},
     "output_type": "execute_result"
    }
   ],
   "source": [
    "## Variables after trimming\n",
    "ds = xr.open_dataset(DS.downloadedFiles[0][1])\n",
    "list(ds.data_vars)"
   ]
  },
  {
   "cell_type": "markdown",
   "metadata": {},
   "source": [
    "# 3. Create Cutout"
   ]
  },
  {
   "cell_type": "code",
   "execution_count": 12,
   "metadata": {},
   "outputs": [
    {
     "name": "stderr",
     "output_type": "stream",
     "text": [
      "INFO:geodata.cutout:Cutout (beijing-2015-pm25-test-5, /Users/williamhonaker/Desktop/davidson/data_for_geodata/cutouts) not found or incomplete.\n"
     ]
    }
   ],
   "source": [
    "cutout = geodata.Cutout(name=\"beijing-2015-pm25-test-5\",\n",
    "                        module=\"merra2\",\n",
    "                        weather_data_config=\"surface_aerosol_hourly\",\n",
    "                        xs=slice(116, 117),\n",
    "                        ys=slice(39.5, 40.5),\n",
    "                        years=slice(2015, 2015),\n",
    "                        months=slice(2,2))\n"
   ]
  },
  {
   "cell_type": "code",
   "execution_count": 14,
   "metadata": {},
   "outputs": [
    {
     "name": "stderr",
     "output_type": "stream",
     "text": [
      "INFO:geodata.preparation:The cutout is already prepared. If you want to recalculate it, supply an `overwrite=True` argument.\n"
     ]
    },
    {
     "data": {
      "text/plain": [
       "True"
      ]
     },
     "execution_count": 14,
     "metadata": {},
     "output_type": "execute_result"
    }
   ],
   "source": [
    "cutout.prepare()"
   ]
  },
  {
   "cell_type": "code",
   "execution_count": 4,
   "metadata": {},
   "outputs": [
    {
     "data": {
      "text/plain": [
       "Coordinates:\n",
       "  * y           (y) float64 39.5 40.0 40.5\n",
       "  * time        (time) datetime64[ns] 2015-02-01T00:30:00 ... 2015-02-13T23:30:00\n",
       "  * x           (x) float64 116.2 116.9\n",
       "    lon         (x) float64 ...\n",
       "    lat         (y) float64 ...\n",
       "  * year-month  (year-month) MultiIndex\n",
       "  - year        (year-month) int64 2015\n",
       "  - month       (year-month) int64 2"
      ]
     },
     "execution_count": 4,
     "metadata": {},
     "output_type": "execute_result"
    }
   ],
   "source": [
    "## Verify Cutout Coords\n",
    "cutout.coords"
   ]
  },
  {
   "cell_type": "markdown",
   "metadata": {},
   "source": [
    "# 4. Generate Outputs"
   ]
  },
  {
   "cell_type": "code",
   "execution_count": 75,
   "metadata": {},
   "outputs": [
    {
     "data": {
      "text/html": [
       "<div>\n",
       "<style scoped>\n",
       "    .dataframe tbody tr th:only-of-type {\n",
       "        vertical-align: middle;\n",
       "    }\n",
       "\n",
       "    .dataframe tbody tr th {\n",
       "        vertical-align: top;\n",
       "    }\n",
       "\n",
       "    .dataframe thead th {\n",
       "        text-align: right;\n",
       "    }\n",
       "</style>\n",
       "<table border=\"1\" class=\"dataframe\">\n",
       "  <thead>\n",
       "    <tr style=\"text-align: right;\">\n",
       "      <th></th>\n",
       "      <th>time</th>\n",
       "      <th>y</th>\n",
       "      <th>x</th>\n",
       "      <th>lat</th>\n",
       "      <th>lon</th>\n",
       "      <th>pm25</th>\n",
       "    </tr>\n",
       "  </thead>\n",
       "  <tbody>\n",
       "    <tr>\n",
       "      <th>0</th>\n",
       "      <td>2015-02-01 00:30:00</td>\n",
       "      <td>39.5</td>\n",
       "      <td>116.250</td>\n",
       "      <td>39.5</td>\n",
       "      <td>116.250</td>\n",
       "      <td>56.539371</td>\n",
       "    </tr>\n",
       "    <tr>\n",
       "      <th>1</th>\n",
       "      <td>2015-02-01 00:30:00</td>\n",
       "      <td>39.5</td>\n",
       "      <td>116.875</td>\n",
       "      <td>39.5</td>\n",
       "      <td>116.875</td>\n",
       "      <td>85.023460</td>\n",
       "    </tr>\n",
       "    <tr>\n",
       "      <th>2</th>\n",
       "      <td>2015-02-01 00:30:00</td>\n",
       "      <td>40.0</td>\n",
       "      <td>116.250</td>\n",
       "      <td>40.0</td>\n",
       "      <td>116.250</td>\n",
       "      <td>28.195593</td>\n",
       "    </tr>\n",
       "    <tr>\n",
       "      <th>3</th>\n",
       "      <td>2015-02-01 00:30:00</td>\n",
       "      <td>40.0</td>\n",
       "      <td>116.875</td>\n",
       "      <td>40.0</td>\n",
       "      <td>116.875</td>\n",
       "      <td>25.313019</td>\n",
       "    </tr>\n",
       "    <tr>\n",
       "      <th>4</th>\n",
       "      <td>2015-02-01 00:30:00</td>\n",
       "      <td>40.5</td>\n",
       "      <td>116.250</td>\n",
       "      <td>40.5</td>\n",
       "      <td>116.250</td>\n",
       "      <td>14.008166</td>\n",
       "    </tr>\n",
       "    <tr>\n",
       "      <th>...</th>\n",
       "      <td>...</td>\n",
       "      <td>...</td>\n",
       "      <td>...</td>\n",
       "      <td>...</td>\n",
       "      <td>...</td>\n",
       "      <td>...</td>\n",
       "    </tr>\n",
       "    <tr>\n",
       "      <th>1867</th>\n",
       "      <td>2015-02-13 23:30:00</td>\n",
       "      <td>39.5</td>\n",
       "      <td>116.875</td>\n",
       "      <td>39.5</td>\n",
       "      <td>116.875</td>\n",
       "      <td>139.894592</td>\n",
       "    </tr>\n",
       "    <tr>\n",
       "      <th>1868</th>\n",
       "      <td>2015-02-13 23:30:00</td>\n",
       "      <td>40.0</td>\n",
       "      <td>116.250</td>\n",
       "      <td>40.0</td>\n",
       "      <td>116.250</td>\n",
       "      <td>100.665192</td>\n",
       "    </tr>\n",
       "    <tr>\n",
       "      <th>1869</th>\n",
       "      <td>2015-02-13 23:30:00</td>\n",
       "      <td>40.0</td>\n",
       "      <td>116.875</td>\n",
       "      <td>40.0</td>\n",
       "      <td>116.875</td>\n",
       "      <td>137.953827</td>\n",
       "    </tr>\n",
       "    <tr>\n",
       "      <th>1870</th>\n",
       "      <td>2015-02-13 23:30:00</td>\n",
       "      <td>40.5</td>\n",
       "      <td>116.250</td>\n",
       "      <td>40.5</td>\n",
       "      <td>116.250</td>\n",
       "      <td>49.956284</td>\n",
       "    </tr>\n",
       "    <tr>\n",
       "      <th>1871</th>\n",
       "      <td>2015-02-13 23:30:00</td>\n",
       "      <td>40.5</td>\n",
       "      <td>116.875</td>\n",
       "      <td>40.5</td>\n",
       "      <td>116.875</td>\n",
       "      <td>88.426392</td>\n",
       "    </tr>\n",
       "  </tbody>\n",
       "</table>\n",
       "<p>1872 rows × 6 columns</p>\n",
       "</div>"
      ],
      "text/plain": [
       "                    time     y        x   lat      lon        pm25\n",
       "0    2015-02-01 00:30:00  39.5  116.250  39.5  116.250   56.539371\n",
       "1    2015-02-01 00:30:00  39.5  116.875  39.5  116.875   85.023460\n",
       "2    2015-02-01 00:30:00  40.0  116.250  40.0  116.250   28.195593\n",
       "3    2015-02-01 00:30:00  40.0  116.875  40.0  116.875   25.313019\n",
       "4    2015-02-01 00:30:00  40.5  116.250  40.5  116.250   14.008166\n",
       "...                  ...   ...      ...   ...      ...         ...\n",
       "1867 2015-02-13 23:30:00  39.5  116.875  39.5  116.875  139.894592\n",
       "1868 2015-02-13 23:30:00  40.0  116.250  40.0  116.250  100.665192\n",
       "1869 2015-02-13 23:30:00  40.0  116.875  40.0  116.875  137.953827\n",
       "1870 2015-02-13 23:30:00  40.5  116.250  40.5  116.250   49.956284\n",
       "1871 2015-02-13 23:30:00  40.5  116.875  40.5  116.875   88.426392\n",
       "\n",
       "[1872 rows x 6 columns]"
      ]
     },
     "execution_count": 75,
     "metadata": {},
     "output_type": "execute_result"
    }
   ],
   "source": [
    "ds_pm25 = geodata.convert.pm25(cutout)\n",
    "df_pm25 = ds_pm25.to_dataframe(name='pm25')\n",
    "df_pm25.reset_index(inplace=True)\n",
    "df_pm25"
   ]
  },
  {
   "cell_type": "code",
   "execution_count": 7,
   "metadata": {},
   "outputs": [],
   "source": [
    "df_pm25.to_csv('beijing-2015-pm25.csv')"
   ]
  },
  {
   "cell_type": "code",
   "execution_count": 76,
   "metadata": {},
   "outputs": [
    {
     "data": {
      "image/png": "[encoded data removed]",
      "text/plain": [
       "<Figure size 432x288 with 1 Axes>"
      ]
     },
     "metadata": {
      "needs_background": "light"
     },
     "output_type": "display_data"
    }
   ],
   "source": [
    "df_pm25[(df_pm25.lat == 39.5) & (df_pm25.lon == 116.25)].plot(x='time', y='pm25')\n",
    "plt.show()"
   ]
  }
 ],
 "metadata": {
  "kernelspec": {
   "display_name": "Python 3",
   "language": "python",
   "name": "python3"
  },
  "language_info": {
   "codemirror_mode": {
    "name": "ipython",
    "version": 3
   },
   "file_extension": ".py",
   "mimetype": "text/x-python",
   "name": "python",
   "nbconvert_exporter": "python",
   "pygments_lexer": "ipython3",
   "version": "3.7.4"
  }
 },
 "nbformat": 4,
 "nbformat_minor": 4
}
