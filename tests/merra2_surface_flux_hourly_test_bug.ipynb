{
 "cells": [
  {
   "cell_type": "markdown",
   "metadata": {},
   "source": [
    "# MERRA2 Hourly Granularity Test\n",
    "- Download\n",
    "- Trim\n",
    "- Create Cutout\n",
    "- Generate Wind Outputs"
   ]
  },
  {
   "cell_type": "markdown",
   "metadata": {},
   "source": [
    "# 1. Imports and Download"
   ]
  },
  {
   "cell_type": "code",
   "execution_count": 1,
   "metadata": {},
   "outputs": [
    {
     "name": "stderr",
     "output_type": "stream",
     "text": [
      "INFO:geodata.dataset:Directory /Users/michd/Documents/GEODATA/data/merra2 found, checking for completeness.\n",
      "INFO:geodata.dataset:File `/Users/michd/Documents/GEODATA/data/merra2/2011/01/MERRA2_400.tavg1_2d_flx_Nx.20110103.nc4` not found pi!\n",
      "INFO:geodata.dataset:File `/Users/michd/Documents/GEODATA/data/merra2/2011/01/MERRA2_400.tavg1_2d_flx_Nx.20110104.nc4` not found pi!\n",
      "INFO:geodata.dataset:File `/Users/michd/Documents/GEODATA/data/merra2/2011/01/MERRA2_400.tavg1_2d_flx_Nx.20110105.nc4` not found pi!\n",
      "INFO:geodata.dataset:File `/Users/michd/Documents/GEODATA/data/merra2/2011/01/MERRA2_400.tavg1_2d_flx_Nx.20110106.nc4` not found pi!\n",
      "INFO:geodata.dataset:File `/Users/michd/Documents/GEODATA/data/merra2/2011/01/MERRA2_400.tavg1_2d_flx_Nx.20110107.nc4` not found pi!\n",
      "INFO:geodata.dataset:File `/Users/michd/Documents/GEODATA/data/merra2/2011/01/MERRA2_400.tavg1_2d_flx_Nx.20110108.nc4` not found pi!\n",
      "INFO:geodata.dataset:File `/Users/michd/Documents/GEODATA/data/merra2/2011/01/MERRA2_400.tavg1_2d_flx_Nx.20110109.nc4` not found pi!\n",
      "INFO:geodata.dataset:File `/Users/michd/Documents/GEODATA/data/merra2/2011/01/MERRA2_400.tavg1_2d_flx_Nx.20110110.nc4` not found pi!\n",
      "INFO:geodata.dataset:File `/Users/michd/Documents/GEODATA/data/merra2/2011/01/MERRA2_400.tavg1_2d_flx_Nx.20110111.nc4` not found pi!\n",
      "INFO:geodata.dataset:File `/Users/michd/Documents/GEODATA/data/merra2/2011/01/MERRA2_400.tavg1_2d_flx_Nx.20110112.nc4` not found pi!\n",
      "INFO:geodata.dataset:File `/Users/michd/Documents/GEODATA/data/merra2/2011/01/MERRA2_400.tavg1_2d_flx_Nx.20110113.nc4` not found pi!\n",
      "INFO:geodata.dataset:File `/Users/michd/Documents/GEODATA/data/merra2/2011/01/MERRA2_400.tavg1_2d_flx_Nx.20110114.nc4` not found pi!\n",
      "INFO:geodata.dataset:File `/Users/michd/Documents/GEODATA/data/merra2/2011/01/MERRA2_400.tavg1_2d_flx_Nx.20110115.nc4` not found pi!\n",
      "INFO:geodata.dataset:File `/Users/michd/Documents/GEODATA/data/merra2/2011/01/MERRA2_400.tavg1_2d_flx_Nx.20110116.nc4` not found pi!\n",
      "INFO:geodata.dataset:File `/Users/michd/Documents/GEODATA/data/merra2/2011/01/MERRA2_400.tavg1_2d_flx_Nx.20110117.nc4` not found pi!\n",
      "INFO:geodata.dataset:File `/Users/michd/Documents/GEODATA/data/merra2/2011/01/MERRA2_400.tavg1_2d_flx_Nx.20110118.nc4` not found pi!\n",
      "INFO:geodata.dataset:File `/Users/michd/Documents/GEODATA/data/merra2/2011/01/MERRA2_400.tavg1_2d_flx_Nx.20110119.nc4` not found pi!\n",
      "INFO:geodata.dataset:File `/Users/michd/Documents/GEODATA/data/merra2/2011/01/MERRA2_400.tavg1_2d_flx_Nx.20110120.nc4` not found pi!\n",
      "INFO:geodata.dataset:File `/Users/michd/Documents/GEODATA/data/merra2/2011/01/MERRA2_400.tavg1_2d_flx_Nx.20110121.nc4` not found pi!\n",
      "INFO:geodata.dataset:File `/Users/michd/Documents/GEODATA/data/merra2/2011/01/MERRA2_400.tavg1_2d_flx_Nx.20110122.nc4` not found pi!\n",
      "INFO:geodata.dataset:File `/Users/michd/Documents/GEODATA/data/merra2/2011/01/MERRA2_400.tavg1_2d_flx_Nx.20110123.nc4` not found pi!\n",
      "INFO:geodata.dataset:File `/Users/michd/Documents/GEODATA/data/merra2/2011/01/MERRA2_400.tavg1_2d_flx_Nx.20110124.nc4` not found pi!\n",
      "INFO:geodata.dataset:File `/Users/michd/Documents/GEODATA/data/merra2/2011/01/MERRA2_400.tavg1_2d_flx_Nx.20110125.nc4` not found pi!\n",
      "INFO:geodata.dataset:File `/Users/michd/Documents/GEODATA/data/merra2/2011/01/MERRA2_400.tavg1_2d_flx_Nx.20110126.nc4` not found pi!\n",
      "INFO:geodata.dataset:File `/Users/michd/Documents/GEODATA/data/merra2/2011/01/MERRA2_400.tavg1_2d_flx_Nx.20110127.nc4` not found pi!\n",
      "INFO:geodata.dataset:File `/Users/michd/Documents/GEODATA/data/merra2/2011/01/MERRA2_400.tavg1_2d_flx_Nx.20110128.nc4` not found pi!\n",
      "INFO:geodata.dataset:File `/Users/michd/Documents/GEODATA/data/merra2/2011/01/MERRA2_400.tavg1_2d_flx_Nx.20110129.nc4` not found pi!\n",
      "INFO:geodata.dataset:File `/Users/michd/Documents/GEODATA/data/merra2/2011/01/MERRA2_400.tavg1_2d_flx_Nx.20110130.nc4` not found pi!\n",
      "INFO:geodata.dataset:File `/Users/michd/Documents/GEODATA/data/merra2/2011/01/MERRA2_400.tavg1_2d_flx_Nx.20110131.nc4` not found pi!\n",
      "WARNING:geodata.dataset:Arguments `xs` and `ys` not used in preparing dataset. Defaulting to global.\n",
      "INFO:geodata.dataset:29 files not completed.\n"
     ]
    }
   ],
   "source": [
    "import geodata\n",
    "import xarray as xr\n",
    "import logging\n",
    "logging.basicConfig(level=logging.INFO)\n",
    "DS_monthly = geodata.Dataset(module=\"merra2\",\n",
    "\t\t\t\t\t years=slice(2011, 2011),\n",
    "\t\t\t\t\t months=slice(1,1),\n",
    "                     weather_data_config = \"surface_flux_hourly\")  "
   ]
  },
  {
   "cell_type": "code",
   "execution_count": 2,
   "metadata": {},
   "outputs": [
    {
     "data": {
      "text/plain": [
       "{'module': 'merra2',\n",
       " 'config': 'surface_flux_hourly',\n",
       " 'dataset_module': <module 'geodata.datasets.merra2' from '/Users/michd/.pyenv/versions/3.6.9/lib/python3.6/site-packages/geodata-0.0.1-py3.6.egg/geodata/datasets/merra2.py'>,\n",
       " 'weatherconfig': {'file_granularity': 'daily',\n",
       "  'tasks_func': <function geodata.datasets.merra2.tasks_daily_merra2(xs, ys, yearmonths, prepare_func, **meta_attrs)>,\n",
       "  'meta_prepare_func': <function geodata.datasets.merra2.prepare_meta_merra2(xs, ys, year, month, template, module, **params)>,\n",
       "  'prepare_func': <function geodata.datasets.merra2.prepare_month_surface_flux(fn, year, month, xs, ys)>,\n",
       "  'template': '/Users/michd/Documents/GEODATA/data/merra2/{year}/{month:0>2}/MERRA2_*.tavg1_2d_flx_Nx.*.nc4',\n",
       "  'url': 'https://goldsmr4.gesdisc.eosdis.nasa.gov/data/MERRA2/M2T1NXFLX.5.12.4/{year}/{month:0>2}/MERRA2_{spinup}.tavg1_2d_flx_Nx.{year}{month:0>2}{day:0>2}.nc4',\n",
       "  'fn': '/Users/michd/Documents/GEODATA/data/merra2/{year}/{month:0>2}/MERRA2_{spinup}.tavg1_2d_flx_Nx.{year}{month:0>2}{day:0>2}.nc4',\n",
       "  'variables': ['ustar',\n",
       "   'z0m',\n",
       "   'disph',\n",
       "   'rhoa',\n",
       "   'ulml',\n",
       "   'vlml',\n",
       "   'tstar',\n",
       "   'hlml',\n",
       "   'tlml',\n",
       "   'pblh',\n",
       "   'hflux',\n",
       "   'eflux']},\n",
       " 'datadir': '/Users/michd/Documents/GEODATA/data/merra2',\n",
       " 'years': slice(2011, 2011, None),\n",
       " 'months': slice(1, 1, None),\n",
       " 'prepared': False,\n",
       " 'toDownload': [('surface_flux_hourly',\n",
       "   '/Users/michd/Documents/GEODATA/data/merra2/2011/01/MERRA2_400.tavg1_2d_flx_Nx.20110103.nc4',\n",
       "   'https://goldsmr4.gesdisc.eosdis.nasa.gov/data/MERRA2/M2T1NXFLX.5.12.4/2011/01/MERRA2_400.tavg1_2d_flx_Nx.20110103.nc4'),\n",
       "  ('surface_flux_hourly',\n",
       "   '/Users/michd/Documents/GEODATA/data/merra2/2011/01/MERRA2_400.tavg1_2d_flx_Nx.20110104.nc4',\n",
       "   'https://goldsmr4.gesdisc.eosdis.nasa.gov/data/MERRA2/M2T1NXFLX.5.12.4/2011/01/MERRA2_400.tavg1_2d_flx_Nx.20110104.nc4'),\n",
       "  ('surface_flux_hourly',\n",
       "   '/Users/michd/Documents/GEODATA/data/merra2/2011/01/MERRA2_400.tavg1_2d_flx_Nx.20110105.nc4',\n",
       "   'https://goldsmr4.gesdisc.eosdis.nasa.gov/data/MERRA2/M2T1NXFLX.5.12.4/2011/01/MERRA2_400.tavg1_2d_flx_Nx.20110105.nc4'),\n",
       "  ('surface_flux_hourly',\n",
       "   '/Users/michd/Documents/GEODATA/data/merra2/2011/01/MERRA2_400.tavg1_2d_flx_Nx.20110106.nc4',\n",
       "   'https://goldsmr4.gesdisc.eosdis.nasa.gov/data/MERRA2/M2T1NXFLX.5.12.4/2011/01/MERRA2_400.tavg1_2d_flx_Nx.20110106.nc4'),\n",
       "  ('surface_flux_hourly',\n",
       "   '/Users/michd/Documents/GEODATA/data/merra2/2011/01/MERRA2_400.tavg1_2d_flx_Nx.20110107.nc4',\n",
       "   'https://goldsmr4.gesdisc.eosdis.nasa.gov/data/MERRA2/M2T1NXFLX.5.12.4/2011/01/MERRA2_400.tavg1_2d_flx_Nx.20110107.nc4'),\n",
       "  ('surface_flux_hourly',\n",
       "   '/Users/michd/Documents/GEODATA/data/merra2/2011/01/MERRA2_400.tavg1_2d_flx_Nx.20110108.nc4',\n",
       "   'https://goldsmr4.gesdisc.eosdis.nasa.gov/data/MERRA2/M2T1NXFLX.5.12.4/2011/01/MERRA2_400.tavg1_2d_flx_Nx.20110108.nc4'),\n",
       "  ('surface_flux_hourly',\n",
       "   '/Users/michd/Documents/GEODATA/data/merra2/2011/01/MERRA2_400.tavg1_2d_flx_Nx.20110109.nc4',\n",
       "   'https://goldsmr4.gesdisc.eosdis.nasa.gov/data/MERRA2/M2T1NXFLX.5.12.4/2011/01/MERRA2_400.tavg1_2d_flx_Nx.20110109.nc4'),\n",
       "  ('surface_flux_hourly',\n",
       "   '/Users/michd/Documents/GEODATA/data/merra2/2011/01/MERRA2_400.tavg1_2d_flx_Nx.20110110.nc4',\n",
       "   'https://goldsmr4.gesdisc.eosdis.nasa.gov/data/MERRA2/M2T1NXFLX.5.12.4/2011/01/MERRA2_400.tavg1_2d_flx_Nx.20110110.nc4'),\n",
       "  ('surface_flux_hourly',\n",
       "   '/Users/michd/Documents/GEODATA/data/merra2/2011/01/MERRA2_400.tavg1_2d_flx_Nx.20110111.nc4',\n",
       "   'https://goldsmr4.gesdisc.eosdis.nasa.gov/data/MERRA2/M2T1NXFLX.5.12.4/2011/01/MERRA2_400.tavg1_2d_flx_Nx.20110111.nc4'),\n",
       "  ('surface_flux_hourly',\n",
       "   '/Users/michd/Documents/GEODATA/data/merra2/2011/01/MERRA2_400.tavg1_2d_flx_Nx.20110112.nc4',\n",
       "   'https://goldsmr4.gesdisc.eosdis.nasa.gov/data/MERRA2/M2T1NXFLX.5.12.4/2011/01/MERRA2_400.tavg1_2d_flx_Nx.20110112.nc4'),\n",
       "  ('surface_flux_hourly',\n",
       "   '/Users/michd/Documents/GEODATA/data/merra2/2011/01/MERRA2_400.tavg1_2d_flx_Nx.20110113.nc4',\n",
       "   'https://goldsmr4.gesdisc.eosdis.nasa.gov/data/MERRA2/M2T1NXFLX.5.12.4/2011/01/MERRA2_400.tavg1_2d_flx_Nx.20110113.nc4'),\n",
       "  ('surface_flux_hourly',\n",
       "   '/Users/michd/Documents/GEODATA/data/merra2/2011/01/MERRA2_400.tavg1_2d_flx_Nx.20110114.nc4',\n",
       "   'https://goldsmr4.gesdisc.eosdis.nasa.gov/data/MERRA2/M2T1NXFLX.5.12.4/2011/01/MERRA2_400.tavg1_2d_flx_Nx.20110114.nc4'),\n",
       "  ('surface_flux_hourly',\n",
       "   '/Users/michd/Documents/GEODATA/data/merra2/2011/01/MERRA2_400.tavg1_2d_flx_Nx.20110115.nc4',\n",
       "   'https://goldsmr4.gesdisc.eosdis.nasa.gov/data/MERRA2/M2T1NXFLX.5.12.4/2011/01/MERRA2_400.tavg1_2d_flx_Nx.20110115.nc4'),\n",
       "  ('surface_flux_hourly',\n",
       "   '/Users/michd/Documents/GEODATA/data/merra2/2011/01/MERRA2_400.tavg1_2d_flx_Nx.20110116.nc4',\n",
       "   'https://goldsmr4.gesdisc.eosdis.nasa.gov/data/MERRA2/M2T1NXFLX.5.12.4/2011/01/MERRA2_400.tavg1_2d_flx_Nx.20110116.nc4'),\n",
       "  ('surface_flux_hourly',\n",
       "   '/Users/michd/Documents/GEODATA/data/merra2/2011/01/MERRA2_400.tavg1_2d_flx_Nx.20110117.nc4',\n",
       "   'https://goldsmr4.gesdisc.eosdis.nasa.gov/data/MERRA2/M2T1NXFLX.5.12.4/2011/01/MERRA2_400.tavg1_2d_flx_Nx.20110117.nc4'),\n",
       "  ('surface_flux_hourly',\n",
       "   '/Users/michd/Documents/GEODATA/data/merra2/2011/01/MERRA2_400.tavg1_2d_flx_Nx.20110118.nc4',\n",
       "   'https://goldsmr4.gesdisc.eosdis.nasa.gov/data/MERRA2/M2T1NXFLX.5.12.4/2011/01/MERRA2_400.tavg1_2d_flx_Nx.20110118.nc4'),\n",
       "  ('surface_flux_hourly',\n",
       "   '/Users/michd/Documents/GEODATA/data/merra2/2011/01/MERRA2_400.tavg1_2d_flx_Nx.20110119.nc4',\n",
       "   'https://goldsmr4.gesdisc.eosdis.nasa.gov/data/MERRA2/M2T1NXFLX.5.12.4/2011/01/MERRA2_400.tavg1_2d_flx_Nx.20110119.nc4'),\n",
       "  ('surface_flux_hourly',\n",
       "   '/Users/michd/Documents/GEODATA/data/merra2/2011/01/MERRA2_400.tavg1_2d_flx_Nx.20110120.nc4',\n",
       "   'https://goldsmr4.gesdisc.eosdis.nasa.gov/data/MERRA2/M2T1NXFLX.5.12.4/2011/01/MERRA2_400.tavg1_2d_flx_Nx.20110120.nc4'),\n",
       "  ('surface_flux_hourly',\n",
       "   '/Users/michd/Documents/GEODATA/data/merra2/2011/01/MERRA2_400.tavg1_2d_flx_Nx.20110121.nc4',\n",
       "   'https://goldsmr4.gesdisc.eosdis.nasa.gov/data/MERRA2/M2T1NXFLX.5.12.4/2011/01/MERRA2_400.tavg1_2d_flx_Nx.20110121.nc4'),\n",
       "  ('surface_flux_hourly',\n",
       "   '/Users/michd/Documents/GEODATA/data/merra2/2011/01/MERRA2_400.tavg1_2d_flx_Nx.20110122.nc4',\n",
       "   'https://goldsmr4.gesdisc.eosdis.nasa.gov/data/MERRA2/M2T1NXFLX.5.12.4/2011/01/MERRA2_400.tavg1_2d_flx_Nx.20110122.nc4'),\n",
       "  ('surface_flux_hourly',\n",
       "   '/Users/michd/Documents/GEODATA/data/merra2/2011/01/MERRA2_400.tavg1_2d_flx_Nx.20110123.nc4',\n",
       "   'https://goldsmr4.gesdisc.eosdis.nasa.gov/data/MERRA2/M2T1NXFLX.5.12.4/2011/01/MERRA2_400.tavg1_2d_flx_Nx.20110123.nc4'),\n",
       "  ('surface_flux_hourly',\n",
       "   '/Users/michd/Documents/GEODATA/data/merra2/2011/01/MERRA2_400.tavg1_2d_flx_Nx.20110124.nc4',\n",
       "   'https://goldsmr4.gesdisc.eosdis.nasa.gov/data/MERRA2/M2T1NXFLX.5.12.4/2011/01/MERRA2_400.tavg1_2d_flx_Nx.20110124.nc4'),\n",
       "  ('surface_flux_hourly',\n",
       "   '/Users/michd/Documents/GEODATA/data/merra2/2011/01/MERRA2_400.tavg1_2d_flx_Nx.20110125.nc4',\n",
       "   'https://goldsmr4.gesdisc.eosdis.nasa.gov/data/MERRA2/M2T1NXFLX.5.12.4/2011/01/MERRA2_400.tavg1_2d_flx_Nx.20110125.nc4'),\n",
       "  ('surface_flux_hourly',\n",
       "   '/Users/michd/Documents/GEODATA/data/merra2/2011/01/MERRA2_400.tavg1_2d_flx_Nx.20110126.nc4',\n",
       "   'https://goldsmr4.gesdisc.eosdis.nasa.gov/data/MERRA2/M2T1NXFLX.5.12.4/2011/01/MERRA2_400.tavg1_2d_flx_Nx.20110126.nc4'),\n",
       "  ('surface_flux_hourly',\n",
       "   '/Users/michd/Documents/GEODATA/data/merra2/2011/01/MERRA2_400.tavg1_2d_flx_Nx.20110127.nc4',\n",
       "   'https://goldsmr4.gesdisc.eosdis.nasa.gov/data/MERRA2/M2T1NXFLX.5.12.4/2011/01/MERRA2_400.tavg1_2d_flx_Nx.20110127.nc4'),\n",
       "  ('surface_flux_hourly',\n",
       "   '/Users/michd/Documents/GEODATA/data/merra2/2011/01/MERRA2_400.tavg1_2d_flx_Nx.20110128.nc4',\n",
       "   'https://goldsmr4.gesdisc.eosdis.nasa.gov/data/MERRA2/M2T1NXFLX.5.12.4/2011/01/MERRA2_400.tavg1_2d_flx_Nx.20110128.nc4'),\n",
       "  ('surface_flux_hourly',\n",
       "   '/Users/michd/Documents/GEODATA/data/merra2/2011/01/MERRA2_400.tavg1_2d_flx_Nx.20110129.nc4',\n",
       "   'https://goldsmr4.gesdisc.eosdis.nasa.gov/data/MERRA2/M2T1NXFLX.5.12.4/2011/01/MERRA2_400.tavg1_2d_flx_Nx.20110129.nc4'),\n",
       "  ('surface_flux_hourly',\n",
       "   '/Users/michd/Documents/GEODATA/data/merra2/2011/01/MERRA2_400.tavg1_2d_flx_Nx.20110130.nc4',\n",
       "   'https://goldsmr4.gesdisc.eosdis.nasa.gov/data/MERRA2/M2T1NXFLX.5.12.4/2011/01/MERRA2_400.tavg1_2d_flx_Nx.20110130.nc4'),\n",
       "  ('surface_flux_hourly',\n",
       "   '/Users/michd/Documents/GEODATA/data/merra2/2011/01/MERRA2_400.tavg1_2d_flx_Nx.20110131.nc4',\n",
       "   'https://goldsmr4.gesdisc.eosdis.nasa.gov/data/MERRA2/M2T1NXFLX.5.12.4/2011/01/MERRA2_400.tavg1_2d_flx_Nx.20110131.nc4')],\n",
       " 'downloadedFiles': [('surface_flux_hourly',\n",
       "   '/Users/michd/Documents/GEODATA/data/merra2/2011/01/MERRA2_400.tavg1_2d_flx_Nx.20110101.nc4'),\n",
       "  ('surface_flux_hourly',\n",
       "   '/Users/michd/Documents/GEODATA/data/merra2/2011/01/MERRA2_400.tavg1_2d_flx_Nx.20110102.nc4')],\n",
       " 'totalFiles': [('surface_flux_hourly',\n",
       "   '/Users/michd/Documents/GEODATA/data/merra2/2011/01/MERRA2_400.tavg1_2d_flx_Nx.20110101.nc4'),\n",
       "  ('surface_flux_hourly',\n",
       "   '/Users/michd/Documents/GEODATA/data/merra2/2011/01/MERRA2_400.tavg1_2d_flx_Nx.20110102.nc4'),\n",
       "  ('surface_flux_hourly',\n",
       "   '/Users/michd/Documents/GEODATA/data/merra2/2011/01/MERRA2_400.tavg1_2d_flx_Nx.20110103.nc4'),\n",
       "  ('surface_flux_hourly',\n",
       "   '/Users/michd/Documents/GEODATA/data/merra2/2011/01/MERRA2_400.tavg1_2d_flx_Nx.20110104.nc4'),\n",
       "  ('surface_flux_hourly',\n",
       "   '/Users/michd/Documents/GEODATA/data/merra2/2011/01/MERRA2_400.tavg1_2d_flx_Nx.20110105.nc4'),\n",
       "  ('surface_flux_hourly',\n",
       "   '/Users/michd/Documents/GEODATA/data/merra2/2011/01/MERRA2_400.tavg1_2d_flx_Nx.20110106.nc4'),\n",
       "  ('surface_flux_hourly',\n",
       "   '/Users/michd/Documents/GEODATA/data/merra2/2011/01/MERRA2_400.tavg1_2d_flx_Nx.20110107.nc4'),\n",
       "  ('surface_flux_hourly',\n",
       "   '/Users/michd/Documents/GEODATA/data/merra2/2011/01/MERRA2_400.tavg1_2d_flx_Nx.20110108.nc4'),\n",
       "  ('surface_flux_hourly',\n",
       "   '/Users/michd/Documents/GEODATA/data/merra2/2011/01/MERRA2_400.tavg1_2d_flx_Nx.20110109.nc4'),\n",
       "  ('surface_flux_hourly',\n",
       "   '/Users/michd/Documents/GEODATA/data/merra2/2011/01/MERRA2_400.tavg1_2d_flx_Nx.20110110.nc4'),\n",
       "  ('surface_flux_hourly',\n",
       "   '/Users/michd/Documents/GEODATA/data/merra2/2011/01/MERRA2_400.tavg1_2d_flx_Nx.20110111.nc4'),\n",
       "  ('surface_flux_hourly',\n",
       "   '/Users/michd/Documents/GEODATA/data/merra2/2011/01/MERRA2_400.tavg1_2d_flx_Nx.20110112.nc4'),\n",
       "  ('surface_flux_hourly',\n",
       "   '/Users/michd/Documents/GEODATA/data/merra2/2011/01/MERRA2_400.tavg1_2d_flx_Nx.20110113.nc4'),\n",
       "  ('surface_flux_hourly',\n",
       "   '/Users/michd/Documents/GEODATA/data/merra2/2011/01/MERRA2_400.tavg1_2d_flx_Nx.20110114.nc4'),\n",
       "  ('surface_flux_hourly',\n",
       "   '/Users/michd/Documents/GEODATA/data/merra2/2011/01/MERRA2_400.tavg1_2d_flx_Nx.20110115.nc4'),\n",
       "  ('surface_flux_hourly',\n",
       "   '/Users/michd/Documents/GEODATA/data/merra2/2011/01/MERRA2_400.tavg1_2d_flx_Nx.20110116.nc4'),\n",
       "  ('surface_flux_hourly',\n",
       "   '/Users/michd/Documents/GEODATA/data/merra2/2011/01/MERRA2_400.tavg1_2d_flx_Nx.20110117.nc4'),\n",
       "  ('surface_flux_hourly',\n",
       "   '/Users/michd/Documents/GEODATA/data/merra2/2011/01/MERRA2_400.tavg1_2d_flx_Nx.20110118.nc4'),\n",
       "  ('surface_flux_hourly',\n",
       "   '/Users/michd/Documents/GEODATA/data/merra2/2011/01/MERRA2_400.tavg1_2d_flx_Nx.20110119.nc4'),\n",
       "  ('surface_flux_hourly',\n",
       "   '/Users/michd/Documents/GEODATA/data/merra2/2011/01/MERRA2_400.tavg1_2d_flx_Nx.20110120.nc4'),\n",
       "  ('surface_flux_hourly',\n",
       "   '/Users/michd/Documents/GEODATA/data/merra2/2011/01/MERRA2_400.tavg1_2d_flx_Nx.20110121.nc4'),\n",
       "  ('surface_flux_hourly',\n",
       "   '/Users/michd/Documents/GEODATA/data/merra2/2011/01/MERRA2_400.tavg1_2d_flx_Nx.20110122.nc4'),\n",
       "  ('surface_flux_hourly',\n",
       "   '/Users/michd/Documents/GEODATA/data/merra2/2011/01/MERRA2_400.tavg1_2d_flx_Nx.20110123.nc4'),\n",
       "  ('surface_flux_hourly',\n",
       "   '/Users/michd/Documents/GEODATA/data/merra2/2011/01/MERRA2_400.tavg1_2d_flx_Nx.20110124.nc4'),\n",
       "  ('surface_flux_hourly',\n",
       "   '/Users/michd/Documents/GEODATA/data/merra2/2011/01/MERRA2_400.tavg1_2d_flx_Nx.20110125.nc4'),\n",
       "  ('surface_flux_hourly',\n",
       "   '/Users/michd/Documents/GEODATA/data/merra2/2011/01/MERRA2_400.tavg1_2d_flx_Nx.20110126.nc4'),\n",
       "  ('surface_flux_hourly',\n",
       "   '/Users/michd/Documents/GEODATA/data/merra2/2011/01/MERRA2_400.tavg1_2d_flx_Nx.20110127.nc4'),\n",
       "  ('surface_flux_hourly',\n",
       "   '/Users/michd/Documents/GEODATA/data/merra2/2011/01/MERRA2_400.tavg1_2d_flx_Nx.20110128.nc4'),\n",
       "  ('surface_flux_hourly',\n",
       "   '/Users/michd/Documents/GEODATA/data/merra2/2011/01/MERRA2_400.tavg1_2d_flx_Nx.20110129.nc4'),\n",
       "  ('surface_flux_hourly',\n",
       "   '/Users/michd/Documents/GEODATA/data/merra2/2011/01/MERRA2_400.tavg1_2d_flx_Nx.20110130.nc4'),\n",
       "  ('surface_flux_hourly',\n",
       "   '/Users/michd/Documents/GEODATA/data/merra2/2011/01/MERRA2_400.tavg1_2d_flx_Nx.20110131.nc4')]}"
      ]
     },
     "execution_count": 2,
     "metadata": {},
     "output_type": "execute_result"
    }
   ],
   "source": [
    "## Verify Dataset\n",
    "DS_monthly.__dict__"
   ]
  },
  {
   "cell_type": "code",
   "execution_count": 3,
   "metadata": {},
   "outputs": [],
   "source": [
    "if DS_monthly.prepared == False:\n",
    "\tDS_monthly.get_data()"
   ]
  },
  {
   "cell_type": "markdown",
   "metadata": {},
   "source": [
    "## 2. Trim"
   ]
  },
  {
   "cell_type": "code",
   "execution_count": 4,
   "metadata": {},
   "outputs": [],
   "source": [
    "## Variables before trimming\n",
    "ds = xr.open_dataset(DS_monthly.downloadedFiles[1][1])\n",
    "ds.data_vars"
   ]
  },
  {
   "cell_type": "code",
   "execution_count": 7,
   "metadata": {},
   "outputs": [
    {
     "data": {
      "text/plain": [
       "24"
      ]
     },
     "execution_count": 7,
     "metadata": {},
     "output_type": "execute_result"
    }
   ],
   "source": [
    "len(ds.coords['time'])"
   ]
  },
  {
   "cell_type": "code",
   "execution_count": null,
   "metadata": {},
   "outputs": [],
   "source": [
    "# No longer need downloadedFiles = True\n",
    "DS_monthly.trim_variables()"
   ]
  },
  {
   "cell_type": "code",
   "execution_count": null,
   "metadata": {},
   "outputs": [],
   "source": [
    "## Variables after trimming\n",
    "ds = xr.open_dataset(DS_monthly.downloadedFiles[1][1])\n",
    "list(ds.data_vars)"
   ]
  },
  {
   "cell_type": "code",
   "execution_count": null,
   "metadata": {},
   "outputs": [],
   "source": [
    "# True if variables in trimmed dataset equal variables in config \n",
    "DS_monthly.weatherconfig['variables'] == list(ds.data_vars)"
   ]
  },
  {
   "cell_type": "markdown",
   "metadata": {},
   "source": [
    "# 3. Create Cutout"
   ]
  },
  {
   "cell_type": "code",
   "execution_count": 9,
   "metadata": {},
   "outputs": [
    {
     "name": "stderr",
     "output_type": "stream",
     "text": [
      "INFO:geodata.cutout:Cutout (tokyo-2011-1-test, /Users/michd/GoogleDrive/REDATA/cutouts) not complete.\n",
      "INFO:geodata.cutout:Cutout (tokyo-2011-1-test, /Users/michd/GoogleDrive/REDATA/cutouts) not found or incomplete.\n"
     ]
    }
   ],
   "source": [
    "cutout = geodata.Cutout(name=\"tokyo-2011-1-test\",\n",
    "                       module=\"merra2\",\n",
    "                       weather_data_config=\"surface_flux_hourly\",\n",
    "                       xs=slice(138.5, 139.5),\n",
    "                       ys=slice(35, 36),\n",
    "                       years=slice(2011, 2011),\n",
    "                       months=slice(1,1))"
   ]
  },
  {
   "cell_type": "code",
   "execution_count": 10,
   "metadata": {},
   "outputs": [
    {
     "name": "stderr",
     "output_type": "stream",
     "text": [
      "INFO:geodata.preparation:Starting preparation of cutout 'tokyo-2011-1-test'\n",
      "INFO:geodata.datasets.merra2:MultiIndex([(2011, 1)],\n",
      "           names=['year', 'month'])\n",
      "INFO:geodata.datasets.merra2:[(2011, 1, 1), (2011, 1, 2), (2011, 1, 3), (2011, 1, 4), (2011, 1, 5), (2011, 1, 6), (2011, 1, 7), (2011, 1, 8), (2011, 1, 9), (2011, 1, 10), (2011, 1, 11), (2011, 1, 12), (2011, 1, 13), (2011, 1, 14), (2011, 1, 15), (2011, 1, 16), (2011, 1, 17), (2011, 1, 18), (2011, 1, 19), (2011, 1, 20), (2011, 1, 21), (2011, 1, 22), (2011, 1, 23), (2011, 1, 24), (2011, 1, 25), (2011, 1, 26), (2011, 1, 27), (2011, 1, 28), (2011, 1, 29), (2011, 1, 30), (2011, 1, 31)]\n",
      "INFO:geodata.preparation:31 tasks have been collected. Starting running them on all processors.\n",
      "INFO:geodata.datasets.merra2:Opening `/Users/michd/Documents/GEODATA/data/merra2/2011/01/MERRA2_400.tavg1_2d_flx_Nx.20110102.nc4`\n",
      "INFO:geodata.datasets.merra2:Opening `/Users/michd/Documents/GEODATA/data/merra2/2011/01/MERRA2_400.tavg1_2d_flx_Nx.20110101.nc4`\n",
      "ERROR:geodata.preparation:Exception occured in the task with prepare_func `prepare_month_surface_flux`: The truth value of an array with more than one element is ambiguous. Use a.any() or a.all()\n",
      "Traceback (most recent call last):\n",
      "  File \"/Users/michd/.pyenv/versions/3.6.9/lib/python3.6/site-packages/geodata-0.0.1-py3.6.egg/geodata/preparation.py\", line 56, in cutout_do_task\n",
      "    for yearmonth, ds in data:\n",
      "  File \"/Users/michd/.pyenv/versions/3.6.9/lib/python3.6/site-packages/geodata-0.0.1-py3.6.egg/geodata/datasets/merra2.py\", line 161, in prepare_month_surface_flux\n",
      "    if ds['tlml']:\n",
      "  File \"/Users/michd/.pyenv/versions/3.6.9/lib/python3.6/site-packages/xarray/core/common.py\", line 120, in __bool__\n",
      "    return bool(self.values)\n",
      "ValueError: The truth value of an array with more than one element is ambiguous. Use a.any() or a.all()ERROR:geodata.preparation:Exception occured in the task with prepare_func `prepare_month_surface_flux`: The truth value of an array with more than one element is ambiguous. Use a.any() or a.all()\n",
      "Traceback (most recent call last):\n",
      "  File \"/Users/michd/.pyenv/versions/3.6.9/lib/python3.6/site-packages/geodata-0.0.1-py3.6.egg/geodata/preparation.py\", line 56, in cutout_do_task\n",
      "    for yearmonth, ds in data:\n",
      "  File \"/Users/michd/.pyenv/versions/3.6.9/lib/python3.6/site-packages/geodata-0.0.1-py3.6.egg/geodata/datasets/merra2.py\", line 161, in prepare_month_surface_flux\n",
      "    if ds['tlml']:\n",
      "  File \"/Users/michd/.pyenv/versions/3.6.9/lib/python3.6/site-packages/xarray/core/common.py\", line 120, in __bool__\n",
      "    return bool(self.values)\n",
      "ValueError: The truth value of an array with more than one element is ambiguous. Use a.any() or a.all()\n",
      "\n",
      "INFO:geodata.preparation:Preparation of cutout 'tokyo-2011-1-test' has been interrupted by an exception. Purging the incomplete cutout_dir.\n"
     ]
    },
    {
     "ename": "ValueError",
     "evalue": "The truth value of an array with more than one element is ambiguous. Use a.any() or a.all()",
     "output_type": "error",
     "traceback": [
      "\u001b[0;31m---------------------------------------------------------------------------\u001b[0m",
      "\u001b[0;31mRemoteTraceback\u001b[0m                           Traceback (most recent call last)",
      "\u001b[0;31mRemoteTraceback\u001b[0m: \n\"\"\"\nTraceback (most recent call last):\n  File \"/Users/michd/.pyenv/versions/3.6.9/lib/python3.6/multiprocessing/pool.py\", line 119, in worker\n    result = (True, func(*args, **kwds))\n  File \"/Users/michd/.pyenv/versions/3.6.9/lib/python3.6/multiprocessing/pool.py\", line 44, in mapstar\n    return list(map(*args))\n  File \"/Users/michd/.pyenv/versions/3.6.9/lib/python3.6/site-packages/geodata-0.0.1-py3.6.egg/geodata/preparation.py\", line 73, in cutout_do_task\n    raise e\n  File \"/Users/michd/.pyenv/versions/3.6.9/lib/python3.6/site-packages/geodata-0.0.1-py3.6.egg/geodata/preparation.py\", line 56, in cutout_do_task\n    for yearmonth, ds in data:\n  File \"/Users/michd/.pyenv/versions/3.6.9/lib/python3.6/site-packages/geodata-0.0.1-py3.6.egg/geodata/datasets/merra2.py\", line 161, in prepare_month_surface_flux\n    if ds['tlml']:\n  File \"/Users/michd/.pyenv/versions/3.6.9/lib/python3.6/site-packages/xarray/core/common.py\", line 120, in __bool__\n    return bool(self.values)\nValueError: The truth value of an array with more than one element is ambiguous. Use a.any() or a.all()\n\"\"\"",
      "\nThe above exception was the direct cause of the following exception:\n",
      "\u001b[0;31mValueError\u001b[0m                                Traceback (most recent call last)",
      "\u001b[0;32m<ipython-input-10-77851f4f0f11>\u001b[0m in \u001b[0;36m<module>\u001b[0;34m\u001b[0m\n\u001b[0;32m----> 1\u001b[0;31m \u001b[0mcutout\u001b[0m\u001b[0;34m.\u001b[0m\u001b[0mprepare\u001b[0m\u001b[0;34m(\u001b[0m\u001b[0moverwrite\u001b[0m\u001b[0;34m=\u001b[0m\u001b[0;32mTrue\u001b[0m\u001b[0;34m)\u001b[0m\u001b[0;34m\u001b[0m\u001b[0;34m\u001b[0m\u001b[0m\n\u001b[0m",
      "\u001b[0;32m~/.pyenv/versions/3.6.9/lib/python3.6/site-packages/geodata-0.0.1-py3.6.egg/geodata/preparation.py\u001b[0m in \u001b[0;36mcutout_prepare\u001b[0;34m(cutout, overwrite, nprocesses, gebco_height)\u001b[0m\n\u001b[1;32m    154\u001b[0m \t\t\t\t\tcutout.name)\n\u001b[1;32m    155\u001b[0m                 \u001b[0mshutil\u001b[0m\u001b[0;34m.\u001b[0m\u001b[0mrmtree\u001b[0m\u001b[0;34m(\u001b[0m\u001b[0mcutout_dir\u001b[0m\u001b[0;34m)\u001b[0m\u001b[0;34m\u001b[0m\u001b[0;34m\u001b[0m\u001b[0m\n\u001b[0;32m--> 156\u001b[0;31m                 \u001b[0;32mraise\u001b[0m \u001b[0me\u001b[0m\u001b[0;34m\u001b[0m\u001b[0;34m\u001b[0m\u001b[0m\n\u001b[0m\u001b[1;32m    157\u001b[0m         \u001b[0mpool\u001b[0m\u001b[0;34m.\u001b[0m\u001b[0mclose\u001b[0m\u001b[0;34m(\u001b[0m\u001b[0;34m)\u001b[0m\u001b[0;34m\u001b[0m\u001b[0;34m\u001b[0m\u001b[0m\n\u001b[1;32m    158\u001b[0m \u001b[0;34m\u001b[0m\u001b[0m\n",
      "\u001b[0;32m~/.pyenv/versions/3.6.9/lib/python3.6/site-packages/geodata-0.0.1-py3.6.egg/geodata/preparation.py\u001b[0m in \u001b[0;36mcutout_prepare\u001b[0;34m(cutout, overwrite, nprocesses, gebco_height)\u001b[0m\n\u001b[1;32m    147\u001b[0m         \u001b[0mpool\u001b[0m \u001b[0;34m=\u001b[0m \u001b[0mPool\u001b[0m\u001b[0;34m(\u001b[0m\u001b[0mprocesses\u001b[0m\u001b[0;34m=\u001b[0m\u001b[0mnprocesses\u001b[0m\u001b[0;34m)\u001b[0m\u001b[0;34m\u001b[0m\u001b[0;34m\u001b[0m\u001b[0m\n\u001b[1;32m    148\u001b[0m         \u001b[0;32mtry\u001b[0m\u001b[0;34m:\u001b[0m\u001b[0;34m\u001b[0m\u001b[0;34m\u001b[0m\u001b[0m\n\u001b[0;32m--> 149\u001b[0;31m                 \u001b[0mpool\u001b[0m\u001b[0;34m.\u001b[0m\u001b[0mmap\u001b[0m\u001b[0;34m(\u001b[0m\u001b[0mcutout_do_task\u001b[0m\u001b[0;34m,\u001b[0m \u001b[0mtasks\u001b[0m\u001b[0;34m)\u001b[0m\u001b[0;34m\u001b[0m\u001b[0;34m\u001b[0m\u001b[0m\n\u001b[0m\u001b[1;32m    150\u001b[0m         \u001b[0;32mexcept\u001b[0m \u001b[0mException\u001b[0m \u001b[0;32mas\u001b[0m \u001b[0me\u001b[0m\u001b[0;34m:\u001b[0m\u001b[0;34m\u001b[0m\u001b[0;34m\u001b[0m\u001b[0m\n\u001b[1;32m    151\u001b[0m                 \u001b[0mpool\u001b[0m\u001b[0;34m.\u001b[0m\u001b[0mterminate\u001b[0m\u001b[0;34m(\u001b[0m\u001b[0;34m)\u001b[0m\u001b[0;34m\u001b[0m\u001b[0;34m\u001b[0m\u001b[0m\n",
      "\u001b[0;32m~/.pyenv/versions/3.6.9/lib/python3.6/multiprocessing/pool.py\u001b[0m in \u001b[0;36mmap\u001b[0;34m(self, func, iterable, chunksize)\u001b[0m\n\u001b[1;32m    264\u001b[0m         \u001b[0;32min\u001b[0m \u001b[0ma\u001b[0m \u001b[0mlist\u001b[0m \u001b[0mthat\u001b[0m \u001b[0;32mis\u001b[0m \u001b[0mreturned\u001b[0m\u001b[0;34m.\u001b[0m\u001b[0;34m\u001b[0m\u001b[0;34m\u001b[0m\u001b[0m\n\u001b[1;32m    265\u001b[0m         '''\n\u001b[0;32m--> 266\u001b[0;31m         \u001b[0;32mreturn\u001b[0m \u001b[0mself\u001b[0m\u001b[0;34m.\u001b[0m\u001b[0m_map_async\u001b[0m\u001b[0;34m(\u001b[0m\u001b[0mfunc\u001b[0m\u001b[0;34m,\u001b[0m \u001b[0miterable\u001b[0m\u001b[0;34m,\u001b[0m \u001b[0mmapstar\u001b[0m\u001b[0;34m,\u001b[0m \u001b[0mchunksize\u001b[0m\u001b[0;34m)\u001b[0m\u001b[0;34m.\u001b[0m\u001b[0mget\u001b[0m\u001b[0;34m(\u001b[0m\u001b[0;34m)\u001b[0m\u001b[0;34m\u001b[0m\u001b[0;34m\u001b[0m\u001b[0m\n\u001b[0m\u001b[1;32m    267\u001b[0m \u001b[0;34m\u001b[0m\u001b[0m\n\u001b[1;32m    268\u001b[0m     \u001b[0;32mdef\u001b[0m \u001b[0mstarmap\u001b[0m\u001b[0;34m(\u001b[0m\u001b[0mself\u001b[0m\u001b[0;34m,\u001b[0m \u001b[0mfunc\u001b[0m\u001b[0;34m,\u001b[0m \u001b[0miterable\u001b[0m\u001b[0;34m,\u001b[0m \u001b[0mchunksize\u001b[0m\u001b[0;34m=\u001b[0m\u001b[0;32mNone\u001b[0m\u001b[0;34m)\u001b[0m\u001b[0;34m:\u001b[0m\u001b[0;34m\u001b[0m\u001b[0;34m\u001b[0m\u001b[0m\n",
      "\u001b[0;32m~/.pyenv/versions/3.6.9/lib/python3.6/multiprocessing/pool.py\u001b[0m in \u001b[0;36mget\u001b[0;34m(self, timeout)\u001b[0m\n\u001b[1;32m    642\u001b[0m             \u001b[0;32mreturn\u001b[0m \u001b[0mself\u001b[0m\u001b[0;34m.\u001b[0m\u001b[0m_value\u001b[0m\u001b[0;34m\u001b[0m\u001b[0;34m\u001b[0m\u001b[0m\n\u001b[1;32m    643\u001b[0m         \u001b[0;32melse\u001b[0m\u001b[0;34m:\u001b[0m\u001b[0;34m\u001b[0m\u001b[0;34m\u001b[0m\u001b[0m\n\u001b[0;32m--> 644\u001b[0;31m             \u001b[0;32mraise\u001b[0m \u001b[0mself\u001b[0m\u001b[0;34m.\u001b[0m\u001b[0m_value\u001b[0m\u001b[0;34m\u001b[0m\u001b[0;34m\u001b[0m\u001b[0m\n\u001b[0m\u001b[1;32m    645\u001b[0m \u001b[0;34m\u001b[0m\u001b[0m\n\u001b[1;32m    646\u001b[0m     \u001b[0;32mdef\u001b[0m \u001b[0m_set\u001b[0m\u001b[0;34m(\u001b[0m\u001b[0mself\u001b[0m\u001b[0;34m,\u001b[0m \u001b[0mi\u001b[0m\u001b[0;34m,\u001b[0m \u001b[0mobj\u001b[0m\u001b[0;34m)\u001b[0m\u001b[0;34m:\u001b[0m\u001b[0;34m\u001b[0m\u001b[0;34m\u001b[0m\u001b[0m\n",
      "\u001b[0;31mValueError\u001b[0m: The truth value of an array with more than one element is ambiguous. Use a.any() or a.all()"
     ]
    }
   ],
   "source": [
    "cutout.prepare(overwrite=True)"
   ]
  },
  {
   "cell_type": "code",
   "execution_count": null,
   "metadata": {},
   "outputs": [],
   "source": [
    "## Verify Cutout Contents\n",
    "cutout.__dict__"
   ]
  },
  {
   "cell_type": "code",
   "execution_count": null,
   "metadata": {},
   "outputs": [],
   "source": [
    "## Verify Cutout Coords\n",
    "cutout.coords"
   ]
  },
  {
   "cell_type": "markdown",
   "metadata": {},
   "source": [
    "# 4. Generate Outputs"
   ]
  },
  {
   "cell_type": "code",
   "execution_count": null,
   "metadata": {},
   "outputs": [],
   "source": [
    "ds_wind = geodata.convert.wind(\n",
    "                 cutout, \n",
    "                 turbine='Suzlon_S82_1.5_MW', \n",
    "                 smooth=True, \n",
    "                 var_height='lml')\n",
    "ds_wind"
   ]
  },
  {
   "cell_type": "code",
   "execution_count": null,
   "metadata": {},
   "outputs": [],
   "source": [
    "df_wind = ds_wind.to_dataframe(name='wind')\n",
    "df_wind"
   ]
  },
  {
   "cell_type": "code",
   "execution_count": null,
   "metadata": {},
   "outputs": [],
   "source": [
    "df_wind.to_csv('wind_test_hourly.csv')"
   ]
  },
  {
   "cell_type": "code",
   "execution_count": null,
   "metadata": {},
   "outputs": [],
   "source": [
    "ds_windwpd = geodata.convert.windwpd(\n",
    "                cutout, \n",
    "                turbine='Vestas_V66_1750kW', \n",
    "                var_height='lml')\n",
    "ds_windwpd"
   ]
  },
  {
   "cell_type": "code",
   "execution_count": null,
   "metadata": {},
   "outputs": [],
   "source": [
    "df_windwpd = ds_windwpd.to_dataframe(name='windwpd')\n",
    "df_windwpd"
   ]
  },
  {
   "cell_type": "code",
   "execution_count": null,
   "metadata": {},
   "outputs": [],
   "source": [
    "df_windwpd.to_csv('windwpd_test_hourly.csv')"
   ]
  },
  {
   "cell_type": "code",
   "execution_count": null,
   "metadata": {},
   "outputs": [],
   "source": [
    "ds_windspd = geodata.convert.windspd(\n",
    "                cutout, \n",
    "                turbine='Vestas_V66_1750kW', \n",
    "                var_height='lml')\n",
    "ds_windspd"
   ]
  },
  {
   "cell_type": "code",
   "execution_count": null,
   "metadata": {},
   "outputs": [],
   "source": [
    "df_windspd = ds_windwpd.to_dataframe(name='windspd')\n",
    "df_windspd"
   ]
  },
  {
   "cell_type": "code",
   "execution_count": null,
   "metadata": {},
   "outputs": [],
   "source": [
    "df_windspd.to_csv('windspd_test_hourly.csv')"
   ]
  }
 ],
 "metadata": {
  "kernelspec": {
   "display_name": "Python 3",
   "language": "python",
   "name": "python3"
  },
  "language_info": {
   "codemirror_mode": {
    "name": "ipython",
    "version": 3
   },
   "file_extension": ".py",
   "mimetype": "text/x-python",
   "name": "python",
   "nbconvert_exporter": "python",
   "pygments_lexer": "ipython3",
   "version": "3.7.4"
  }
 },
 "nbformat": 4,
 "nbformat_minor": 4
}
