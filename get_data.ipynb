{
 "cells": [
  {
   "cell_type": "code",
   "execution_count": 1,
   "metadata": {},
   "outputs": [],
   "source": [
    "# create_wind.py\n",
    "# \tBuilds wind profile from cutout (eg create_cutout_2.py)\n",
    "import logging\n",
    "logging.basicConfig(level=logging.INFO)\n",
    "\n",
    "import atlite"
   ]
  },
  {
   "cell_type": "code",
   "execution_count": 2,
   "metadata": {},
   "outputs": [
    {
     "name": "stderr",
     "output_type": "stream",
     "text": [
      "INFO:atlite.dataset:Directory /Users/michd/Documents/GEODATA/data/merra2 found, checking for completeness.\n",
      "INFO:atlite.dataset:Directory complete.\n"
     ]
    },
    {
     "data": {
      "text/plain": [
       "<Dataset merra2 years=2011-2011 months=1-1 datadir=/Users/michd/Documents/GEODATA/data/merra2 Prepared>"
      ]
     },
     "execution_count": 2,
     "metadata": {},
     "output_type": "execute_result"
    }
   ],
   "source": [
    "DS = atlite.Dataset(\tmodule=\"merra2\",\n",
    "\t\t\t\t\t\tyears=slice(2011, 2011),\n",
    "\t\t\t\t\t\tmonths=slice(1,1))\n",
    "DS"
   ]
  },
  {
   "cell_type": "code",
   "execution_count": 6,
   "metadata": {},
   "outputs": [
    {
     "name": "stdout",
     "output_type": "stream",
     "text": [
      "('surface_flux', '/Users/michd/Documents/GEODATA/data/merra2/2011/01/MERRA2_400.tavg1_2d_flx_Nx.20110111.nc4', 'https://goldsmr4.gesdisc.eosdis.nasa.gov/data/MERRA2/M2T1NXFLX.5.12.4/2011/01/MERRA2_400.tavg1_2d_flx_Nx.20110111.nc4')\n",
      "('surface_flux', '/Users/michd/Documents/GEODATA/data/merra2/2011/01/MERRA2_400.tavg1_2d_flx_Nx.20110112.nc4', 'https://goldsmr4.gesdisc.eosdis.nasa.gov/data/MERRA2/M2T1NXFLX.5.12.4/2011/01/MERRA2_400.tavg1_2d_flx_Nx.20110112.nc4')\n",
      "('surface_flux', '/Users/michd/Documents/GEODATA/data/merra2/2011/01/MERRA2_400.tavg1_2d_flx_Nx.20110113.nc4', 'https://goldsmr4.gesdisc.eosdis.nasa.gov/data/MERRA2/M2T1NXFLX.5.12.4/2011/01/MERRA2_400.tavg1_2d_flx_Nx.20110113.nc4')\n",
      "('surface_flux', '/Users/michd/Documents/GEODATA/data/merra2/2011/01/MERRA2_400.tavg1_2d_flx_Nx.20110114.nc4', 'https://goldsmr4.gesdisc.eosdis.nasa.gov/data/MERRA2/M2T1NXFLX.5.12.4/2011/01/MERRA2_400.tavg1_2d_flx_Nx.20110114.nc4')\n",
      "('surface_flux', '/Users/michd/Documents/GEODATA/data/merra2/2011/01/MERRA2_400.tavg1_2d_flx_Nx.20110115.nc4', 'https://goldsmr4.gesdisc.eosdis.nasa.gov/data/MERRA2/M2T1NXFLX.5.12.4/2011/01/MERRA2_400.tavg1_2d_flx_Nx.20110115.nc4')\n",
      "('surface_flux', '/Users/michd/Documents/GEODATA/data/merra2/2011/01/MERRA2_400.tavg1_2d_flx_Nx.20110116.nc4', 'https://goldsmr4.gesdisc.eosdis.nasa.gov/data/MERRA2/M2T1NXFLX.5.12.4/2011/01/MERRA2_400.tavg1_2d_flx_Nx.20110116.nc4')\n",
      "('surface_flux', '/Users/michd/Documents/GEODATA/data/merra2/2011/01/MERRA2_400.tavg1_2d_flx_Nx.20110117.nc4', 'https://goldsmr4.gesdisc.eosdis.nasa.gov/data/MERRA2/M2T1NXFLX.5.12.4/2011/01/MERRA2_400.tavg1_2d_flx_Nx.20110117.nc4')\n",
      "('surface_flux', '/Users/michd/Documents/GEODATA/data/merra2/2011/01/MERRA2_400.tavg1_2d_flx_Nx.20110118.nc4', 'https://goldsmr4.gesdisc.eosdis.nasa.gov/data/MERRA2/M2T1NXFLX.5.12.4/2011/01/MERRA2_400.tavg1_2d_flx_Nx.20110118.nc4')\n",
      "('surface_flux', '/Users/michd/Documents/GEODATA/data/merra2/2011/01/MERRA2_400.tavg1_2d_flx_Nx.20110119.nc4', 'https://goldsmr4.gesdisc.eosdis.nasa.gov/data/MERRA2/M2T1NXFLX.5.12.4/2011/01/MERRA2_400.tavg1_2d_flx_Nx.20110119.nc4')\n",
      "('surface_flux', '/Users/michd/Documents/GEODATA/data/merra2/2011/01/MERRA2_400.tavg1_2d_flx_Nx.20110120.nc4', 'https://goldsmr4.gesdisc.eosdis.nasa.gov/data/MERRA2/M2T1NXFLX.5.12.4/2011/01/MERRA2_400.tavg1_2d_flx_Nx.20110120.nc4')\n",
      "('surface_flux', '/Users/michd/Documents/GEODATA/data/merra2/2011/01/MERRA2_400.tavg1_2d_flx_Nx.20110121.nc4', 'https://goldsmr4.gesdisc.eosdis.nasa.gov/data/MERRA2/M2T1NXFLX.5.12.4/2011/01/MERRA2_400.tavg1_2d_flx_Nx.20110121.nc4')\n",
      "('surface_flux', '/Users/michd/Documents/GEODATA/data/merra2/2011/01/MERRA2_400.tavg1_2d_flx_Nx.20110122.nc4', 'https://goldsmr4.gesdisc.eosdis.nasa.gov/data/MERRA2/M2T1NXFLX.5.12.4/2011/01/MERRA2_400.tavg1_2d_flx_Nx.20110122.nc4')\n",
      "('surface_flux', '/Users/michd/Documents/GEODATA/data/merra2/2011/01/MERRA2_400.tavg1_2d_flx_Nx.20110123.nc4', 'https://goldsmr4.gesdisc.eosdis.nasa.gov/data/MERRA2/M2T1NXFLX.5.12.4/2011/01/MERRA2_400.tavg1_2d_flx_Nx.20110123.nc4')\n",
      "('surface_flux', '/Users/michd/Documents/GEODATA/data/merra2/2011/01/MERRA2_400.tavg1_2d_flx_Nx.20110124.nc4', 'https://goldsmr4.gesdisc.eosdis.nasa.gov/data/MERRA2/M2T1NXFLX.5.12.4/2011/01/MERRA2_400.tavg1_2d_flx_Nx.20110124.nc4')\n",
      "('surface_flux', '/Users/michd/Documents/GEODATA/data/merra2/2011/01/MERRA2_400.tavg1_2d_flx_Nx.20110125.nc4', 'https://goldsmr4.gesdisc.eosdis.nasa.gov/data/MERRA2/M2T1NXFLX.5.12.4/2011/01/MERRA2_400.tavg1_2d_flx_Nx.20110125.nc4')\n",
      "('surface_flux', '/Users/michd/Documents/GEODATA/data/merra2/2011/01/MERRA2_400.tavg1_2d_flx_Nx.20110126.nc4', 'https://goldsmr4.gesdisc.eosdis.nasa.gov/data/MERRA2/M2T1NXFLX.5.12.4/2011/01/MERRA2_400.tavg1_2d_flx_Nx.20110126.nc4')\n",
      "('surface_flux', '/Users/michd/Documents/GEODATA/data/merra2/2011/01/MERRA2_400.tavg1_2d_flx_Nx.20110127.nc4', 'https://goldsmr4.gesdisc.eosdis.nasa.gov/data/MERRA2/M2T1NXFLX.5.12.4/2011/01/MERRA2_400.tavg1_2d_flx_Nx.20110127.nc4')\n",
      "('surface_flux', '/Users/michd/Documents/GEODATA/data/merra2/2011/01/MERRA2_400.tavg1_2d_flx_Nx.20110128.nc4', 'https://goldsmr4.gesdisc.eosdis.nasa.gov/data/MERRA2/M2T1NXFLX.5.12.4/2011/01/MERRA2_400.tavg1_2d_flx_Nx.20110128.nc4')\n",
      "('surface_flux', '/Users/michd/Documents/GEODATA/data/merra2/2011/01/MERRA2_400.tavg1_2d_flx_Nx.20110129.nc4', 'https://goldsmr4.gesdisc.eosdis.nasa.gov/data/MERRA2/M2T1NXFLX.5.12.4/2011/01/MERRA2_400.tavg1_2d_flx_Nx.20110129.nc4')\n",
      "('surface_flux', '/Users/michd/Documents/GEODATA/data/merra2/2011/01/MERRA2_400.tavg1_2d_flx_Nx.20110130.nc4', 'https://goldsmr4.gesdisc.eosdis.nasa.gov/data/MERRA2/M2T1NXFLX.5.12.4/2011/01/MERRA2_400.tavg1_2d_flx_Nx.20110130.nc4')\n",
      "('surface_flux', '/Users/michd/Documents/GEODATA/data/merra2/2011/01/MERRA2_400.tavg1_2d_flx_Nx.20110131.nc4', 'https://goldsmr4.gesdisc.eosdis.nasa.gov/data/MERRA2/M2T1NXFLX.5.12.4/2011/01/MERRA2_400.tavg1_2d_flx_Nx.20110131.nc4')\n"
     ]
    }
   ],
   "source": [
    "if DS.prepared == False:\n",
    "\tDS.get_data()"
   ]
  },
  {
   "cell_type": "code",
   "execution_count": 7,
   "metadata": {},
   "outputs": [],
   "source": [
    "# Trim unnecessary variables -- optional arguments Wind, Solar (True, by default) specify which variables to keep\n",
    "DS.trim_variables()"
   ]
  },
  {
   "cell_type": "code",
   "execution_count": 3,
   "metadata": {},
   "outputs": [],
   "source": [
    "# Trim local files\n",
    "DS.trim_variables(downloadedfiles = True)"
   ]
  },
  {
   "cell_type": "code",
   "execution_count": null,
   "metadata": {},
   "outputs": [],
   "source": []
  }
 ],
 "metadata": {
  "kernelspec": {
   "display_name": "Python 3",
   "language": "python",
   "name": "python3"
  },
  "language_info": {
   "codemirror_mode": {
    "name": "ipython",
    "version": 3
   },
   "file_extension": ".py",
   "mimetype": "text/x-python",
   "name": "python",
   "nbconvert_exporter": "python",
   "pygments_lexer": "ipython3",
   "version": "3.7.4"
  }
 },
 "nbformat": 4,
 "nbformat_minor": 2
}
