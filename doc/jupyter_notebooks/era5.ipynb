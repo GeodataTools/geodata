{
 "cells": [
  {
   "cell_type": "code",
   "execution_count": 4,
   "metadata": {},
   "outputs": [],
   "source": [
    "## Setup\n",
    "import atlite\n",
    "import logging\n",
    "logging.basicConfig(level=logging.INFO)"
   ]
  },
  {
   "cell_type": "code",
   "execution_count": 7,
   "metadata": {},
   "outputs": [
    {
     "name": "stderr",
     "output_type": "stream",
     "text": [
      "INFO:atlite.dataset:Directory /Users/williamhonaker/desktop/davidson/data_for_geodata/era5 found, checking for completeness.\n",
      "INFO:atlite.dataset:No file matching `/Users/williamhonaker/desktop/davidson/data_for_geodata/era5/2010/12/*.nc` was found!\n",
      "WARNING:atlite.dataset:Arguments `xs` and `ys` not used in preparing dataset. Defaulting to global.\n",
      "INFO:atlite.dataset:0 files not completed.\n"
     ]
    }
   ],
   "source": [
    "## Download - this works with ERA5\n",
    "DS = atlite.Dataset(module=\"era5\",\n",
    "\t\t\t\t\tyears=slice(2010, 2010),\n",
    "\t\t\t\t\tmonths=slice(12,12))"
   ]
  },
  {
   "cell_type": "code",
   "execution_count": 8,
   "metadata": {},
   "outputs": [
    {
     "ename": "AttributeError",
     "evalue": "module 'atlite.datasets.era5' has no attribute 'wind_files'",
     "output_type": "error",
     "traceback": [
      "\u001b[0;31m---------------------------------------------------------------------------\u001b[0m",
      "\u001b[0;31mAttributeError\u001b[0m                            Traceback (most recent call last)",
      "\u001b[0;32m<ipython-input-8-8762523f7563>\u001b[0m in \u001b[0;36m<module>\u001b[0;34m\u001b[0m\n\u001b[1;32m      1\u001b[0m \u001b[0;32mif\u001b[0m \u001b[0mDS\u001b[0m\u001b[0;34m.\u001b[0m\u001b[0mprepared\u001b[0m \u001b[0;34m==\u001b[0m \u001b[0;32mFalse\u001b[0m\u001b[0;34m:\u001b[0m\u001b[0;34m\u001b[0m\u001b[0;34m\u001b[0m\u001b[0m\n\u001b[0;32m----> 2\u001b[0;31m         \u001b[0mDS\u001b[0m\u001b[0;34m.\u001b[0m\u001b[0mget_data\u001b[0m\u001b[0;34m(\u001b[0m\u001b[0;34m)\u001b[0m\u001b[0;34m\u001b[0m\u001b[0;34m\u001b[0m\u001b[0m\n\u001b[0m\u001b[1;32m      3\u001b[0m \u001b[0;34m\u001b[0m\u001b[0m\n\u001b[1;32m      4\u001b[0m \u001b[0;31m## doesn't work because it's not coded to work\u001b[0m\u001b[0;34m\u001b[0m\u001b[0;34m\u001b[0m\u001b[0;34m\u001b[0m\u001b[0m\n\u001b[1;32m      5\u001b[0m \u001b[0;31m## download externally?\u001b[0m\u001b[0;34m\u001b[0m\u001b[0;34m\u001b[0m\u001b[0;34m\u001b[0m\u001b[0m\n",
      "\u001b[0;32m/usr/local/lib/python3.7/site-packages/atlite-0.0.2-py3.7.egg/atlite/dataset.py\u001b[0m in \u001b[0;36mget_data\u001b[0;34m(self, trim, testing, wind, solar)\u001b[0m\n\u001b[1;32m    166\u001b[0m                 \u001b[0mweather_data\u001b[0m \u001b[0;34m=\u001b[0m \u001b[0;34m[\u001b[0m\u001b[0;34m]\u001b[0m\u001b[0;34m\u001b[0m\u001b[0;34m\u001b[0m\u001b[0m\n\u001b[1;32m    167\u001b[0m                 \u001b[0;32mif\u001b[0m \u001b[0mwind\u001b[0m\u001b[0;34m:\u001b[0m\u001b[0;34m\u001b[0m\u001b[0;34m\u001b[0m\u001b[0m\n\u001b[0;32m--> 168\u001b[0;31m                         \u001b[0mweather_data\u001b[0m\u001b[0;34m.\u001b[0m\u001b[0mextend\u001b[0m\u001b[0;34m(\u001b[0m\u001b[0mself\u001b[0m\u001b[0;34m.\u001b[0m\u001b[0mdataset_module\u001b[0m\u001b[0;34m.\u001b[0m\u001b[0mwind_files\u001b[0m\u001b[0;34m)\u001b[0m\u001b[0;34m\u001b[0m\u001b[0;34m\u001b[0m\u001b[0m\n\u001b[0m\u001b[1;32m    169\u001b[0m                 \u001b[0;32mif\u001b[0m \u001b[0msolar\u001b[0m\u001b[0;34m:\u001b[0m\u001b[0;34m\u001b[0m\u001b[0;34m\u001b[0m\u001b[0m\n\u001b[1;32m    170\u001b[0m                         \u001b[0mweather_data\u001b[0m\u001b[0;34m.\u001b[0m\u001b[0mextend\u001b[0m\u001b[0;34m(\u001b[0m\u001b[0mself\u001b[0m\u001b[0;34m.\u001b[0m\u001b[0mdataset_module\u001b[0m\u001b[0;34m.\u001b[0m\u001b[0msolar_files\u001b[0m\u001b[0;34m)\u001b[0m\u001b[0;34m\u001b[0m\u001b[0;34m\u001b[0m\u001b[0m\n",
      "\u001b[0;31mAttributeError\u001b[0m: module 'atlite.datasets.era5' has no attribute 'wind_files'"
     ]
    }
   ],
   "source": [
    "if DS.prepared == False:\n",
    "\tDS.get_data()\n",
    "    \n",
    "## doesn't work because it's not coded to work\n",
    "## download externally?"
   ]
  },
  {
   "cell_type": "code",
   "execution_count": 11,
   "metadata": {},
   "outputs": [
    {
     "name": "stderr",
     "output_type": "stream",
     "text": [
      "INFO:atlite.cutout:Cutout (western-europe-2011-01, /Users/williamhonaker/desktop/davidson/data_for_geodata/cutouts) not found or incomplete.\n",
      "INFO:cdsapi:Welcome to the CDS\n",
      "INFO:cdsapi:Sending request to https://cds.climate.copernicus.eu/api/v2/resources/reanalysis-era5-single-levels\n",
      "INFO:cdsapi:Request is queued\n",
      "INFO:cdsapi:Request is running\n",
      "INFO:cdsapi:Request is completed\n",
      "INFO:atlite.datasets.era5:Downloading request for 9 variables to /Users/williamhonaker/desktop/davidson/data_for_geodata/era5\n",
      "INFO:cdsapi:Downloading http://136.156.132.210/cache-compute-0005/cache/data4/adaptor.mars.internal-1586470954.5244946-20362-37-9ae8ac49-0daa-44d5-a1af-c40b21c89f74.nc to /Users/williamhonaker/desktop/davidson/data_for_geodata/era5/2010/12/orography.nc (129.5K)\n",
      "INFO:cdsapi:Download rate 160.2K/s                \n"
     ]
    }
   ],
   "source": [
    "## example from atlite docs - this works?\n",
    "\n",
    "cutout = atlite.Cutout(name=\"western-europe-2011-01\",\n",
    "                       module=\"era5\",\n",
    "                       xs=slice(-13.6913, 1.7712),\n",
    "                       ys=slice(60.8479, 49.9096),\n",
    "                       years=slice(2010, 2010),\n",
    "\t\t\t\t\t   months=slice(12,12))\n",
    "\n",
    "## Resulting download gives orography file, not era5 download\n"
   ]
  },
  {
   "cell_type": "code",
   "execution_count": 12,
   "metadata": {},
   "outputs": [
    {
     "name": "stderr",
     "output_type": "stream",
     "text": [
      "INFO:atlite.cutout:Cutout (era5-europe-test-2011-01, /Users/williamhonaker/desktop/davidson/data_for_geodata/cutouts) not found or incomplete.\n",
      "WARNING:atlite.preparation:ys slices are expected from north to south, i.e. slice(70, 40) for europe.\n",
      "INFO:atlite.preparation:Starting preparation of cutout 'era5-europe-test-2011-01'\n",
      "INFO:atlite.preparation:1 tasks have been collected. Starting running them on all processors.\n",
      "INFO:cdsapi:Welcome to the CDS\n",
      "INFO:cdsapi:Sending request to https://cds.climate.copernicus.eu/api/v2/resources/reanalysis-era5-single-levels\n",
      "INFO:cdsapi:Request is queued\n",
      "INFO:cdsapi:Request is running\n",
      "INFO:cdsapi:Request is completed\n",
      "INFO:atlite.datasets.era5:Downloading request for 10 variables to /Users/williamhonaker/desktop/davidson/data_for_geodata/era5\n",
      "INFO:cdsapi:Downloading http://136.156.132.110/cache-compute-0001/cache/data6/adaptor.mars.internal-1586471218.9733949-11489-3-c3630c58-d34f-478b-825e-465e82e160ff.nc to /Users/williamhonaker/desktop/davidson/data_for_geodata/era5/2011/01/112rsssstt.nc (3.3M)\n",
      "INFO:cdsapi:Download rate 1.3M/s                    \n",
      "INFO:cdsapi:Welcome to the CDS\n",
      "INFO:cdsapi:Sending request to https://cds.climate.copernicus.eu/api/v2/resources/reanalysis-era5-single-levels\n",
      "INFO:cdsapi:Request is queued\n",
      "INFO:cdsapi:Request is running\n",
      "INFO:cdsapi:Request is completed\n",
      "INFO:atlite.datasets.era5:Downloading request for 2 variables to /Users/williamhonaker/desktop/davidson/data_for_geodata/era5\n",
      "INFO:cdsapi:Downloading http://136.156.132.236/cache-compute-0007/cache/data0/adaptor.mars.internal-1586471845.3794432-32046-25-36313cd7-ed25-4848-9657-b9e77e51ef9f.nc to /Users/williamhonaker/desktop/davidson/data_for_geodata/era5/2011/01/fo.nc (23.7K)\n",
      "INFO:cdsapi:Download rate 51.3K/s                   \n",
      "INFO:atlite.preparation:Merging variables into monthly compound files\n",
      "INFO:atlite.preparation:Cutout 'era5-europe-test-2011-01' has been successfully prepared\n"
     ]
    }
   ],
   "source": [
    "## Example from Davidson's cutout_test.ipynb\n",
    "## This works\n",
    "cutout = atlite.Cutout(name=\"era5-europe-test-2011-01\",\n",
    "                       module=\"era5\",\n",
    "                       xs=slice(30, 41.56244222),\n",
    "                        ys=slice(33.56459975, 35),\n",
    "                       years=slice(2011, 2011),\n",
    "                       months=slice(1,1,1) )\n",
    "cutout.prepare(overwrite=True);"
   ]
  },
  {
   "cell_type": "code",
   "execution_count": 13,
   "metadata": {},
   "outputs": [
    {
     "name": "stderr",
     "output_type": "stream",
     "text": [
      "INFO:atlite.cutout:All cutout (era5-europe-test-2011-01, /Users/williamhonaker/desktop/davidson/data_for_geodata/cutouts) files available.\n",
      "WARNING:atlite.preparation:ys slices are expected from north to south, i.e. slice(70, 40) for europe.\n",
      "INFO:atlite.preparation:[4, 1, 1, 10]\n",
      "INFO:atlite.cutout:Cutout subset prepared: <Cutout era5-europe-test-2011-01 x=30.00-41.50 y=34.81-33.81 time=2011/1-2011/1 prepared>\n",
      "INFO:atlite.preparation:The cutout is already prepared. If you want to recalculate it, supply an `overwrite=True` argument.\n"
     ]
    }
   ],
   "source": [
    "cutout = atlite.Cutout(name=\"era5-europe-test-2011-01\",\n",
    "                       module=\"era5\",\n",
    "                       xs=slice(30, 41.56244222),\n",
    "                        ys=slice(33.56459975, 35),\n",
    "                       years=slice(2011, 2011),\n",
    "                       months=slice(1,1,1) )\n",
    "cutout.prepare();  ## prepare also works better here"
   ]
  },
  {
   "cell_type": "code",
   "execution_count": 14,
   "metadata": {},
   "outputs": [
    {
     "data": {
      "text/plain": [
       "<Cutout era5-europe-test-2011-01 x=30.00-41.50 y=34.81-33.81 time=2011/1-2011/1 prepared>"
      ]
     },
     "execution_count": 14,
     "metadata": {},
     "output_type": "execute_result"
    }
   ],
   "source": [
    "cutout"
   ]
  },
  {
   "cell_type": "code",
   "execution_count": 15,
   "metadata": {},
   "outputs": [
    {
     "data": {
      "text/plain": [
       "'era5-europe-test-2011-01'"
      ]
     },
     "execution_count": 15,
     "metadata": {},
     "output_type": "execute_result"
    }
   ],
   "source": [
    "cutout.name"
   ]
  },
  {
   "cell_type": "code",
   "execution_count": 16,
   "metadata": {},
   "outputs": [
    {
     "data": {
      "text/plain": [
       "Coordinates:\n",
       "  * x           (x) float32 30.0 30.25 30.5 30.75 31.0 ... 40.75 41.0 41.25 41.5\n",
       "  * y           (y) float32 34.815 34.565 34.315 34.065 33.815\n",
       "  * time        (time) datetime64[ns] 2011-01-01 ... 2011-01-31T23:00:00\n",
       "    lon         (x) float32 ...\n",
       "    lat         (y) float32 ...\n",
       "  * year-month  (year-month) MultiIndex\n",
       "  - year        (year-month) int64 2011\n",
       "  - month       (year-month) int64 1"
      ]
     },
     "execution_count": 16,
     "metadata": {},
     "output_type": "execute_result"
    }
   ],
   "source": [
    "cutout.coords"
   ]
  },
  {
   "cell_type": "code",
   "execution_count": 17,
   "metadata": {},
   "outputs": [
    {
     "data": {
      "text/html": [
       "<pre>&lt;xarray.Dataset&gt;\n",
       "Dimensions:     (time: 744, x: 47, y: 5, year-month: 1)\n",
       "Coordinates:\n",
       "  * x           (x) float32 30.0 30.25 30.5 30.75 31.0 ... 40.75 41.0 41.25 41.5\n",
       "  * y           (y) float32 34.815 34.565 34.315 34.065 33.815\n",
       "  * time        (time) datetime64[ns] 2011-01-01 ... 2011-01-31T23:00:00\n",
       "    lon         (x) float32 ...\n",
       "    lat         (y) float32 ...\n",
       "  * year-month  (year-month) MultiIndex\n",
       "  - year        (year-month) int64 2011\n",
       "  - month       (year-month) int64 1\n",
       "Data variables:\n",
       "    height      (y, x) float32 ...\n",
       "Attributes:\n",
       "    Conventions:  CF-1.6\n",
       "    history:      2020-03-14 04:29:35 GMT by grib_to_netcdf-2.16.0: /opt/ecmw...\n",
       "    module:       era5\n",
       "    view:         {&#x27;x&#x27;: slice(30, 41.56244222, None), &#x27;y&#x27;: slice(35, 33.56459...</pre>"
      ],
      "text/plain": [
       "<xarray.Dataset>\n",
       "Dimensions:     (time: 744, x: 47, y: 5, year-month: 1)\n",
       "Coordinates:\n",
       "  * x           (x) float32 30.0 30.25 30.5 30.75 31.0 ... 40.75 41.0 41.25 41.5\n",
       "  * y           (y) float32 34.815 34.565 34.315 34.065 33.815\n",
       "  * time        (time) datetime64[ns] 2011-01-01 ... 2011-01-31T23:00:00\n",
       "    lon         (x) float32 ...\n",
       "    lat         (y) float32 ...\n",
       "  * year-month  (year-month) MultiIndex\n",
       "  - year        (year-month) int64 2011\n",
       "  - month       (year-month) int64 1\n",
       "Data variables:\n",
       "    height      (y, x) float32 ...\n",
       "Attributes:\n",
       "    Conventions:  CF-1.6\n",
       "    history:      2020-03-14 04:29:35 GMT by grib_to_netcdf-2.16.0: /opt/ecmw...\n",
       "    module:       era5\n",
       "    view:         {'x': slice(30, 41.56244222, None), 'y': slice(35, 33.56459..."
      ]
     },
     "execution_count": 17,
     "metadata": {},
     "output_type": "execute_result"
    }
   ],
   "source": [
    "cutout.meta"
   ]
  },
  {
   "cell_type": "code",
   "execution_count": 18,
   "metadata": {},
   "outputs": [
    {
     "data": {
      "text/plain": [
       "{'_': {'tasks_func': <function atlite.datasets.era5.tasks_monthly_era5(xs, ys, yearmonths, prepare_func, **meta_attrs)>,\n",
       "  'prepare_func': <function atlite.datasets.era5.prepare_month_era5(year, month, xs, ys)>,\n",
       "  'template': '/Users/williamhonaker/desktop/davidson/data_for_geodata/era5/{year}/{month:0>2}/*.nc'}}"
      ]
     },
     "execution_count": 18,
     "metadata": {},
     "output_type": "execute_result"
    }
   ],
   "source": [
    "cutout.dataset_module.weather_data_config"
   ]
  },
  {
   "cell_type": "code",
   "execution_count": 20,
   "metadata": {},
   "outputs": [
    {
     "data": {
      "text/html": [
       "<pre>&lt;xarray.DataArray (time: 744, y: 5, x: 47)&gt;\n",
       "array([[[0.17585059, 0.12728752, 0.09389144, ..., 0.24482486,\n",
       "         0.26590136, 0.33127548],\n",
       "        [0.30526441, 0.24537273, 0.20106372, ..., 0.23692962,\n",
       "         0.27552846, 0.34653954],\n",
       "        [0.41403437, 0.35566666, 0.30941889, ..., 0.23622794,\n",
       "         0.29509634, 0.38141238],\n",
       "        [0.50060126, 0.44811285, 0.40082768, ..., 0.22779657,\n",
       "         0.30343363, 0.38819561],\n",
       "        [0.54630823, 0.51668171, 0.46812415, ..., 0.21178958,\n",
       "         0.28978276, 0.36302398]],\n",
       "\n",
       "       [[0.14542355, 0.10468268, 0.08052383, ..., 0.22082448,\n",
       "         0.23688953, 0.29505605],\n",
       "        [0.26840282, 0.21430758, 0.17902627, ..., 0.20817013,\n",
       "         0.24003581, 0.30340013],\n",
       "        [0.37895972, 0.32394826, 0.28496989, ..., 0.19868009,\n",
       "         0.25007875, 0.32837512],\n",
       "        [0.47018548, 0.41980596, 0.37791786, ..., 0.18034436,\n",
       "         0.24832079, 0.32514499],\n",
       "        [0.52096036, 0.49231552, 0.44882488, ..., 0.1576507 ,\n",
       "         0.2260276 , 0.29167017]],\n",
       "\n",
       "       [[0.11303287, 0.08259969, 0.06494006, ..., 0.19508095,\n",
       "         0.20206597, 0.24906542],\n",
       "        [0.22556004, 0.1825865 , 0.15490926, ..., 0.17223964,\n",
       "         0.19809564, 0.24786147],\n",
       "        [0.3337917 , 0.28841636, 0.25690962, ..., 0.1524236 ,\n",
       "         0.19633117, 0.26164741],\n",
       "        [0.42638369, 0.38369095, 0.35027227, ..., 0.12649588,\n",
       "         0.18093949, 0.24647637],\n",
       "        [0.48363031, 0.45992896, 0.42403598, ..., 0.10029629,\n",
       "         0.1526822 , 0.20590053]],\n",
       "\n",
       "       ...,\n",
       "\n",
       "       [[0.02359585, 0.00749744, 0.00757594, ..., 0.32419815,\n",
       "         0.31534031, 0.31654971],\n",
       "        [0.06424044, 0.03129753, 0.01735956, ..., 0.28680435,\n",
       "         0.27857417, 0.30480448],\n",
       "        [0.10190834, 0.06999299, 0.04503626, ..., 0.2354698 ,\n",
       "         0.2632154 , 0.32056992],\n",
       "        [0.1322814 , 0.10812178, 0.08596768, ..., 0.23473362,\n",
       "         0.30078434, 0.36345215],\n",
       "        [0.15230861, 0.13800691, 0.11655071, ..., 0.25209874,\n",
       "         0.32301808, 0.37924919]],\n",
       "\n",
       "       [[0.01464503, 0.00420669, 0.00488318, ..., 0.37703854,\n",
       "         0.38554025, 0.40866632],\n",
       "        [0.04403847, 0.02126327, 0.01258405, ..., 0.36834105,\n",
       "         0.33921684, 0.37103755],\n",
       "        [0.07576762, 0.05317476, 0.03619799, ..., 0.33489621,\n",
       "         0.31206435, 0.3714142 ],\n",
       "        [0.10630516, 0.08982289, 0.07362712, ..., 0.32031307,\n",
       "         0.3361389 , 0.41636851],\n",
       "        [0.13211109, 0.12082306, 0.10473684, ..., 0.31622916,\n",
       "         0.35650302, 0.43617557]],\n",
       "\n",
       "       [[0.00881694, 0.00237817, 0.00364232, ..., 0.4220689 ,\n",
       "         0.43556162, 0.45513073],\n",
       "        [0.02943254, 0.01288095, 0.0077384 , ..., 0.43849979,\n",
       "         0.42741226, 0.43792717],\n",
       "        [0.05502293, 0.03581365, 0.02387689, ..., 0.45230827,\n",
       "         0.42149979, 0.40605863],\n",
       "        [0.08240749, 0.0650664 , 0.05151359, ..., 0.43262812,\n",
       "         0.40673053, 0.39339172],\n",
       "        [0.10615684, 0.09307515, 0.07774159, ..., 0.38963141,\n",
       "         0.37986251, 0.38324568]]])\n",
       "Coordinates:\n",
       "    lon      (x) float32 30.0 30.25 30.5 30.75 31.0 ... 40.75 41.0 41.25 41.5\n",
       "    lat      (y) float32 34.815 34.565 34.315 34.065 33.815\n",
       "  * x        (x) float32 30.0 30.25 30.5 30.75 31.0 ... 40.75 41.0 41.25 41.5\n",
       "  * y        (y) float32 34.815 34.565 34.315 34.065 33.815\n",
       "  * time     (time) datetime64[ns] 2011-01-01 ... 2011-01-31T23:00:00</pre>"
      ],
      "text/plain": [
       "<xarray.DataArray (time: 744, y: 5, x: 47)>\n",
       "array([[[0.17585059, 0.12728752, 0.09389144, ..., 0.24482486,\n",
       "         0.26590136, 0.33127548],\n",
       "        [0.30526441, 0.24537273, 0.20106372, ..., 0.23692962,\n",
       "         0.27552846, 0.34653954],\n",
       "        [0.41403437, 0.35566666, 0.30941889, ..., 0.23622794,\n",
       "         0.29509634, 0.38141238],\n",
       "        [0.50060126, 0.44811285, 0.40082768, ..., 0.22779657,\n",
       "         0.30343363, 0.38819561],\n",
       "        [0.54630823, 0.51668171, 0.46812415, ..., 0.21178958,\n",
       "         0.28978276, 0.36302398]],\n",
       "\n",
       "       [[0.14542355, 0.10468268, 0.08052383, ..., 0.22082448,\n",
       "         0.23688953, 0.29505605],\n",
       "        [0.26840282, 0.21430758, 0.17902627, ..., 0.20817013,\n",
       "         0.24003581, 0.30340013],\n",
       "        [0.37895972, 0.32394826, 0.28496989, ..., 0.19868009,\n",
       "         0.25007875, 0.32837512],\n",
       "        [0.47018548, 0.41980596, 0.37791786, ..., 0.18034436,\n",
       "         0.24832079, 0.32514499],\n",
       "        [0.52096036, 0.49231552, 0.44882488, ..., 0.1576507 ,\n",
       "         0.2260276 , 0.29167017]],\n",
       "\n",
       "       [[0.11303287, 0.08259969, 0.06494006, ..., 0.19508095,\n",
       "         0.20206597, 0.24906542],\n",
       "        [0.22556004, 0.1825865 , 0.15490926, ..., 0.17223964,\n",
       "         0.19809564, 0.24786147],\n",
       "        [0.3337917 , 0.28841636, 0.25690962, ..., 0.1524236 ,\n",
       "         0.19633117, 0.26164741],\n",
       "        [0.42638369, 0.38369095, 0.35027227, ..., 0.12649588,\n",
       "         0.18093949, 0.24647637],\n",
       "        [0.48363031, 0.45992896, 0.42403598, ..., 0.10029629,\n",
       "         0.1526822 , 0.20590053]],\n",
       "\n",
       "       ...,\n",
       "\n",
       "       [[0.02359585, 0.00749744, 0.00757594, ..., 0.32419815,\n",
       "         0.31534031, 0.31654971],\n",
       "        [0.06424044, 0.03129753, 0.01735956, ..., 0.28680435,\n",
       "         0.27857417, 0.30480448],\n",
       "        [0.10190834, 0.06999299, 0.04503626, ..., 0.2354698 ,\n",
       "         0.2632154 , 0.32056992],\n",
       "        [0.1322814 , 0.10812178, 0.08596768, ..., 0.23473362,\n",
       "         0.30078434, 0.36345215],\n",
       "        [0.15230861, 0.13800691, 0.11655071, ..., 0.25209874,\n",
       "         0.32301808, 0.37924919]],\n",
       "\n",
       "       [[0.01464503, 0.00420669, 0.00488318, ..., 0.37703854,\n",
       "         0.38554025, 0.40866632],\n",
       "        [0.04403847, 0.02126327, 0.01258405, ..., 0.36834105,\n",
       "         0.33921684, 0.37103755],\n",
       "        [0.07576762, 0.05317476, 0.03619799, ..., 0.33489621,\n",
       "         0.31206435, 0.3714142 ],\n",
       "        [0.10630516, 0.08982289, 0.07362712, ..., 0.32031307,\n",
       "         0.3361389 , 0.41636851],\n",
       "        [0.13211109, 0.12082306, 0.10473684, ..., 0.31622916,\n",
       "         0.35650302, 0.43617557]],\n",
       "\n",
       "       [[0.00881694, 0.00237817, 0.00364232, ..., 0.4220689 ,\n",
       "         0.43556162, 0.45513073],\n",
       "        [0.02943254, 0.01288095, 0.0077384 , ..., 0.43849979,\n",
       "         0.42741226, 0.43792717],\n",
       "        [0.05502293, 0.03581365, 0.02387689, ..., 0.45230827,\n",
       "         0.42149979, 0.40605863],\n",
       "        [0.08240749, 0.0650664 , 0.05151359, ..., 0.43262812,\n",
       "         0.40673053, 0.39339172],\n",
       "        [0.10615684, 0.09307515, 0.07774159, ..., 0.38963141,\n",
       "         0.37986251, 0.38324568]]])\n",
       "Coordinates:\n",
       "    lon      (x) float32 30.0 30.25 30.5 30.75 31.0 ... 40.75 41.0 41.25 41.5\n",
       "    lat      (y) float32 34.815 34.565 34.315 34.065 33.815\n",
       "  * x        (x) float32 30.0 30.25 30.5 30.75 31.0 ... 40.75 41.0 41.25 41.5\n",
       "  * y        (y) float32 34.815 34.565 34.315 34.065 33.815\n",
       "  * time     (time) datetime64[ns] 2011-01-01 ... 2011-01-31T23:00:00"
      ]
     },
     "execution_count": 20,
     "metadata": {},
     "output_type": "execute_result"
    }
   ],
   "source": [
    "atlite.convert.wind(\n",
    "                cutout, \n",
    "                turbine='Suzlon_S82_1.5_MW', \n",
    "                smooth=True)"
   ]
  },
  {
   "cell_type": "code",
   "execution_count": 22,
   "metadata": {},
   "outputs": [
    {
     "data": {
      "text/html": [
       "<pre>&lt;xarray.DataArray &#x27;wnd67m&#x27; (time: 744, y: 5, x: 47)&gt;\n",
       "array([[[6.38083333, 5.76112356, 5.23372553, ..., 7.03635301,\n",
       "         7.24216777, 7.80579687],\n",
       "        [7.64094793, 7.09949822, 6.65454437, ..., 6.95008024,\n",
       "         7.32377793, 7.92718955],\n",
       "        [8.52166917, 8.0601984 , 7.677231  , ..., 6.94617902,\n",
       "         7.49226765, 8.20977502],\n",
       "        [9.18063643, 8.78436359, 8.41938826, ..., 6.87516448,\n",
       "         7.568201  , 8.26395741],\n",
       "        [9.52568863, 9.30226614, 8.93571965, ..., 6.72020227,\n",
       "         7.45113803, 8.06278476]],\n",
       "\n",
       "       [[6.00353282, 5.41997128, 4.9862626 , ..., 6.80716878,\n",
       "         6.96495388, 7.49700364],\n",
       "        [7.31901827, 6.79794637, 6.41450152, ..., 6.66575983,\n",
       "         6.99245356, 7.56770264],\n",
       "        [8.24866608, 7.80252229, 7.46370638, ..., 6.56604219,\n",
       "         7.08736359, 7.78201159],\n",
       "        [8.95060401, 8.56563913, 8.24020293, ..., 6.37692775,\n",
       "         7.07403028, 7.75745292],\n",
       "        [9.33394571, 9.117972  , 8.78974907, ..., 6.1107713 ,\n",
       "         6.8621878 , 7.46849313]],\n",
       "\n",
       "       [[5.54505122, 5.02469115, 4.65180732, ..., 6.53480135,\n",
       "         6.61441212, 7.08248996],\n",
       "        [6.90797227, 6.45246813, 6.12263242, ..., 6.27823525,\n",
       "         6.56908801, 7.0694472 ],\n",
       "        [7.88176099, 7.49304761, 7.20976382, ..., 6.0337273 ,\n",
       "         6.54908303, 7.20237108],\n",
       "        [8.61589672, 8.2859657 , 8.01563452, ..., 5.70094302,\n",
       "         6.38591757, 7.05875053],\n",
       "        [9.05161862, 8.87303467, 8.59839629, ..., 5.31017426,\n",
       "         6.04869081, 6.65773514]],\n",
       "\n",
       "       ...,\n",
       "\n",
       "       [[3.30043866, 2.03849571, 2.04782541, ..., 7.74253914,\n",
       "         7.67157803, 7.68335601],\n",
       "        [4.63289774, 3.64357891, 2.94873676, ..., 7.407948  ,\n",
       "         7.35017043, 7.57987583],\n",
       "        [5.37408997, 4.76676894, 4.12465923, ..., 6.93894778,\n",
       "         7.21282299, 7.71782323],\n",
       "        [5.83118179, 5.46732799, 5.08324585, ..., 6.94142134,\n",
       "         7.54523573, 8.06647255],\n",
       "        [6.08566572, 5.90534535, 5.59443183, ..., 7.11100775,\n",
       "         7.7390435 , 8.19366799]],\n",
       "\n",
       "       [[2.74180752, 1.4879675 , 1.61083384, ..., 8.16839663,\n",
       "         8.24097458, 8.42020065],\n",
       "        [4.09435897, 3.16819233, 2.57558605, ..., 8.08564356,\n",
       "         7.86564036, 8.12474125],\n",
       "        [4.89456181, 4.37136193, 3.84265127, ..., 7.81966181,\n",
       "         7.63928243, 8.12913632],\n",
       "        [5.43950503, 5.15412216, 4.8511892 , ..., 7.71142743,\n",
       "         7.84353444, 8.48063578],\n",
       "        [5.82818393, 5.65840991, 5.41628494, ..., 7.68006811,\n",
       "         8.00911919, 8.63272189]],\n",
       "\n",
       "       [[2.19496172, 0.97767519, 1.3409592 , ..., 8.51647457,\n",
       "         8.62557038, 8.77577121],\n",
       "        [3.5672532 , 2.59914666, 2.06648707, ..., 8.6292181 ,\n",
       "         8.5597746 , 8.64333539],\n",
       "        [4.41676314, 3.826619  , 3.3149997 , ..., 8.7374332 ,\n",
       "         8.51311089, 8.39972491],\n",
       "        [5.01656546, 4.65089233, 4.32052244, ..., 8.59938294,\n",
       "         8.40371865, 8.30392083],\n",
       "        [5.43686759, 5.2138668 , 4.93065741, ..., 8.27327556,\n",
       "         8.19752712, 8.22564892]]])\n",
       "Coordinates:\n",
       "    lon      (x) float32 30.0 30.25 30.5 30.75 31.0 ... 40.75 41.0 41.25 41.5\n",
       "    lat      (y) float32 34.815 34.565 34.315 34.065 33.815\n",
       "  * x        (x) float32 30.0 30.25 30.5 30.75 31.0 ... 40.75 41.0 41.25 41.5\n",
       "  * y        (y) float32 34.815 34.565 34.315 34.065 33.815\n",
       "  * time     (time) datetime64[ns] 2011-01-01 ... 2011-01-31T23:00:00\n",
       "Attributes:\n",
       "    long_name:  extrapolated 67 m wind speed using log ratio, from nearest he...\n",
       "    units:      m s**-1</pre>"
      ],
      "text/plain": [
       "<xarray.DataArray 'wnd67m' (time: 744, y: 5, x: 47)>\n",
       "array([[[6.38083333, 5.76112356, 5.23372553, ..., 7.03635301,\n",
       "         7.24216777, 7.80579687],\n",
       "        [7.64094793, 7.09949822, 6.65454437, ..., 6.95008024,\n",
       "         7.32377793, 7.92718955],\n",
       "        [8.52166917, 8.0601984 , 7.677231  , ..., 6.94617902,\n",
       "         7.49226765, 8.20977502],\n",
       "        [9.18063643, 8.78436359, 8.41938826, ..., 6.87516448,\n",
       "         7.568201  , 8.26395741],\n",
       "        [9.52568863, 9.30226614, 8.93571965, ..., 6.72020227,\n",
       "         7.45113803, 8.06278476]],\n",
       "\n",
       "       [[6.00353282, 5.41997128, 4.9862626 , ..., 6.80716878,\n",
       "         6.96495388, 7.49700364],\n",
       "        [7.31901827, 6.79794637, 6.41450152, ..., 6.66575983,\n",
       "         6.99245356, 7.56770264],\n",
       "        [8.24866608, 7.80252229, 7.46370638, ..., 6.56604219,\n",
       "         7.08736359, 7.78201159],\n",
       "        [8.95060401, 8.56563913, 8.24020293, ..., 6.37692775,\n",
       "         7.07403028, 7.75745292],\n",
       "        [9.33394571, 9.117972  , 8.78974907, ..., 6.1107713 ,\n",
       "         6.8621878 , 7.46849313]],\n",
       "\n",
       "       [[5.54505122, 5.02469115, 4.65180732, ..., 6.53480135,\n",
       "         6.61441212, 7.08248996],\n",
       "        [6.90797227, 6.45246813, 6.12263242, ..., 6.27823525,\n",
       "         6.56908801, 7.0694472 ],\n",
       "        [7.88176099, 7.49304761, 7.20976382, ..., 6.0337273 ,\n",
       "         6.54908303, 7.20237108],\n",
       "        [8.61589672, 8.2859657 , 8.01563452, ..., 5.70094302,\n",
       "         6.38591757, 7.05875053],\n",
       "        [9.05161862, 8.87303467, 8.59839629, ..., 5.31017426,\n",
       "         6.04869081, 6.65773514]],\n",
       "\n",
       "       ...,\n",
       "\n",
       "       [[3.30043866, 2.03849571, 2.04782541, ..., 7.74253914,\n",
       "         7.67157803, 7.68335601],\n",
       "        [4.63289774, 3.64357891, 2.94873676, ..., 7.407948  ,\n",
       "         7.35017043, 7.57987583],\n",
       "        [5.37408997, 4.76676894, 4.12465923, ..., 6.93894778,\n",
       "         7.21282299, 7.71782323],\n",
       "        [5.83118179, 5.46732799, 5.08324585, ..., 6.94142134,\n",
       "         7.54523573, 8.06647255],\n",
       "        [6.08566572, 5.90534535, 5.59443183, ..., 7.11100775,\n",
       "         7.7390435 , 8.19366799]],\n",
       "\n",
       "       [[2.74180752, 1.4879675 , 1.61083384, ..., 8.16839663,\n",
       "         8.24097458, 8.42020065],\n",
       "        [4.09435897, 3.16819233, 2.57558605, ..., 8.08564356,\n",
       "         7.86564036, 8.12474125],\n",
       "        [4.89456181, 4.37136193, 3.84265127, ..., 7.81966181,\n",
       "         7.63928243, 8.12913632],\n",
       "        [5.43950503, 5.15412216, 4.8511892 , ..., 7.71142743,\n",
       "         7.84353444, 8.48063578],\n",
       "        [5.82818393, 5.65840991, 5.41628494, ..., 7.68006811,\n",
       "         8.00911919, 8.63272189]],\n",
       "\n",
       "       [[2.19496172, 0.97767519, 1.3409592 , ..., 8.51647457,\n",
       "         8.62557038, 8.77577121],\n",
       "        [3.5672532 , 2.59914666, 2.06648707, ..., 8.6292181 ,\n",
       "         8.5597746 , 8.64333539],\n",
       "        [4.41676314, 3.826619  , 3.3149997 , ..., 8.7374332 ,\n",
       "         8.51311089, 8.39972491],\n",
       "        [5.01656546, 4.65089233, 4.32052244, ..., 8.59938294,\n",
       "         8.40371865, 8.30392083],\n",
       "        [5.43686759, 5.2138668 , 4.93065741, ..., 8.27327556,\n",
       "         8.19752712, 8.22564892]]])\n",
       "Coordinates:\n",
       "    lon      (x) float32 30.0 30.25 30.5 30.75 31.0 ... 40.75 41.0 41.25 41.5\n",
       "    lat      (y) float32 34.815 34.565 34.315 34.065 33.815\n",
       "  * x        (x) float32 30.0 30.25 30.5 30.75 31.0 ... 40.75 41.0 41.25 41.5\n",
       "  * y        (y) float32 34.815 34.565 34.315 34.065 33.815\n",
       "  * time     (time) datetime64[ns] 2011-01-01 ... 2011-01-31T23:00:00\n",
       "Attributes:\n",
       "    long_name:  extrapolated 67 m wind speed using log ratio, from nearest he...\n",
       "    units:      m s**-1"
      ]
     },
     "execution_count": 22,
     "metadata": {},
     "output_type": "execute_result"
    }
   ],
   "source": [
    "atlite.convert.windspd(\n",
    "                cutout, \n",
    "                turbine='Vestas_V66_1750kW')"
   ]
  },
  {
   "cell_type": "code",
   "execution_count": 33,
   "metadata": {
    "collapsed": true,
    "jupyter": {
     "outputs_hidden": true
    }
   },
   "outputs": [
    {
     "ename": "KeyError",
     "evalue": "'rhoa'",
     "output_type": "error",
     "traceback": [
      "\u001b[0;31m---------------------------------------------------------------------------\u001b[0m",
      "\u001b[0;31mKeyError\u001b[0m                                  Traceback (most recent call last)",
      "\u001b[0;32m/usr/local/lib/python3.7/site-packages/xarray/core/dataset.py\u001b[0m in \u001b[0;36m_construct_dataarray\u001b[0;34m(self, name)\u001b[0m\n\u001b[1;32m   1154\u001b[0m         \u001b[0;32mtry\u001b[0m\u001b[0;34m:\u001b[0m\u001b[0;34m\u001b[0m\u001b[0;34m\u001b[0m\u001b[0m\n\u001b[0;32m-> 1155\u001b[0;31m             \u001b[0mvariable\u001b[0m \u001b[0;34m=\u001b[0m \u001b[0mself\u001b[0m\u001b[0;34m.\u001b[0m\u001b[0m_variables\u001b[0m\u001b[0;34m[\u001b[0m\u001b[0mname\u001b[0m\u001b[0;34m]\u001b[0m\u001b[0;34m\u001b[0m\u001b[0;34m\u001b[0m\u001b[0m\n\u001b[0m\u001b[1;32m   1156\u001b[0m         \u001b[0;32mexcept\u001b[0m \u001b[0mKeyError\u001b[0m\u001b[0;34m:\u001b[0m\u001b[0;34m\u001b[0m\u001b[0;34m\u001b[0m\u001b[0m\n",
      "\u001b[0;31mKeyError\u001b[0m: 'rhoa'",
      "\nDuring handling of the above exception, another exception occurred:\n",
      "\u001b[0;31mKeyError\u001b[0m                                  Traceback (most recent call last)",
      "\u001b[0;32m<ipython-input-33-f7741c5070ba>\u001b[0m in \u001b[0;36m<module>\u001b[0;34m\u001b[0m\n\u001b[1;32m      2\u001b[0m atlite.convert.windwpd(\n\u001b[1;32m      3\u001b[0m                 \u001b[0mcutout\u001b[0m\u001b[0;34m,\u001b[0m\u001b[0;34m\u001b[0m\u001b[0;34m\u001b[0m\u001b[0m\n\u001b[0;32m----> 4\u001b[0;31m                 turbine='Vestas_V66_1750kW')\n\u001b[0m",
      "\u001b[0;32m/usr/local/lib/python3.7/site-packages/atlite-0.0.2-py3.7.egg/atlite/convert.py\u001b[0m in \u001b[0;36mwindwpd\u001b[0;34m(cutout, **params)\u001b[0m\n\u001b[1;32m    558\u001b[0m         \u001b[0mparams\u001b[0m\u001b[0;34m[\u001b[0m\u001b[0;34m'hub_height'\u001b[0m\u001b[0;34m]\u001b[0m \u001b[0;34m=\u001b[0m \u001b[0mhub_height\u001b[0m\u001b[0;34m\u001b[0m\u001b[0;34m\u001b[0m\u001b[0m\n\u001b[1;32m    559\u001b[0m \u001b[0;34m\u001b[0m\u001b[0m\n\u001b[0;32m--> 560\u001b[0;31m         \u001b[0;32mreturn\u001b[0m \u001b[0mcutout\u001b[0m\u001b[0;34m.\u001b[0m\u001b[0mconvert_and_aggregate\u001b[0m\u001b[0;34m(\u001b[0m\u001b[0mconvert_func\u001b[0m\u001b[0;34m=\u001b[0m\u001b[0mconvert_windwpd\u001b[0m\u001b[0;34m,\u001b[0m \u001b[0;34m**\u001b[0m\u001b[0mparams\u001b[0m\u001b[0;34m)\u001b[0m\u001b[0;34m\u001b[0m\u001b[0;34m\u001b[0m\u001b[0m\n\u001b[0m\u001b[1;32m    561\u001b[0m \u001b[0;34m\u001b[0m\u001b[0m\n\u001b[1;32m    562\u001b[0m \u001b[0;31m## solar PV\u001b[0m\u001b[0;34m\u001b[0m\u001b[0;34m\u001b[0m\u001b[0;34m\u001b[0m\u001b[0m\n",
      "\u001b[0;32m/usr/local/lib/python3.7/site-packages/atlite-0.0.2-py3.7.egg/atlite/convert.py\u001b[0m in \u001b[0;36mconvert_and_aggregate\u001b[0;34m(cutout, convert_func, matrix, index, layout, shapes, shapes_proj, per_unit, return_capacity, capacity_factor, show_progress, **convert_kwds)\u001b[0m\n\u001b[1;32m    164\u001b[0m                         \u001b[0;32mif\u001b[0m \u001b[0;34m'view'\u001b[0m \u001b[0;32min\u001b[0m \u001b[0mcutout\u001b[0m\u001b[0;34m.\u001b[0m\u001b[0mmeta\u001b[0m\u001b[0;34m.\u001b[0m\u001b[0mattrs\u001b[0m\u001b[0;34m:\u001b[0m\u001b[0;34m\u001b[0m\u001b[0;34m\u001b[0m\u001b[0m\n\u001b[1;32m    165\u001b[0m                                 \u001b[0mds\u001b[0m \u001b[0;34m=\u001b[0m \u001b[0mds\u001b[0m\u001b[0;34m.\u001b[0m\u001b[0msel\u001b[0m\u001b[0;34m(\u001b[0m\u001b[0;34m**\u001b[0m\u001b[0mcutout\u001b[0m\u001b[0;34m.\u001b[0m\u001b[0mmeta\u001b[0m\u001b[0;34m.\u001b[0m\u001b[0mattrs\u001b[0m\u001b[0;34m[\u001b[0m\u001b[0;34m'view'\u001b[0m\u001b[0;34m]\u001b[0m\u001b[0;34m)\u001b[0m\u001b[0;34m\u001b[0m\u001b[0;34m\u001b[0m\u001b[0m\n\u001b[0;32m--> 166\u001b[0;31m                         \u001b[0mda\u001b[0m \u001b[0;34m=\u001b[0m \u001b[0mconvert_func\u001b[0m\u001b[0;34m(\u001b[0m\u001b[0mds\u001b[0m\u001b[0;34m,\u001b[0m \u001b[0;34m**\u001b[0m\u001b[0mconvert_kwds\u001b[0m\u001b[0;34m)\u001b[0m\u001b[0;34m\u001b[0m\u001b[0;34m\u001b[0m\u001b[0m\n\u001b[0m\u001b[1;32m    167\u001b[0m                         \u001b[0mresults\u001b[0m\u001b[0;34m.\u001b[0m\u001b[0mappend\u001b[0m\u001b[0;34m(\u001b[0m\u001b[0maggregate_func\u001b[0m\u001b[0;34m(\u001b[0m\u001b[0mda\u001b[0m\u001b[0;34m,\u001b[0m \u001b[0;34m**\u001b[0m\u001b[0maggregate_kwds\u001b[0m\u001b[0;34m)\u001b[0m\u001b[0;34m.\u001b[0m\u001b[0mload\u001b[0m\u001b[0;34m(\u001b[0m\u001b[0;34m)\u001b[0m\u001b[0;34m)\u001b[0m\u001b[0;34m\u001b[0m\u001b[0;34m\u001b[0m\u001b[0m\n\u001b[1;32m    168\u001b[0m         \u001b[0;31m# if 'time' in results[0].coords:\u001b[0m\u001b[0;34m\u001b[0m\u001b[0;34m\u001b[0m\u001b[0;34m\u001b[0m\u001b[0m\n",
      "\u001b[0;32m/usr/local/lib/python3.7/site-packages/atlite-0.0.2-py3.7.egg/atlite/convert.py\u001b[0m in \u001b[0;36mconvert_windwpd\u001b[0;34m(ds, hub_height, **params)\u001b[0m\n\u001b[1;32m    439\u001b[0m         \u001b[0mwnd_hub\u001b[0m \u001b[0;34m=\u001b[0m \u001b[0mwindm\u001b[0m\u001b[0;34m.\u001b[0m\u001b[0mextrapolate_wind_speed\u001b[0m\u001b[0;34m(\u001b[0m\u001b[0mds\u001b[0m\u001b[0;34m,\u001b[0m \u001b[0mto_height\u001b[0m\u001b[0;34m=\u001b[0m\u001b[0mhub_height\u001b[0m\u001b[0;34m,\u001b[0m \u001b[0;34m**\u001b[0m\u001b[0mparams\u001b[0m\u001b[0;34m)\u001b[0m\u001b[0;34m\u001b[0m\u001b[0;34m\u001b[0m\u001b[0m\n\u001b[1;32m    440\u001b[0m \u001b[0;34m\u001b[0m\u001b[0m\n\u001b[0;32m--> 441\u001b[0;31m         \u001b[0;32mreturn\u001b[0m \u001b[0mxr\u001b[0m\u001b[0;34m.\u001b[0m\u001b[0mDataArray\u001b[0m\u001b[0;34m(\u001b[0m\u001b[0;36m0.5\u001b[0m \u001b[0;34m*\u001b[0m \u001b[0mds\u001b[0m\u001b[0;34m[\u001b[0m\u001b[0;34m'rhoa'\u001b[0m\u001b[0;34m]\u001b[0m \u001b[0;34m*\u001b[0m \u001b[0mwnd_hub\u001b[0m \u001b[0;34m**\u001b[0m \u001b[0;36m3\u001b[0m \u001b[0;34m,\u001b[0m \u001b[0mcoords\u001b[0m\u001b[0;34m=\u001b[0m\u001b[0mwnd_hub\u001b[0m\u001b[0;34m.\u001b[0m\u001b[0mcoords\u001b[0m\u001b[0;34m)\u001b[0m\u001b[0;34m\u001b[0m\u001b[0;34m\u001b[0m\u001b[0m\n\u001b[0m\u001b[1;32m    442\u001b[0m \u001b[0;34m\u001b[0m\u001b[0m\n\u001b[1;32m    443\u001b[0m \u001b[0;34m\u001b[0m\u001b[0m\n",
      "\u001b[0;32m/usr/local/lib/python3.7/site-packages/xarray/core/dataset.py\u001b[0m in \u001b[0;36m__getitem__\u001b[0;34m(self, key)\u001b[0m\n\u001b[1;32m   1243\u001b[0m \u001b[0;34m\u001b[0m\u001b[0m\n\u001b[1;32m   1244\u001b[0m         \u001b[0;32mif\u001b[0m \u001b[0mhashable\u001b[0m\u001b[0;34m(\u001b[0m\u001b[0mkey\u001b[0m\u001b[0;34m)\u001b[0m\u001b[0;34m:\u001b[0m\u001b[0;34m\u001b[0m\u001b[0;34m\u001b[0m\u001b[0m\n\u001b[0;32m-> 1245\u001b[0;31m             \u001b[0;32mreturn\u001b[0m \u001b[0mself\u001b[0m\u001b[0;34m.\u001b[0m\u001b[0m_construct_dataarray\u001b[0m\u001b[0;34m(\u001b[0m\u001b[0mkey\u001b[0m\u001b[0;34m)\u001b[0m\u001b[0;34m\u001b[0m\u001b[0;34m\u001b[0m\u001b[0m\n\u001b[0m\u001b[1;32m   1246\u001b[0m         \u001b[0;32melse\u001b[0m\u001b[0;34m:\u001b[0m\u001b[0;34m\u001b[0m\u001b[0;34m\u001b[0m\u001b[0m\n\u001b[1;32m   1247\u001b[0m             \u001b[0;32mreturn\u001b[0m \u001b[0mself\u001b[0m\u001b[0;34m.\u001b[0m\u001b[0m_copy_listed\u001b[0m\u001b[0;34m(\u001b[0m\u001b[0mnp\u001b[0m\u001b[0;34m.\u001b[0m\u001b[0masarray\u001b[0m\u001b[0;34m(\u001b[0m\u001b[0mkey\u001b[0m\u001b[0;34m)\u001b[0m\u001b[0;34m)\u001b[0m\u001b[0;34m\u001b[0m\u001b[0;34m\u001b[0m\u001b[0m\n",
      "\u001b[0;32m/usr/local/lib/python3.7/site-packages/xarray/core/dataset.py\u001b[0m in \u001b[0;36m_construct_dataarray\u001b[0;34m(self, name)\u001b[0m\n\u001b[1;32m   1156\u001b[0m         \u001b[0;32mexcept\u001b[0m \u001b[0mKeyError\u001b[0m\u001b[0;34m:\u001b[0m\u001b[0;34m\u001b[0m\u001b[0;34m\u001b[0m\u001b[0m\n\u001b[1;32m   1157\u001b[0m             _, name, variable = _get_virtual_variable(\n\u001b[0;32m-> 1158\u001b[0;31m                 \u001b[0mself\u001b[0m\u001b[0;34m.\u001b[0m\u001b[0m_variables\u001b[0m\u001b[0;34m,\u001b[0m \u001b[0mname\u001b[0m\u001b[0;34m,\u001b[0m \u001b[0mself\u001b[0m\u001b[0;34m.\u001b[0m\u001b[0m_level_coords\u001b[0m\u001b[0;34m,\u001b[0m \u001b[0mself\u001b[0m\u001b[0;34m.\u001b[0m\u001b[0mdims\u001b[0m\u001b[0;34m\u001b[0m\u001b[0;34m\u001b[0m\u001b[0m\n\u001b[0m\u001b[1;32m   1159\u001b[0m             )\n\u001b[1;32m   1160\u001b[0m \u001b[0;34m\u001b[0m\u001b[0m\n",
      "\u001b[0;32m/usr/local/lib/python3.7/site-packages/xarray/core/dataset.py\u001b[0m in \u001b[0;36m_get_virtual_variable\u001b[0;34m(variables, key, level_vars, dim_sizes)\u001b[0m\n\u001b[1;32m    163\u001b[0m         \u001b[0mref_var\u001b[0m \u001b[0;34m=\u001b[0m \u001b[0mdim_var\u001b[0m\u001b[0;34m.\u001b[0m\u001b[0mto_index_variable\u001b[0m\u001b[0;34m(\u001b[0m\u001b[0;34m)\u001b[0m\u001b[0;34m.\u001b[0m\u001b[0mget_level_variable\u001b[0m\u001b[0;34m(\u001b[0m\u001b[0mref_name\u001b[0m\u001b[0;34m)\u001b[0m\u001b[0;34m\u001b[0m\u001b[0;34m\u001b[0m\u001b[0m\n\u001b[1;32m    164\u001b[0m     \u001b[0;32melse\u001b[0m\u001b[0;34m:\u001b[0m\u001b[0;34m\u001b[0m\u001b[0;34m\u001b[0m\u001b[0m\n\u001b[0;32m--> 165\u001b[0;31m         \u001b[0mref_var\u001b[0m \u001b[0;34m=\u001b[0m \u001b[0mvariables\u001b[0m\u001b[0;34m[\u001b[0m\u001b[0mref_name\u001b[0m\u001b[0;34m]\u001b[0m\u001b[0;34m\u001b[0m\u001b[0;34m\u001b[0m\u001b[0m\n\u001b[0m\u001b[1;32m    166\u001b[0m \u001b[0;34m\u001b[0m\u001b[0m\n\u001b[1;32m    167\u001b[0m     \u001b[0;32mif\u001b[0m \u001b[0mvar_name\u001b[0m \u001b[0;32mis\u001b[0m \u001b[0;32mNone\u001b[0m\u001b[0;34m:\u001b[0m\u001b[0;34m\u001b[0m\u001b[0;34m\u001b[0m\u001b[0m\n",
      "\u001b[0;31mKeyError\u001b[0m: 'rhoa'"
     ]
    }
   ],
   "source": [
    "## doesn't work, investigate parameters\n",
    "atlite.convert.windwpd(\n",
    "                cutout, \n",
    "                turbine='Vestas_V66_1750kW')"
   ]
  },
  {
   "cell_type": "code",
   "execution_count": 44,
   "metadata": {},
   "outputs": [],
   "source": [
    "## solar variables\n",
    "## pv\n",
    "ds = atlite.convert.pv(cutout, panel=\"KANENA\", orientation = \"latitude_optimal\")"
   ]
  },
  {
   "cell_type": "code",
   "execution_count": 45,
   "metadata": {},
   "outputs": [
    {
     "data": {
      "text/html": [
       "<pre>&lt;xarray.DataArray &#x27;AC power&#x27; (y: 5, time: 744, x: 47)&gt;\n",
       "array([[[0., 0., 0., ..., 0., 0., 0.],\n",
       "        [0., 0., 0., ..., 0., 0., 0.],\n",
       "        [0., 0., 0., ..., 0., 0., 0.],\n",
       "        ...,\n",
       "        [0., 0., 0., ..., 0., 0., 0.],\n",
       "        [0., 0., 0., ..., 0., 0., 0.],\n",
       "        [0., 0., 0., ..., 0., 0., 0.]],\n",
       "\n",
       "       [[0., 0., 0., ..., 0., 0., 0.],\n",
       "        [0., 0., 0., ..., 0., 0., 0.],\n",
       "        [0., 0., 0., ..., 0., 0., 0.],\n",
       "        ...,\n",
       "        [0., 0., 0., ..., 0., 0., 0.],\n",
       "        [0., 0., 0., ..., 0., 0., 0.],\n",
       "        [0., 0., 0., ..., 0., 0., 0.]],\n",
       "\n",
       "       [[0., 0., 0., ..., 0., 0., 0.],\n",
       "        [0., 0., 0., ..., 0., 0., 0.],\n",
       "        [0., 0., 0., ..., 0., 0., 0.],\n",
       "        ...,\n",
       "        [0., 0., 0., ..., 0., 0., 0.],\n",
       "        [0., 0., 0., ..., 0., 0., 0.],\n",
       "        [0., 0., 0., ..., 0., 0., 0.]],\n",
       "\n",
       "       [[0., 0., 0., ..., 0., 0., 0.],\n",
       "        [0., 0., 0., ..., 0., 0., 0.],\n",
       "        [0., 0., 0., ..., 0., 0., 0.],\n",
       "        ...,\n",
       "        [0., 0., 0., ..., 0., 0., 0.],\n",
       "        [0., 0., 0., ..., 0., 0., 0.],\n",
       "        [0., 0., 0., ..., 0., 0., 0.]],\n",
       "\n",
       "       [[0., 0., 0., ..., 0., 0., 0.],\n",
       "        [0., 0., 0., ..., 0., 0., 0.],\n",
       "        [0., 0., 0., ..., 0., 0., 0.],\n",
       "        ...,\n",
       "        [0., 0., 0., ..., 0., 0., 0.],\n",
       "        [0., 0., 0., ..., 0., 0., 0.],\n",
       "        [0., 0., 0., ..., 0., 0., 0.]]])\n",
       "Coordinates:\n",
       "    lon      (x) float32 30.0 30.25 30.5 30.75 31.0 ... 40.75 41.0 41.25 41.5\n",
       "    lat      (y) float32 34.815 34.565 34.315 34.065 33.815\n",
       "  * x        (x) float32 30.0 30.25 30.5 30.75 31.0 ... 40.75 41.0 41.25 41.5\n",
       "  * y        (y) float32 34.815 34.565 34.315 34.065 33.815\n",
       "  * time     (time) datetime64[ns] 2011-01-01 ... 2011-01-31T23:00:00</pre>"
      ],
      "text/plain": [
       "<xarray.DataArray 'AC power' (y: 5, time: 744, x: 47)>\n",
       "array([[[0., 0., 0., ..., 0., 0., 0.],\n",
       "        [0., 0., 0., ..., 0., 0., 0.],\n",
       "        [0., 0., 0., ..., 0., 0., 0.],\n",
       "        ...,\n",
       "        [0., 0., 0., ..., 0., 0., 0.],\n",
       "        [0., 0., 0., ..., 0., 0., 0.],\n",
       "        [0., 0., 0., ..., 0., 0., 0.]],\n",
       "\n",
       "       [[0., 0., 0., ..., 0., 0., 0.],\n",
       "        [0., 0., 0., ..., 0., 0., 0.],\n",
       "        [0., 0., 0., ..., 0., 0., 0.],\n",
       "        ...,\n",
       "        [0., 0., 0., ..., 0., 0., 0.],\n",
       "        [0., 0., 0., ..., 0., 0., 0.],\n",
       "        [0., 0., 0., ..., 0., 0., 0.]],\n",
       "\n",
       "       [[0., 0., 0., ..., 0., 0., 0.],\n",
       "        [0., 0., 0., ..., 0., 0., 0.],\n",
       "        [0., 0., 0., ..., 0., 0., 0.],\n",
       "        ...,\n",
       "        [0., 0., 0., ..., 0., 0., 0.],\n",
       "        [0., 0., 0., ..., 0., 0., 0.],\n",
       "        [0., 0., 0., ..., 0., 0., 0.]],\n",
       "\n",
       "       [[0., 0., 0., ..., 0., 0., 0.],\n",
       "        [0., 0., 0., ..., 0., 0., 0.],\n",
       "        [0., 0., 0., ..., 0., 0., 0.],\n",
       "        ...,\n",
       "        [0., 0., 0., ..., 0., 0., 0.],\n",
       "        [0., 0., 0., ..., 0., 0., 0.],\n",
       "        [0., 0., 0., ..., 0., 0., 0.]],\n",
       "\n",
       "       [[0., 0., 0., ..., 0., 0., 0.],\n",
       "        [0., 0., 0., ..., 0., 0., 0.],\n",
       "        [0., 0., 0., ..., 0., 0., 0.],\n",
       "        ...,\n",
       "        [0., 0., 0., ..., 0., 0., 0.],\n",
       "        [0., 0., 0., ..., 0., 0., 0.],\n",
       "        [0., 0., 0., ..., 0., 0., 0.]]])\n",
       "Coordinates:\n",
       "    lon      (x) float32 30.0 30.25 30.5 30.75 31.0 ... 40.75 41.0 41.25 41.5\n",
       "    lat      (y) float32 34.815 34.565 34.315 34.065 33.815\n",
       "  * x        (x) float32 30.0 30.25 30.5 30.75 31.0 ... 40.75 41.0 41.25 41.5\n",
       "  * y        (y) float32 34.815 34.565 34.315 34.065 33.815\n",
       "  * time     (time) datetime64[ns] 2011-01-01 ... 2011-01-31T23:00:00"
      ]
     },
     "execution_count": 45,
     "metadata": {},
     "output_type": "execute_result"
    }
   ],
   "source": [
    "ds"
   ]
  },
  {
   "cell_type": "code",
   "execution_count": 46,
   "metadata": {},
   "outputs": [],
   "source": [
    "df =ds.to_dataframe(name='pv')"
   ]
  },
  {
   "cell_type": "code",
   "execution_count": 47,
   "metadata": {},
   "outputs": [
    {
     "data": {
      "text/html": [
       "<div>\n",
       "<style scoped>\n",
       "    .dataframe tbody tr th:only-of-type {\n",
       "        vertical-align: middle;\n",
       "    }\n",
       "\n",
       "    .dataframe tbody tr th {\n",
       "        vertical-align: top;\n",
       "    }\n",
       "\n",
       "    .dataframe thead th {\n",
       "        text-align: right;\n",
       "    }\n",
       "</style>\n",
       "<table border=\"1\" class=\"dataframe\">\n",
       "  <thead>\n",
       "    <tr style=\"text-align: right;\">\n",
       "      <th></th>\n",
       "      <th></th>\n",
       "      <th></th>\n",
       "      <th>lon</th>\n",
       "      <th>lat</th>\n",
       "      <th>pv</th>\n",
       "    </tr>\n",
       "    <tr>\n",
       "      <th>y</th>\n",
       "      <th>time</th>\n",
       "      <th>x</th>\n",
       "      <th></th>\n",
       "      <th></th>\n",
       "      <th></th>\n",
       "    </tr>\n",
       "  </thead>\n",
       "  <tbody>\n",
       "    <tr>\n",
       "      <th rowspan=\"5\" valign=\"top\">34.814999</th>\n",
       "      <th rowspan=\"5\" valign=\"top\">2011-01-01 00:00:00</th>\n",
       "      <th>30.00</th>\n",
       "      <td>30.00</td>\n",
       "      <td>34.814999</td>\n",
       "      <td>0.0</td>\n",
       "    </tr>\n",
       "    <tr>\n",
       "      <th>30.25</th>\n",
       "      <td>30.25</td>\n",
       "      <td>34.814999</td>\n",
       "      <td>0.0</td>\n",
       "    </tr>\n",
       "    <tr>\n",
       "      <th>30.50</th>\n",
       "      <td>30.50</td>\n",
       "      <td>34.814999</td>\n",
       "      <td>0.0</td>\n",
       "    </tr>\n",
       "    <tr>\n",
       "      <th>30.75</th>\n",
       "      <td>30.75</td>\n",
       "      <td>34.814999</td>\n",
       "      <td>0.0</td>\n",
       "    </tr>\n",
       "    <tr>\n",
       "      <th>31.00</th>\n",
       "      <td>31.00</td>\n",
       "      <td>34.814999</td>\n",
       "      <td>0.0</td>\n",
       "    </tr>\n",
       "    <tr>\n",
       "      <th>...</th>\n",
       "      <th>...</th>\n",
       "      <th>...</th>\n",
       "      <td>...</td>\n",
       "      <td>...</td>\n",
       "      <td>...</td>\n",
       "    </tr>\n",
       "    <tr>\n",
       "      <th rowspan=\"5\" valign=\"top\">33.814999</th>\n",
       "      <th rowspan=\"5\" valign=\"top\">2011-01-31 23:00:00</th>\n",
       "      <th>40.50</th>\n",
       "      <td>40.50</td>\n",
       "      <td>33.814999</td>\n",
       "      <td>0.0</td>\n",
       "    </tr>\n",
       "    <tr>\n",
       "      <th>40.75</th>\n",
       "      <td>40.75</td>\n",
       "      <td>33.814999</td>\n",
       "      <td>0.0</td>\n",
       "    </tr>\n",
       "    <tr>\n",
       "      <th>41.00</th>\n",
       "      <td>41.00</td>\n",
       "      <td>33.814999</td>\n",
       "      <td>0.0</td>\n",
       "    </tr>\n",
       "    <tr>\n",
       "      <th>41.25</th>\n",
       "      <td>41.25</td>\n",
       "      <td>33.814999</td>\n",
       "      <td>0.0</td>\n",
       "    </tr>\n",
       "    <tr>\n",
       "      <th>41.50</th>\n",
       "      <td>41.50</td>\n",
       "      <td>33.814999</td>\n",
       "      <td>0.0</td>\n",
       "    </tr>\n",
       "  </tbody>\n",
       "</table>\n",
       "<p>174840 rows × 3 columns</p>\n",
       "</div>"
      ],
      "text/plain": [
       "                                       lon        lat   pv\n",
       "y         time                x                           \n",
       "34.814999 2011-01-01 00:00:00 30.00  30.00  34.814999  0.0\n",
       "                              30.25  30.25  34.814999  0.0\n",
       "                              30.50  30.50  34.814999  0.0\n",
       "                              30.75  30.75  34.814999  0.0\n",
       "                              31.00  31.00  34.814999  0.0\n",
       "...                                    ...        ...  ...\n",
       "33.814999 2011-01-31 23:00:00 40.50  40.50  33.814999  0.0\n",
       "                              40.75  40.75  33.814999  0.0\n",
       "                              41.00  41.00  33.814999  0.0\n",
       "                              41.25  41.25  33.814999  0.0\n",
       "                              41.50  41.50  33.814999  0.0\n",
       "\n",
       "[174840 rows x 3 columns]"
      ]
     },
     "execution_count": 47,
     "metadata": {},
     "output_type": "execute_result"
    }
   ],
   "source": [
    "df"
   ]
  },
  {
   "cell_type": "code",
   "execution_count": null,
   "metadata": {},
   "outputs": [],
   "source": []
  }
 ],
 "metadata": {
  "kernelspec": {
   "display_name": "Python 3.7.2 64-bit",
   "language": "python",
   "name": "python37264bit8bcfe80643424f9babf8a51ad3268484"
  },
  "language_info": {
   "codemirror_mode": {
    "name": "ipython",
    "version": 3
   },
   "file_extension": ".py",
   "mimetype": "text/x-python",
   "name": "python",
   "nbconvert_exporter": "python",
   "pygments_lexer": "ipython3",
   "version": "3.7.4"
  }
 },
 "nbformat": 4,
 "nbformat_minor": 4
}
