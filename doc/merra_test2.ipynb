{
 "nbformat": 4,
 "nbformat_minor": 2,
 "metadata": {
  "language_info": {
   "name": "python",
   "codemirror_mode": {
    "name": "ipython",
    "version": 3
   },
   "version": "3.7.2-final"
  },
  "orig_nbformat": 2,
  "file_extension": ".py",
  "mimetype": "text/x-python",
  "name": "python",
  "npconvert_exporter": "python",
  "pygments_lexer": "ipython3",
  "version": 3,
  "kernelspec": {
   "name": "python37264bit8bcfe80643424f9babf8a51ad3268484",
   "display_name": "Python 3.7.2 64-bit"
  }
 },
 "cells": [
  {
   "cell_type": "code",
   "execution_count": 1,
   "metadata": {},
   "outputs": [],
   "source": [
    "import logging\n",
    "logging.basicConfig(level=logging.INFO)\n",
    "import atlite"
   ]
  },
  {
   "cell_type": "code",
   "execution_count": 5,
   "metadata": {},
   "outputs": [
    {
     "output_type": "stream",
     "name": "stderr",
     "text": "INFO:atlite.cutout:All cutout (merra2-test-2011-01, /Users/williamhonaker/desktop/davidson/data_for_geodata/cutouts) files available.\nINFO:atlite.preparation:[4, 1, 1, 10]\nINFO:atlite.cutout:Cutout subset prepared: <Cutout merra2-test-2011-01 x=30.00-41.25 y=34.00-35.00 time=2011/1-2011/1 prepared>\nINFO:atlite.preparation:Starting preparation of cutout 'merra2-test-2011-01'\nINFO:atlite.datasets.merra2:MultiIndex([(2011, 1)],\n           names=['year', 'month'])\nINFO:atlite.datasets.merra2:[(2011, 1, 1), (2011, 1, 2), (2011, 1, 3), (2011, 1, 4), (2011, 1, 5), (2011, 1, 6), (2011, 1, 7), (2011, 1, 8), (2011, 1, 9), (2011, 1, 10), (2011, 1, 11), (2011, 1, 12), (2011, 1, 13), (2011, 1, 14), (2011, 1, 15), (2011, 1, 16), (2011, 1, 17), (2011, 1, 18), (2011, 1, 19), (2011, 1, 20), (2011, 1, 21), (2011, 1, 22), (2011, 1, 23), (2011, 1, 24), (2011, 1, 25), (2011, 1, 26), (2011, 1, 27), (2011, 1, 28), (2011, 1, 29), (2011, 1, 30), (2011, 1, 31)]\nINFO:atlite.preparation:31 tasks have been collected. Starting running them on all processors.\nINFO:atlite.datasets.merra2:Opening `/Users/williamhonaker/desktop/davidson/data_for_geodata/merra2/2011/01/MERRA2_400.tavg1_2d_flx_Nx.20110106.nc4`\nINFO:atlite.datasets.merra2:Opening `/Users/williamhonaker/desktop/davidson/data_for_geodata/merra2/2011/01/MERRA2_400.tavg1_2d_flx_Nx.20110101.nc4`\nINFO:atlite.datasets.merra2:Opening `/Users/williamhonaker/desktop/davidson/data_for_geodata/merra2/2011/01/MERRA2_400.tavg1_2d_flx_Nx.20110105.nc4`\nINFO:atlite.datasets.merra2:Opening `/Users/williamhonaker/desktop/davidson/data_for_geodata/merra2/2011/01/MERRA2_400.tavg1_2d_flx_Nx.20110103.nc4`\nINFO:atlite.datasets.merra2:Opening `/Users/williamhonaker/desktop/davidson/data_for_geodata/merra2/2011/01/MERRA2_400.tavg1_2d_flx_Nx.20110107.nc4`\nINFO:atlite.datasets.merra2:Opening `/Users/williamhonaker/desktop/davidson/data_for_geodata/merra2/2011/01/MERRA2_400.tavg1_2d_flx_Nx.20110102.nc4`\nINFO:atlite.datasets.merra2:Opening `/Users/williamhonaker/desktop/davidson/data_for_geodata/merra2/2011/01/MERRA2_400.tavg1_2d_flx_Nx.20110108.nc4`\nINFO:atlite.datasets.merra2:Opening `/Users/williamhonaker/desktop/davidson/data_for_geodata/merra2/2011/01/MERRA2_400.tavg1_2d_flx_Nx.20110104.nc4`\nINFO:atlite.datasets.merra2:Opening `/Users/williamhonaker/desktop/davidson/data_for_geodata/merra2/2011/01/MERRA2_400.tavg1_2d_flx_Nx.20110111.nc4`\nINFO:atlite.datasets.merra2:Opening `/Users/williamhonaker/desktop/davidson/data_for_geodata/merra2/2011/01/MERRA2_400.tavg1_2d_flx_Nx.20110110.nc4`\nINFO:atlite.datasets.merra2:Opening `/Users/williamhonaker/desktop/davidson/data_for_geodata/merra2/2011/01/MERRA2_400.tavg1_2d_flx_Nx.20110114.nc4`\nINFO:atlite.datasets.merra2:Opening `/Users/williamhonaker/desktop/davidson/data_for_geodata/merra2/2011/01/MERRA2_400.tavg1_2d_flx_Nx.20110113.nc4`\nINFO:atlite.datasets.merra2:Opening `/Users/williamhonaker/desktop/davidson/data_for_geodata/merra2/2011/01/MERRA2_400.tavg1_2d_flx_Nx.20110109.nc4`\nINFO:atlite.datasets.merra2:Opening `/Users/williamhonaker/desktop/davidson/data_for_geodata/merra2/2011/01/MERRA2_400.tavg1_2d_flx_Nx.20110112.nc4`\nINFO:atlite.datasets.merra2:Opening `/Users/williamhonaker/desktop/davidson/data_for_geodata/merra2/2011/01/MERRA2_400.tavg1_2d_flx_Nx.20110115.nc4`\nINFO:atlite.datasets.merra2:Opening `/Users/williamhonaker/desktop/davidson/data_for_geodata/merra2/2011/01/MERRA2_400.tavg1_2d_flx_Nx.20110116.nc4`\nINFO:atlite.datasets.merra2:Opening `/Users/williamhonaker/desktop/davidson/data_for_geodata/merra2/2011/01/MERRA2_400.tavg1_2d_flx_Nx.20110117.nc4`\nINFO:atlite.datasets.merra2:Opening `/Users/williamhonaker/desktop/davidson/data_for_geodata/merra2/2011/01/MERRA2_400.tavg1_2d_flx_Nx.20110118.nc4`\nINFO:atlite.datasets.merra2:Opening `/Users/williamhonaker/desktop/davidson/data_for_geodata/merra2/2011/01/MERRA2_400.tavg1_2d_flx_Nx.20110121.nc4`\nINFO:atlite.datasets.merra2:Opening `/Users/williamhonaker/desktop/davidson/data_for_geodata/merra2/2011/01/MERRA2_400.tavg1_2d_flx_Nx.20110119.nc4`\nINFO:atlite.datasets.merra2:Opening `/Users/williamhonaker/desktop/davidson/data_for_geodata/merra2/2011/01/MERRA2_400.tavg1_2d_flx_Nx.20110120.nc4`\nINFO:atlite.datasets.merra2:Opening `/Users/williamhonaker/desktop/davidson/data_for_geodata/merra2/2011/01/MERRA2_400.tavg1_2d_flx_Nx.20110122.nc4`\nINFO:atlite.datasets.merra2:Opening `/Users/williamhonaker/desktop/davidson/data_for_geodata/merra2/2011/01/MERRA2_400.tavg1_2d_flx_Nx.20110124.nc4`\nINFO:atlite.datasets.merra2:Opening `/Users/williamhonaker/desktop/davidson/data_for_geodata/merra2/2011/01/MERRA2_400.tavg1_2d_flx_Nx.20110123.nc4`\nINFO:atlite.datasets.merra2:Opening `/Users/williamhonaker/desktop/davidson/data_for_geodata/merra2/2011/01/MERRA2_400.tavg1_2d_flx_Nx.20110125.nc4`\nINFO:atlite.datasets.merra2:Opening `/Users/williamhonaker/desktop/davidson/data_for_geodata/merra2/2011/01/MERRA2_400.tavg1_2d_flx_Nx.20110126.nc4`\nINFO:atlite.datasets.merra2:Opening `/Users/williamhonaker/desktop/davidson/data_for_geodata/merra2/2011/01/MERRA2_400.tavg1_2d_flx_Nx.20110127.nc4`\nINFO:atlite.datasets.merra2:Opening `/Users/williamhonaker/desktop/davidson/data_for_geodata/merra2/2011/01/MERRA2_400.tavg1_2d_flx_Nx.20110128.nc4`\nINFO:atlite.datasets.merra2:Opening `/Users/williamhonaker/desktop/davidson/data_for_geodata/merra2/2011/01/MERRA2_400.tavg1_2d_flx_Nx.20110129.nc4`\nINFO:atlite.datasets.merra2:Opening `/Users/williamhonaker/desktop/davidson/data_for_geodata/merra2/2011/01/MERRA2_400.tavg1_2d_flx_Nx.20110130.nc4`\nINFO:atlite.datasets.merra2:Opening `/Users/williamhonaker/desktop/davidson/data_for_geodata/merra2/2011/01/MERRA2_400.tavg1_2d_flx_Nx.20110131.nc4`\nINFO:atlite.preparation:Merging variables into monthly compound files\nINFO:atlite.preparation:Cutout 'merra2-test-2011-01' has been successfully prepared\n"
    }
   ],
   "source": [
    "cutout = atlite.Cutout(name=\"merra2-test-2011-01\",\n",
    "                       module=\"merra2\",\n",
    "                       xs=slice(30, 41.56244222),\n",
    "                       ys=slice(33.56459975, 35),\n",
    "                       years=slice(2011, 2011),\n",
    "                       months=slice(1,1))\n",
    "cutout.prepare(overwrite=True)\n",
    "\n",
    "\n",
    "##"
   ]
  },
  {
   "cell_type": "code",
   "execution_count": 7,
   "metadata": {},
   "outputs": [
    {
     "output_type": "execute_result",
     "data": {
      "text/plain": "<Cutout merra2-test-2011-01 x=30.00-41.25 y=34.00-35.00 time=2011/1-2011/1 prepared>"
     },
     "metadata": {},
     "execution_count": 7
    }
   ],
   "source": [
    "cutout"
   ]
  },
  {
   "cell_type": "code",
   "execution_count": 9,
   "metadata": {},
   "outputs": [
    {
     "output_type": "error",
     "ename": "TypeError",
     "evalue": "sel() argument after ** must be a mapping, not str",
     "traceback": [
      "\u001b[0;31m---------------------------------------------------------------------------\u001b[0m",
      "\u001b[0;31mTypeError\u001b[0m                                 Traceback (most recent call last)",
      "\u001b[0;32m<ipython-input-9-1b01ce4d8586>\u001b[0m in \u001b[0;36m<module>\u001b[0;34m\u001b[0m\n\u001b[0;32m----> 1\u001b[0;31m \u001b[0mds\u001b[0m \u001b[0;34m=\u001b[0m \u001b[0matlite\u001b[0m\u001b[0;34m.\u001b[0m\u001b[0mconvert\u001b[0m\u001b[0;34m.\u001b[0m\u001b[0mwindspd\u001b[0m\u001b[0;34m(\u001b[0m\u001b[0mcutout\u001b[0m\u001b[0;34m,\u001b[0m \u001b[0mturbine\u001b[0m\u001b[0;34m=\u001b[0m\u001b[0;34m'Suzlon_S82_1.5_MW'\u001b[0m\u001b[0;34m,\u001b[0m \u001b[0mvar_height\u001b[0m\u001b[0;34m=\u001b[0m\u001b[0;34m'lml'\u001b[0m\u001b[0;34m)\u001b[0m\u001b[0;34m\u001b[0m\u001b[0;34m\u001b[0m\u001b[0m\n\u001b[0m",
      "\u001b[0;32m/usr/local/lib/python3.7/site-packages/atlite-0.0.2-py3.7.egg/atlite/convert.py\u001b[0m in \u001b[0;36mwindspd\u001b[0;34m(cutout, **params)\u001b[0m\n\u001b[1;32m    518\u001b[0m         \u001b[0mparams\u001b[0m\u001b[0;34m[\u001b[0m\u001b[0;34m'hub_height'\u001b[0m\u001b[0;34m]\u001b[0m \u001b[0;34m=\u001b[0m \u001b[0mhub_height\u001b[0m\u001b[0;34m\u001b[0m\u001b[0;34m\u001b[0m\u001b[0m\n\u001b[1;32m    519\u001b[0m \u001b[0;34m\u001b[0m\u001b[0m\n\u001b[0;32m--> 520\u001b[0;31m         \u001b[0;32mreturn\u001b[0m \u001b[0mcutout\u001b[0m\u001b[0;34m.\u001b[0m\u001b[0mconvert_and_aggregate\u001b[0m\u001b[0;34m(\u001b[0m\u001b[0mconvert_func\u001b[0m\u001b[0;34m=\u001b[0m\u001b[0mconvert_windspd\u001b[0m\u001b[0;34m,\u001b[0m \u001b[0;34m**\u001b[0m\u001b[0mparams\u001b[0m\u001b[0;34m)\u001b[0m\u001b[0;34m\u001b[0m\u001b[0;34m\u001b[0m\u001b[0m\n\u001b[0m\u001b[1;32m    521\u001b[0m \u001b[0;34m\u001b[0m\u001b[0m\n\u001b[1;32m    522\u001b[0m \u001b[0;34m\u001b[0m\u001b[0m\n",
      "\u001b[0;32m/usr/local/lib/python3.7/site-packages/atlite-0.0.2-py3.7.egg/atlite/convert.py\u001b[0m in \u001b[0;36mconvert_and_aggregate\u001b[0;34m(cutout, convert_func, matrix, index, layout, shapes, shapes_proj, per_unit, return_capacity, capacity_factor, show_progress, **convert_kwds)\u001b[0m\n\u001b[1;32m    163\u001b[0m                 \u001b[0;32mwith\u001b[0m \u001b[0mxr\u001b[0m\u001b[0;34m.\u001b[0m\u001b[0mopen_dataset\u001b[0m\u001b[0;34m(\u001b[0m\u001b[0mcutout\u001b[0m\u001b[0;34m.\u001b[0m\u001b[0mdatasetfn\u001b[0m\u001b[0;34m(\u001b[0m\u001b[0mym\u001b[0m\u001b[0;34m)\u001b[0m\u001b[0;34m)\u001b[0m \u001b[0;32mas\u001b[0m \u001b[0mds\u001b[0m\u001b[0;34m:\u001b[0m\u001b[0;34m\u001b[0m\u001b[0;34m\u001b[0m\u001b[0m\n\u001b[1;32m    164\u001b[0m                         \u001b[0;32mif\u001b[0m \u001b[0;34m'view'\u001b[0m \u001b[0;32min\u001b[0m \u001b[0mcutout\u001b[0m\u001b[0;34m.\u001b[0m\u001b[0mmeta\u001b[0m\u001b[0;34m.\u001b[0m\u001b[0mattrs\u001b[0m\u001b[0;34m:\u001b[0m\u001b[0;34m\u001b[0m\u001b[0;34m\u001b[0m\u001b[0m\n\u001b[0;32m--> 165\u001b[0;31m                                 \u001b[0mds\u001b[0m \u001b[0;34m=\u001b[0m \u001b[0mds\u001b[0m\u001b[0;34m.\u001b[0m\u001b[0msel\u001b[0m\u001b[0;34m(\u001b[0m\u001b[0;34m**\u001b[0m\u001b[0mcutout\u001b[0m\u001b[0;34m.\u001b[0m\u001b[0mmeta\u001b[0m\u001b[0;34m.\u001b[0m\u001b[0mattrs\u001b[0m\u001b[0;34m[\u001b[0m\u001b[0;34m'view'\u001b[0m\u001b[0;34m]\u001b[0m\u001b[0;34m)\u001b[0m\u001b[0;34m\u001b[0m\u001b[0;34m\u001b[0m\u001b[0m\n\u001b[0m\u001b[1;32m    166\u001b[0m                         \u001b[0mda\u001b[0m \u001b[0;34m=\u001b[0m \u001b[0mconvert_func\u001b[0m\u001b[0;34m(\u001b[0m\u001b[0mds\u001b[0m\u001b[0;34m,\u001b[0m \u001b[0;34m**\u001b[0m\u001b[0mconvert_kwds\u001b[0m\u001b[0;34m)\u001b[0m\u001b[0;34m\u001b[0m\u001b[0;34m\u001b[0m\u001b[0m\n\u001b[1;32m    167\u001b[0m                         \u001b[0mresults\u001b[0m\u001b[0;34m.\u001b[0m\u001b[0mappend\u001b[0m\u001b[0;34m(\u001b[0m\u001b[0maggregate_func\u001b[0m\u001b[0;34m(\u001b[0m\u001b[0mda\u001b[0m\u001b[0;34m,\u001b[0m \u001b[0;34m**\u001b[0m\u001b[0maggregate_kwds\u001b[0m\u001b[0;34m)\u001b[0m\u001b[0;34m.\u001b[0m\u001b[0mload\u001b[0m\u001b[0;34m(\u001b[0m\u001b[0;34m)\u001b[0m\u001b[0;34m)\u001b[0m\u001b[0;34m\u001b[0m\u001b[0;34m\u001b[0m\u001b[0m\n",
      "\u001b[0;31mTypeError\u001b[0m: sel() argument after ** must be a mapping, not str"
     ]
    }
   ],
   "source": [
    "ds = atlite.convert.windspd(cutout, turbine='Suzlon_S82_1.5_MW', var_height='lml')"
   ]
  },
  {
   "cell_type": "code",
   "execution_count": null,
   "metadata": {},
   "outputs": [],
   "source": []
  }
 ]
}