{
 "cells": [
  {
   "cell_type": "markdown",
   "metadata": {},
   "source": [
    "# Tutorial: Incorporating Mask into Cutout Workflow\n"
   ]
  },
  {
   "cell_type": "markdown",
   "metadata": {},
   "source": [
    "![image.png](../_static/images/mask_cutout_workflow.png)"
   ]
  },
  {
   "cell_type": "markdown",
   "metadata": {},
   "source": [
    "## Introduction"
   ]
  },
  {
   "cell_type": "markdown",
   "metadata": {},
   "source": [
    "Geodata is able to process geospatial data to extract cutouts over specified geographies. Built off the [rasterio library](https://rasterio.readthedocs.io/en/latest/quickstart.html), the **mask** module imports rasters and shapefiles, merges and flattens multiple layers together, and extracts subsetted cutout data from merged masks and shapefiles.\n",
    "\n",
    "After we create a mask, we can incorporate the suitability mask object/file into the Cutout. The cutouts are subsets of data based on specific time and geographic ranges. For more information on the creation of cutout, refer to these tutorials: [Creating Cutouts with MERRA2 Data](https://github.com/east-winds/geodata/blob/master/doc/merra2/merra2_createcutout.md), [Downloading and Creating Cutouts with ERA5 Data](https://github.com/east-winds/geodata/blob/master/doc/era5/era5_download.md)"
   ]
  },
  {
   "cell_type": "markdown",
   "metadata": {},
   "source": [
    "## Setup\n",
    "\n",
    "To start, import the geodata package and required libraries."
   ]
  },
  {
   "cell_type": "code",
   "execution_count": 1,
   "metadata": {},
   "outputs": [],
   "source": [
    "import matplotlib.pyplot as plt\n",
    "\n",
    "import geodata"
   ]
  },
  {
   "cell_type": "markdown",
   "metadata": {},
   "source": [
    "### Download Data"
   ]
  },
  {
   "cell_type": "markdown",
   "metadata": {},
   "source": [
    "We will use a Cutout object created from a downloaded dataset. **If you have already created a cutout, load it here and skip to step 3.**\n",
    "\n",
    "\n",
    "We first download the dataset through `geodata.Dataset()`. In `get_data()`, if we specify `testing=True`, the program downloads only first file in download list (e.g., first day of month)"
   ]
  },
  {
   "cell_type": "code",
   "execution_count": 2,
   "metadata": {},
   "outputs": [
    {
     "name": "stderr",
     "output_type": "stream",
     "text": [
      "\u001b[32m2024-11-21 16:47:15,385 - geodata._dataset - INFO - Bounds was not specified, default to global bounds.\u001b[0m\n",
      "\u001b[32m2024-11-21 16:47:15,387 - geodata._dataset - INFO - Directory /Users/geodata/.local/geodata/merra2 found, checking for completeness.\u001b[0m\n",
      "\u001b[32m2024-11-21 16:47:15,387 - geodata._dataset - INFO - File `/Users/geodata/.local/geodata/merra2/2011/01/MERRA2_400.tavg1_2d_slv_rad_Nx.20110102.nc4` not found!\u001b[0m\n",
      "\u001b[32m2024-11-21 16:47:15,388 - geodata._dataset - INFO - File `/Users/geodata/.local/geodata/merra2/2011/01/MERRA2_400.tavg1_2d_slv_rad_Nx.20110103.nc4` not found!\u001b[0m\n",
      "\u001b[32m2024-11-21 16:47:15,388 - geodata._dataset - INFO - File `/Users/geodata/.local/geodata/merra2/2011/01/MERRA2_400.tavg1_2d_slv_rad_Nx.20110104.nc4` not found!\u001b[0m\n",
      "\u001b[32m2024-11-21 16:47:15,388 - geodata._dataset - INFO - File `/Users/geodata/.local/geodata/merra2/2011/01/MERRA2_400.tavg1_2d_slv_rad_Nx.20110105.nc4` not found!\u001b[0m\n",
      "\u001b[32m2024-11-21 16:47:15,388 - geodata._dataset - INFO - File `/Users/geodata/.local/geodata/merra2/2011/01/MERRA2_400.tavg1_2d_slv_rad_Nx.20110106.nc4` not found!\u001b[0m\n",
      "\u001b[32m2024-11-21 16:47:15,389 - geodata._dataset - INFO - File `/Users/geodata/.local/geodata/merra2/2011/01/MERRA2_400.tavg1_2d_slv_rad_Nx.20110107.nc4` not found!\u001b[0m\n",
      "\u001b[32m2024-11-21 16:47:15,389 - geodata._dataset - INFO - File `/Users/geodata/.local/geodata/merra2/2011/01/MERRA2_400.tavg1_2d_slv_rad_Nx.20110108.nc4` not found!\u001b[0m\n",
      "\u001b[32m2024-11-21 16:47:15,390 - geodata._dataset - INFO - File `/Users/geodata/.local/geodata/merra2/2011/01/MERRA2_400.tavg1_2d_slv_rad_Nx.20110109.nc4` not found!\u001b[0m\n",
      "\u001b[32m2024-11-21 16:47:15,390 - geodata._dataset - INFO - File `/Users/geodata/.local/geodata/merra2/2011/01/MERRA2_400.tavg1_2d_slv_rad_Nx.20110110.nc4` not found!\u001b[0m\n",
      "\u001b[32m2024-11-21 16:47:15,390 - geodata._dataset - INFO - File `/Users/geodata/.local/geodata/merra2/2011/01/MERRA2_400.tavg1_2d_slv_rad_Nx.20110111.nc4` not found!\u001b[0m\n",
      "\u001b[32m2024-11-21 16:47:15,391 - geodata._dataset - INFO - File `/Users/geodata/.local/geodata/merra2/2011/01/MERRA2_400.tavg1_2d_slv_rad_Nx.20110112.nc4` not found!\u001b[0m\n",
      "\u001b[32m2024-11-21 16:47:15,391 - geodata._dataset - INFO - File `/Users/geodata/.local/geodata/merra2/2011/01/MERRA2_400.tavg1_2d_slv_rad_Nx.20110113.nc4` not found!\u001b[0m\n",
      "\u001b[32m2024-11-21 16:47:15,392 - geodata._dataset - INFO - File `/Users/geodata/.local/geodata/merra2/2011/01/MERRA2_400.tavg1_2d_slv_rad_Nx.20110114.nc4` not found!\u001b[0m\n",
      "\u001b[32m2024-11-21 16:47:15,392 - geodata._dataset - INFO - File `/Users/geodata/.local/geodata/merra2/2011/01/MERRA2_400.tavg1_2d_slv_rad_Nx.20110115.nc4` not found!\u001b[0m\n",
      "\u001b[32m2024-11-21 16:47:15,392 - geodata._dataset - INFO - File `/Users/geodata/.local/geodata/merra2/2011/01/MERRA2_400.tavg1_2d_slv_rad_Nx.20110116.nc4` not found!\u001b[0m\n",
      "\u001b[32m2024-11-21 16:47:15,393 - geodata._dataset - INFO - File `/Users/geodata/.local/geodata/merra2/2011/01/MERRA2_400.tavg1_2d_slv_rad_Nx.20110117.nc4` not found!\u001b[0m\n",
      "\u001b[32m2024-11-21 16:47:15,393 - geodata._dataset - INFO - File `/Users/geodata/.local/geodata/merra2/2011/01/MERRA2_400.tavg1_2d_slv_rad_Nx.20110118.nc4` not found!\u001b[0m\n",
      "\u001b[32m2024-11-21 16:47:15,394 - geodata._dataset - INFO - File `/Users/geodata/.local/geodata/merra2/2011/01/MERRA2_400.tavg1_2d_slv_rad_Nx.20110119.nc4` not found!\u001b[0m\n",
      "\u001b[32m2024-11-21 16:47:15,394 - geodata._dataset - INFO - File `/Users/geodata/.local/geodata/merra2/2011/01/MERRA2_400.tavg1_2d_slv_rad_Nx.20110120.nc4` not found!\u001b[0m\n",
      "\u001b[32m2024-11-21 16:47:15,394 - geodata._dataset - INFO - File `/Users/geodata/.local/geodata/merra2/2011/01/MERRA2_400.tavg1_2d_slv_rad_Nx.20110121.nc4` not found!\u001b[0m\n",
      "\u001b[32m2024-11-21 16:47:15,394 - geodata._dataset - INFO - File `/Users/geodata/.local/geodata/merra2/2011/01/MERRA2_400.tavg1_2d_slv_rad_Nx.20110122.nc4` not found!\u001b[0m\n",
      "\u001b[32m2024-11-21 16:47:15,395 - geodata._dataset - INFO - File `/Users/geodata/.local/geodata/merra2/2011/01/MERRA2_400.tavg1_2d_slv_rad_Nx.20110123.nc4` not found!\u001b[0m\n",
      "\u001b[32m2024-11-21 16:47:15,395 - geodata._dataset - INFO - File `/Users/geodata/.local/geodata/merra2/2011/01/MERRA2_400.tavg1_2d_slv_rad_Nx.20110124.nc4` not found!\u001b[0m\n",
      "\u001b[32m2024-11-21 16:47:15,395 - geodata._dataset - INFO - File `/Users/geodata/.local/geodata/merra2/2011/01/MERRA2_400.tavg1_2d_slv_rad_Nx.20110125.nc4` not found!\u001b[0m\n",
      "\u001b[32m2024-11-21 16:47:15,396 - geodata._dataset - INFO - File `/Users/geodata/.local/geodata/merra2/2011/01/MERRA2_400.tavg1_2d_slv_rad_Nx.20110126.nc4` not found!\u001b[0m\n",
      "\u001b[32m2024-11-21 16:47:15,396 - geodata._dataset - INFO - File `/Users/geodata/.local/geodata/merra2/2011/01/MERRA2_400.tavg1_2d_slv_rad_Nx.20110127.nc4` not found!\u001b[0m\n",
      "\u001b[32m2024-11-21 16:47:15,397 - geodata._dataset - INFO - File `/Users/geodata/.local/geodata/merra2/2011/01/MERRA2_400.tavg1_2d_slv_rad_Nx.20110128.nc4` not found!\u001b[0m\n",
      "\u001b[32m2024-11-21 16:47:15,397 - geodata._dataset - INFO - File `/Users/geodata/.local/geodata/merra2/2011/01/MERRA2_400.tavg1_2d_slv_rad_Nx.20110129.nc4` not found!\u001b[0m\n",
      "\u001b[32m2024-11-21 16:47:15,397 - geodata._dataset - INFO - File `/Users/geodata/.local/geodata/merra2/2011/01/MERRA2_400.tavg1_2d_slv_rad_Nx.20110130.nc4` not found!\u001b[0m\n",
      "\u001b[32m2024-11-21 16:47:15,398 - geodata._dataset - INFO - File `/Users/geodata/.local/geodata/merra2/2011/01/MERRA2_400.tavg1_2d_slv_rad_Nx.20110131.nc4` not found!\u001b[0m\n",
      "\u001b[33;1m2024-11-21 16:47:15,398 - geodata._dataset - WARNING - Arguments `xs` and `ys` not used in preparing dataset. Defaulting to global.\u001b[0m\n",
      "\u001b[32m2024-11-21 16:47:15,398 - geodata._dataset - INFO - 30 files not completed.\u001b[0m\n"
     ]
    }
   ],
   "source": [
    "dataset_test = geodata.Dataset(\n",
    "    module=\"merra2\",\n",
    "    years=slice(2011, 2011),\n",
    "    months=slice(1, 1),\n",
    "    weather_data_config=\"slv_radiation_hourly\",\n",
    ")"
   ]
  },
  {
   "cell_type": "code",
   "execution_count": 3,
   "metadata": {},
   "outputs": [
    {
     "name": "stderr",
     "output_type": "stream",
     "text": [
      "\u001b[32m2024-11-21 16:47:15,402 - geodata._dataset - INFO - First file for testing has already been downloaded.\u001b[0m\n"
     ]
    }
   ],
   "source": [
    "if not dataset_test.prepared:\n",
    "    dataset_test.get_data(testing=True)"
   ]
  },
  {
   "cell_type": "markdown",
   "metadata": {},
   "source": [
    "Extract the cutout from the trimmed dataset."
   ]
  },
  {
   "cell_type": "code",
   "execution_count": 4,
   "metadata": {
    "scrolled": true
   },
   "outputs": [
    {
     "name": "stderr",
     "output_type": "stream",
     "text": [
      "\u001b[32m2024-11-21 16:47:15,434 - geodata._cutout - INFO - All cutout (china-2011-slv-hourly-test, /Users/geodata/.local/geodata/cutouts) files available.\u001b[0m\n",
      "\u001b[32m2024-11-21 16:47:15,437 - geodata._cutout - INFO - Cutout subset prepared: <Cutout china-2011-slv-hourly-test x=73.12-135.62 y=18.00-54.00 time=2011/1-2011/1 prepared>\u001b[0m\n",
      "\u001b[32m2024-11-21 16:47:15,438 - geodata._preparation - INFO - The cutout is already prepared. If you want to recalculate it, supply an `overwrite=True` argument.\u001b[0m\n"
     ]
    },
    {
     "data": {
      "text/plain": [
       "True"
      ]
     },
     "execution_count": 4,
     "metadata": {},
     "output_type": "execute_result"
    }
   ],
   "source": [
    "cutout = geodata.Cutout(\n",
    "    name=\"china-2011-slv-hourly-test\",\n",
    "    module=\"merra2\",\n",
    "    weather_data_config=\"slv_radiation_hourly\",\n",
    "    xs=slice(73, 136),\n",
    "    ys=slice(18, 54),\n",
    "    years=slice(2011, 2011),\n",
    "    months=slice(1, 1),\n",
    ")\n",
    "cutout.prepare()"
   ]
  },
  {
   "cell_type": "markdown",
   "metadata": {},
   "source": [
    "## Load Mask"
   ]
  },
  {
   "cell_type": "markdown",
   "metadata": {},
   "source": [
    "In this tutorial, we use the `china` mask, created in this documentation: [mask_creation_workflow](mask_creation_workflow.ipynb)"
   ]
  },
  {
   "cell_type": "code",
   "execution_count": 5,
   "metadata": {},
   "outputs": [
    {
     "name": "stderr",
     "output_type": "stream",
     "text": [
      "\u001b[32m2024-11-21 16:47:16,074 - geodata.mask - INFO - Layer ['modis_filtered', 'protected', 'slope_filtered', 'elevation_filtered'] loaded to the mask china.\u001b[0m\n",
      "\u001b[32m2024-11-21 16:47:16,075 - geodata.mask - INFO - Merged_mask loaded to the mask china.\u001b[0m\n"
     ]
    },
    {
     "name": "stderr",
     "output_type": "stream",
     "text": [
      "\u001b[32m2024-11-21 16:47:16,078 - geodata.mask - INFO - Shape mask ['Zhejiang', 'Shanghai', 'Jiangsu'] loaded to the mask china.\u001b[0m\n"
     ]
    },
    {
     "data": {
      "text/plain": [
       "Mask china: \n",
       "4 layers: ['modis_filtered', 'protected', 'slope_filtered', 'elevation_filtered'].\n",
       "Merged_mask merged/flattened. \n",
       "3 shape_mask: ['Zhejiang', 'Shanghai', 'Jiangsu']. \n",
       "Mask has been saved. "
      ]
     },
     "execution_count": 5,
     "metadata": {},
     "output_type": "execute_result"
    }
   ],
   "source": [
    "# View the contents of the china mask\n",
    "geodata.mask.load_mask(\"china\")"
   ]
  },
  {
   "cell_type": "markdown",
   "metadata": {},
   "source": [
    "## Adding Mask Variables to a Cutout"
   ]
  },
  {
   "cell_type": "markdown",
   "metadata": {},
   "source": [
    "### Adding Masking Variables"
   ]
  },
  {
   "cell_type": "markdown",
   "metadata": {},
   "source": [
    "The `add_mask` method will add attribute `merged_mask` and `shape_mask` from the Mask object to the Cutout object. Once the mask is added to the Cutout object, the `merged_mask` or `shape_mask` from the Mask object will be stored in the format of xarray.DataArray in the Cutout object, and their dimensions will be coarsened to the same dimension with the Cutout metadata.\n",
    "\n",
    "The `add_mask` method will look for both `merged_mask` and `shape_mask` attribute saved for the loaded mask, unless the user set the parameter `merged_mask=False`, or `shape_mask=False`.\n"
   ]
  },
  {
   "cell_type": "code",
   "execution_count": 6,
   "metadata": {
    "scrolled": false
   },
   "outputs": [
    {
     "name": "stderr",
     "output_type": "stream",
     "text": [
      "\u001b[32m2024-11-21 16:47:17,368 - geodata.mask - INFO - Layer ['modis_filtered', 'protected', 'slope_filtered', 'elevation_filtered'] loaded to the mask china.\u001b[0m\n",
      "\u001b[32m2024-11-21 16:47:17,370 - geodata.mask - INFO - Merged_mask loaded to the mask china.\u001b[0m\n",
      "\u001b[32m2024-11-21 16:47:17,372 - geodata.mask - INFO - Shape mask ['Zhejiang', 'Shanghai', 'Jiangsu'] loaded to the mask china.\u001b[0m\n",
      "\u001b[32m2024-11-21 16:47:17,373 - geodata.mask - INFO - Please remember to close the merged_mask xarray for further changes of the mask object.\u001b[0m\n",
      "\u001b[32m2024-11-21 16:47:17,856 - geodata._cutout - INFO - Cutout.merged_mask added.\u001b[0m\n",
      "\u001b[32m2024-11-21 16:47:17,867 - geodata.mask - INFO - Please close the shape_mask xarray(s) for further changes of the mask object.\u001b[0m\n",
      "\u001b[32m2024-11-21 16:47:19,295 - geodata._cutout - INFO - Cutout.shape_mask added.\u001b[0m\n"
     ]
    }
   ],
   "source": [
    "cutout.add_mask(\"china\")"
   ]
  },
  {
   "cell_type": "markdown",
   "metadata": {},
   "source": [
    "Plot the merged mask, coarsened to cutout resolution"
   ]
  },
  {
   "cell_type": "code",
   "execution_count": 7,
   "metadata": {},
   "outputs": [
    {
     "data": {
      "text/plain": [
       "<matplotlib.collections.QuadMesh at 0x168eba840>"
      ]
     },
     "execution_count": 7,
     "metadata": {},
     "output_type": "execute_result"
    },
    {
     "data": {
      "image/png": "[encoded data removed]",
      "text/plain": [
       "<Figure size 640x480 with 2 Axes>"
      ]
     },
     "metadata": {},
     "output_type": "display_data"
    }
   ],
   "source": [
    "cutout.merged_mask.plot()"
   ]
  },
  {
   "cell_type": "markdown",
   "metadata": {},
   "source": [
    "### Adding Area Variable\n"
   ]
  },
  {
   "cell_type": "markdown",
   "metadata": {},
   "source": [
    "To calculate and add the variation of grid cell areas by latitude to the cutout, use the `add_grid_area` method. Keeping track of the area for each grid cell is necessary for analyses such as calculating the weighted sum of the grid cells based on their area."
   ]
  },
  {
   "cell_type": "code",
   "execution_count": 8,
   "metadata": {},
   "outputs": [],
   "source": [
    "cutout.add_grid_area()"
   ]
  },
  {
   "cell_type": "markdown",
   "metadata": {},
   "source": [
    "### Creating PV Data Through Cutout Conversion"
   ]
  },
  {
   "cell_type": "markdown",
   "metadata": {},
   "source": [
    "The code block below will use the `geodata.convert.pv` method to generate `ds_cutout`, an xarray Dataset that contains the pv variable for the cutout.\n",
    "\n",
    "We transform the xarray DataArray into a xarray DataSet (which can contain multiple DataArray). "
   ]
  },
  {
   "cell_type": "code",
   "execution_count": 9,
   "metadata": {},
   "outputs": [
    {
     "data": {
      "text/plain": [
       "24"
      ]
     },
     "execution_count": 9,
     "metadata": {},
     "output_type": "execute_result"
    }
   ],
   "source": [
    "ds_cutout = cutout.pv(panel=\"KANEKA\", orientation=\"latitude_optimal\").to_dataset(\n",
    "    name=\"solar\"\n",
    ")\n",
    "len(ds_cutout.time)"
   ]
  },
  {
   "cell_type": "markdown",
   "metadata": {},
   "source": [
    "We also need to remove the time dimension by calculating daily means via `ds_cutout.coarsen(time=24, boundary=\"exact\").mean()`, which aggregates the values over its 24 timestamps."
   ]
  },
  {
   "cell_type": "code",
   "execution_count": 10,
   "metadata": {},
   "outputs": [],
   "source": [
    "ds_cutout_mean = ds_cutout.coarsen(time=24, boundary=\"exact\").mean()"
   ]
  },
  {
   "cell_type": "markdown",
   "metadata": {},
   "source": [
    "### Combining PV Data with Mask"
   ]
  },
  {
   "cell_type": "markdown",
   "metadata": {},
   "source": [
    "The `mask` method for the Cutout will mask converted xarray.Dataset variable, such as `ds_cutout` and `ds_cutout_mean` created above, by combining it with merged_mask or shape_mask in the Cutout object. It will return a dictionary of xarray Dataset. Each key in the dictionary is one unique mask from either the merged_mask or shape_mask variable from the Cutout object, and each value is an xarray dataset containing the dataSet variable (`ds_cutout` or `ds_cutout_mean`) with the mask and area values.\n",
    "\n",
    "The program will automatically search for `merged_mask` and `shape_mask` to combine with the xarray.Dataset, unless the user specify `merged_mask=False` or `shape_mask=False`. The masks in `shape_mask` will have the same key as it has in the `shape_mask` attribute, and the mask for `merged_mask` will have the same key name `merged_mask`, as `merged_mask` is unique to each mask."
   ]
  },
  {
   "cell_type": "markdown",
   "metadata": {},
   "source": [
    "#### Daily averaged PV values"
   ]
  },
  {
   "cell_type": "code",
   "execution_count": 11,
   "metadata": {
    "scrolled": false
   },
   "outputs": [
    {
     "name": "stderr",
     "output_type": "stream",
     "text": [
      "\u001b[32m2024-11-21 16:47:40,060 - geodata._cutout - INFO - merged_mask combined with dataset. \u001b[0m\n",
      "\u001b[32m2024-11-21 16:47:40,064 - geodata._cutout - INFO - shape_mask combined with dataset. \u001b[0m\n"
     ]
    },
    {
     "data": {
      "text/plain": [
       "dict_keys(['merged_mask', 'Zhejiang', 'Shanghai', 'Jiangsu'])"
      ]
     },
     "execution_count": 11,
     "metadata": {},
     "output_type": "execute_result"
    }
   ],
   "source": [
    "ds_mask_mean = cutout.mask(dataset=ds_cutout_mean)\n",
    "ds_mask_mean.keys()"
   ]
  },
  {
   "cell_type": "markdown",
   "metadata": {},
   "source": [
    "From the output variable `ds_mask_mean`, check out the combined xarray.Dataset for the Jiangsu province, and plot each of its xarray.DataArray."
   ]
  },
  {
   "cell_type": "code",
   "execution_count": 12,
   "metadata": {},
   "outputs": [
    {
     "data": {
      "text/html": [
       "<div><svg style=\"position: absolute; width: 0; height: 0; overflow: hidden\">\n",
       "<defs>\n",
       "<symbol id=\"icon-database\" viewBox=\"0 0 32 32\">\n",
       "<path d=\"M16 0c-8.837 0-16 2.239-16 5v4c0 2.761 7.163 5 16 5s16-2.239 16-5v-4c0-2.761-7.163-5-16-5z\"></path>\n",
       "<path d=\"M16 17c-8.837 0-16-2.239-16-5v6c0 2.761 7.163 5 16 5s16-2.239 16-5v-6c0 2.761-7.163 5-16 5z\"></path>\n",
       "<path d=\"M16 26c-8.837 0-16-2.239-16-5v6c0 2.761 7.163 5 16 5s16-2.239 16-5v-6c0 2.761-7.163 5-16 5z\"></path>\n",
       "</symbol>\n",
       "<symbol id=\"icon-file-text2\" viewBox=\"0 0 32 32\">\n",
       "<path d=\"M28.681 7.159c-0.694-0.947-1.662-2.053-2.724-3.116s-2.169-2.030-3.116-2.724c-1.612-1.182-2.393-1.319-2.841-1.319h-15.5c-1.378 0-2.5 1.121-2.5 2.5v27c0 1.378 1.122 2.5 2.5 2.5h23c1.378 0 2.5-1.122 2.5-2.5v-19.5c0-0.448-0.137-1.23-1.319-2.841zM24.543 5.457c0.959 0.959 1.712 1.825 2.268 2.543h-4.811v-4.811c0.718 0.556 1.584 1.309 2.543 2.268zM28 29.5c0 0.271-0.229 0.5-0.5 0.5h-23c-0.271 0-0.5-0.229-0.5-0.5v-27c0-0.271 0.229-0.5 0.5-0.5 0 0 15.499-0 15.5 0v7c0 0.552 0.448 1 1 1h7v19.5z\"></path>\n",
       "<path d=\"M23 26h-14c-0.552 0-1-0.448-1-1s0.448-1 1-1h14c0.552 0 1 0.448 1 1s-0.448 1-1 1z\"></path>\n",
       "<path d=\"M23 22h-14c-0.552 0-1-0.448-1-1s0.448-1 1-1h14c0.552 0 1 0.448 1 1s-0.448 1-1 1z\"></path>\n",
       "<path d=\"M23 18h-14c-0.552 0-1-0.448-1-1s0.448-1 1-1h14c0.552 0 1 0.448 1 1s-0.448 1-1 1z\"></path>\n",
       "</symbol>\n",
       "</defs>\n",
       "</svg>\n",
       "<style>/* CSS stylesheet for displaying xarray objects in jupyterlab.\n",
       " *\n",
       " */\n",
       "\n",
       ":root {\n",
       "  --xr-font-color0: var(--jp-content-font-color0, rgba(0, 0, 0, 1));\n",
       "  --xr-font-color2: var(--jp-content-font-color2, rgba(0, 0, 0, 0.54));\n",
       "  --xr-font-color3: var(--jp-content-font-color3, rgba(0, 0, 0, 0.38));\n",
       "  --xr-border-color: var(--jp-border-color2, #e0e0e0);\n",
       "  --xr-disabled-color: var(--jp-layout-color3, #bdbdbd);\n",
       "  --xr-background-color: var(--jp-layout-color0, white);\n",
       "  --xr-background-color-row-even: var(--jp-layout-color1, white);\n",
       "  --xr-background-color-row-odd: var(--jp-layout-color2, #eeeeee);\n",
       "}\n",
       "\n",
       "html[theme=dark],\n",
       "html[data-theme=dark],\n",
       "body[data-theme=dark],\n",
       "body.vscode-dark {\n",
       "  --xr-font-color0: rgba(255, 255, 255, 1);\n",
       "  --xr-font-color2: rgba(255, 255, 255, 0.54);\n",
       "  --xr-font-color3: rgba(255, 255, 255, 0.38);\n",
       "  --xr-border-color: #1F1F1F;\n",
       "  --xr-disabled-color: #515151;\n",
       "  --xr-background-color: #111111;\n",
       "  --xr-background-color-row-even: #111111;\n",
       "  --xr-background-color-row-odd: #313131;\n",
       "}\n",
       "\n",
       ".xr-wrap {\n",
       "  display: block !important;\n",
       "  min-width: 300px;\n",
       "  max-width: 700px;\n",
       "}\n",
       "\n",
       ".xr-text-repr-fallback {\n",
       "  /* fallback to plain text repr when CSS is not injected (untrusted notebook) */\n",
       "  display: none;\n",
       "}\n",
       "\n",
       ".xr-header {\n",
       "  padding-top: 6px;\n",
       "  padding-bottom: 6px;\n",
       "  margin-bottom: 4px;\n",
       "  border-bottom: solid 1px var(--xr-border-color);\n",
       "}\n",
       "\n",
       ".xr-header > div,\n",
       ".xr-header > ul {\n",
       "  display: inline;\n",
       "  margin-top: 0;\n",
       "  margin-bottom: 0;\n",
       "}\n",
       "\n",
       ".xr-obj-type,\n",
       ".xr-array-name {\n",
       "  margin-left: 2px;\n",
       "  margin-right: 10px;\n",
       "}\n",
       "\n",
       ".xr-obj-type {\n",
       "  color: var(--xr-font-color2);\n",
       "}\n",
       "\n",
       ".xr-sections {\n",
       "  padding-left: 0 !important;\n",
       "  display: grid;\n",
       "  grid-template-columns: 150px auto auto 1fr 0 20px 0 20px;\n",
       "}\n",
       "\n",
       ".xr-section-item {\n",
       "  display: contents;\n",
       "}\n",
       "\n",
       ".xr-section-item input {\n",
       "  display: inline-block;\n",
       "  opacity: 0;\n",
       "}\n",
       "\n",
       ".xr-section-item input + label {\n",
       "  color: var(--xr-disabled-color);\n",
       "}\n",
       "\n",
       ".xr-section-item input:enabled + label {\n",
       "  cursor: pointer;\n",
       "  color: var(--xr-font-color2);\n",
       "}\n",
       "\n",
       ".xr-section-item input:focus + label {\n",
       "  border: 2px solid var(--xr-font-color0);\n",
       "}\n",
       "\n",
       ".xr-section-item input:enabled + label:hover {\n",
       "  color: var(--xr-font-color0);\n",
       "}\n",
       "\n",
       ".xr-section-summary {\n",
       "  grid-column: 1;\n",
       "  color: var(--xr-font-color2);\n",
       "  font-weight: 500;\n",
       "}\n",
       "\n",
       ".xr-section-summary > span {\n",
       "  display: inline-block;\n",
       "  padding-left: 0.5em;\n",
       "}\n",
       "\n",
       ".xr-section-summary-in:disabled + label {\n",
       "  color: var(--xr-font-color2);\n",
       "}\n",
       "\n",
       ".xr-section-summary-in + label:before {\n",
       "  display: inline-block;\n",
       "  content: '►';\n",
       "  font-size: 11px;\n",
       "  width: 15px;\n",
       "  text-align: center;\n",
       "}\n",
       "\n",
       ".xr-section-summary-in:disabled + label:before {\n",
       "  color: var(--xr-disabled-color);\n",
       "}\n",
       "\n",
       ".xr-section-summary-in:checked + label:before {\n",
       "  content: '▼';\n",
       "}\n",
       "\n",
       ".xr-section-summary-in:checked + label > span {\n",
       "  display: none;\n",
       "}\n",
       "\n",
       ".xr-section-summary,\n",
       ".xr-section-inline-details {\n",
       "  padding-top: 4px;\n",
       "  padding-bottom: 4px;\n",
       "}\n",
       "\n",
       ".xr-section-inline-details {\n",
       "  grid-column: 2 / -1;\n",
       "}\n",
       "\n",
       ".xr-section-details {\n",
       "  display: none;\n",
       "  grid-column: 1 / -1;\n",
       "  margin-bottom: 5px;\n",
       "}\n",
       "\n",
       ".xr-section-summary-in:checked ~ .xr-section-details {\n",
       "  display: contents;\n",
       "}\n",
       "\n",
       ".xr-array-wrap {\n",
       "  grid-column: 1 / -1;\n",
       "  display: grid;\n",
       "  grid-template-columns: 20px auto;\n",
       "}\n",
       "\n",
       ".xr-array-wrap > label {\n",
       "  grid-column: 1;\n",
       "  vertical-align: top;\n",
       "}\n",
       "\n",
       ".xr-preview {\n",
       "  color: var(--xr-font-color3);\n",
       "}\n",
       "\n",
       ".xr-array-preview,\n",
       ".xr-array-data {\n",
       "  padding: 0 5px !important;\n",
       "  grid-column: 2;\n",
       "}\n",
       "\n",
       ".xr-array-data,\n",
       ".xr-array-in:checked ~ .xr-array-preview {\n",
       "  display: none;\n",
       "}\n",
       "\n",
       ".xr-array-in:checked ~ .xr-array-data,\n",
       ".xr-array-preview {\n",
       "  display: inline-block;\n",
       "}\n",
       "\n",
       ".xr-dim-list {\n",
       "  display: inline-block !important;\n",
       "  list-style: none;\n",
       "  padding: 0 !important;\n",
       "  margin: 0;\n",
       "}\n",
       "\n",
       ".xr-dim-list li {\n",
       "  display: inline-block;\n",
       "  padding: 0;\n",
       "  margin: 0;\n",
       "}\n",
       "\n",
       ".xr-dim-list:before {\n",
       "  content: '(';\n",
       "}\n",
       "\n",
       ".xr-dim-list:after {\n",
       "  content: ')';\n",
       "}\n",
       "\n",
       ".xr-dim-list li:not(:last-child):after {\n",
       "  content: ',';\n",
       "  padding-right: 5px;\n",
       "}\n",
       "\n",
       ".xr-has-index {\n",
       "  font-weight: bold;\n",
       "}\n",
       "\n",
       ".xr-var-list,\n",
       ".xr-var-item {\n",
       "  display: contents;\n",
       "}\n",
       "\n",
       ".xr-var-item > div,\n",
       ".xr-var-item label,\n",
       ".xr-var-item > .xr-var-name span {\n",
       "  background-color: var(--xr-background-color-row-even);\n",
       "  margin-bottom: 0;\n",
       "}\n",
       "\n",
       ".xr-var-item > .xr-var-name:hover span {\n",
       "  padding-right: 5px;\n",
       "}\n",
       "\n",
       ".xr-var-list > li:nth-child(odd) > div,\n",
       ".xr-var-list > li:nth-child(odd) > label,\n",
       ".xr-var-list > li:nth-child(odd) > .xr-var-name span {\n",
       "  background-color: var(--xr-background-color-row-odd);\n",
       "}\n",
       "\n",
       ".xr-var-name {\n",
       "  grid-column: 1;\n",
       "}\n",
       "\n",
       ".xr-var-dims {\n",
       "  grid-column: 2;\n",
       "}\n",
       "\n",
       ".xr-var-dtype {\n",
       "  grid-column: 3;\n",
       "  text-align: right;\n",
       "  color: var(--xr-font-color2);\n",
       "}\n",
       "\n",
       ".xr-var-preview {\n",
       "  grid-column: 4;\n",
       "}\n",
       "\n",
       ".xr-index-preview {\n",
       "  grid-column: 2 / 5;\n",
       "  color: var(--xr-font-color2);\n",
       "}\n",
       "\n",
       ".xr-var-name,\n",
       ".xr-var-dims,\n",
       ".xr-var-dtype,\n",
       ".xr-preview,\n",
       ".xr-attrs dt {\n",
       "  white-space: nowrap;\n",
       "  overflow: hidden;\n",
       "  text-overflow: ellipsis;\n",
       "  padding-right: 10px;\n",
       "}\n",
       "\n",
       ".xr-var-name:hover,\n",
       ".xr-var-dims:hover,\n",
       ".xr-var-dtype:hover,\n",
       ".xr-attrs dt:hover {\n",
       "  overflow: visible;\n",
       "  width: auto;\n",
       "  z-index: 1;\n",
       "}\n",
       "\n",
       ".xr-var-attrs,\n",
       ".xr-var-data,\n",
       ".xr-index-data {\n",
       "  display: none;\n",
       "  background-color: var(--xr-background-color) !important;\n",
       "  padding-bottom: 5px !important;\n",
       "}\n",
       "\n",
       ".xr-var-attrs-in:checked ~ .xr-var-attrs,\n",
       ".xr-var-data-in:checked ~ .xr-var-data,\n",
       ".xr-index-data-in:checked ~ .xr-index-data {\n",
       "  display: block;\n",
       "}\n",
       "\n",
       ".xr-var-data > table {\n",
       "  float: right;\n",
       "}\n",
       "\n",
       ".xr-var-name span,\n",
       ".xr-var-data,\n",
       ".xr-index-name div,\n",
       ".xr-index-data,\n",
       ".xr-attrs {\n",
       "  padding-left: 25px !important;\n",
       "}\n",
       "\n",
       ".xr-attrs,\n",
       ".xr-var-attrs,\n",
       ".xr-var-data,\n",
       ".xr-index-data {\n",
       "  grid-column: 1 / -1;\n",
       "}\n",
       "\n",
       "dl.xr-attrs {\n",
       "  padding: 0;\n",
       "  margin: 0;\n",
       "  display: grid;\n",
       "  grid-template-columns: 125px auto;\n",
       "}\n",
       "\n",
       ".xr-attrs dt,\n",
       ".xr-attrs dd {\n",
       "  padding: 0;\n",
       "  margin: 0;\n",
       "  float: left;\n",
       "  padding-right: 10px;\n",
       "  width: auto;\n",
       "}\n",
       "\n",
       ".xr-attrs dt {\n",
       "  font-weight: normal;\n",
       "  grid-column: 1;\n",
       "}\n",
       "\n",
       ".xr-attrs dt:hover span {\n",
       "  display: inline-block;\n",
       "  background: var(--xr-background-color);\n",
       "  padding-right: 10px;\n",
       "}\n",
       "\n",
       ".xr-attrs dd {\n",
       "  grid-column: 2;\n",
       "  white-space: pre-wrap;\n",
       "  word-break: break-all;\n",
       "}\n",
       "\n",
       ".xr-icon-database,\n",
       ".xr-icon-file-text2,\n",
       ".xr-no-icon {\n",
       "  display: inline-block;\n",
       "  vertical-align: middle;\n",
       "  width: 1em;\n",
       "  height: 1.5em !important;\n",
       "  stroke-width: 0;\n",
       "  stroke: currentColor;\n",
       "  fill: currentColor;\n",
       "}\n",
       "</style><pre class='xr-text-repr-fallback'>&lt;xarray.Dataset&gt; Size: 149kB\n",
       "Dimensions:  (time: 1, lat: 73, lon: 101)\n",
       "Coordinates:\n",
       "  * lat      (lat) float64 584B 18.0 18.5 19.0 19.5 20.0 ... 52.5 53.0 53.5 54.0\n",
       "  * time     (time) datetime64[ns] 8B 2011-01-01T12:00:00\n",
       "  * lon      (lon) float64 808B 73.12 73.75 74.38 75.0 ... 134.4 135.0 135.6\n",
       "Data variables:\n",
       "    solar    (time, lat, lon) float64 59kB 0.1928 0.1917 ... 0.06296 0.04254\n",
       "    mask     (lat, lon) float32 29kB 0.0 0.0 0.0 0.0 0.0 ... 0.0 0.0 0.0 0.0 0.0\n",
       "    area     (lat, lon) float64 59kB 3.663e+03 3.663e+03 ... 2.281e+03 2.281e+03</pre><div class='xr-wrap' style='display:none'><div class='xr-header'><div class='xr-obj-type'>xarray.Dataset</div></div><ul class='xr-sections'><li class='xr-section-item'><input id='section-8913a633-67c8-40b4-9166-52ad76b11bd7' class='xr-section-summary-in' type='checkbox' disabled ><label for='section-8913a633-67c8-40b4-9166-52ad76b11bd7' class='xr-section-summary'  title='Expand/collapse section'>Dimensions:</label><div class='xr-section-inline-details'><ul class='xr-dim-list'><li><span class='xr-has-index'>time</span>: 1</li><li><span class='xr-has-index'>lat</span>: 73</li><li><span class='xr-has-index'>lon</span>: 101</li></ul></div><div class='xr-section-details'></div></li><li class='xr-section-item'><input id='section-e0a87033-f318-4df8-86c5-a9ed3758f935' class='xr-section-summary-in' type='checkbox'  checked><label for='section-e0a87033-f318-4df8-86c5-a9ed3758f935' class='xr-section-summary' >Coordinates: <span>(3)</span></label><div class='xr-section-inline-details'></div><div class='xr-section-details'><ul class='xr-var-list'><li class='xr-var-item'><div class='xr-var-name'><span class='xr-has-index'>lat</span></div><div class='xr-var-dims'>(lat)</div><div class='xr-var-dtype'>float64</div><div class='xr-var-preview xr-preview'>18.0 18.5 19.0 ... 53.0 53.5 54.0</div><input id='attrs-1d3e6a83-cd57-4253-b7a0-a2f3d86f7597' class='xr-var-attrs-in' type='checkbox' ><label for='attrs-1d3e6a83-cd57-4253-b7a0-a2f3d86f7597' title='Show/Hide attributes'><svg class='icon xr-icon-file-text2'><use xlink:href='#icon-file-text2'></use></svg></label><input id='data-d7f9e154-ca95-411c-9961-1d83e4b26c81' class='xr-var-data-in' type='checkbox'><label for='data-d7f9e154-ca95-411c-9961-1d83e4b26c81' title='Show/Hide data repr'><svg class='icon xr-icon-database'><use xlink:href='#icon-database'></use></svg></label><div class='xr-var-attrs'><dl class='xr-attrs'><dt><span>long_name :</span></dt><dd>latitude</dd><dt><span>units :</span></dt><dd>degrees_north</dd><dt><span>vmax :</span></dt><dd>1000000000000000.0</dd><dt><span>vmin :</span></dt><dd>-1000000000000000.0</dd><dt><span>valid_range :</span></dt><dd>[-1.e+15  1.e+15]</dd></dl></div><div class='xr-var-data'><pre>array([18. , 18.5, 19. , 19.5, 20. , 20.5, 21. , 21.5, 22. , 22.5, 23. , 23.5,\n",
       "       24. , 24.5, 25. , 25.5, 26. , 26.5, 27. , 27.5, 28. , 28.5, 29. , 29.5,\n",
       "       30. , 30.5, 31. , 31.5, 32. , 32.5, 33. , 33.5, 34. , 34.5, 35. , 35.5,\n",
       "       36. , 36.5, 37. , 37.5, 38. , 38.5, 39. , 39.5, 40. , 40.5, 41. , 41.5,\n",
       "       42. , 42.5, 43. , 43.5, 44. , 44.5, 45. , 45.5, 46. , 46.5, 47. , 47.5,\n",
       "       48. , 48.5, 49. , 49.5, 50. , 50.5, 51. , 51.5, 52. , 52.5, 53. , 53.5,\n",
       "       54. ])</pre></div></li><li class='xr-var-item'><div class='xr-var-name'><span class='xr-has-index'>time</span></div><div class='xr-var-dims'>(time)</div><div class='xr-var-dtype'>datetime64[ns]</div><div class='xr-var-preview xr-preview'>2011-01-01T12:00:00</div><input id='attrs-c3667e2a-eea8-40b1-b411-f76440688cfe' class='xr-var-attrs-in' type='checkbox' disabled><label for='attrs-c3667e2a-eea8-40b1-b411-f76440688cfe' title='Show/Hide attributes'><svg class='icon xr-icon-file-text2'><use xlink:href='#icon-file-text2'></use></svg></label><input id='data-48b47dac-31dd-4c4c-b547-acfc4216594c' class='xr-var-data-in' type='checkbox'><label for='data-48b47dac-31dd-4c4c-b547-acfc4216594c' title='Show/Hide data repr'><svg class='icon xr-icon-database'><use xlink:href='#icon-database'></use></svg></label><div class='xr-var-attrs'><dl class='xr-attrs'></dl></div><div class='xr-var-data'><pre>array([&#x27;2011-01-01T12:00:00.000000000&#x27;], dtype=&#x27;datetime64[ns]&#x27;)</pre></div></li><li class='xr-var-item'><div class='xr-var-name'><span class='xr-has-index'>lon</span></div><div class='xr-var-dims'>(lon)</div><div class='xr-var-dtype'>float64</div><div class='xr-var-preview xr-preview'>73.12 73.75 74.38 ... 135.0 135.6</div><input id='attrs-96534664-bcc2-482c-aa7b-bb5434626e41' class='xr-var-attrs-in' type='checkbox' ><label for='attrs-96534664-bcc2-482c-aa7b-bb5434626e41' title='Show/Hide attributes'><svg class='icon xr-icon-file-text2'><use xlink:href='#icon-file-text2'></use></svg></label><input id='data-a066e7a0-eac8-444f-95bc-bf8e3c0463dd' class='xr-var-data-in' type='checkbox'><label for='data-a066e7a0-eac8-444f-95bc-bf8e3c0463dd' title='Show/Hide data repr'><svg class='icon xr-icon-database'><use xlink:href='#icon-database'></use></svg></label><div class='xr-var-attrs'><dl class='xr-attrs'><dt><span>long_name :</span></dt><dd>longitude</dd><dt><span>units :</span></dt><dd>degrees_east</dd><dt><span>vmax :</span></dt><dd>1000000000000000.0</dd><dt><span>vmin :</span></dt><dd>-1000000000000000.0</dd><dt><span>valid_range :</span></dt><dd>[-1.e+15  1.e+15]</dd></dl></div><div class='xr-var-data'><pre>array([ 73.125,  73.75 ,  74.375,  75.   ,  75.625,  76.25 ,  76.875,  77.5  ,\n",
       "        78.125,  78.75 ,  79.375,  80.   ,  80.625,  81.25 ,  81.875,  82.5  ,\n",
       "        83.125,  83.75 ,  84.375,  85.   ,  85.625,  86.25 ,  86.875,  87.5  ,\n",
       "        88.125,  88.75 ,  89.375,  90.   ,  90.625,  91.25 ,  91.875,  92.5  ,\n",
       "        93.125,  93.75 ,  94.375,  95.   ,  95.625,  96.25 ,  96.875,  97.5  ,\n",
       "        98.125,  98.75 ,  99.375, 100.   , 100.625, 101.25 , 101.875, 102.5  ,\n",
       "       103.125, 103.75 , 104.375, 105.   , 105.625, 106.25 , 106.875, 107.5  ,\n",
       "       108.125, 108.75 , 109.375, 110.   , 110.625, 111.25 , 111.875, 112.5  ,\n",
       "       113.125, 113.75 , 114.375, 115.   , 115.625, 116.25 , 116.875, 117.5  ,\n",
       "       118.125, 118.75 , 119.375, 120.   , 120.625, 121.25 , 121.875, 122.5  ,\n",
       "       123.125, 123.75 , 124.375, 125.   , 125.625, 126.25 , 126.875, 127.5  ,\n",
       "       128.125, 128.75 , 129.375, 130.   , 130.625, 131.25 , 131.875, 132.5  ,\n",
       "       133.125, 133.75 , 134.375, 135.   , 135.625])</pre></div></li></ul></div></li><li class='xr-section-item'><input id='section-1f8dc97f-80ef-483c-bb1d-48d9a371c14f' class='xr-section-summary-in' type='checkbox'  checked><label for='section-1f8dc97f-80ef-483c-bb1d-48d9a371c14f' class='xr-section-summary' >Data variables: <span>(3)</span></label><div class='xr-section-inline-details'></div><div class='xr-section-details'><ul class='xr-var-list'><li class='xr-var-item'><div class='xr-var-name'><span>solar</span></div><div class='xr-var-dims'>(time, lat, lon)</div><div class='xr-var-dtype'>float64</div><div class='xr-var-preview xr-preview'>0.1928 0.1917 ... 0.06296 0.04254</div><input id='attrs-f29547af-13fe-4754-8616-87ea1309b471' class='xr-var-attrs-in' type='checkbox' disabled><label for='attrs-f29547af-13fe-4754-8616-87ea1309b471' title='Show/Hide attributes'><svg class='icon xr-icon-file-text2'><use xlink:href='#icon-file-text2'></use></svg></label><input id='data-79c25081-54ea-477e-b956-772087ad7c41' class='xr-var-data-in' type='checkbox'><label for='data-79c25081-54ea-477e-b956-772087ad7c41' title='Show/Hide data repr'><svg class='icon xr-icon-database'><use xlink:href='#icon-database'></use></svg></label><div class='xr-var-attrs'><dl class='xr-attrs'></dl></div><div class='xr-var-data'><pre>array([[[0.19283223, 0.19170759, 0.16413559, ..., 0.10883634,\n",
       "         0.1237414 , 0.14484597],\n",
       "        [0.18934099, 0.17642454, 0.15045152, ..., 0.11743452,\n",
       "         0.12400376, 0.13160104],\n",
       "        [0.18668941, 0.16858997, 0.15180354, ..., 0.11671159,\n",
       "         0.12352632, 0.12845966],\n",
       "        ...,\n",
       "        [0.08910529, 0.08343294, 0.0793837 , ..., 0.08158544,\n",
       "         0.07718862, 0.05804729],\n",
       "        [0.08211417, 0.07891589, 0.07478246, ..., 0.06911246,\n",
       "         0.08452805, 0.07724436],\n",
       "        [0.07631315, 0.07576691, 0.07252836, ..., 0.08120154,\n",
       "         0.06295666, 0.04253606]]])</pre></div></li><li class='xr-var-item'><div class='xr-var-name'><span>mask</span></div><div class='xr-var-dims'>(lat, lon)</div><div class='xr-var-dtype'>float32</div><div class='xr-var-preview xr-preview'>0.0 0.0 0.0 0.0 ... 0.0 0.0 0.0 0.0</div><input id='attrs-2c76713b-710b-40e7-b73b-3b2a1d51f226' class='xr-var-attrs-in' type='checkbox' disabled><label for='attrs-2c76713b-710b-40e7-b73b-3b2a1d51f226' title='Show/Hide attributes'><svg class='icon xr-icon-file-text2'><use xlink:href='#icon-file-text2'></use></svg></label><input id='data-9b162d2c-e497-45f5-96b8-b9983f0ae19f' class='xr-var-data-in' type='checkbox'><label for='data-9b162d2c-e497-45f5-96b8-b9983f0ae19f' title='Show/Hide data repr'><svg class='icon xr-icon-database'><use xlink:href='#icon-database'></use></svg></label><div class='xr-var-attrs'><dl class='xr-attrs'></dl></div><div class='xr-var-data'><pre>array([[0., 0., 0., ..., 0., 0., 0.],\n",
       "       [0., 0., 0., ..., 0., 0., 0.],\n",
       "       [0., 0., 0., ..., 0., 0., 0.],\n",
       "       ...,\n",
       "       [0., 0., 0., ..., 0., 0., 0.],\n",
       "       [0., 0., 0., ..., 0., 0., 0.],\n",
       "       [0., 0., 0., ..., 0., 0., 0.]], dtype=float32)</pre></div></li><li class='xr-var-item'><div class='xr-var-name'><span>area</span></div><div class='xr-var-dims'>(lat, lon)</div><div class='xr-var-dtype'>float64</div><div class='xr-var-preview xr-preview'>3.663e+03 3.663e+03 ... 2.281e+03</div><input id='attrs-c5194d37-03f6-4a85-baed-cbb18b0fddb2' class='xr-var-attrs-in' type='checkbox' disabled><label for='attrs-c5194d37-03f6-4a85-baed-cbb18b0fddb2' title='Show/Hide attributes'><svg class='icon xr-icon-file-text2'><use xlink:href='#icon-file-text2'></use></svg></label><input id='data-464e395b-3275-4178-a5fa-a2ee4f37b6e3' class='xr-var-data-in' type='checkbox'><label for='data-464e395b-3275-4178-a5fa-a2ee4f37b6e3' title='Show/Hide data repr'><svg class='icon xr-icon-database'><use xlink:href='#icon-database'></use></svg></label><div class='xr-var-attrs'><dl class='xr-attrs'></dl></div><div class='xr-var-data'><pre>array([[3662.98, 3662.98, 3662.98, ..., 3662.98, 3662.98, 3662.98],\n",
       "       [3652.71, 3652.71, 3652.71, ..., 3652.71, 3652.71, 3652.71],\n",
       "       [3642.17, 3642.17, 3642.17, ..., 3642.17, 3642.17, 3642.17],\n",
       "       ...,\n",
       "       [2334.79, 2334.79, 2334.79, ..., 2334.79, 2334.79, 2334.79],\n",
       "       [2307.92, 2307.92, 2307.92, ..., 2307.92, 2307.92, 2307.92],\n",
       "       [2280.87, 2280.87, 2280.87, ..., 2280.87, 2280.87, 2280.87]])</pre></div></li></ul></div></li><li class='xr-section-item'><input id='section-76f8c801-823c-4911-bbbd-8418ad964468' class='xr-section-summary-in' type='checkbox'  ><label for='section-76f8c801-823c-4911-bbbd-8418ad964468' class='xr-section-summary' >Indexes: <span>(3)</span></label><div class='xr-section-inline-details'></div><div class='xr-section-details'><ul class='xr-var-list'><li class='xr-var-item'><div class='xr-index-name'><div>lat</div></div><div class='xr-index-preview'>PandasIndex</div><div></div><input id='index-c7fb8b81-a9fe-486e-825e-ff924914e80c' class='xr-index-data-in' type='checkbox'/><label for='index-c7fb8b81-a9fe-486e-825e-ff924914e80c' title='Show/Hide index repr'><svg class='icon xr-icon-database'><use xlink:href='#icon-database'></use></svg></label><div class='xr-index-data'><pre>PandasIndex(Index([18.0, 18.5, 19.0, 19.5, 20.0, 20.5, 21.0, 21.5, 22.0, 22.5, 23.0, 23.5,\n",
       "       24.0, 24.5, 25.0, 25.5, 26.0, 26.5, 27.0, 27.5, 28.0, 28.5, 29.0, 29.5,\n",
       "       30.0, 30.5, 31.0, 31.5, 32.0, 32.5, 33.0, 33.5, 34.0, 34.5, 35.0, 35.5,\n",
       "       36.0, 36.5, 37.0, 37.5, 38.0, 38.5, 39.0, 39.5, 40.0, 40.5, 41.0, 41.5,\n",
       "       42.0, 42.5, 43.0, 43.5, 44.0, 44.5, 45.0, 45.5, 46.0, 46.5, 47.0, 47.5,\n",
       "       48.0, 48.5, 49.0, 49.5, 50.0, 50.5, 51.0, 51.5, 52.0, 52.5, 53.0, 53.5,\n",
       "       54.0],\n",
       "      dtype=&#x27;float64&#x27;, name=&#x27;lat&#x27;))</pre></div></li><li class='xr-var-item'><div class='xr-index-name'><div>time</div></div><div class='xr-index-preview'>PandasIndex</div><div></div><input id='index-ae791593-c498-4e27-a414-4c02e827d140' class='xr-index-data-in' type='checkbox'/><label for='index-ae791593-c498-4e27-a414-4c02e827d140' title='Show/Hide index repr'><svg class='icon xr-icon-database'><use xlink:href='#icon-database'></use></svg></label><div class='xr-index-data'><pre>PandasIndex(DatetimeIndex([&#x27;2011-01-01 12:00:00&#x27;], dtype=&#x27;datetime64[ns]&#x27;, name=&#x27;time&#x27;, freq=None))</pre></div></li><li class='xr-var-item'><div class='xr-index-name'><div>lon</div></div><div class='xr-index-preview'>PandasIndex</div><div></div><input id='index-ee9182c0-b427-46f2-bdfb-6c4e7be8efef' class='xr-index-data-in' type='checkbox'/><label for='index-ee9182c0-b427-46f2-bdfb-6c4e7be8efef' title='Show/Hide index repr'><svg class='icon xr-icon-database'><use xlink:href='#icon-database'></use></svg></label><div class='xr-index-data'><pre>PandasIndex(Index([ 73.125,   73.75,  74.375,    75.0,  75.625,   76.25,  76.875,    77.5,\n",
       "        78.125,   78.75,\n",
       "       ...\n",
       "         130.0, 130.625,  131.25, 131.875,   132.5, 133.125,  133.75, 134.375,\n",
       "         135.0, 135.625],\n",
       "      dtype=&#x27;float64&#x27;, name=&#x27;lon&#x27;, length=101))</pre></div></li></ul></div></li><li class='xr-section-item'><input id='section-8b83994a-6d6d-4f07-bde4-029b67911ed2' class='xr-section-summary-in' type='checkbox' disabled ><label for='section-8b83994a-6d6d-4f07-bde4-029b67911ed2' class='xr-section-summary'  title='Expand/collapse section'>Attributes: <span>(0)</span></label><div class='xr-section-inline-details'></div><div class='xr-section-details'><dl class='xr-attrs'></dl></div></li></ul></div></div>"
      ],
      "text/plain": [
       "<xarray.Dataset> Size: 149kB\n",
       "Dimensions:  (time: 1, lat: 73, lon: 101)\n",
       "Coordinates:\n",
       "  * lat      (lat) float64 584B 18.0 18.5 19.0 19.5 20.0 ... 52.5 53.0 53.5 54.0\n",
       "  * time     (time) datetime64[ns] 8B 2011-01-01T12:00:00\n",
       "  * lon      (lon) float64 808B 73.12 73.75 74.38 75.0 ... 134.4 135.0 135.6\n",
       "Data variables:\n",
       "    solar    (time, lat, lon) float64 59kB 0.1928 0.1917 ... 0.06296 0.04254\n",
       "    mask     (lat, lon) float32 29kB 0.0 0.0 0.0 0.0 0.0 ... 0.0 0.0 0.0 0.0 0.0\n",
       "    area     (lat, lon) float64 59kB 3.663e+03 3.663e+03 ... 2.281e+03 2.281e+03"
      ]
     },
     "execution_count": 12,
     "metadata": {},
     "output_type": "execute_result"
    }
   ],
   "source": [
    "ds_mask_mean[\"Jiangsu\"]"
   ]
  },
  {
   "cell_type": "markdown",
   "metadata": {},
   "source": [
    "Visualize the averaged PV value for each grid cell in the Cutout. Note that the data is the aggregated value for the date."
   ]
  },
  {
   "cell_type": "code",
   "execution_count": 13,
   "metadata": {},
   "outputs": [
    {
     "data": {
      "text/plain": [
       "<matplotlib.collections.QuadMesh at 0x1755bf380>"
      ]
     },
     "execution_count": 13,
     "metadata": {},
     "output_type": "execute_result"
    },
    {
     "data": {
      "image/png": "[encoded data removed]",
      "text/plain": [
       "<Figure size 640x480 with 2 Axes>"
      ]
     },
     "metadata": {},
     "output_type": "display_data"
    }
   ],
   "source": [
    "ds_mask_mean[\"Jiangsu\"][\"solar\"].plot()"
   ]
  },
  {
   "cell_type": "markdown",
   "metadata": {},
   "source": [
    "Visualize the masking value for each grid cell in the Cutout."
   ]
  },
  {
   "cell_type": "code",
   "execution_count": 14,
   "metadata": {},
   "outputs": [
    {
     "data": {
      "text/plain": [
       "<matplotlib.collections.QuadMesh at 0x17129bcb0>"
      ]
     },
     "execution_count": 14,
     "metadata": {},
     "output_type": "execute_result"
    },
    {
     "data": {
      "image/png": "[encoded data removed]",
      "text/plain": [
       "<Figure size 640x480 with 2 Axes>"
      ]
     },
     "metadata": {},
     "output_type": "display_data"
    }
   ],
   "source": [
    "ds_mask_mean[\"Jiangsu\"][\"mask\"].plot()"
   ]
  },
  {
   "cell_type": "markdown",
   "metadata": {},
   "source": [
    "#### Area and Mask-Weighted Hourly PV Values\n",
    "\n",
    "We use the raw hourly output generated by cutout to create time-series PV plots weighted by the mask and area. Note that we transposed ds_cutout so that time is set as the first dimension, which ease the following calculation since we want to aggregate the array spatially from each grid cell."
   ]
  },
  {
   "cell_type": "code",
   "execution_count": 15,
   "metadata": {},
   "outputs": [
    {
     "name": "stderr",
     "output_type": "stream",
     "text": [
      "\u001b[32m2024-11-21 16:47:44,364 - geodata._cutout - INFO - merged_mask combined with dataset. \u001b[0m\n",
      "\u001b[32m2024-11-21 16:47:44,367 - geodata._cutout - INFO - shape_mask combined with dataset. \u001b[0m\n"
     ]
    },
    {
     "data": {
      "text/plain": [
       "dict_keys(['merged_mask', 'Zhejiang', 'Shanghai', 'Jiangsu'])"
      ]
     },
     "execution_count": 15,
     "metadata": {},
     "output_type": "execute_result"
    }
   ],
   "source": [
    "ds_mask = cutout.mask(ds_cutout)\n",
    "ds_mask.keys()"
   ]
  },
  {
   "cell_type": "markdown",
   "metadata": {},
   "source": [
    "Calculate the aggregated mean solar PV for each provinces, at each time point. We will apply this equation below to calculate the area-weighted average. We save the result into a dictionary `PV_dict`, where its keys are the provinces, and the corresponding values are the PV series.\n",
    "\n",
    "$$\\text{Aggregated Solar Power For Each Region} = \\frac{\\sum_{}^\\text{For Each Grid Cell}\\text{Grid Cell Area} \\times \\text{Mask Value} \\times \\text{Solar Power}}{\\sum_{}^\\text{For Each Grid Cell}\\text{Grid Cell Area} \\times \\text{Mask Value}}$$"
   ]
  },
  {
   "cell_type": "code",
   "execution_count": 16,
   "metadata": {},
   "outputs": [],
   "source": [
    "PV_dict = {}\n",
    "\n",
    "for prov_name in list(ds_mask)[1:]:\n",
    "    PV_dict[prov_name] = (\n",
    "        (ds_mask[prov_name][\"solar\"] * ds_mask[prov_name][\"mask\"] * ds_mask[prov_name][\"area\"])\n",
    "        .sum(axis=1)\n",
    "        .sum(axis=1)\n",
    "    ) / (ds_mask[prov_name][\"mask\"] * ds_mask[prov_name][\"area\"]).sum()"
   ]
  },
  {
   "cell_type": "markdown",
   "metadata": {},
   "source": [
    "The aggregated PV time-series for Zhejiang province."
   ]
  },
  {
   "cell_type": "code",
   "execution_count": 17,
   "metadata": {},
   "outputs": [
    {
     "data": {
      "text/html": [
       "<div><svg style=\"position: absolute; width: 0; height: 0; overflow: hidden\">\n",
       "<defs>\n",
       "<symbol id=\"icon-database\" viewBox=\"0 0 32 32\">\n",
       "<path d=\"M16 0c-8.837 0-16 2.239-16 5v4c0 2.761 7.163 5 16 5s16-2.239 16-5v-4c0-2.761-7.163-5-16-5z\"></path>\n",
       "<path d=\"M16 17c-8.837 0-16-2.239-16-5v6c0 2.761 7.163 5 16 5s16-2.239 16-5v-6c0 2.761-7.163 5-16 5z\"></path>\n",
       "<path d=\"M16 26c-8.837 0-16-2.239-16-5v6c0 2.761 7.163 5 16 5s16-2.239 16-5v-6c0 2.761-7.163 5-16 5z\"></path>\n",
       "</symbol>\n",
       "<symbol id=\"icon-file-text2\" viewBox=\"0 0 32 32\">\n",
       "<path d=\"M28.681 7.159c-0.694-0.947-1.662-2.053-2.724-3.116s-2.169-2.030-3.116-2.724c-1.612-1.182-2.393-1.319-2.841-1.319h-15.5c-1.378 0-2.5 1.121-2.5 2.5v27c0 1.378 1.122 2.5 2.5 2.5h23c1.378 0 2.5-1.122 2.5-2.5v-19.5c0-0.448-0.137-1.23-1.319-2.841zM24.543 5.457c0.959 0.959 1.712 1.825 2.268 2.543h-4.811v-4.811c0.718 0.556 1.584 1.309 2.543 2.268zM28 29.5c0 0.271-0.229 0.5-0.5 0.5h-23c-0.271 0-0.5-0.229-0.5-0.5v-27c0-0.271 0.229-0.5 0.5-0.5 0 0 15.499-0 15.5 0v7c0 0.552 0.448 1 1 1h7v19.5z\"></path>\n",
       "<path d=\"M23 26h-14c-0.552 0-1-0.448-1-1s0.448-1 1-1h14c0.552 0 1 0.448 1 1s-0.448 1-1 1z\"></path>\n",
       "<path d=\"M23 22h-14c-0.552 0-1-0.448-1-1s0.448-1 1-1h14c0.552 0 1 0.448 1 1s-0.448 1-1 1z\"></path>\n",
       "<path d=\"M23 18h-14c-0.552 0-1-0.448-1-1s0.448-1 1-1h14c0.552 0 1 0.448 1 1s-0.448 1-1 1z\"></path>\n",
       "</symbol>\n",
       "</defs>\n",
       "</svg>\n",
       "<style>/* CSS stylesheet for displaying xarray objects in jupyterlab.\n",
       " *\n",
       " */\n",
       "\n",
       ":root {\n",
       "  --xr-font-color0: var(--jp-content-font-color0, rgba(0, 0, 0, 1));\n",
       "  --xr-font-color2: var(--jp-content-font-color2, rgba(0, 0, 0, 0.54));\n",
       "  --xr-font-color3: var(--jp-content-font-color3, rgba(0, 0, 0, 0.38));\n",
       "  --xr-border-color: var(--jp-border-color2, #e0e0e0);\n",
       "  --xr-disabled-color: var(--jp-layout-color3, #bdbdbd);\n",
       "  --xr-background-color: var(--jp-layout-color0, white);\n",
       "  --xr-background-color-row-even: var(--jp-layout-color1, white);\n",
       "  --xr-background-color-row-odd: var(--jp-layout-color2, #eeeeee);\n",
       "}\n",
       "\n",
       "html[theme=dark],\n",
       "html[data-theme=dark],\n",
       "body[data-theme=dark],\n",
       "body.vscode-dark {\n",
       "  --xr-font-color0: rgba(255, 255, 255, 1);\n",
       "  --xr-font-color2: rgba(255, 255, 255, 0.54);\n",
       "  --xr-font-color3: rgba(255, 255, 255, 0.38);\n",
       "  --xr-border-color: #1F1F1F;\n",
       "  --xr-disabled-color: #515151;\n",
       "  --xr-background-color: #111111;\n",
       "  --xr-background-color-row-even: #111111;\n",
       "  --xr-background-color-row-odd: #313131;\n",
       "}\n",
       "\n",
       ".xr-wrap {\n",
       "  display: block !important;\n",
       "  min-width: 300px;\n",
       "  max-width: 700px;\n",
       "}\n",
       "\n",
       ".xr-text-repr-fallback {\n",
       "  /* fallback to plain text repr when CSS is not injected (untrusted notebook) */\n",
       "  display: none;\n",
       "}\n",
       "\n",
       ".xr-header {\n",
       "  padding-top: 6px;\n",
       "  padding-bottom: 6px;\n",
       "  margin-bottom: 4px;\n",
       "  border-bottom: solid 1px var(--xr-border-color);\n",
       "}\n",
       "\n",
       ".xr-header > div,\n",
       ".xr-header > ul {\n",
       "  display: inline;\n",
       "  margin-top: 0;\n",
       "  margin-bottom: 0;\n",
       "}\n",
       "\n",
       ".xr-obj-type,\n",
       ".xr-array-name {\n",
       "  margin-left: 2px;\n",
       "  margin-right: 10px;\n",
       "}\n",
       "\n",
       ".xr-obj-type {\n",
       "  color: var(--xr-font-color2);\n",
       "}\n",
       "\n",
       ".xr-sections {\n",
       "  padding-left: 0 !important;\n",
       "  display: grid;\n",
       "  grid-template-columns: 150px auto auto 1fr 0 20px 0 20px;\n",
       "}\n",
       "\n",
       ".xr-section-item {\n",
       "  display: contents;\n",
       "}\n",
       "\n",
       ".xr-section-item input {\n",
       "  display: inline-block;\n",
       "  opacity: 0;\n",
       "}\n",
       "\n",
       ".xr-section-item input + label {\n",
       "  color: var(--xr-disabled-color);\n",
       "}\n",
       "\n",
       ".xr-section-item input:enabled + label {\n",
       "  cursor: pointer;\n",
       "  color: var(--xr-font-color2);\n",
       "}\n",
       "\n",
       ".xr-section-item input:focus + label {\n",
       "  border: 2px solid var(--xr-font-color0);\n",
       "}\n",
       "\n",
       ".xr-section-item input:enabled + label:hover {\n",
       "  color: var(--xr-font-color0);\n",
       "}\n",
       "\n",
       ".xr-section-summary {\n",
       "  grid-column: 1;\n",
       "  color: var(--xr-font-color2);\n",
       "  font-weight: 500;\n",
       "}\n",
       "\n",
       ".xr-section-summary > span {\n",
       "  display: inline-block;\n",
       "  padding-left: 0.5em;\n",
       "}\n",
       "\n",
       ".xr-section-summary-in:disabled + label {\n",
       "  color: var(--xr-font-color2);\n",
       "}\n",
       "\n",
       ".xr-section-summary-in + label:before {\n",
       "  display: inline-block;\n",
       "  content: '►';\n",
       "  font-size: 11px;\n",
       "  width: 15px;\n",
       "  text-align: center;\n",
       "}\n",
       "\n",
       ".xr-section-summary-in:disabled + label:before {\n",
       "  color: var(--xr-disabled-color);\n",
       "}\n",
       "\n",
       ".xr-section-summary-in:checked + label:before {\n",
       "  content: '▼';\n",
       "}\n",
       "\n",
       ".xr-section-summary-in:checked + label > span {\n",
       "  display: none;\n",
       "}\n",
       "\n",
       ".xr-section-summary,\n",
       ".xr-section-inline-details {\n",
       "  padding-top: 4px;\n",
       "  padding-bottom: 4px;\n",
       "}\n",
       "\n",
       ".xr-section-inline-details {\n",
       "  grid-column: 2 / -1;\n",
       "}\n",
       "\n",
       ".xr-section-details {\n",
       "  display: none;\n",
       "  grid-column: 1 / -1;\n",
       "  margin-bottom: 5px;\n",
       "}\n",
       "\n",
       ".xr-section-summary-in:checked ~ .xr-section-details {\n",
       "  display: contents;\n",
       "}\n",
       "\n",
       ".xr-array-wrap {\n",
       "  grid-column: 1 / -1;\n",
       "  display: grid;\n",
       "  grid-template-columns: 20px auto;\n",
       "}\n",
       "\n",
       ".xr-array-wrap > label {\n",
       "  grid-column: 1;\n",
       "  vertical-align: top;\n",
       "}\n",
       "\n",
       ".xr-preview {\n",
       "  color: var(--xr-font-color3);\n",
       "}\n",
       "\n",
       ".xr-array-preview,\n",
       ".xr-array-data {\n",
       "  padding: 0 5px !important;\n",
       "  grid-column: 2;\n",
       "}\n",
       "\n",
       ".xr-array-data,\n",
       ".xr-array-in:checked ~ .xr-array-preview {\n",
       "  display: none;\n",
       "}\n",
       "\n",
       ".xr-array-in:checked ~ .xr-array-data,\n",
       ".xr-array-preview {\n",
       "  display: inline-block;\n",
       "}\n",
       "\n",
       ".xr-dim-list {\n",
       "  display: inline-block !important;\n",
       "  list-style: none;\n",
       "  padding: 0 !important;\n",
       "  margin: 0;\n",
       "}\n",
       "\n",
       ".xr-dim-list li {\n",
       "  display: inline-block;\n",
       "  padding: 0;\n",
       "  margin: 0;\n",
       "}\n",
       "\n",
       ".xr-dim-list:before {\n",
       "  content: '(';\n",
       "}\n",
       "\n",
       ".xr-dim-list:after {\n",
       "  content: ')';\n",
       "}\n",
       "\n",
       ".xr-dim-list li:not(:last-child):after {\n",
       "  content: ',';\n",
       "  padding-right: 5px;\n",
       "}\n",
       "\n",
       ".xr-has-index {\n",
       "  font-weight: bold;\n",
       "}\n",
       "\n",
       ".xr-var-list,\n",
       ".xr-var-item {\n",
       "  display: contents;\n",
       "}\n",
       "\n",
       ".xr-var-item > div,\n",
       ".xr-var-item label,\n",
       ".xr-var-item > .xr-var-name span {\n",
       "  background-color: var(--xr-background-color-row-even);\n",
       "  margin-bottom: 0;\n",
       "}\n",
       "\n",
       ".xr-var-item > .xr-var-name:hover span {\n",
       "  padding-right: 5px;\n",
       "}\n",
       "\n",
       ".xr-var-list > li:nth-child(odd) > div,\n",
       ".xr-var-list > li:nth-child(odd) > label,\n",
       ".xr-var-list > li:nth-child(odd) > .xr-var-name span {\n",
       "  background-color: var(--xr-background-color-row-odd);\n",
       "}\n",
       "\n",
       ".xr-var-name {\n",
       "  grid-column: 1;\n",
       "}\n",
       "\n",
       ".xr-var-dims {\n",
       "  grid-column: 2;\n",
       "}\n",
       "\n",
       ".xr-var-dtype {\n",
       "  grid-column: 3;\n",
       "  text-align: right;\n",
       "  color: var(--xr-font-color2);\n",
       "}\n",
       "\n",
       ".xr-var-preview {\n",
       "  grid-column: 4;\n",
       "}\n",
       "\n",
       ".xr-index-preview {\n",
       "  grid-column: 2 / 5;\n",
       "  color: var(--xr-font-color2);\n",
       "}\n",
       "\n",
       ".xr-var-name,\n",
       ".xr-var-dims,\n",
       ".xr-var-dtype,\n",
       ".xr-preview,\n",
       ".xr-attrs dt {\n",
       "  white-space: nowrap;\n",
       "  overflow: hidden;\n",
       "  text-overflow: ellipsis;\n",
       "  padding-right: 10px;\n",
       "}\n",
       "\n",
       ".xr-var-name:hover,\n",
       ".xr-var-dims:hover,\n",
       ".xr-var-dtype:hover,\n",
       ".xr-attrs dt:hover {\n",
       "  overflow: visible;\n",
       "  width: auto;\n",
       "  z-index: 1;\n",
       "}\n",
       "\n",
       ".xr-var-attrs,\n",
       ".xr-var-data,\n",
       ".xr-index-data {\n",
       "  display: none;\n",
       "  background-color: var(--xr-background-color) !important;\n",
       "  padding-bottom: 5px !important;\n",
       "}\n",
       "\n",
       ".xr-var-attrs-in:checked ~ .xr-var-attrs,\n",
       ".xr-var-data-in:checked ~ .xr-var-data,\n",
       ".xr-index-data-in:checked ~ .xr-index-data {\n",
       "  display: block;\n",
       "}\n",
       "\n",
       ".xr-var-data > table {\n",
       "  float: right;\n",
       "}\n",
       "\n",
       ".xr-var-name span,\n",
       ".xr-var-data,\n",
       ".xr-index-name div,\n",
       ".xr-index-data,\n",
       ".xr-attrs {\n",
       "  padding-left: 25px !important;\n",
       "}\n",
       "\n",
       ".xr-attrs,\n",
       ".xr-var-attrs,\n",
       ".xr-var-data,\n",
       ".xr-index-data {\n",
       "  grid-column: 1 / -1;\n",
       "}\n",
       "\n",
       "dl.xr-attrs {\n",
       "  padding: 0;\n",
       "  margin: 0;\n",
       "  display: grid;\n",
       "  grid-template-columns: 125px auto;\n",
       "}\n",
       "\n",
       ".xr-attrs dt,\n",
       ".xr-attrs dd {\n",
       "  padding: 0;\n",
       "  margin: 0;\n",
       "  float: left;\n",
       "  padding-right: 10px;\n",
       "  width: auto;\n",
       "}\n",
       "\n",
       ".xr-attrs dt {\n",
       "  font-weight: normal;\n",
       "  grid-column: 1;\n",
       "}\n",
       "\n",
       ".xr-attrs dt:hover span {\n",
       "  display: inline-block;\n",
       "  background: var(--xr-background-color);\n",
       "  padding-right: 10px;\n",
       "}\n",
       "\n",
       ".xr-attrs dd {\n",
       "  grid-column: 2;\n",
       "  white-space: pre-wrap;\n",
       "  word-break: break-all;\n",
       "}\n",
       "\n",
       ".xr-icon-database,\n",
       ".xr-icon-file-text2,\n",
       ".xr-no-icon {\n",
       "  display: inline-block;\n",
       "  vertical-align: middle;\n",
       "  width: 1em;\n",
       "  height: 1.5em !important;\n",
       "  stroke-width: 0;\n",
       "  stroke: currentColor;\n",
       "  fill: currentColor;\n",
       "}\n",
       "</style><pre class='xr-text-repr-fallback'>&lt;xarray.DataArray (time: 24)&gt; Size: 192B\n",
       "array([0.17417363, 0.36221223, 0.51891581, 0.62599815, 0.6783619 ,\n",
       "       0.66484496, 0.56742536, 0.38346645, 0.13803202, 0.        ,\n",
       "       0.        , 0.        , 0.        , 0.        , 0.        ,\n",
       "       0.        , 0.        , 0.        , 0.        , 0.        ,\n",
       "       0.        , 0.        , 0.        , 0.03283214])\n",
       "Coordinates:\n",
       "  * time     (time) datetime64[ns] 192B 2011-01-01T00:30:00 ... 2011-01-01T23...</pre><div class='xr-wrap' style='display:none'><div class='xr-header'><div class='xr-obj-type'>xarray.DataArray</div><div class='xr-array-name'></div><ul class='xr-dim-list'><li><span class='xr-has-index'>time</span>: 24</li></ul></div><ul class='xr-sections'><li class='xr-section-item'><div class='xr-array-wrap'><input id='section-950ec39e-974d-4821-ae68-ff9033cbbe77' class='xr-array-in' type='checkbox' checked><label for='section-950ec39e-974d-4821-ae68-ff9033cbbe77' title='Show/hide data repr'><svg class='icon xr-icon-database'><use xlink:href='#icon-database'></use></svg></label><div class='xr-array-preview xr-preview'><span>0.1742 0.3622 0.5189 0.626 0.6784 0.6648 ... 0.0 0.0 0.0 0.0 0.03283</span></div><div class='xr-array-data'><pre>array([0.17417363, 0.36221223, 0.51891581, 0.62599815, 0.6783619 ,\n",
       "       0.66484496, 0.56742536, 0.38346645, 0.13803202, 0.        ,\n",
       "       0.        , 0.        , 0.        , 0.        , 0.        ,\n",
       "       0.        , 0.        , 0.        , 0.        , 0.        ,\n",
       "       0.        , 0.        , 0.        , 0.03283214])</pre></div></div></li><li class='xr-section-item'><input id='section-237ff7b9-b866-4e2f-b2b7-4a8c85d38ba2' class='xr-section-summary-in' type='checkbox'  checked><label for='section-237ff7b9-b866-4e2f-b2b7-4a8c85d38ba2' class='xr-section-summary' >Coordinates: <span>(1)</span></label><div class='xr-section-inline-details'></div><div class='xr-section-details'><ul class='xr-var-list'><li class='xr-var-item'><div class='xr-var-name'><span class='xr-has-index'>time</span></div><div class='xr-var-dims'>(time)</div><div class='xr-var-dtype'>datetime64[ns]</div><div class='xr-var-preview xr-preview'>2011-01-01T00:30:00 ... 2011-01-...</div><input id='attrs-10df66a5-4aab-4d97-b362-fd0fa1dc8423' class='xr-var-attrs-in' type='checkbox' disabled><label for='attrs-10df66a5-4aab-4d97-b362-fd0fa1dc8423' title='Show/Hide attributes'><svg class='icon xr-icon-file-text2'><use xlink:href='#icon-file-text2'></use></svg></label><input id='data-d9bdbbc7-0943-4bf9-9dee-605b593acae5' class='xr-var-data-in' type='checkbox'><label for='data-d9bdbbc7-0943-4bf9-9dee-605b593acae5' title='Show/Hide data repr'><svg class='icon xr-icon-database'><use xlink:href='#icon-database'></use></svg></label><div class='xr-var-attrs'><dl class='xr-attrs'></dl></div><div class='xr-var-data'><pre>array([&#x27;2011-01-01T00:30:00.000000000&#x27;, &#x27;2011-01-01T01:30:00.000000000&#x27;,\n",
       "       &#x27;2011-01-01T02:30:00.000000000&#x27;, &#x27;2011-01-01T03:30:00.000000000&#x27;,\n",
       "       &#x27;2011-01-01T04:30:00.000000000&#x27;, &#x27;2011-01-01T05:30:00.000000000&#x27;,\n",
       "       &#x27;2011-01-01T06:30:00.000000000&#x27;, &#x27;2011-01-01T07:30:00.000000000&#x27;,\n",
       "       &#x27;2011-01-01T08:30:00.000000000&#x27;, &#x27;2011-01-01T09:30:00.000000000&#x27;,\n",
       "       &#x27;2011-01-01T10:30:00.000000000&#x27;, &#x27;2011-01-01T11:30:00.000000000&#x27;,\n",
       "       &#x27;2011-01-01T12:30:00.000000000&#x27;, &#x27;2011-01-01T13:30:00.000000000&#x27;,\n",
       "       &#x27;2011-01-01T14:30:00.000000000&#x27;, &#x27;2011-01-01T15:30:00.000000000&#x27;,\n",
       "       &#x27;2011-01-01T16:30:00.000000000&#x27;, &#x27;2011-01-01T17:30:00.000000000&#x27;,\n",
       "       &#x27;2011-01-01T18:30:00.000000000&#x27;, &#x27;2011-01-01T19:30:00.000000000&#x27;,\n",
       "       &#x27;2011-01-01T20:30:00.000000000&#x27;, &#x27;2011-01-01T21:30:00.000000000&#x27;,\n",
       "       &#x27;2011-01-01T22:30:00.000000000&#x27;, &#x27;2011-01-01T23:30:00.000000000&#x27;],\n",
       "      dtype=&#x27;datetime64[ns]&#x27;)</pre></div></li></ul></div></li><li class='xr-section-item'><input id='section-269fc966-0d3a-4c99-9763-01c7e6c38b79' class='xr-section-summary-in' type='checkbox'  ><label for='section-269fc966-0d3a-4c99-9763-01c7e6c38b79' class='xr-section-summary' >Indexes: <span>(1)</span></label><div class='xr-section-inline-details'></div><div class='xr-section-details'><ul class='xr-var-list'><li class='xr-var-item'><div class='xr-index-name'><div>time</div></div><div class='xr-index-preview'>PandasIndex</div><div></div><input id='index-ee2d8837-cfd7-4504-8882-67b1e8892637' class='xr-index-data-in' type='checkbox'/><label for='index-ee2d8837-cfd7-4504-8882-67b1e8892637' title='Show/Hide index repr'><svg class='icon xr-icon-database'><use xlink:href='#icon-database'></use></svg></label><div class='xr-index-data'><pre>PandasIndex(DatetimeIndex([&#x27;2011-01-01 00:30:00&#x27;, &#x27;2011-01-01 01:30:00&#x27;,\n",
       "               &#x27;2011-01-01 02:30:00&#x27;, &#x27;2011-01-01 03:30:00&#x27;,\n",
       "               &#x27;2011-01-01 04:30:00&#x27;, &#x27;2011-01-01 05:30:00&#x27;,\n",
       "               &#x27;2011-01-01 06:30:00&#x27;, &#x27;2011-01-01 07:30:00&#x27;,\n",
       "               &#x27;2011-01-01 08:30:00&#x27;, &#x27;2011-01-01 09:30:00&#x27;,\n",
       "               &#x27;2011-01-01 10:30:00&#x27;, &#x27;2011-01-01 11:30:00&#x27;,\n",
       "               &#x27;2011-01-01 12:30:00&#x27;, &#x27;2011-01-01 13:30:00&#x27;,\n",
       "               &#x27;2011-01-01 14:30:00&#x27;, &#x27;2011-01-01 15:30:00&#x27;,\n",
       "               &#x27;2011-01-01 16:30:00&#x27;, &#x27;2011-01-01 17:30:00&#x27;,\n",
       "               &#x27;2011-01-01 18:30:00&#x27;, &#x27;2011-01-01 19:30:00&#x27;,\n",
       "               &#x27;2011-01-01 20:30:00&#x27;, &#x27;2011-01-01 21:30:00&#x27;,\n",
       "               &#x27;2011-01-01 22:30:00&#x27;, &#x27;2011-01-01 23:30:00&#x27;],\n",
       "              dtype=&#x27;datetime64[ns]&#x27;, name=&#x27;time&#x27;, freq=None))</pre></div></li></ul></div></li><li class='xr-section-item'><input id='section-c992d83f-03f4-42c1-acb0-fc7d8a6b61b2' class='xr-section-summary-in' type='checkbox' disabled ><label for='section-c992d83f-03f4-42c1-acb0-fc7d8a6b61b2' class='xr-section-summary'  title='Expand/collapse section'>Attributes: <span>(0)</span></label><div class='xr-section-inline-details'></div><div class='xr-section-details'><dl class='xr-attrs'></dl></div></li></ul></div></div>"
      ],
      "text/plain": [
       "<xarray.DataArray (time: 24)> Size: 192B\n",
       "array([0.17417363, 0.36221223, 0.51891581, 0.62599815, 0.6783619 ,\n",
       "       0.66484496, 0.56742536, 0.38346645, 0.13803202, 0.        ,\n",
       "       0.        , 0.        , 0.        , 0.        , 0.        ,\n",
       "       0.        , 0.        , 0.        , 0.        , 0.        ,\n",
       "       0.        , 0.        , 0.        , 0.03283214])\n",
       "Coordinates:\n",
       "  * time     (time) datetime64[ns] 192B 2011-01-01T00:30:00 ... 2011-01-01T23..."
      ]
     },
     "execution_count": 17,
     "metadata": {},
     "output_type": "execute_result"
    }
   ],
   "source": [
    "PV_dict[\"Zhejiang\"]"
   ]
  },
  {
   "cell_type": "markdown",
   "metadata": {},
   "source": [
    "Finally, for each province, plot the solar series weighted by mask * area."
   ]
  },
  {
   "cell_type": "code",
   "execution_count": 18,
   "metadata": {},
   "outputs": [
    {
     "data": {
      "image/png": "[encoded data removed]",
      "text/plain": [
       "<Figure size 640x480 with 1 Axes>"
      ]
     },
     "metadata": {},
     "output_type": "display_data"
    }
   ],
   "source": [
    "for prov_name, series in PV_dict.items():\n",
    "    plt.plot(series, label=prov_name)\n",
    "\n",
    "    plt.title(f\"Solar series weighted by area for Chinese provinces.\")\n",
    "    plt.grid()\n",
    "    plt.legend()\n",
    "    plt.xlabel(\"2011-01-01 Hour\")\n",
    "    plt.ylabel(\"Aggregated weighted PV value for suitable area\")"
   ]
  }
 ],
 "metadata": {
  "kernelspec": {
   "display_name": "Python 3",
   "language": "python",
   "name": "python3"
  },
  "language_info": {
   "codemirror_mode": {
    "name": "ipython",
    "version": 3
   },
   "file_extension": ".py",
   "mimetype": "text/x-python",
   "name": "python",
   "nbconvert_exporter": "python",
   "pygments_lexer": "ipython3",
   "version": "3.12.2"
  }
 },
 "nbformat": 4,
 "nbformat_minor": 4
}
